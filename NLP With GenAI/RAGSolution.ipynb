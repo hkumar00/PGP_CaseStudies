{
  "cells": [
    {
      "cell_type": "markdown",
      "metadata": {
        "id": "3CNz35ia6Bz3"
      },
      "source": [
        "## Problem Statement"
      ]
    },
    {
      "cell_type": "markdown",
      "metadata": {
        "id": "CkRbhMJH6Bz3"
      },
      "source": [
        "### Business Context"
      ]
    },
    {
      "cell_type": "markdown",
      "metadata": {
        "id": "3PBm5xaj6Bz3"
      },
      "source": [
        "The healthcare industry is rapidly evolving, with professionals facing increasing challenges in managing vast volumes of medical data while delivering accurate and timely diagnoses. The need for quick access to comprehensive, reliable, and up-to-date medical knowledge is critical for improving patient outcomes and ensuring informed decision-making in a fast-paced environment.\n",
        "\n",
        "Healthcare professionals often encounter information overload, struggling to sift through extensive research and data to create accurate diagnoses and treatment plans. This challenge is amplified by the need for efficiency, particularly in emergencies, where time-sensitive decisions are vital. Furthermore, access to trusted, current medical information from renowned manuals and research papers is essential for maintaining high standards of care.\n",
        "\n",
        "To address these challenges, healthcare centers can focus on integrating systems that streamline access to medical knowledge, provide tools to support quick decision-making, and enhance efficiency. Leveraging centralized knowledge platforms and ensuring healthcare providers have continuous access to reliable resources can significantly improve patient care and operational effectiveness."
      ]
    },
    {
      "cell_type": "markdown",
      "metadata": {
        "id": "1xDPsqvO6Bz5"
      },
      "source": [
        "**Common Questions to Answer**\n",
        "\n",
        "**1. Diagnostic Assistance**: \"What are the common symptoms and treatments for pulmonary embolism?\"\n",
        "\n",
        "**2. Drug Information**: \"Can you provide the trade names of medications used for treating hypertension?\"\n",
        "\n",
        "**3. Treatment Plans**: \"What are the first-line options and alternatives for managing rheumatoid arthritis?\"\n",
        "\n",
        "**4. Specialty Knowledge**: \"What are the diagnostic steps for suspected endocrine disorders?\"\n",
        "\n",
        "**5. Critical Care Protocols**: \"What is the protocol for managing sepsis in a critical care unit?\""
      ]
    },
    {
      "cell_type": "markdown",
      "metadata": {
        "id": "CARPKFwm6Bz4"
      },
      "source": [
        "### Objective"
      ]
    },
    {
      "cell_type": "markdown",
      "metadata": {
        "id": "dOElOEXq6Bz4"
      },
      "source": [
        "As an AI specialist, your task is to develop a RAG-based AI solution using renowned medical manuals to address healthcare challenges. The objective is to **understand** issues like information overload, **apply** AI techniques to streamline decision-making, **analyze** its impact on diagnostics and patient outcomes, **evaluate** its potential to standardize care practices, and **create** a functional prototype demonstrating its feasibility and effectiveness."
      ]
    },
    {
      "cell_type": "markdown",
      "metadata": {
        "id": "by9EvAnkSpZf"
      },
      "source": [
        "### Data Description"
      ]
    },
    {
      "cell_type": "markdown",
      "metadata": {
        "id": "Jw5LievCSru2"
      },
      "source": [
        "The **Merck Manuals** are medical references published by the American pharmaceutical company Merck & Co., that cover a wide range of medical topics, including disorders, tests, diagnoses, and drugs. The manuals have been published since 1899, when Merck & Co. was still a subsidiary of the German company Merck.\n",
        "\n",
        "The manual is provided as a PDF with over 4,000 pages divided into 23 sections."
      ]
    },
    {
      "cell_type": "markdown",
      "metadata": {
        "id": "lnwETBOE6Bz5"
      },
      "source": [
        "## Installing and Importing Necessary Libraries and Dependencies"
      ]
    },
    {
      "cell_type": "code",
      "source": [
        "# Installation for GPU llama-cpp-python\n",
        "!CMAKE_ARGS=\"-DLLAMA_CUBLAS=on\" FORCE_CMAKE=1 pip install llama-cpp-python==0.2.28 --no-cache-dir -q 2>/dev/null"
      ],
      "metadata": {
        "colab": {
          "base_uri": "https://localhost:8080/"
        },
        "id": "XlnPQXekK35Y",
        "outputId": "60ad4009-398e-4408-c07e-fe5d42072c2a"
      },
      "execution_count": null,
      "outputs": [
        {
          "output_type": "stream",
          "name": "stdout",
          "text": [
            "\u001b[?25l     \u001b[90m━━━━━━━━━━━━━━━━━━━━━━━━━━━━━━━━━━━━━━━━\u001b[0m \u001b[32m0.0/9.4 MB\u001b[0m \u001b[31m?\u001b[0m eta \u001b[36m-:--:--\u001b[0m\r\u001b[2K     \u001b[91m━━━━━━━━━━━━\u001b[0m\u001b[90m╺\u001b[0m\u001b[90m━━━━━━━━━━━━━━━━━━━━━━━━━━━\u001b[0m \u001b[32m2.8/9.4 MB\u001b[0m \u001b[31m85.9 MB/s\u001b[0m eta \u001b[36m0:00:01\u001b[0m\r\u001b[2K     \u001b[90m━━━━━━━━━━━━━━━━━━━━━━━━━━━━━━━━━━━━━━━━\u001b[0m \u001b[32m9.4/9.4 MB\u001b[0m \u001b[31m146.1 MB/s\u001b[0m eta \u001b[36m0:00:00\u001b[0m\n",
            "\u001b[?25h  Installing build dependencies ... \u001b[?25l\u001b[?25hdone\n",
            "  Getting requirements to build wheel ... \u001b[?25l\u001b[?25hdone\n",
            "  Installing backend dependencies ... \u001b[?25l\u001b[?25hdone\n",
            "  Preparing metadata (pyproject.toml) ... \u001b[?25l\u001b[?25hdone\n",
            "\u001b[2K   \u001b[90m━━━━━━━━━━━━━━━━━━━━━━━━━━━━━━━━━━━━━━━━\u001b[0m \u001b[32m45.5/45.5 kB\u001b[0m \u001b[31m281.9 MB/s\u001b[0m eta \u001b[36m0:00:00\u001b[0m\n",
            "\u001b[?25h  Building wheel for llama-cpp-python (pyproject.toml) ... \u001b[?25l\u001b[?25hdone\n"
          ]
        }
      ]
    },
    {
      "cell_type": "code",
      "source": [
        "!pip install -q tiktoken==0.6.0 pypdf==4.0.1 langchain==0.1.1 langchain-community==0.0.13 chromadb==0.4.22 sentence-transformers==2.3.1 huggingface_hub==0.23.2 numpy==1.25.2"
      ],
      "metadata": {
        "colab": {
          "base_uri": "https://localhost:8080/"
        },
        "id": "qjYKLkshLEQe",
        "outputId": "b3370b00-cca0-44f5-956d-7871079efeda"
      },
      "execution_count": null,
      "outputs": [
        {
          "output_type": "stream",
          "name": "stdout",
          "text": [
            "\u001b[?25l     \u001b[90m━━━━━━━━━━━━━━━━━━━━━━━━━━━━━━━━━━━━━━━━\u001b[0m \u001b[32m0.0/67.3 kB\u001b[0m \u001b[31m?\u001b[0m eta \u001b[36m-:--:--\u001b[0m\r\u001b[2K     \u001b[90m━━━━━━━━━━━━━━━━━━━━━━━━━━━━━━━━━━━━━━━━\u001b[0m \u001b[32m67.3/67.3 kB\u001b[0m \u001b[31m6.1 MB/s\u001b[0m eta \u001b[36m0:00:00\u001b[0m\n",
            "\u001b[?25h  Installing build dependencies ... \u001b[?25l\u001b[?25hdone\n",
            "  Getting requirements to build wheel ... \u001b[?25l\u001b[?25hdone\n",
            "  Preparing metadata (pyproject.toml) ... \u001b[?25l\u001b[?25hdone\n",
            "\u001b[2K     \u001b[90m━━━━━━━━━━━━━━━━━━━━━━━━━━━━━━━━━━━━━━━━\u001b[0m \u001b[32m42.0/42.0 kB\u001b[0m \u001b[31m3.4 MB/s\u001b[0m eta \u001b[36m0:00:00\u001b[0m\n",
            "\u001b[2K     \u001b[90m━━━━━━━━━━━━━━━━━━━━━━━━━━━━━━━━━━━━━━━━\u001b[0m \u001b[32m41.7/41.7 kB\u001b[0m \u001b[31m2.6 MB/s\u001b[0m eta \u001b[36m0:00:00\u001b[0m\n",
            "\u001b[2K     \u001b[90m━━━━━━━━━━━━━━━━━━━━━━━━━━━━━━━━━━━━━━━━\u001b[0m \u001b[32m41.7/41.7 kB\u001b[0m \u001b[31m3.5 MB/s\u001b[0m eta \u001b[36m0:00:00\u001b[0m\n",
            "\u001b[2K     \u001b[90m━━━━━━━━━━━━━━━━━━━━━━━━━━━━━━━━━━━━━━━━\u001b[0m \u001b[32m40.9/40.9 kB\u001b[0m \u001b[31m3.6 MB/s\u001b[0m eta \u001b[36m0:00:00\u001b[0m\n",
            "\u001b[2K     \u001b[90m━━━━━━━━━━━━━━━━━━━━━━━━━━━━━━━━━━━━━━━━\u001b[0m \u001b[32m40.9/40.9 kB\u001b[0m \u001b[31m3.4 MB/s\u001b[0m eta \u001b[36m0:00:00\u001b[0m\n",
            "\u001b[2K     \u001b[90m━━━━━━━━━━━━━━━━━━━━━━━━━━━━━━━━━━━━━━━━\u001b[0m \u001b[32m40.9/40.9 kB\u001b[0m \u001b[31m3.5 MB/s\u001b[0m eta \u001b[36m0:00:00\u001b[0m\n",
            "\u001b[2K     \u001b[90m━━━━━━━━━━━━━━━━━━━━━━━━━━━━━━━━━━━━━━━━\u001b[0m \u001b[32m40.2/40.2 kB\u001b[0m \u001b[31m3.2 MB/s\u001b[0m eta \u001b[36m0:00:00\u001b[0m\n",
            "\u001b[2K     \u001b[90m━━━━━━━━━━━━━━━━━━━━━━━━━━━━━━━━━━━━━━━━\u001b[0m \u001b[32m40.2/40.2 kB\u001b[0m \u001b[31m3.3 MB/s\u001b[0m eta \u001b[36m0:00:00\u001b[0m\n",
            "\u001b[2K     \u001b[90m━━━━━━━━━━━━━━━━━━━━━━━━━━━━━━━━━━━━━━━━\u001b[0m \u001b[32m44.0/44.0 kB\u001b[0m \u001b[31m3.6 MB/s\u001b[0m eta \u001b[36m0:00:00\u001b[0m\n",
            "\u001b[2K     \u001b[90m━━━━━━━━━━━━━━━━━━━━━━━━━━━━━━━━━━━━━━━━\u001b[0m \u001b[32m44.4/44.4 kB\u001b[0m \u001b[31m3.4 MB/s\u001b[0m eta \u001b[36m0:00:00\u001b[0m\n",
            "\u001b[2K     \u001b[90m━━━━━━━━━━━━━━━━━━━━━━━━━━━━━━━━━━━━━━━━\u001b[0m \u001b[32m44.4/44.4 kB\u001b[0m \u001b[31m3.7 MB/s\u001b[0m eta \u001b[36m0:00:00\u001b[0m\n",
            "\u001b[2K     \u001b[90m━━━━━━━━━━━━━━━━━━━━━━━━━━━━━━━━━━━━━━━━\u001b[0m \u001b[32m44.4/44.4 kB\u001b[0m \u001b[31m3.5 MB/s\u001b[0m eta \u001b[36m0:00:00\u001b[0m\n",
            "\u001b[2K     \u001b[90m━━━━━━━━━━━━━━━━━━━━━━━━━━━━━━━━━━━━━━━━\u001b[0m \u001b[32m44.4/44.4 kB\u001b[0m \u001b[31m4.1 MB/s\u001b[0m eta \u001b[36m0:00:00\u001b[0m\n",
            "\u001b[2K     \u001b[90m━━━━━━━━━━━━━━━━━━━━━━━━━━━━━━━━━━━━━━━━\u001b[0m \u001b[32m44.1/44.1 kB\u001b[0m \u001b[31m3.6 MB/s\u001b[0m eta \u001b[36m0:00:00\u001b[0m\n",
            "\u001b[2K     \u001b[90m━━━━━━━━━━━━━━━━━━━━━━━━━━━━━━━━━━━━━━━━\u001b[0m \u001b[32m43.5/43.5 kB\u001b[0m \u001b[31m3.0 MB/s\u001b[0m eta \u001b[36m0:00:00\u001b[0m\n",
            "\u001b[2K     \u001b[90m━━━━━━━━━━━━━━━━━━━━━━━━━━━━━━━━━━━━━━━━\u001b[0m \u001b[32m44.1/44.1 kB\u001b[0m \u001b[31m3.8 MB/s\u001b[0m eta \u001b[36m0:00:00\u001b[0m\n",
            "\u001b[2K   \u001b[90m━━━━━━━━━━━━━━━━━━━━━━━━━━━━━━━━━━━━━━━━\u001b[0m \u001b[32m1.8/1.8 MB\u001b[0m \u001b[31m58.5 MB/s\u001b[0m eta \u001b[36m0:00:00\u001b[0m\n",
            "\u001b[2K   \u001b[90m━━━━━━━━━━━━━━━━━━━━━━━━━━━━━━━━━━━━━━━━\u001b[0m \u001b[32m284.0/284.0 kB\u001b[0m \u001b[31m21.3 MB/s\u001b[0m eta \u001b[36m0:00:00\u001b[0m\n",
            "\u001b[2K   \u001b[90m━━━━━━━━━━━━━━━━━━━━━━━━━━━━━━━━━━━━━━━━\u001b[0m \u001b[32m802.4/802.4 kB\u001b[0m \u001b[31m49.1 MB/s\u001b[0m eta \u001b[36m0:00:00\u001b[0m\n",
            "\u001b[2K   \u001b[90m━━━━━━━━━━━━━━━━━━━━━━━━━━━━━━━━━━━━━━━━\u001b[0m \u001b[32m1.6/1.6 MB\u001b[0m \u001b[31m74.2 MB/s\u001b[0m eta \u001b[36m0:00:00\u001b[0m\n",
            "\u001b[2K   \u001b[90m━━━━━━━━━━━━━━━━━━━━━━━━━━━━━━━━━━━━━━━━\u001b[0m \u001b[32m509.0/509.0 kB\u001b[0m \u001b[31m38.1 MB/s\u001b[0m eta \u001b[36m0:00:00\u001b[0m\n",
            "\u001b[2K   \u001b[90m━━━━━━━━━━━━━━━━━━━━━━━━━━━━━━━━━━━━━━━━\u001b[0m \u001b[32m132.8/132.8 kB\u001b[0m \u001b[31m12.1 MB/s\u001b[0m eta \u001b[36m0:00:00\u001b[0m\n",
            "\u001b[2K   \u001b[90m━━━━━━━━━━━━━━━━━━━━━━━━━━━━━━━━━━━━━━━━\u001b[0m \u001b[32m401.7/401.7 kB\u001b[0m \u001b[31m33.0 MB/s\u001b[0m eta \u001b[36m0:00:00\u001b[0m\n",
            "\u001b[2K   \u001b[90m━━━━━━━━━━━━━━━━━━━━━━━━━━━━━━━━━━━━━━━━\u001b[0m \u001b[32m18.2/18.2 MB\u001b[0m \u001b[31m96.8 MB/s\u001b[0m eta \u001b[36m0:00:00\u001b[0m\n",
            "\u001b[2K   \u001b[90m━━━━━━━━━━━━━━━━━━━━━━━━━━━━━━━━━━━━━━━━\u001b[0m \u001b[32m2.4/2.4 MB\u001b[0m \u001b[31m78.0 MB/s\u001b[0m eta \u001b[36m0:00:00\u001b[0m\n",
            "\u001b[2K   \u001b[90m━━━━━━━━━━━━━━━━━━━━━━━━━━━━━━━━━━━━━━━━\u001b[0m \u001b[32m284.2/284.2 kB\u001b[0m \u001b[31m25.1 MB/s\u001b[0m eta \u001b[36m0:00:00\u001b[0m\n",
            "\u001b[2K   \u001b[90m━━━━━━━━━━━━━━━━━━━━━━━━━━━━━━━━━━━━━━━━\u001b[0m \u001b[32m1.9/1.9 MB\u001b[0m \u001b[31m77.4 MB/s\u001b[0m eta \u001b[36m0:00:00\u001b[0m\n",
            "\u001b[2K   \u001b[90m━━━━━━━━━━━━━━━━━━━━━━━━━━━━━━━━━━━━━━━━\u001b[0m \u001b[32m241.2/241.2 kB\u001b[0m \u001b[31m20.3 MB/s\u001b[0m eta \u001b[36m0:00:00\u001b[0m\n",
            "\u001b[2K   \u001b[90m━━━━━━━━━━━━━━━━━━━━━━━━━━━━━━━━━━━━━━━━\u001b[0m \u001b[32m55.4/55.4 kB\u001b[0m \u001b[31m4.9 MB/s\u001b[0m eta \u001b[36m0:00:00\u001b[0m\n",
            "\u001b[2K   \u001b[90m━━━━━━━━━━━━━━━━━━━━━━━━━━━━━━━━━━━━━━━━\u001b[0m \u001b[32m103.1/103.1 kB\u001b[0m \u001b[31m9.1 MB/s\u001b[0m eta \u001b[36m0:00:00\u001b[0m\n",
            "\u001b[2K   \u001b[90m━━━━━━━━━━━━━━━━━━━━━━━━━━━━━━━━━━━━━━━━\u001b[0m \u001b[32m16.5/16.5 MB\u001b[0m \u001b[31m67.4 MB/s\u001b[0m eta \u001b[36m0:00:00\u001b[0m\n",
            "\u001b[2K   \u001b[90m━━━━━━━━━━━━━━━━━━━━━━━━━━━━━━━━━━━━━━━━\u001b[0m \u001b[32m65.6/65.6 kB\u001b[0m \u001b[31m5.8 MB/s\u001b[0m eta \u001b[36m0:00:00\u001b[0m\n",
            "\u001b[2K   \u001b[90m━━━━━━━━━━━━━━━━━━━━━━━━━━━━━━━━━━━━━━━━\u001b[0m \u001b[32m72.5/72.5 kB\u001b[0m \u001b[31m6.5 MB/s\u001b[0m eta \u001b[36m0:00:00\u001b[0m\n",
            "\u001b[2K   \u001b[90m━━━━━━━━━━━━━━━━━━━━━━━━━━━━━━━━━━━━━━━━\u001b[0m \u001b[32m201.6/201.6 kB\u001b[0m \u001b[31m19.5 MB/s\u001b[0m eta \u001b[36m0:00:00\u001b[0m\n",
            "\u001b[2K   \u001b[90m━━━━━━━━━━━━━━━━━━━━━━━━━━━━━━━━━━━━━━━━\u001b[0m \u001b[32m120.0/120.0 kB\u001b[0m \u001b[31m8.8 MB/s\u001b[0m eta \u001b[36m0:00:00\u001b[0m\n",
            "\u001b[2K   \u001b[90m━━━━━━━━━━━━━━━━━━━━━━━━━━━━━━━━━━━━━━━━\u001b[0m \u001b[32m53.0/53.0 kB\u001b[0m \u001b[31m4.4 MB/s\u001b[0m eta \u001b[36m0:00:00\u001b[0m\n",
            "\u001b[2K   \u001b[90m━━━━━━━━━━━━━━━━━━━━━━━━━━━━━━━━━━━━━━━━\u001b[0m \u001b[32m116.7/116.7 kB\u001b[0m \u001b[31m12.0 MB/s\u001b[0m eta \u001b[36m0:00:00\u001b[0m\n",
            "\u001b[2K   \u001b[90m━━━━━━━━━━━━━━━━━━━━━━━━━━━━━━━━━━━━━━━━\u001b[0m \u001b[32m6.6/6.6 MB\u001b[0m \u001b[31m101.7 MB/s\u001b[0m eta \u001b[36m0:00:00\u001b[0m\n",
            "\u001b[2K   \u001b[90m━━━━━━━━━━━━━━━━━━━━━━━━━━━━━━━━━━━━━━━━\u001b[0m \u001b[32m363.4/363.4 MB\u001b[0m \u001b[31m3.7 MB/s\u001b[0m eta \u001b[36m0:00:00\u001b[0m\n",
            "\u001b[2K   \u001b[90m━━━━━━━━━━━━━━━━━━━━━━━━━━━━━━━━━━━━━━━━\u001b[0m \u001b[32m13.8/13.8 MB\u001b[0m \u001b[31m112.1 MB/s\u001b[0m eta \u001b[36m0:00:00\u001b[0m\n",
            "\u001b[2K   \u001b[90m━━━━━━━━━━━━━━━━━━━━━━━━━━━━━━━━━━━━━━━━\u001b[0m \u001b[32m24.6/24.6 MB\u001b[0m \u001b[31m76.9 MB/s\u001b[0m eta \u001b[36m0:00:00\u001b[0m\n",
            "\u001b[2K   \u001b[90m━━━━━━━━━━━━━━━━━━━━━━━━━━━━━━━━━━━━━━━━\u001b[0m \u001b[32m883.7/883.7 kB\u001b[0m \u001b[31m41.3 MB/s\u001b[0m eta \u001b[36m0:00:00\u001b[0m\n",
            "\u001b[2K   \u001b[90m━━━━━━━━━━━━━━━━━━━━━━━━━━━━━━━━━━━━━━━━\u001b[0m \u001b[32m664.8/664.8 MB\u001b[0m \u001b[31m1.2 MB/s\u001b[0m eta \u001b[36m0:00:00\u001b[0m\n",
            "\u001b[2K   \u001b[90m━━━━━━━━━━━━━━━━━━━━━━━━━━━━━━━━━━━━━━━━\u001b[0m \u001b[32m211.5/211.5 MB\u001b[0m \u001b[31m5.8 MB/s\u001b[0m eta \u001b[36m0:00:00\u001b[0m\n",
            "\u001b[2K   \u001b[90m━━━━━━━━━━━━━━━━━━━━━━━━━━━━━━━━━━━━━━━━\u001b[0m \u001b[32m56.3/56.3 MB\u001b[0m \u001b[31m13.1 MB/s\u001b[0m eta \u001b[36m0:00:00\u001b[0m\n",
            "\u001b[2K   \u001b[90m━━━━━━━━━━━━━━━━━━━━━━━━━━━━━━━━━━━━━━━━\u001b[0m \u001b[32m127.9/127.9 MB\u001b[0m \u001b[31m7.5 MB/s\u001b[0m eta \u001b[36m0:00:00\u001b[0m\n",
            "\u001b[2K   \u001b[90m━━━━━━━━━━━━━━━━━━━━━━━━━━━━━━━━━━━━━━━━\u001b[0m \u001b[32m207.5/207.5 MB\u001b[0m \u001b[31m5.5 MB/s\u001b[0m eta \u001b[36m0:00:00\u001b[0m\n",
            "\u001b[2K   \u001b[90m━━━━━━━━━━━━━━━━━━━━━━━━━━━━━━━━━━━━━━━━\u001b[0m \u001b[32m188.7/188.7 MB\u001b[0m \u001b[31m7.6 MB/s\u001b[0m eta \u001b[36m0:00:00\u001b[0m\n",
            "\u001b[2K   \u001b[90m━━━━━━━━━━━━━━━━━━━━━━━━━━━━━━━━━━━━━━━━\u001b[0m \u001b[32m21.1/21.1 MB\u001b[0m \u001b[31m95.2 MB/s\u001b[0m eta \u001b[36m0:00:00\u001b[0m\n",
            "\u001b[2K   \u001b[90m━━━━━━━━━━━━━━━━━━━━━━━━━━━━━━━━━━━━━━━━\u001b[0m \u001b[32m10.0/10.0 MB\u001b[0m \u001b[31m39.3 MB/s\u001b[0m eta \u001b[36m0:00:00\u001b[0m\n",
            "\u001b[2K   \u001b[90m━━━━━━━━━━━━━━━━━━━━━━━━━━━━━━━━━━━━━━━━\u001b[0m \u001b[32m3.0/3.0 MB\u001b[0m \u001b[31m102.8 MB/s\u001b[0m eta \u001b[36m0:00:00\u001b[0m\n",
            "\u001b[2K   \u001b[90m━━━━━━━━━━━━━━━━━━━━━━━━━━━━━━━━━━━━━━━━\u001b[0m \u001b[32m459.8/459.8 kB\u001b[0m \u001b[31m36.1 MB/s\u001b[0m eta \u001b[36m0:00:00\u001b[0m\n",
            "\u001b[2K   \u001b[90m━━━━━━━━━━━━━━━━━━━━━━━━━━━━━━━━━━━━━━━━\u001b[0m \u001b[32m50.9/50.9 kB\u001b[0m \u001b[31m4.6 MB/s\u001b[0m eta \u001b[36m0:00:00\u001b[0m\n",
            "\u001b[2K   \u001b[90m━━━━━━━━━━━━━━━━━━━━━━━━━━━━━━━━━━━━━━━━\u001b[0m \u001b[32m4.0/4.0 MB\u001b[0m \u001b[31m109.8 MB/s\u001b[0m eta \u001b[36m0:00:00\u001b[0m\n",
            "\u001b[2K   \u001b[90m━━━━━━━━━━━━━━━━━━━━━━━━━━━━━━━━━━━━━━━━\u001b[0m \u001b[32m453.1/453.1 kB\u001b[0m \u001b[31m24.5 MB/s\u001b[0m eta \u001b[36m0:00:00\u001b[0m\n",
            "\u001b[2K   \u001b[90m━━━━━━━━━━━━━━━━━━━━━━━━━━━━━━━━━━━━━━━━\u001b[0m \u001b[32m46.0/46.0 kB\u001b[0m \u001b[31m3.8 MB/s\u001b[0m eta \u001b[36m0:00:00\u001b[0m\n",
            "\u001b[2K   \u001b[90m━━━━━━━━━━━━━━━━━━━━━━━━━━━━━━━━━━━━━━━━\u001b[0m \u001b[32m86.8/86.8 kB\u001b[0m \u001b[31m8.0 MB/s\u001b[0m eta \u001b[36m0:00:00\u001b[0m\n",
            "\u001b[?25h  Building wheel for pypika (pyproject.toml) ... \u001b[?25l\u001b[?25hdone\n",
            "\u001b[31mERROR: pip's dependency resolver does not currently take into account all the packages that are installed. This behaviour is the source of the following dependency conflicts.\n",
            "diffusers 0.34.0 requires huggingface-hub>=0.27.0, but you have huggingface-hub 0.23.2 which is incompatible.\n",
            "thinc 8.3.6 requires numpy<3.0.0,>=2.0.0, but you have numpy 1.25.2 which is incompatible.\n",
            "opencv-python-headless 4.12.0.88 requires numpy<2.3.0,>=2; python_version >= \"3.9\", but you have numpy 1.25.2 which is incompatible.\n",
            "db-dtypes 1.4.3 requires packaging>=24.2.0, but you have packaging 23.2 which is incompatible.\n",
            "opencv-contrib-python 4.12.0.88 requires numpy<2.3.0,>=2; python_version >= \"3.9\", but you have numpy 1.25.2 which is incompatible.\n",
            "peft 0.17.0 requires huggingface_hub>=0.25.0, but you have huggingface-hub 0.23.2 which is incompatible.\n",
            "gradio 5.42.0 requires huggingface-hub<1.0,>=0.33.5, but you have huggingface-hub 0.23.2 which is incompatible.\n",
            "tensorflow 2.19.0 requires numpy<2.2.0,>=1.26.0, but you have numpy 1.25.2 which is incompatible.\n",
            "datasets 4.0.0 requires huggingface-hub>=0.24.0, but you have huggingface-hub 0.23.2 which is incompatible.\n",
            "xarray 2025.7.1 requires numpy>=1.26, but you have numpy 1.25.2 which is incompatible.\n",
            "xarray 2025.7.1 requires packaging>=24.1, but you have packaging 23.2 which is incompatible.\n",
            "arviz 0.22.0 requires numpy>=1.26.0, but you have numpy 1.25.2 which is incompatible.\n",
            "opencv-python 4.12.0.88 requires numpy<2.3.0,>=2; python_version >= \"3.9\", but you have numpy 1.25.2 which is incompatible.\n",
            "blosc2 3.7.0 requires numpy>=1.26, but you have numpy 1.25.2 which is incompatible.\n",
            "google-cloud-bigquery 3.35.1 requires packaging>=24.2.0, but you have packaging 23.2 which is incompatible.\n",
            "langchain-text-splitters 0.3.9 requires langchain-core<1.0.0,>=0.3.72, but you have langchain-core 0.1.23 which is incompatible.\u001b[0m\u001b[31m\n",
            "\u001b[0m"
          ]
        }
      ]
    },
    {
      "cell_type": "code",
      "source": [
        "!pip list | grep -E \"llama|huggingface-hub|pandas|tiktoken|pymupdf|langchain|chromadb|sentence-transformers|numpy\""
      ],
      "metadata": {
        "colab": {
          "base_uri": "https://localhost:8080/"
        },
        "id": "DKh7eiyDLZdl",
        "outputId": "d14d4add-209d-436d-9d2a-70646f0c9143"
      },
      "execution_count": null,
      "outputs": [
        {
          "output_type": "stream",
          "name": "stdout",
          "text": [
            "chromadb                                 0.4.22\n",
            "geopandas                                1.1.1\n",
            "huggingface-hub                          0.23.2\n",
            "langchain                                0.1.1\n",
            "langchain-community                      0.0.13\n",
            "langchain-core                           0.1.23\n",
            "langchain-text-splitters                 0.3.9\n",
            "llama_cpp_python                         0.2.28\n",
            "numpy                                    1.25.2\n",
            "pandas                                   2.2.2\n",
            "pandas-datareader                        0.10.0\n",
            "pandas-gbq                               0.29.2\n",
            "pandas-stubs                             2.2.2.240909\n",
            "sentence-transformers                    2.3.1\n",
            "sklearn-pandas                           2.2.0\n",
            "tiktoken                                 0.6.0\n"
          ]
        }
      ]
    },
    {
      "cell_type": "code",
      "source": [
        "#Libraries for processing dataframes,text\n",
        "import json\n",
        "import os\n",
        "import tiktoken\n",
        "import pandas as pd\n",
        "\n",
        "import warnings\n",
        "warnings.filterwarnings('ignore')\n",
        "\n",
        "#Libraries for Loading Data, Chunking, Embedding, and Vector Databases\n",
        "from langchain.text_splitter import RecursiveCharacterTextSplitter\n",
        "from langchain_community.document_loaders import PyMuPDFLoader,PyPDFLoader\n",
        "from langchain_community.embeddings.sentence_transformer import SentenceTransformerEmbeddings\n",
        "from langchain_community.vectorstores import Chroma\n",
        "\n",
        "#Libraries for downloading and loading the llm\n",
        "from huggingface_hub import hf_hub_download\n",
        "from llama_cpp import Llama"
      ],
      "metadata": {
        "id": "mhBvKMuuLa-L"
      },
      "execution_count": null,
      "outputs": []
    },
    {
      "cell_type": "code",
      "source": [
        "from google.colab import drive\n",
        "drive.mount('/content/drive')"
      ],
      "metadata": {
        "colab": {
          "base_uri": "https://localhost:8080/"
        },
        "id": "xnpSvNAdeIMU",
        "outputId": "edf9b52e-6cd3-4ca5-9cbb-d3c8783ebe2e"
      },
      "execution_count": null,
      "outputs": [
        {
          "output_type": "stream",
          "name": "stdout",
          "text": [
            "Mounted at /content/drive\n"
          ]
        }
      ]
    },
    {
      "cell_type": "markdown",
      "metadata": {
        "id": "TtZWqj0wFTS1"
      },
      "source": [
        "## Question Answering using LLM"
      ]
    },
    {
      "cell_type": "markdown",
      "metadata": {
        "id": "Uq1lhM4WFTS2"
      },
      "source": [
        "#### Downloading and Loading the model"
      ]
    },
    {
      "cell_type": "code",
      "execution_count": null,
      "metadata": {
        "colab": {
          "base_uri": "https://localhost:8080/",
          "height": 49,
          "referenced_widgets": [
            "321a472567074a65b3b3f0a982ea029b",
            "9dfaf840122b4222bffc1f79af9ac2da",
            "9604aac33b434fa0929d0ace2a7d1e0a",
            "95248888d7d947f5a8fa37349229681b",
            "ad1a9c7bdd2b467dbc027283ce6b97ec",
            "9ea4ef7df79e4453914651bdf7bee1f2",
            "dfe06440506c43348e862a25a0b30073",
            "3ce73c4319bd49fa8230dbe6a44cc9ad",
            "0f354d89c2e249cb87e7488c246d7fa2",
            "2dc8023366ca40368043fafeee5e0581",
            "df37cd37d2894806a6f49cd107db50b5"
          ]
        },
        "id": "5sZoYIWxA0Mv",
        "outputId": "64413a8b-af6e-4da2-acdd-c1a35ea0e4bc"
      },
      "outputs": [
        {
          "output_type": "display_data",
          "data": {
            "text/plain": [
              "llama-2-13b-chat.Q5_K_M.gguf:   0%|          | 0.00/9.23G [00:00<?, ?B/s]"
            ],
            "application/vnd.jupyter.widget-view+json": {
              "version_major": 2,
              "version_minor": 0,
              "model_id": "321a472567074a65b3b3f0a982ea029b"
            }
          },
          "metadata": {}
        }
      ],
      "source": [
        "# Step 1: Download a quantized model\n",
        "model_path = hf_hub_download(\n",
        "    repo_id=\"TheBloke/Llama-2-13B-chat-GGUF\",\n",
        "    filename=\"llama-2-13b-chat.Q5_K_M.gguf\"  # pick quantization level you want\n",
        ")"
      ]
    },
    {
      "cell_type": "code",
      "source": [
        "model_path"
      ],
      "metadata": {
        "colab": {
          "base_uri": "https://localhost:8080/",
          "height": 35
        },
        "id": "78IqT1HsEMZ5",
        "outputId": "cc9c2dc2-af93-4065-8663-682707177ceb"
      },
      "execution_count": null,
      "outputs": [
        {
          "output_type": "execute_result",
          "data": {
            "text/plain": [
              "'/root/.cache/huggingface/hub/models--TheBloke--Llama-2-13B-chat-GGUF/snapshots/4458acc949de0a9914c3eab623904d4fe999050a/llama-2-13b-chat.Q5_K_M.gguf'"
            ],
            "application/vnd.google.colaboratory.intrinsic+json": {
              "type": "string"
            }
          },
          "metadata": {},
          "execution_count": 5
        }
      ]
    },
    {
      "cell_type": "code",
      "execution_count": null,
      "metadata": {
        "colab": {
          "base_uri": "https://localhost:8080/"
        },
        "id": "L4kLVxlqA0Mv",
        "outputId": "77c9abd6-8ce5-4dcc-c266-7be9c2d91086"
      },
      "outputs": [
        {
          "output_type": "stream",
          "name": "stderr",
          "text": [
            "AVX = 1 | AVX_VNNI = 0 | AVX2 = 1 | AVX512 = 1 | AVX512_VBMI = 0 | AVX512_VNNI = 0 | FMA = 1 | NEON = 0 | ARM_FMA = 0 | F16C = 1 | FP16_VA = 0 | WASM_SIMD = 0 | BLAS = 1 | SSE3 = 1 | SSSE3 = 1 | VSX = 0 | \n"
          ]
        }
      ],
      "source": [
        "# Step 2: Load the model\n",
        "lcpp_llm = Llama(\n",
        "    model_path=model_path,\n",
        "    n_ctx=4096,  # Context window\n",
        "    n_batch=1024,  # Should be between 1 and n_ctx, consider the amount of VRAM in your GPU.\n",
        "    n_gpu_layers=43,  # Change this value based on your model and your GPU VRAM pool.\n",
        ")"
      ]
    },
    {
      "cell_type": "markdown",
      "metadata": {
        "id": "EzzkvIXvFTS4"
      },
      "source": [
        "#### Response"
      ]
    },
    {
      "cell_type": "code",
      "execution_count": null,
      "metadata": {
        "id": "hG_IaZj0QLw4"
      },
      "outputs": [],
      "source": [
        "def response(query,max_tokens=1024,temperature=0,top_p=0.95,top_k=50):\n",
        "    model_output = lcpp_llm(\n",
        "      prompt=query,\n",
        "      max_tokens=max_tokens,\n",
        "      temperature=temperature,\n",
        "      top_p=top_p,\n",
        "      top_k=top_k\n",
        "    )\n",
        "\n",
        "    return model_output['choices'][0]['text']"
      ]
    },
    {
      "cell_type": "markdown",
      "metadata": {
        "id": "K8YgK91SFjVY"
      },
      "source": [
        "### Query 1: What is the protocol for managing sepsis in a critical care unit?"
      ]
    },
    {
      "cell_type": "code",
      "execution_count": null,
      "metadata": {
        "id": "-JLIVmpPQH0f",
        "colab": {
          "base_uri": "https://localhost:8080/"
        },
        "outputId": "55c496ca-89aa-4cec-d9ce-af1549911eda"
      },
      "outputs": [
        {
          "output_type": "stream",
          "name": "stderr",
          "text": [
            "Llama.generate: prefix-match hit\n"
          ]
        },
        {
          "output_type": "stream",
          "name": "stdout",
          "text": [
            " The Surviving Sepsis Campaign (SSC) guidelines provide a standardized approach to managing sepsis in critical care units. Here are the key components of the protocol:\n",
            "\n",
            "1. Early recognition and diagnosis:\n",
            "\t* Use a systematic approach to identify patients at risk for sepsis, such as the Sepsis Screening Tool (SST).\n",
            "\t* Evaluate patients with signs of infection, organ dysfunction, or clinical instability.\n",
            "\t* Use blood cultures and other diagnostic tests to confirm the presence of sepsis-causing pathogens.\n",
            "2. Rapid administration of antibiotics:\n",
            "\t* Start broad-spectrum antibiotics within 1 hour of recognition of sepsis, ideally within 30 minutes.\n",
            "\t* Use a goal-directed approach to select antibiotics based on the suspected source of infection and the patient's allergies and sensitivities.\n",
            "\t* Monitor the patient's response to antibiotics and adjust the treatment as needed.\n",
            "3. Supportive care:\n",
            "\t* Provide mechanical ventilation as needed to maintain adequate oxygenation.\n",
            "\t* Manage fluid status with vasopressors or sedation, as appropriate.\n",
            "\t* Monitor and manage electrolyte imbalances.\n",
            "\t* Use stress doses of steroids in patients with severe sepsis or septic shock.\n",
            "4. Hemodynamic support:\n",
            "\t* Use invasive monitoring to assess cardiac output and mean arterial pressure (MAP).\n",
            "\t* Manage vasoplegia with vasopressors, such as norepinephrine or dopamine.\n",
            "\t* Manage hypertension with vasodilators, such as nitroprusside or sodium nitrofurante.\n",
            "5. Infection source control:\n",
            "\t* Identify and manage the source of infection, such as removing a catheter or surgically debrideing infected tissue.\n",
            "\t* Use antimicrobial-impregnated catheters to reduce the risk of catheter-associated infections.\n",
            "6. Monitoring and follow-up:\n",
            "\t* Use serial lactate measurements to assess the effectiveness of treatment and monitor for signs of tissue hypoperfusion.\n",
            "\t* Monitor for signs of organ dysfunction, such as acute kidney injury (AKI), acute respiratory distress syndrome (ARDS), or cardiac dysfunction.\n",
            "\t* Follow up with serial evaluations to assess the patient's response to treatment and make adjustments as needed.\n",
            "7. Escalation of care:\n",
            "\t* Have a clear protocol for escalating care, such as transferring patients to an intensive care unit (ICU) or consulting with specialists.\n",
            "\t* Be prepared to manage complications, such as cardiac arrest or shock, and have a plan for addressing these emergencies.\n",
            "8. Family engagement:\n",
            "\t* Involve family members in the care of the patient, providing them with information about the diagnosis, treatment, and prognosis.\n",
            "\t* Encourage family members to ask questions and express their concerns, and provide emotional support as needed.\n",
            "\n",
            "By following this protocol, critical care units can provide effective management of sepsis and improve patient outcomes.\n"
          ]
        }
      ],
      "source": [
        "print(response(\"Q: What is the protocol for managing sepsis in a critical care unit?\\nA:\"))"
      ]
    },
    {
      "cell_type": "markdown",
      "metadata": {
        "id": "J6yxICeVFjVc"
      },
      "source": [
        "### Query 2: What are the common symptoms for appendicitis, and can it be cured via medicine? If not, what surgical procedure should be followed to treat it?"
      ]
    },
    {
      "cell_type": "code",
      "execution_count": null,
      "metadata": {
        "id": "BdiHRgEqQIP9",
        "colab": {
          "base_uri": "https://localhost:8080/"
        },
        "outputId": "b6b2ee3d-c08e-4a86-b5ee-7b072c3fb5a7"
      },
      "outputs": [
        {
          "output_type": "stream",
          "name": "stderr",
          "text": [
            "Llama.generate: prefix-match hit\n"
          ]
        },
        {
          "output_type": "stream",
          "name": "stdout",
          "text": [
            " Appendicitis is a medical emergency that requires prompt treatment. The common symptoms of appendicitis include:\n",
            "\n",
            "1. Severe pain in the abdomen, usually starting near the belly button and then moving to the lower right side of the abdomen.\n",
            "2. Nausea and vomiting.\n",
            "3. Loss of appetite.\n",
            "4. Fever.\n",
            "5. Abdominal tenderness and guarding (muscle tension).\n",
            "6. Abdominal swelling.\n",
            "7. Diarrhea or constipation.\n",
            "\n",
            "If you suspect that you or someone else may have appendicitis, it is essential to seek medical attention immediately. Appendicitis cannot be cured via medicine; instead, surgery is required to remove the inflamed appendix. The surgical procedure most commonly used to treat appendicitis is an appendectomy, which involves removing the inflamed appendix through a small incision in the abdomen.\n",
            "\n",
            "There are two types of appendectomies: open and laparoscopic. Open appendectomy is the traditional method, where a larger incision is made to allow for better visualization of the appendix. Laparoscopic appendectomy is a less invasive procedure that uses a small camera and specialized instruments to remove the appendix through several small incisions.\n",
            "\n",
            "In some cases, the surgeon may decide to perform an open appendectomy if the appendix has already ruptured or if there are other complications present. The choice of surgical procedure depends on the severity of the appendicitis and the patient's overall health.\n",
            "\n",
            "After the surgery, patients will typically need to rest in the hospital for a few days to recover. They may experience some discomfort, pain, and nausea, which can be managed with medication. A follow-up appointment with the surgeon is necessary to ensure that the wound is healing properly and to address any concerns or complications that may arise.\n",
            "\n",
            "It is essential to note that prompt treatment of appendicitis is crucial to prevent complications such as the spread of infection, abscesses, or blockages in the intestines. If you suspect that you or someone else may have appendicitis, do not hesitate to seek medical attention immediately.\n"
          ]
        }
      ],
      "source": [
        "print(response(\"Q: What are the common symptoms for appendicitis, and can it be cured via medicine? If not, what surgical procedure should be followed to treat it?\\nA:\"))"
      ]
    },
    {
      "cell_type": "markdown",
      "metadata": {
        "id": "oflaoOGiFjVd"
      },
      "source": [
        "### Query 3: What are the effective treatments or solutions for addressing sudden patchy hair loss, commonly seen as localized bald spots on the scalp, and what could be the possible causes behind it?"
      ]
    },
    {
      "cell_type": "code",
      "execution_count": null,
      "metadata": {
        "id": "N-mx9yboQIt-",
        "colab": {
          "base_uri": "https://localhost:8080/"
        },
        "outputId": "4466a4bd-d0dc-4f23-d955-30641ea86353"
      },
      "outputs": [
        {
          "output_type": "stream",
          "name": "stderr",
          "text": [
            "Llama.generate: prefix-match hit\n"
          ]
        },
        {
          "output_type": "stream",
          "name": "stdout",
          "text": [
            " Sudden patchy hair loss, also known as alopecia areata, can be challenging to treat, but there are several effective solutions and treatments that can help promote hair growth and reduce inflammation. Here are some of the most common treatment options for sudden patchy hair loss:\n",
            "\n",
            "1. Topical corticosteroids: Over-the-counter or prescription topical corticosteroids can help reduce inflammation and promote hair growth. These medications are applied directly to the affected area, and they can be effective in mild to moderate cases of alopecia areata.\n",
            "2. Minoxidil: Minoxidil (Rogaine) is a solution that is applied to the scalp to stimulate hair growth. It is available over-the-counter and has been shown to be effective in treating patchy hair loss.\n",
            "3. Anthralin: Anthralin is a medication that is applied to the skin to reduce inflammation and promote hair growth. It is often used in combination with corticosteroids.\n",
            "4. Phototherapy: Exposure to specific wavelengths of light, such as ultraviolet B (UVB) or narrowband UVB, can help reduce inflammation and promote hair growth.\n",
            "5. Immunotherapy: Immunotherapy, such as diphencyprone (DPCP), is a treatment that uses a chemical to cause a mild allergic reaction on the skin. This reaction can help stimulate hair growth.\n",
            "6. Injections: Injecting corticosteroids or other medications into the affected area can be effective in treating patchy hair loss.\n",
            "7. Platelet-rich plasma (PRP) therapy: PRP therapy involves injecting platelet-rich plasma (PRP) into the affected area. PRP is derived from the patient's own blood and contains growth factors that can help stimulate hair growth.\n",
            "8. Low-level laser therapy (LLLT): LLLT uses low-level lasers or light-emitting diodes to stimulate hair growth. It is thought that the light energy increases blood flow to the scalp, which can promote hair growth.\n",
            "\n",
            "Possible causes of sudden patchy hair loss include:\n",
            "\n",
            "1. Autoimmune disorders: Alopecia areata is an autoimmune disorder that can cause sudden patchy hair loss. Other autoimmune disorders, such as thyroiditis or lupus, can also cause hair loss.\n",
            "2. Hormonal imbalances: Hormonal changes, such as those that occur during pregnancy or menopause, can cause hair loss.\n",
            "3. Stress: Prolonged stress can cause hair loss due to the release of cortisol, a hormone that can disrupt the normal hair growth cycle.\n",
            "4. Nutritional deficiencies: Deficiencies in nutrients such as iron, zinc, or biotin can cause hair loss.\n",
            "5. Skin conditions: Certain skin conditions, such as eczema or psoriasis, can cause hair loss.\n",
            "6. Infections: Fungal infections of the scalp, such as ringworm, can cause patchy hair loss.\n",
            "7. Traction alopecia: Traction alopecia is a type of hair loss that occurs due to constant pulling or tension on the hair follicles, such as with tight hairstyles or hair extensions.\n",
            "8. Telogen effluvium: Telogen effluvium is a condition in which there is a sudden increase in the number of hair follicles that stop growing and enter the resting phase. This can cause patchy hair loss.\n",
            "\n",
            "It's important to note that these are just some of the possible causes and treatments for sudden patchy hair loss, and it's best to consult a dermatologist for an accurate diagnosis and personalized treatment plan.\n"
          ]
        }
      ],
      "source": [
        "print(response(\"Q: What are the effective treatments or solutions for addressing sudden patchy hair loss, commonly seen as localized bald spots on the scalp, and what could be the possible causes behind it?\\nA:\"))"
      ]
    },
    {
      "cell_type": "markdown",
      "metadata": {
        "id": "WUUqY4FbFjVe"
      },
      "source": [
        "### Query 4:  What treatments are recommended for a person who has sustained a physical injury to brain tissue, resulting in temporary or permanent impairment of brain function?"
      ]
    },
    {
      "cell_type": "code",
      "execution_count": null,
      "metadata": {
        "id": "TEsVMaKaQJzh",
        "colab": {
          "base_uri": "https://localhost:8080/"
        },
        "outputId": "288630c4-9738-4327-9bc8-cd55c2788fad"
      },
      "outputs": [
        {
          "output_type": "stream",
          "name": "stderr",
          "text": [
            "Llama.generate: prefix-match hit\n"
          ]
        },
        {
          "output_type": "stream",
          "name": "stdout",
          "text": [
            " Treatments for a person who has sustained a physical injury to brain tissue and experienced temporary or permanent impairment of brain function may include:\n",
            "\n",
            "1. Medications: To manage symptoms such as pain, anxiety, and depression.\n",
            "2. Rehabilitation therapy: To improve cognitive, motor, and behavioral functions.\n",
            "3. Surgery: To repair damaged tissue or relieve pressure on the brain.\n",
            "4. Lifestyle modifications: To accommodate any long-term changes in brain function, such as adjusting work or living situations.\n",
            "5. Cognitive training: To improve memory, attention, and other cognitive functions.\n",
            "6. Behavioral therapy: To address any emotional or behavioral changes resulting from the injury.\n",
            "7. Neuropsychological rehabilitation: To help the individual adapt to any permanent changes in brain function and improve their quality of life.\n",
            "8. Stem cell therapy: To promote healing and repair of damaged brain tissue.\n",
            "9. Hyperbaric oxygen therapy: To increase oxygen flow to the brain and promote healing.\n",
            "10. Electrical stimulation therapy: To improve cognitive and motor functions.\n",
            "\n",
            "It's important to note that the most effective treatment plan for a person with a physical injury to brain tissue will depend on the severity and location of the injury, as well as their individual needs and circumstances. A healthcare professional should be consulted to determine the best course of treatment.\n"
          ]
        }
      ],
      "source": [
        "print(response(\"Q: What treatments are recommended for a person who has sustained a physical injury to brain tissue, resulting in temporary or permanent impairment of brain function?\\nA:\"))"
      ]
    },
    {
      "cell_type": "markdown",
      "metadata": {
        "id": "5laPFTHrFjVf"
      },
      "source": [
        "### Query 5: What are the necessary precautions and treatment steps for a person who has fractured their leg during a hiking trip, and what should be considered for their care and recovery?"
      ]
    },
    {
      "cell_type": "code",
      "execution_count": null,
      "metadata": {
        "id": "VfrlmrP5QKJz",
        "colab": {
          "base_uri": "https://localhost:8080/"
        },
        "outputId": "7819ebc9-0859-4db2-a7f3-4d171629723c"
      },
      "outputs": [
        {
          "output_type": "stream",
          "name": "stderr",
          "text": [
            "Llama.generate: prefix-match hit\n"
          ]
        },
        {
          "output_type": "stream",
          "name": "stdout",
          "text": [
            " If someone has fractured their leg while hiking, it is essential to take immediate action to provide proper care and ensure their recovery. Here are some necessary precautions and treatment steps:\n",
            "\n",
            "1. Stop activity: Immediately stop any strenuous activity to prevent further injury or damage to the affected area.\n",
            "2. Assess the injury: Evaluate the severity of the fracture by checking for signs of swelling, deformity, or open wounds. If the fracture is severe or if there are any open wounds, call for emergency medical assistance.\n",
            "3. Immobilize the affected area: Use a splint or brace to immobilize the leg and prevent further movement. This can help reduce pain and prevent further damage.\n",
            "4. Apply ice: Apply ice packs to the affected area to reduce swelling and pain. Wrap the ice in a towel or cloth to avoid direct contact with the skin.\n",
            "5. Elevate the affected area: Elevate the leg above the level of the heart to reduce swelling and improve blood flow.\n",
            "6. Monitor vital signs: Check the person's vital signs, such as pulse, breathing rate, and blood pressure, regularly to ensure they are stable.\n",
            "7. Provide pain management: Administer pain medication as needed to help manage the person's discomfort.\n",
            "8. Stay hydrated: Encourage the person to drink plenty of water to stay hydrated and prevent dehydration.\n",
            "9. Seek medical attention: If the fracture is severe or if there are any signs of infection, such as redness, swelling, or pus, seek immediate medical attention.\n",
            "10. Follow-up care: After seeking medical attention, follow the healthcare provider's instructions for recovery and rehabilitation. This may include physical therapy, cast or brace wear, and medication management.\n",
            "\n",
            "During the recovery process, it is essential to consider the following factors:\n",
            "\n",
            "1. Rest: Allow the affected leg to rest and heal. Avoid putting weight on the leg or engaging in strenuous activities.\n",
            "2. Rehabilitation: Participate in physical therapy exercises to improve strength, flexibility, and range of motion in the affected leg.\n",
            "3. Medication management: Manage pain medication and follow the healthcare provider's instructions for dosage and frequency.\n",
            "4. Wound care: If there are any open wounds, practice proper wound care techniques to prevent infection and promote healing.\n",
            "5. Nutrition: Maintain a balanced diet to support the healing process. Include plenty of protein, calcium, and vitamin D to promote bone health.\n",
            "6. Monitoring: Regularly monitor the person's progress and report any changes or complications to their healthcare provider.\n",
            "\n",
            "By following these necessary precautions and treatment steps, a person who has fractured their leg during a hiking trip can ensure proper care and promote a successful recovery.\n"
          ]
        }
      ],
      "source": [
        "print(response(\"Q: What are the necessary precautions and treatment steps for a person who has fractured their leg during a hiking trip, and what should be considered for their care and recovery?\\nA:\"))"
      ]
    },
    {
      "cell_type": "markdown",
      "source": [
        "### Observations\n",
        "\n",
        "**Quality & Structure**\n",
        "- Well-structured with clear numbering and bullet points  \n",
        "- Clinically relevant order maintained  \n",
        "- Good depth while staying focused  \n",
        "\n",
        "**Medical Accuracy**\n",
        "- Aligns with standard protocols & guidelines  \n",
        "- Correct use of medical terminology  \n",
        "- Treatments progress from conservative to invasive  \n",
        "\n",
        "**Comprehensiveness**\n",
        "- **Sepsis:** Complete SSC emergency care pathway  \n",
        "- **Appendicitis:** Clear symptoms vs. surgical intervention  \n",
        "- **Hair Loss:** Balanced causes and treatments  \n",
        "- **Brain Injury:** Multi-modal treatment & rehab  \n",
        "- **Leg Fracture:** Immediate care and long-term management  \n",
        "\n",
        "**Areas for Enhancement**\n",
        "- Add more specifics on treatment timeframes  \n",
        "- Clarify emergency contact guidelines  \n",
        "- Consider cost implications  \n",
        "- Prioritize treatments more clearly  \n",
        "\n",
        "**Notable Strengths**\n",
        "- Consistent emphasis on professional medical help  \n",
        "- Balanced technical vs. accessible language  \n",
        "- Covers immediate and long-term care  \n",
        "- Holistic view: physical & psychological aspects  "
      ],
      "metadata": {
        "id": "AdzWXppqAz2P"
      }
    },
    {
      "cell_type": "markdown",
      "metadata": {
        "id": "g5myZ5dOOefc"
      },
      "source": [
        "## Question Answering using LLM with Prompt Engineering"
      ]
    },
    {
      "cell_type": "code",
      "execution_count": null,
      "metadata": {
        "colab": {
          "base_uri": "https://localhost:8080/"
        },
        "id": "xNn6ZRtGA0My",
        "outputId": "3d16ca22-2a21-4095-dd6e-f83fe178a50c"
      },
      "outputs": [
        {
          "output_type": "stream",
          "name": "stderr",
          "text": [
            "Llama.generate: prefix-match hit\n",
            "Llama.generate: prefix-match hit\n",
            "Llama.generate: prefix-match hit\n",
            "Llama.generate: prefix-match hit\n",
            "Llama.generate: prefix-match hit\n",
            "Llama.generate: prefix-match hit\n",
            "Llama.generate: prefix-match hit\n",
            "Llama.generate: prefix-match hit\n",
            "Llama.generate: prefix-match hit\n",
            "Llama.generate: prefix-match hit\n",
            "Llama.generate: prefix-match hit\n",
            "Llama.generate: prefix-match hit\n",
            "Llama.generate: prefix-match hit\n",
            "Llama.generate: prefix-match hit\n",
            "Llama.generate: prefix-match hit\n",
            "Llama.generate: prefix-match hit\n",
            "Llama.generate: prefix-match hit\n",
            "Llama.generate: prefix-match hit\n",
            "Llama.generate: prefix-match hit\n",
            "Llama.generate: prefix-match hit\n",
            "Llama.generate: prefix-match hit\n",
            "Llama.generate: prefix-match hit\n",
            "Llama.generate: prefix-match hit\n",
            "Llama.generate: prefix-match hit\n",
            "Llama.generate: prefix-match hit\n",
            "Llama.generate: prefix-match hit\n",
            "Llama.generate: prefix-match hit\n",
            "Llama.generate: prefix-match hit\n",
            "Llama.generate: prefix-match hit\n"
          ]
        }
      ],
      "source": [
        "questions = [\n",
        "    \"What is the protocol for managing sepsis in a critical care unit?\",\n",
        "    \"What are the common symptoms for appendicitis, and can it be cured via medicine? If not, what surgical procedure should be followed to treat it?\",\n",
        "    \"What are the effective treatments or solutions for addressing sudden patchy hair loss, commonly seen as localized bald spots on the scalp, and what could be the possible causes behind it?\",\n",
        "    \"What treatments are recommended for a person who has sustained a physical injury to brain tissue, resulting in temporary or permanent impairment of brain function?\",\n",
        "    \"What are the necessary precautions and treatment steps for a person who has fractured their leg during a hiking trip, and what should be considered for their care and recovery?\"\n",
        "]\n",
        "\n",
        "prompt_variants = [\n",
        "    lambda q: f\"\"\"You are a highly reliable and cautious medical assistant.\n",
        "You must only provide evidence-based answers derived strictly from The Merck Manual (Nineteenth Edition).\n",
        "If the Merck Manual does not clearly cover the topic,\n",
        "You must only provide evidence-based answers following standard medical guidelines (WHO, CDC, NICE).\n",
        "If you are not sure, say \"This requires specialist consultation.\" rather than guessing.\n",
        "Do not guess or provide information from non authentic medical sources.\n",
        "Always include reasoning and a clear, structured answer.\n",
        "\n",
        "Question: {q}\n",
        "Answer:\n",
        "\"\"\", #Safety + Evidence-Based + Fallback\n",
        "\n",
        "    lambda q: f\"\"\"Provide your answer based only on information from the The Merck Manual (Nineteenth Edition),\n",
        "    if you don't find that data then only provide information you are confident is supported by medical guidelines\n",
        "and use the following format:\n",
        "\n",
        "1. Symptoms/Presentation\n",
        "2. Diagnosis Steps\n",
        "3. Treatment Protocol\n",
        "4. Cautions / Follow-up\n",
        "\n",
        "If you do not get clear information, respond with:\n",
        "\"This requires specialist consultation.\"\n",
        "\n",
        "Question: {q}\n",
        "Answer:\n",
        "\"\"\" #Structured Answer Format\n",
        "]\n",
        "\n",
        "param_combos = [\n",
        "    {\"temperature\": 0.2, \"top_p\": 0.9, \"top_k\": 40, \"max_tokens\": 1024},  #Very factual, less diverse. Useful for guidelines\n",
        "    {\"temperature\": 0.5, \"top_p\": 0.8, \"top_k\": 20, \"max_tokens\": 1024},  # Balanced reasoning\n",
        "    {\"temperature\": 0.7, \"top_p\": 0.95, \"top_k\": 50, \"max_tokens\": 1024}, # Fluent + accurate, flexible\n",
        "]\n",
        "\n",
        "\n",
        "results = []\n",
        "\n",
        "for qi, q in enumerate(questions):\n",
        "    for pi, prompt_func in enumerate(prompt_variants):\n",
        "        prompt = prompt_func(q)\n",
        "        for ci, params in enumerate(param_combos):\n",
        "            answer = response(query=prompt,\n",
        "                              max_tokens=params[\"max_tokens\"],\n",
        "                              temperature=params[\"temperature\"],\n",
        "                              top_p=params[\"top_p\"],\n",
        "                              top_k=params[\"top_k\"])\n",
        "            results.append({\n",
        "                \"question\": q,\n",
        "                \"prompt_variant\": pi,\n",
        "                \"params\": params,\n",
        "                \"answer\": answer\n",
        "            })\n",
        "\n",
        "import pandas as pd\n",
        "df = pd.DataFrame(results)\n",
        "pd.set_option('display.max_colwidth', None)"
      ]
    },
    {
      "cell_type": "code",
      "source": [
        "file_path = '/content/drive/MyDrive/promptengg_results.pkl'\n",
        "df.to_pickle(file_path)"
      ],
      "metadata": {
        "id": "GaUYlLDBZc_l"
      },
      "execution_count": null,
      "outputs": []
    },
    {
      "cell_type": "code",
      "source": [
        "df.head(6)"
      ],
      "metadata": {
        "colab": {
          "base_uri": "https://localhost:8080/",
          "height": 1000
        },
        "id": "AEyVYG1co1CU",
        "outputId": "55fe0e8f-875e-4e98-de15-0211f02ed182"
      },
      "execution_count": null,
      "outputs": [
        {
          "output_type": "execute_result",
          "data": {
            "text/plain": [
              "                                                            question  \\\n",
              "0  What is the protocol for managing sepsis in a critical care unit?   \n",
              "1  What is the protocol for managing sepsis in a critical care unit?   \n",
              "2  What is the protocol for managing sepsis in a critical care unit?   \n",
              "3  What is the protocol for managing sepsis in a critical care unit?   \n",
              "4  What is the protocol for managing sepsis in a critical care unit?   \n",
              "5  What is the protocol for managing sepsis in a critical care unit?   \n",
              "\n",
              "   prompt_variant  \\\n",
              "0               0   \n",
              "1               0   \n",
              "2               0   \n",
              "3               1   \n",
              "4               1   \n",
              "5               1   \n",
              "\n",
              "                                                                 params  \\\n",
              "0   {'temperature': 0.2, 'top_p': 0.9, 'top_k': 40, 'max_tokens': 1024}   \n",
              "1   {'temperature': 0.5, 'top_p': 0.8, 'top_k': 20, 'max_tokens': 1024}   \n",
              "2  {'temperature': 0.7, 'top_p': 0.95, 'top_k': 50, 'max_tokens': 1024}   \n",
              "3   {'temperature': 0.2, 'top_p': 0.9, 'top_k': 40, 'max_tokens': 1024}   \n",
              "4   {'temperature': 0.5, 'top_p': 0.8, 'top_k': 20, 'max_tokens': 1024}   \n",
              "5  {'temperature': 0.7, 'top_p': 0.95, 'top_k': 50, 'max_tokens': 1024}   \n",
              "\n",
              "                                                                                                                                                                                                                                                                                                                                                                                                                                                                                                                                                                                                                                                                                                                                                                                                                                                                                                                                                                                                                                                                                                                                                                                                                                                                                                                                                                                                                                                                                                                                                                                                                                                                                                                                                                                                                                                                                                                                                                                                                                                                                                                                                                                                                                                                                                                                                                                                                                                                                                                                                                                                                                                                                                                                                                                                                                                                                                                                                                                                                                                                                                                                                                                                                                                                                                                                           answer  \n",
              "0                                                                                                                                                                                                                                                                                                                                                                                                                                                                                                                                                                                                   \\nAccording to The Merck Manual (Nineteenth Edition), the management of sepsis in a critical care unit involves a multidisciplinary approach that includes early recognition, prompt administration of antibiotics and supportive care, and close monitoring of vital signs and laboratory results. Here is a step-by-step protocol for managing sepsis in a critical care unit:\\n\\nStep 1: Early Recognition (within 1 hour)\\n\\n* Assess the patient's vital signs, including temperature, blood pressure, tachycardia, and tachypnea.\\n* Check for signs of infection, such as fever, chills, or purulent drainage.\\n* Evaluate the patient's level of consciousness and mental status.\\n\\nStep 2: Administration of Antibiotics (within 1 hour)\\n\\n* Administer broad-spectrum antibiotics effective against common causes of sepsis, such as Gram-positive and Gram-negative bacteria, and fungi.\\n* Use a loading dose of antibiotics followed by maintenance doses every 8-12 hours.\\n* Monitor the patient's response to antibiotics and adjust the dosage or switch medications as needed.\\n\\nStep 3: Supportive Care (within 1 hour)\\n\\n* Provide oxygen therapy to maintain oxygen saturation levels above 90%.\\n* Administer fluids and electrolytes to maintain hydration and prevent hypovolemia.\\n* Monitor the patient's blood glucose levels and administer insulin or dextrose as needed.\\n* Use a vasopressor to maintain mean arterial pressure (MAP) above 65 mmHg if the patient is hypotensive.\\n\\nStep 4: Close Monitoring (every 2-4 hours)\\n\\n* Assess the patient's vital signs, including temperature, blood pressure, tachycardia, and tachypnea.\\n* Check for signs of organ dysfunction, such as altered mental status, respiratory distress, or renal failure.\\n* Monitor the patient's laboratory results, including white blood cell count, serum creatinine, and blood urea nitrogen.\\n\\nStep 5: Adjust Therapy (as needed)\\n\\n* Adjust antibiotic dosages or switch medications based on the patient's response to treatment.\\n* Provide additional supportive care as needed, such as mechanical ventilation or dialysis.\\n* Consult a specialist if the patient's condition deteriorates or if there are signs of organ failure.\\n\\nThis protocol is based on the latest evidence-based guidelines from reputable medical organizations such as the World Health Organization (WHO), the Centers for Disease Control and Prevention (CDC), and the National Institute for Health and Care Excellence (NICE). It is important to note that this protocol should be tailored to the individual patient's needs and may require modification based on the patient's specific condition and medical history.  \n",
              "1  \\nAccording to The Merck Manual (Nineteenth Edition), the protocol for managing sepsis in a critical care unit involves a multidisciplinary approach that includes early recognition, prompt administration of antibiotics and fluid resuscitation, and close monitoring of vital signs and laboratory values.\\n\\nThe Sepsis-3 definition should be used to diagnose sepsis (1). The clinical criteria for sepsis include suspected or confirmed infection, organ dysfunction, and a high serum lactate level (2).\\n\\nThe first step in managing sepsis is to identify the source of infection and provide appropriate antibiotics. Broad-spectrum antibiotics should be administered as soon as possible, ideally within the first hour of recognition of sepsis (3). The choice of antibiotics should be guided by the suspected pathogen and the patient's allergies and medical history.\\n\\nIn addition to antibiotics, fluid resuscitation is critical in managing sepsis. Crystalloid fluids such as normal saline or lactated Ringer's solution should be administered initially, with the goal of achieving a mean arterial pressure (MAP) of 65 mmHg or higher (4). Vasopressors may be needed to maintain adequate blood pressure if fluid resuscitation is not sufficient.\\n\\nClose monitoring of vital signs and laboratory values is essential in managing sepsis. The patient's temperature, blood pressure, tachycardia, and tachypnea should be monitored regularly, as well as the levels of white blood cell count (WBC), hemoglobin, and serum lactate (5).\\n\\nIn severe sepsis or septic shock, consideration should be given to activating the rapid response team, initiating mechanical ventilation, and administering vasopressors. In addition, early recognition of organ dysfunction and initiation of appropriate supportive care are critical in improving outcomes (6).\\n\\nIn conclusion, the management of sepsis in a critical care unit requires a prompt and multidisciplinary approach that includes early recognition, administration of antibiotics and fluid resuscitation, close monitoring of vital signs and laboratory values, and consideration of supportive care interventions as needed. This protocol should be based on the Sepsis-3 definition and guided by standard medical guidelines such as those from the WHO, CDC, and NICE.\\n\\nReferences:\\n\\n1. Singer M, et al. Definitions for sepsis and organ dysfunction in the intensive care unit. Crit Care Med. 2016;44(1):17-27.\\n2. Levy MM, et al. 2016 Surviving Sepsis Campaign guidelines: executive summary. Crit Care Med. 2016;44(1):17-33.\\n3. Rhodes A, et al. 2017 ESCMID and ECMM joint clinical guidelines for the management of sepsis and organ dysfunction in the intensive care unit. Int J Antimicrob Agents. 2018;51(2):203-248.\\n4. Vincent JL, et al. Consensus on early recognition and optimal management of sepsis in adults, children, and neonates: a joint statement by the American Academy of Pediatrics, the American College of Physicians, and the Society of Critical Care Medicine. Pediatr Crit Care Med. 2014;15(2):189-203.\\n5. Kaukonen KM, et al. Mortality related to sepsis in critically ill patients in European intensive care units: results of the SOAP study. JAMA. 2014;312(13):1309-1316.  \n",
              "2                                                                                                                                                                                                                                                                                                                                                                                                                                                                                                                                                                                                                                                           \\nThis requires specialist consultation. The management of sepsis in a critical care unit should be guided by established clinical practice guidelines such as those from the Surviving Sepsis Campaign (SSC) and the Infectious Diseases Society of America (IDSA). These guidelines provide evidence-based recommendations for early recognition, diagnosis, and treatment of sepsis.\\n\\nIn addition to these guidelines, the following protocol should be followed in a critical care unit:\\n\\n1. Early recognition and prompt administration of antibiotics: The SSC recommends that antibiotics be administered within 1 hour of recognition of sepsis, and that broad-spectrum antibiotics be used as the initial treatment for severe sepsis and septic shock.\\n2. Aggressive fluid resuscitation: Patients with sepsis should receive aggressive fluid resuscitation to restore intravascular volume and maintain mean arterial pressure (MAP) ≥ 65 mmHg.\\n3. Vasopressor administration: Vasopressors should be used to maintain MAP ≥ 65 mmHg in patients with septic shock who are under fluid resuscitation.\\n4. Temperature management: The body temperature of patients with sepsis should be closely monitored and maintained within a normal range (36.5°C - 37.5°C) to prevent hypothermia or hyperthermia.\\n5. Hemodynamic monitoring: Patients with sepsis should be monitored for changes in hemodynamics, including MAP, heart rate, and cardiac index.\\n6. Serial lactate measurement: Lactate levels should be measured serially to assess the effectiveness of treatment and guide further management.\\n7. Early recognition and management of organ dysfunction: Patients with sepsis are at risk for developing organ dysfunction, such as acute kidney injury (AKI), acute respiratory distress syndrome (ARDS), and cardiogenic shock. Early recognition and management of these complications are critical to improving outcomes.\\n8. Multidisciplinary team approach: The management of sepsis in a critical care unit should involve a multidisciplinary team, including intensivists, nurses, respiratory therapists, and other specialists as needed.\\n\\nIn summary, the protocol for managing sepsis in a critical care unit should be guided by established clinical practice guidelines such as those from the SSC and IDSA, and should include early recognition and prompt administration of antibiotics, aggressive fluid resuscitation, vasopressor administration, temperature management, hemodynamic monitoring, serial lactate measurement, early recognition and management of organ dysfunction, and a multidisciplinary team approach.  \n",
              "3                                                                                                                                                                                                                                                                                                                                                                                                                                                                                                                                                                                                                                                                                                                                                                                                                                                                                                                                                                                                                                                                         \\n1. Symptoms/Presentation: Sepsis is a life-threatening organ dysfunction caused by the host's systemic inflammatory response to a pathogen, with signs of organ dysfunction and risk of death. The presentation may vary depending on the underlying infection, but common symptoms include fever, tachycardia, tachypnea, confusion, and hypotension.\\n2. Diagnosis Steps: The diagnosis of sepsis is based on clinical criteria, including systemic inflammatory response syndrome (SIRS) criteria, and laboratory confirmation of an infection. SIRS criteria include body temperature >38°C or <36°C, heart rate >90 beats per minute, respiratory rate >20 breaths per minute, or white blood cell count >12,000 cells/mm3 or <4,000 cells/mm3. Laboratory confirmation of an infection may include blood cultures, urinalysis, or other tests to identify the causative pathogen.\\n3. Treatment Protocol: The treatment of sepsis is based on early recognition and aggressive management of the underlying infection, fluid resuscitation, and supportive care. The Sepsis-3 definition recommends using a clinical algorithm to guide therapy, which includes administering antibiotics within the first hour of recognition of sepsis, and providing vasopressors and mechanical ventilation as needed. Additionally, the use of steroids in sepsis is controversial and should be individualized based on the patient's condition and response to treatment.\\n4. Cautions / Follow-up: Sepsis is a medical emergency that requires prompt recognition and management. Early recognition and treatment can improve outcomes, but delays in diagnosis and treatment can lead to severe organ dysfunction and death. Close monitoring of vital signs, laboratory values, and clinical status is essential to ensure early detection of any changes in the patient's condition. Follow-up care should include ongoing assessment of organ function, management of complications, and addressing any long-term effects of sepsis.\\n\\nNote: This answer is based on the information provided in The Merck Manual (Nineteenth Edition) and is intended as a general guide only. It is not a substitute for specialist consultation or individualized patient care.  \n",
              "4                                                                                                                                                                                                                                                                                                                                                                                                                                                                                                                                                                                                                                                                                                                                                                                                                                                                                                                                                                                                                                         1. Symptoms/Presentation: Sepsis is characterized by systemic inflammation and organ dysfunction, which can lead to signs such as fever, tachycardia, tachypnea, confusion, and hypotension. The presence of sepsis is often indicated by a severe infection, such as pneumonia, urinary tract infection, or bloodstream infection.\\n2. Diagnosis Steps: To diagnose sepsis, the following steps should be taken:\\n* Assess the patient's vital signs, including temperature, blood pressure, tachycardia, and tachypnea.\\n* Check for signs of organ dysfunction, such as altered mental status, respiratory failure, cardiovascular instability, and renal insufficiency.\\n* Obtain blood cultures to identify the source of infection.\\n* Measure serum lactate levels to assess tissue perfusion.\\n* Perform a complete blood count (CBC) to evaluate for leukocytosis or leukopenia.\\n3. Treatment Protocol: The treatment of sepsis should be guided by the Surviving Sepsis Campaign (SSC) guidelines, which recommend the following steps:\\n* Administer broad-spectrum antibiotics as soon as possible, based on the suspected source of infection.\\n* Provide early fluid resuscitation with crystalloids or colloids to maintain mean arterial pressure (MAP) ≥ 65 mmHg.\\n* Consider vasopressors if MAP < 65 mmHg despite fluid resuscitation.\\n* Manage hypotension with vasopressors and mechanical ventilation as needed.\\n* Provide early source control of the infection, such as surgical drainage or debridement.\\n4. Cautions / Follow-up: Patients with sepsis require close monitoring for signs of organ dysfunction and fluid overload. The following cautions should be considered:\\n* Monitor for signs of fluid overload, such as pulmonary edema or ascites.\\n* Avoid excessive fluid administration to prevent fluid overload.\\n* Be cautious when administering vasopressors, as they can cause cardiovascular instability.\\n* Follow up with serial assessments of organ function and fluid status to adjust treatment as needed.\\n\\nNote: This information is based on the Surviving Sepsis Campaign (SSC) guidelines and the Merck Manual (Nineteenth Edition). However, this requires specialist consultation for specific guidance tailored to each patient's needs.  \n",
              "5                                                                                                                                                                                                                                                                                                                                                                                                                                                                                                                                                                                                                                                                                                                                                                                                                                                                                                                                                                                                                                                                                                                                                                                                                                                                                                                                                                                                                                                                                                                                                                                                                                                                                                                                                                                                                              \\n1. Symptoms/Presentation: Sepsis is a systemic inflammatory response to an infection, characterized by fever, tachycardia, tachypnea, and signs of organ dysfunction (e.g., altered mentation, confusion, or renal failure).\\n2. Diagnosis Steps: Confirm the presence of an infection and identify its source. Look for signs of organ dysfunction, such as abnormal lab values (e.g., WBC count, creatinine, blood urea nitrogen) and changes in vital signs (e.g., tachycardia, tachypnea).\\n3. Treatment Protocol: Administer broad-spectrum antibiotics and fluid resuscitation promptly. Use vasopressors to maintain mean arterial pressure ≥65 mmHg if systolic blood pressure is <90 mmHg despite fluid resuscitation. Consider corticosteroids for severe sepsis or septic shock. Monitor for signs of organ dysfunction and adjust therapy accordingly.\\n4. Cautions/Follow-up: Closely monitor the patient's condition, including vital signs, laboratory values, and signs of organ dysfunction. Consider escalating therapy if there is no improvement within 24-48 hours or if the patient develops shock. Consult a critical care specialist or pulmonologist for guidance on managing severe sepsis or septic shock.\\n\\nNote: This answer is based on the 2019 Surviving Sepsis Campaign guidelines, which are widely accepted as the standard of care for sepsis management. However, if there is any uncertainty or variation in local practice, consultation with a specialist is advisable.  "
            ],
            "text/html": [
              "\n",
              "  <div id=\"df-0e22e1bb-6c5d-42e2-bcda-e2b65920808a\" class=\"colab-df-container\">\n",
              "    <div>\n",
              "<style scoped>\n",
              "    .dataframe tbody tr th:only-of-type {\n",
              "        vertical-align: middle;\n",
              "    }\n",
              "\n",
              "    .dataframe tbody tr th {\n",
              "        vertical-align: top;\n",
              "    }\n",
              "\n",
              "    .dataframe thead th {\n",
              "        text-align: right;\n",
              "    }\n",
              "</style>\n",
              "<table border=\"1\" class=\"dataframe\">\n",
              "  <thead>\n",
              "    <tr style=\"text-align: right;\">\n",
              "      <th></th>\n",
              "      <th>question</th>\n",
              "      <th>prompt_variant</th>\n",
              "      <th>params</th>\n",
              "      <th>answer</th>\n",
              "    </tr>\n",
              "  </thead>\n",
              "  <tbody>\n",
              "    <tr>\n",
              "      <th>0</th>\n",
              "      <td>What is the protocol for managing sepsis in a critical care unit?</td>\n",
              "      <td>0</td>\n",
              "      <td>{'temperature': 0.2, 'top_p': 0.9, 'top_k': 40, 'max_tokens': 1024}</td>\n",
              "      <td>\\nAccording to The Merck Manual (Nineteenth Edition), the management of sepsis in a critical care unit involves a multidisciplinary approach that includes early recognition, prompt administration of antibiotics and supportive care, and close monitoring of vital signs and laboratory results. Here is a step-by-step protocol for managing sepsis in a critical care unit:\\n\\nStep 1: Early Recognition (within 1 hour)\\n\\n* Assess the patient's vital signs, including temperature, blood pressure, tachycardia, and tachypnea.\\n* Check for signs of infection, such as fever, chills, or purulent drainage.\\n* Evaluate the patient's level of consciousness and mental status.\\n\\nStep 2: Administration of Antibiotics (within 1 hour)\\n\\n* Administer broad-spectrum antibiotics effective against common causes of sepsis, such as Gram-positive and Gram-negative bacteria, and fungi.\\n* Use a loading dose of antibiotics followed by maintenance doses every 8-12 hours.\\n* Monitor the patient's response to antibiotics and adjust the dosage or switch medications as needed.\\n\\nStep 3: Supportive Care (within 1 hour)\\n\\n* Provide oxygen therapy to maintain oxygen saturation levels above 90%.\\n* Administer fluids and electrolytes to maintain hydration and prevent hypovolemia.\\n* Monitor the patient's blood glucose levels and administer insulin or dextrose as needed.\\n* Use a vasopressor to maintain mean arterial pressure (MAP) above 65 mmHg if the patient is hypotensive.\\n\\nStep 4: Close Monitoring (every 2-4 hours)\\n\\n* Assess the patient's vital signs, including temperature, blood pressure, tachycardia, and tachypnea.\\n* Check for signs of organ dysfunction, such as altered mental status, respiratory distress, or renal failure.\\n* Monitor the patient's laboratory results, including white blood cell count, serum creatinine, and blood urea nitrogen.\\n\\nStep 5: Adjust Therapy (as needed)\\n\\n* Adjust antibiotic dosages or switch medications based on the patient's response to treatment.\\n* Provide additional supportive care as needed, such as mechanical ventilation or dialysis.\\n* Consult a specialist if the patient's condition deteriorates or if there are signs of organ failure.\\n\\nThis protocol is based on the latest evidence-based guidelines from reputable medical organizations such as the World Health Organization (WHO), the Centers for Disease Control and Prevention (CDC), and the National Institute for Health and Care Excellence (NICE). It is important to note that this protocol should be tailored to the individual patient's needs and may require modification based on the patient's specific condition and medical history.</td>\n",
              "    </tr>\n",
              "    <tr>\n",
              "      <th>1</th>\n",
              "      <td>What is the protocol for managing sepsis in a critical care unit?</td>\n",
              "      <td>0</td>\n",
              "      <td>{'temperature': 0.5, 'top_p': 0.8, 'top_k': 20, 'max_tokens': 1024}</td>\n",
              "      <td>\\nAccording to The Merck Manual (Nineteenth Edition), the protocol for managing sepsis in a critical care unit involves a multidisciplinary approach that includes early recognition, prompt administration of antibiotics and fluid resuscitation, and close monitoring of vital signs and laboratory values.\\n\\nThe Sepsis-3 definition should be used to diagnose sepsis (1). The clinical criteria for sepsis include suspected or confirmed infection, organ dysfunction, and a high serum lactate level (2).\\n\\nThe first step in managing sepsis is to identify the source of infection and provide appropriate antibiotics. Broad-spectrum antibiotics should be administered as soon as possible, ideally within the first hour of recognition of sepsis (3). The choice of antibiotics should be guided by the suspected pathogen and the patient's allergies and medical history.\\n\\nIn addition to antibiotics, fluid resuscitation is critical in managing sepsis. Crystalloid fluids such as normal saline or lactated Ringer's solution should be administered initially, with the goal of achieving a mean arterial pressure (MAP) of 65 mmHg or higher (4). Vasopressors may be needed to maintain adequate blood pressure if fluid resuscitation is not sufficient.\\n\\nClose monitoring of vital signs and laboratory values is essential in managing sepsis. The patient's temperature, blood pressure, tachycardia, and tachypnea should be monitored regularly, as well as the levels of white blood cell count (WBC), hemoglobin, and serum lactate (5).\\n\\nIn severe sepsis or septic shock, consideration should be given to activating the rapid response team, initiating mechanical ventilation, and administering vasopressors. In addition, early recognition of organ dysfunction and initiation of appropriate supportive care are critical in improving outcomes (6).\\n\\nIn conclusion, the management of sepsis in a critical care unit requires a prompt and multidisciplinary approach that includes early recognition, administration of antibiotics and fluid resuscitation, close monitoring of vital signs and laboratory values, and consideration of supportive care interventions as needed. This protocol should be based on the Sepsis-3 definition and guided by standard medical guidelines such as those from the WHO, CDC, and NICE.\\n\\nReferences:\\n\\n1. Singer M, et al. Definitions for sepsis and organ dysfunction in the intensive care unit. Crit Care Med. 2016;44(1):17-27.\\n2. Levy MM, et al. 2016 Surviving Sepsis Campaign guidelines: executive summary. Crit Care Med. 2016;44(1):17-33.\\n3. Rhodes A, et al. 2017 ESCMID and ECMM joint clinical guidelines for the management of sepsis and organ dysfunction in the intensive care unit. Int J Antimicrob Agents. 2018;51(2):203-248.\\n4. Vincent JL, et al. Consensus on early recognition and optimal management of sepsis in adults, children, and neonates: a joint statement by the American Academy of Pediatrics, the American College of Physicians, and the Society of Critical Care Medicine. Pediatr Crit Care Med. 2014;15(2):189-203.\\n5. Kaukonen KM, et al. Mortality related to sepsis in critically ill patients in European intensive care units: results of the SOAP study. JAMA. 2014;312(13):1309-1316.</td>\n",
              "    </tr>\n",
              "    <tr>\n",
              "      <th>2</th>\n",
              "      <td>What is the protocol for managing sepsis in a critical care unit?</td>\n",
              "      <td>0</td>\n",
              "      <td>{'temperature': 0.7, 'top_p': 0.95, 'top_k': 50, 'max_tokens': 1024}</td>\n",
              "      <td>\\nThis requires specialist consultation. The management of sepsis in a critical care unit should be guided by established clinical practice guidelines such as those from the Surviving Sepsis Campaign (SSC) and the Infectious Diseases Society of America (IDSA). These guidelines provide evidence-based recommendations for early recognition, diagnosis, and treatment of sepsis.\\n\\nIn addition to these guidelines, the following protocol should be followed in a critical care unit:\\n\\n1. Early recognition and prompt administration of antibiotics: The SSC recommends that antibiotics be administered within 1 hour of recognition of sepsis, and that broad-spectrum antibiotics be used as the initial treatment for severe sepsis and septic shock.\\n2. Aggressive fluid resuscitation: Patients with sepsis should receive aggressive fluid resuscitation to restore intravascular volume and maintain mean arterial pressure (MAP) ≥ 65 mmHg.\\n3. Vasopressor administration: Vasopressors should be used to maintain MAP ≥ 65 mmHg in patients with septic shock who are under fluid resuscitation.\\n4. Temperature management: The body temperature of patients with sepsis should be closely monitored and maintained within a normal range (36.5°C - 37.5°C) to prevent hypothermia or hyperthermia.\\n5. Hemodynamic monitoring: Patients with sepsis should be monitored for changes in hemodynamics, including MAP, heart rate, and cardiac index.\\n6. Serial lactate measurement: Lactate levels should be measured serially to assess the effectiveness of treatment and guide further management.\\n7. Early recognition and management of organ dysfunction: Patients with sepsis are at risk for developing organ dysfunction, such as acute kidney injury (AKI), acute respiratory distress syndrome (ARDS), and cardiogenic shock. Early recognition and management of these complications are critical to improving outcomes.\\n8. Multidisciplinary team approach: The management of sepsis in a critical care unit should involve a multidisciplinary team, including intensivists, nurses, respiratory therapists, and other specialists as needed.\\n\\nIn summary, the protocol for managing sepsis in a critical care unit should be guided by established clinical practice guidelines such as those from the SSC and IDSA, and should include early recognition and prompt administration of antibiotics, aggressive fluid resuscitation, vasopressor administration, temperature management, hemodynamic monitoring, serial lactate measurement, early recognition and management of organ dysfunction, and a multidisciplinary team approach.</td>\n",
              "    </tr>\n",
              "    <tr>\n",
              "      <th>3</th>\n",
              "      <td>What is the protocol for managing sepsis in a critical care unit?</td>\n",
              "      <td>1</td>\n",
              "      <td>{'temperature': 0.2, 'top_p': 0.9, 'top_k': 40, 'max_tokens': 1024}</td>\n",
              "      <td>\\n1. Symptoms/Presentation: Sepsis is a life-threatening organ dysfunction caused by the host's systemic inflammatory response to a pathogen, with signs of organ dysfunction and risk of death. The presentation may vary depending on the underlying infection, but common symptoms include fever, tachycardia, tachypnea, confusion, and hypotension.\\n2. Diagnosis Steps: The diagnosis of sepsis is based on clinical criteria, including systemic inflammatory response syndrome (SIRS) criteria, and laboratory confirmation of an infection. SIRS criteria include body temperature &gt;38°C or &lt;36°C, heart rate &gt;90 beats per minute, respiratory rate &gt;20 breaths per minute, or white blood cell count &gt;12,000 cells/mm3 or &lt;4,000 cells/mm3. Laboratory confirmation of an infection may include blood cultures, urinalysis, or other tests to identify the causative pathogen.\\n3. Treatment Protocol: The treatment of sepsis is based on early recognition and aggressive management of the underlying infection, fluid resuscitation, and supportive care. The Sepsis-3 definition recommends using a clinical algorithm to guide therapy, which includes administering antibiotics within the first hour of recognition of sepsis, and providing vasopressors and mechanical ventilation as needed. Additionally, the use of steroids in sepsis is controversial and should be individualized based on the patient's condition and response to treatment.\\n4. Cautions / Follow-up: Sepsis is a medical emergency that requires prompt recognition and management. Early recognition and treatment can improve outcomes, but delays in diagnosis and treatment can lead to severe organ dysfunction and death. Close monitoring of vital signs, laboratory values, and clinical status is essential to ensure early detection of any changes in the patient's condition. Follow-up care should include ongoing assessment of organ function, management of complications, and addressing any long-term effects of sepsis.\\n\\nNote: This answer is based on the information provided in The Merck Manual (Nineteenth Edition) and is intended as a general guide only. It is not a substitute for specialist consultation or individualized patient care.</td>\n",
              "    </tr>\n",
              "    <tr>\n",
              "      <th>4</th>\n",
              "      <td>What is the protocol for managing sepsis in a critical care unit?</td>\n",
              "      <td>1</td>\n",
              "      <td>{'temperature': 0.5, 'top_p': 0.8, 'top_k': 20, 'max_tokens': 1024}</td>\n",
              "      <td>1. Symptoms/Presentation: Sepsis is characterized by systemic inflammation and organ dysfunction, which can lead to signs such as fever, tachycardia, tachypnea, confusion, and hypotension. The presence of sepsis is often indicated by a severe infection, such as pneumonia, urinary tract infection, or bloodstream infection.\\n2. Diagnosis Steps: To diagnose sepsis, the following steps should be taken:\\n* Assess the patient's vital signs, including temperature, blood pressure, tachycardia, and tachypnea.\\n* Check for signs of organ dysfunction, such as altered mental status, respiratory failure, cardiovascular instability, and renal insufficiency.\\n* Obtain blood cultures to identify the source of infection.\\n* Measure serum lactate levels to assess tissue perfusion.\\n* Perform a complete blood count (CBC) to evaluate for leukocytosis or leukopenia.\\n3. Treatment Protocol: The treatment of sepsis should be guided by the Surviving Sepsis Campaign (SSC) guidelines, which recommend the following steps:\\n* Administer broad-spectrum antibiotics as soon as possible, based on the suspected source of infection.\\n* Provide early fluid resuscitation with crystalloids or colloids to maintain mean arterial pressure (MAP) ≥ 65 mmHg.\\n* Consider vasopressors if MAP &lt; 65 mmHg despite fluid resuscitation.\\n* Manage hypotension with vasopressors and mechanical ventilation as needed.\\n* Provide early source control of the infection, such as surgical drainage or debridement.\\n4. Cautions / Follow-up: Patients with sepsis require close monitoring for signs of organ dysfunction and fluid overload. The following cautions should be considered:\\n* Monitor for signs of fluid overload, such as pulmonary edema or ascites.\\n* Avoid excessive fluid administration to prevent fluid overload.\\n* Be cautious when administering vasopressors, as they can cause cardiovascular instability.\\n* Follow up with serial assessments of organ function and fluid status to adjust treatment as needed.\\n\\nNote: This information is based on the Surviving Sepsis Campaign (SSC) guidelines and the Merck Manual (Nineteenth Edition). However, this requires specialist consultation for specific guidance tailored to each patient's needs.</td>\n",
              "    </tr>\n",
              "    <tr>\n",
              "      <th>5</th>\n",
              "      <td>What is the protocol for managing sepsis in a critical care unit?</td>\n",
              "      <td>1</td>\n",
              "      <td>{'temperature': 0.7, 'top_p': 0.95, 'top_k': 50, 'max_tokens': 1024}</td>\n",
              "      <td>\\n1. Symptoms/Presentation: Sepsis is a systemic inflammatory response to an infection, characterized by fever, tachycardia, tachypnea, and signs of organ dysfunction (e.g., altered mentation, confusion, or renal failure).\\n2. Diagnosis Steps: Confirm the presence of an infection and identify its source. Look for signs of organ dysfunction, such as abnormal lab values (e.g., WBC count, creatinine, blood urea nitrogen) and changes in vital signs (e.g., tachycardia, tachypnea).\\n3. Treatment Protocol: Administer broad-spectrum antibiotics and fluid resuscitation promptly. Use vasopressors to maintain mean arterial pressure ≥65 mmHg if systolic blood pressure is &lt;90 mmHg despite fluid resuscitation. Consider corticosteroids for severe sepsis or septic shock. Monitor for signs of organ dysfunction and adjust therapy accordingly.\\n4. Cautions/Follow-up: Closely monitor the patient's condition, including vital signs, laboratory values, and signs of organ dysfunction. Consider escalating therapy if there is no improvement within 24-48 hours or if the patient develops shock. Consult a critical care specialist or pulmonologist for guidance on managing severe sepsis or septic shock.\\n\\nNote: This answer is based on the 2019 Surviving Sepsis Campaign guidelines, which are widely accepted as the standard of care for sepsis management. However, if there is any uncertainty or variation in local practice, consultation with a specialist is advisable.</td>\n",
              "    </tr>\n",
              "  </tbody>\n",
              "</table>\n",
              "</div>\n",
              "    <div class=\"colab-df-buttons\">\n",
              "\n",
              "  <div class=\"colab-df-container\">\n",
              "    <button class=\"colab-df-convert\" onclick=\"convertToInteractive('df-0e22e1bb-6c5d-42e2-bcda-e2b65920808a')\"\n",
              "            title=\"Convert this dataframe to an interactive table.\"\n",
              "            style=\"display:none;\">\n",
              "\n",
              "  <svg xmlns=\"http://www.w3.org/2000/svg\" height=\"24px\" viewBox=\"0 -960 960 960\">\n",
              "    <path d=\"M120-120v-720h720v720H120Zm60-500h600v-160H180v160Zm220 220h160v-160H400v160Zm0 220h160v-160H400v160ZM180-400h160v-160H180v160Zm440 0h160v-160H620v160ZM180-180h160v-160H180v160Zm440 0h160v-160H620v160Z\"/>\n",
              "  </svg>\n",
              "    </button>\n",
              "\n",
              "  <style>\n",
              "    .colab-df-container {\n",
              "      display:flex;\n",
              "      gap: 12px;\n",
              "    }\n",
              "\n",
              "    .colab-df-convert {\n",
              "      background-color: #E8F0FE;\n",
              "      border: none;\n",
              "      border-radius: 50%;\n",
              "      cursor: pointer;\n",
              "      display: none;\n",
              "      fill: #1967D2;\n",
              "      height: 32px;\n",
              "      padding: 0 0 0 0;\n",
              "      width: 32px;\n",
              "    }\n",
              "\n",
              "    .colab-df-convert:hover {\n",
              "      background-color: #E2EBFA;\n",
              "      box-shadow: 0px 1px 2px rgba(60, 64, 67, 0.3), 0px 1px 3px 1px rgba(60, 64, 67, 0.15);\n",
              "      fill: #174EA6;\n",
              "    }\n",
              "\n",
              "    .colab-df-buttons div {\n",
              "      margin-bottom: 4px;\n",
              "    }\n",
              "\n",
              "    [theme=dark] .colab-df-convert {\n",
              "      background-color: #3B4455;\n",
              "      fill: #D2E3FC;\n",
              "    }\n",
              "\n",
              "    [theme=dark] .colab-df-convert:hover {\n",
              "      background-color: #434B5C;\n",
              "      box-shadow: 0px 1px 3px 1px rgba(0, 0, 0, 0.15);\n",
              "      filter: drop-shadow(0px 1px 2px rgba(0, 0, 0, 0.3));\n",
              "      fill: #FFFFFF;\n",
              "    }\n",
              "  </style>\n",
              "\n",
              "    <script>\n",
              "      const buttonEl =\n",
              "        document.querySelector('#df-0e22e1bb-6c5d-42e2-bcda-e2b65920808a button.colab-df-convert');\n",
              "      buttonEl.style.display =\n",
              "        google.colab.kernel.accessAllowed ? 'block' : 'none';\n",
              "\n",
              "      async function convertToInteractive(key) {\n",
              "        const element = document.querySelector('#df-0e22e1bb-6c5d-42e2-bcda-e2b65920808a');\n",
              "        const dataTable =\n",
              "          await google.colab.kernel.invokeFunction('convertToInteractive',\n",
              "                                                    [key], {});\n",
              "        if (!dataTable) return;\n",
              "\n",
              "        const docLinkHtml = 'Like what you see? Visit the ' +\n",
              "          '<a target=\"_blank\" href=https://colab.research.google.com/notebooks/data_table.ipynb>data table notebook</a>'\n",
              "          + ' to learn more about interactive tables.';\n",
              "        element.innerHTML = '';\n",
              "        dataTable['output_type'] = 'display_data';\n",
              "        await google.colab.output.renderOutput(dataTable, element);\n",
              "        const docLink = document.createElement('div');\n",
              "        docLink.innerHTML = docLinkHtml;\n",
              "        element.appendChild(docLink);\n",
              "      }\n",
              "    </script>\n",
              "  </div>\n",
              "\n",
              "\n",
              "    <div id=\"df-01472d23-78ed-4488-aa15-260524a8e4dd\">\n",
              "      <button class=\"colab-df-quickchart\" onclick=\"quickchart('df-01472d23-78ed-4488-aa15-260524a8e4dd')\"\n",
              "                title=\"Suggest charts\"\n",
              "                style=\"display:none;\">\n",
              "\n",
              "<svg xmlns=\"http://www.w3.org/2000/svg\" height=\"24px\"viewBox=\"0 0 24 24\"\n",
              "     width=\"24px\">\n",
              "    <g>\n",
              "        <path d=\"M19 3H5c-1.1 0-2 .9-2 2v14c0 1.1.9 2 2 2h14c1.1 0 2-.9 2-2V5c0-1.1-.9-2-2-2zM9 17H7v-7h2v7zm4 0h-2V7h2v10zm4 0h-2v-4h2v4z\"/>\n",
              "    </g>\n",
              "</svg>\n",
              "      </button>\n",
              "\n",
              "<style>\n",
              "  .colab-df-quickchart {\n",
              "      --bg-color: #E8F0FE;\n",
              "      --fill-color: #1967D2;\n",
              "      --hover-bg-color: #E2EBFA;\n",
              "      --hover-fill-color: #174EA6;\n",
              "      --disabled-fill-color: #AAA;\n",
              "      --disabled-bg-color: #DDD;\n",
              "  }\n",
              "\n",
              "  [theme=dark] .colab-df-quickchart {\n",
              "      --bg-color: #3B4455;\n",
              "      --fill-color: #D2E3FC;\n",
              "      --hover-bg-color: #434B5C;\n",
              "      --hover-fill-color: #FFFFFF;\n",
              "      --disabled-bg-color: #3B4455;\n",
              "      --disabled-fill-color: #666;\n",
              "  }\n",
              "\n",
              "  .colab-df-quickchart {\n",
              "    background-color: var(--bg-color);\n",
              "    border: none;\n",
              "    border-radius: 50%;\n",
              "    cursor: pointer;\n",
              "    display: none;\n",
              "    fill: var(--fill-color);\n",
              "    height: 32px;\n",
              "    padding: 0;\n",
              "    width: 32px;\n",
              "  }\n",
              "\n",
              "  .colab-df-quickchart:hover {\n",
              "    background-color: var(--hover-bg-color);\n",
              "    box-shadow: 0 1px 2px rgba(60, 64, 67, 0.3), 0 1px 3px 1px rgba(60, 64, 67, 0.15);\n",
              "    fill: var(--button-hover-fill-color);\n",
              "  }\n",
              "\n",
              "  .colab-df-quickchart-complete:disabled,\n",
              "  .colab-df-quickchart-complete:disabled:hover {\n",
              "    background-color: var(--disabled-bg-color);\n",
              "    fill: var(--disabled-fill-color);\n",
              "    box-shadow: none;\n",
              "  }\n",
              "\n",
              "  .colab-df-spinner {\n",
              "    border: 2px solid var(--fill-color);\n",
              "    border-color: transparent;\n",
              "    border-bottom-color: var(--fill-color);\n",
              "    animation:\n",
              "      spin 1s steps(1) infinite;\n",
              "  }\n",
              "\n",
              "  @keyframes spin {\n",
              "    0% {\n",
              "      border-color: transparent;\n",
              "      border-bottom-color: var(--fill-color);\n",
              "      border-left-color: var(--fill-color);\n",
              "    }\n",
              "    20% {\n",
              "      border-color: transparent;\n",
              "      border-left-color: var(--fill-color);\n",
              "      border-top-color: var(--fill-color);\n",
              "    }\n",
              "    30% {\n",
              "      border-color: transparent;\n",
              "      border-left-color: var(--fill-color);\n",
              "      border-top-color: var(--fill-color);\n",
              "      border-right-color: var(--fill-color);\n",
              "    }\n",
              "    40% {\n",
              "      border-color: transparent;\n",
              "      border-right-color: var(--fill-color);\n",
              "      border-top-color: var(--fill-color);\n",
              "    }\n",
              "    60% {\n",
              "      border-color: transparent;\n",
              "      border-right-color: var(--fill-color);\n",
              "    }\n",
              "    80% {\n",
              "      border-color: transparent;\n",
              "      border-right-color: var(--fill-color);\n",
              "      border-bottom-color: var(--fill-color);\n",
              "    }\n",
              "    90% {\n",
              "      border-color: transparent;\n",
              "      border-bottom-color: var(--fill-color);\n",
              "    }\n",
              "  }\n",
              "</style>\n",
              "\n",
              "      <script>\n",
              "        async function quickchart(key) {\n",
              "          const quickchartButtonEl =\n",
              "            document.querySelector('#' + key + ' button');\n",
              "          quickchartButtonEl.disabled = true;  // To prevent multiple clicks.\n",
              "          quickchartButtonEl.classList.add('colab-df-spinner');\n",
              "          try {\n",
              "            const charts = await google.colab.kernel.invokeFunction(\n",
              "                'suggestCharts', [key], {});\n",
              "          } catch (error) {\n",
              "            console.error('Error during call to suggestCharts:', error);\n",
              "          }\n",
              "          quickchartButtonEl.classList.remove('colab-df-spinner');\n",
              "          quickchartButtonEl.classList.add('colab-df-quickchart-complete');\n",
              "        }\n",
              "        (() => {\n",
              "          let quickchartButtonEl =\n",
              "            document.querySelector('#df-01472d23-78ed-4488-aa15-260524a8e4dd button');\n",
              "          quickchartButtonEl.style.display =\n",
              "            google.colab.kernel.accessAllowed ? 'block' : 'none';\n",
              "        })();\n",
              "      </script>\n",
              "    </div>\n",
              "\n",
              "    </div>\n",
              "  </div>\n"
            ],
            "application/vnd.google.colaboratory.intrinsic+json": {
              "type": "dataframe",
              "variable_name": "df",
              "summary": "{\n  \"name\": \"df\",\n  \"rows\": 30,\n  \"fields\": [\n    {\n      \"column\": \"question\",\n      \"properties\": {\n        \"dtype\": \"category\",\n        \"num_unique_values\": 5,\n        \"samples\": [\n          \"What are the common symptoms for appendicitis, and can it be cured via medicine? If not, what surgical procedure should be followed to treat it?\",\n          \"What are the necessary precautions and treatment steps for a person who has fractured their leg during a hiking trip, and what should be considered for their care and recovery?\",\n          \"What are the effective treatments or solutions for addressing sudden patchy hair loss, commonly seen as localized bald spots on the scalp, and what could be the possible causes behind it?\"\n        ],\n        \"semantic_type\": \"\",\n        \"description\": \"\"\n      }\n    },\n    {\n      \"column\": \"prompt_variant\",\n      \"properties\": {\n        \"dtype\": \"number\",\n        \"std\": 0,\n        \"min\": 0,\n        \"max\": 1,\n        \"num_unique_values\": 2,\n        \"samples\": [\n          1,\n          0\n        ],\n        \"semantic_type\": \"\",\n        \"description\": \"\"\n      }\n    },\n    {\n      \"column\": \"params\",\n      \"properties\": {\n        \"dtype\": \"object\",\n        \"semantic_type\": \"\",\n        \"description\": \"\"\n      }\n    },\n    {\n      \"column\": \"answer\",\n      \"properties\": {\n        \"dtype\": \"string\",\n        \"num_unique_values\": 30,\n        \"samples\": [\n          \"\\n1. Symptoms/Presentation: A person with a fractured leg may experience severe pain, swelling, bruising, and difficulty moving the affected limb. They may also have an open wound or deformity if the bone is displaced.\\n2. Diagnosis Steps: The diagnosis of a fractured leg should be confirmed by X-ray imaging. Other injuries such as nerve or blood vessel damage should also be ruled out.\\n3. Treatment Protocol: Immobilization of the affected limb with a splint, cast, or brace is essential to promote healing and prevent further injury. Pain management with medication is crucial to ensure the patient's comfort and mobility. In some cases, surgical intervention may be necessary to realign and stabilize the bone.\\n4. Cautions / Follow-up: The patient should be monitored for signs of infection, such as redness, swelling, or increased pain. They should also be advised to avoid putting weight on the affected limb and to follow a rehabilitation program to regain strength and mobility. Regular follow-up appointments with a healthcare provider are necessary to assess progress and address any complications.\\n\\nNote: This answer is based on general information and not specific medical advice. A qualified healthcare professional should be consulted for individualized care and treatment.\",\n          \"\\n1. Symptoms/Presentation: Sudden patchy hair loss, also known as alopecia areata, typically presents with well-defined, smooth, round or oval bald patches on the scalp. The affected areas may be devoid of any inflammation or scarring. Hair loss may be partial or total, and can occur suddenly or gradually over time.\\n2. Diagnosis Steps: To diagnose sudden patchy hair loss, a thorough medical history and physical examination are essential. A dermatologist may perform a scalp biopsy to rule out other conditions such as psoriasis or eczema. Blood tests may be ordered to check for thyroid disorders, autoimmune diseases, or anemia.\\n3. Treatment Protocol: The treatment approach for sudden patchy hair loss depends on the underlying cause and severity of the condition. In mild cases, watchful waiting with close monitoring may be recommended. Topical corticosteroids, minoxidil, and anthralin may be prescribed for localized application to promote hair growth and reduce inflammation. In severe cases, oral medications such as prednisone or cyclosporine may be necessary to suppress the immune system and promote hair regrowth.\\n4. Cautions / Follow-up: Sudden patchy hair loss can be a symptom of an underlying autoimmune disease, so it is essential to monitor for any signs of systemic involvement. Patients with a history of allergies or autoimmune disorders should be closely monitored for any adverse reactions to medications. Follow-up appointments every 2-3 months are recommended to assess the effectiveness of treatment and monitor for any changes in the condition. If there is no improvement after 6-12 months, a change in treatment approach may be necessary.\\n\\nNote: This requires specialist consultation.\"\n        ],\n        \"semantic_type\": \"\",\n        \"description\": \"\"\n      }\n    }\n  ]\n}"
            }
          },
          "metadata": {},
          "execution_count": 13
        }
      ]
    },
    {
      "cell_type": "code",
      "source": [
        "#answers_df = pd.read_pickle(file_path)"
      ],
      "metadata": {
        "id": "8YMs-N9rYhre"
      },
      "execution_count": null,
      "outputs": []
    },
    {
      "cell_type": "code",
      "source": [
        "answers_df = df.copy()"
      ],
      "metadata": {
        "id": "i_IrZfTopexF"
      },
      "execution_count": null,
      "outputs": []
    },
    {
      "cell_type": "markdown",
      "metadata": {
        "id": "9Jg3r_LWOeff"
      },
      "source": [
        "### Query 1: What is the protocol for managing sepsis in a critical care unit?"
      ]
    },
    {
      "cell_type": "markdown",
      "source": [
        "#### Evidence based prompt"
      ],
      "metadata": {
        "id": "EjQgur-Yjf5g"
      }
    },
    {
      "cell_type": "markdown",
      "source": [
        "**Parameter Combination**\n",
        " - temperature: 0.2, top_p: 0.9, top_k: 40, max_tokens: 1024 **(Very factual, less diverse. Useful for guidelines)**\n"
      ],
      "metadata": {
        "id": "RqNne2hDj88Y"
      }
    },
    {
      "cell_type": "code",
      "execution_count": null,
      "metadata": {
        "id": "YqM4VMw5ROhX",
        "colab": {
          "base_uri": "https://localhost:8080/"
        },
        "outputId": "296931c2-63d2-4fba-de88-4ffb81befefe"
      },
      "outputs": [
        {
          "output_type": "stream",
          "name": "stdout",
          "text": [
            "\n",
            "According to The Merck Manual (Nineteenth Edition), the management of sepsis in a critical care unit involves a multidisciplinary approach that includes early recognition, prompt administration of antibiotics and supportive care, and close monitoring of vital signs and laboratory results. Here is a step-by-step protocol for managing sepsis in a critical care unit:\n",
            "\n",
            "Step 1: Early Recognition (within 1 hour)\n",
            "\n",
            "* Assess the patient's vital signs, including temperature, blood pressure, tachycardia, and tachypnea.\n",
            "* Check for signs of infection, such as fever, chills, or purulent drainage.\n",
            "* Evaluate the patient's level of consciousness and mental status.\n",
            "\n",
            "Step 2: Administration of Antibiotics (within 1 hour)\n",
            "\n",
            "* Administer broad-spectrum antibiotics effective against common causes of sepsis, such as Gram-positive and Gram-negative bacteria, and fungi.\n",
            "* Use a loading dose of antibiotics followed by maintenance doses every 8-12 hours.\n",
            "* Monitor the patient's response to antibiotics and adjust the dosage or switch medications as needed.\n",
            "\n",
            "Step 3: Supportive Care (within 1 hour)\n",
            "\n",
            "* Provide oxygen therapy to maintain oxygen saturation levels above 90%.\n",
            "* Administer fluids and electrolytes to maintain hydration and prevent hypovolemia.\n",
            "* Monitor the patient's blood glucose levels and administer insulin or dextrose as needed.\n",
            "* Use a vasopressor to maintain mean arterial pressure (MAP) above 65 mmHg if the patient is hypotensive.\n",
            "\n",
            "Step 4: Close Monitoring (every 2-4 hours)\n",
            "\n",
            "* Assess the patient's vital signs, including temperature, blood pressure, tachycardia, and tachypnea.\n",
            "* Check for signs of organ dysfunction, such as altered mental status, respiratory distress, or renal failure.\n",
            "* Monitor the patient's laboratory results, including white blood cell count, serum creatinine, and blood urea nitrogen.\n",
            "\n",
            "Step 5: Adjust Therapy (as needed)\n",
            "\n",
            "* Adjust antibiotic dosages or switch medications based on the patient's response to treatment.\n",
            "* Provide additional supportive care as needed, such as mechanical ventilation or dialysis.\n",
            "* Consult a specialist if the patient's condition deteriorates or if there are signs of organ failure.\n",
            "\n",
            "This protocol is based on the latest evidence-based guidelines from reputable medical organizations such as the World Health Organization (WHO), the Centers for Disease Control and Prevention (CDC), and the National Institute for Health and Care Excellence (NICE). It is important to note that this protocol should be tailored to the individual patient's needs and may require modification based on the patient's specific condition and medical history.\n"
          ]
        }
      ],
      "source": [
        "row = answers_df[(answers_df['question'] == 'What is the protocol for managing sepsis in a critical care unit?') & (answers_df['prompt_variant'] == 0) & (answers_df['params'] == param_combos[0])]\n",
        "print(row['answer'].values[0])"
      ]
    },
    {
      "cell_type": "markdown",
      "source": [
        "**Parameter Combination**\n",
        " - temperature: 0.5, top_p: 0.8, top_k: 20, max_tokens: 1024 (**Balanced reasoning**)"
      ],
      "metadata": {
        "id": "EOWs7A3skMFZ"
      }
    },
    {
      "cell_type": "code",
      "source": [
        "row = answers_df[(answers_df['question'] == 'What is the protocol for managing sepsis in a critical care unit?') & (answers_df['prompt_variant'] == 0) & (answers_df['params'] == param_combos[1])]\n",
        "print(row['answer'].values[0])"
      ],
      "metadata": {
        "colab": {
          "base_uri": "https://localhost:8080/"
        },
        "id": "qjrLBDwykMgL",
        "outputId": "a6ab65d1-2cd9-4d29-9eb1-fe0ef9da7615"
      },
      "execution_count": null,
      "outputs": [
        {
          "output_type": "stream",
          "name": "stdout",
          "text": [
            "\n",
            "According to The Merck Manual (Nineteenth Edition), the protocol for managing sepsis in a critical care unit involves a multidisciplinary approach that includes early recognition, prompt administration of antibiotics and fluid resuscitation, and close monitoring of vital signs and laboratory values.\n",
            "\n",
            "The Sepsis-3 definition should be used to diagnose sepsis (1). The clinical criteria for sepsis include suspected or confirmed infection, organ dysfunction, and a high serum lactate level (2).\n",
            "\n",
            "The first step in managing sepsis is to identify the source of infection and provide appropriate antibiotics. Broad-spectrum antibiotics should be administered as soon as possible, ideally within the first hour of recognition of sepsis (3). The choice of antibiotics should be guided by the suspected pathogen and the patient's allergies and medical history.\n",
            "\n",
            "In addition to antibiotics, fluid resuscitation is critical in managing sepsis. Crystalloid fluids such as normal saline or lactated Ringer's solution should be administered initially, with the goal of achieving a mean arterial pressure (MAP) of 65 mmHg or higher (4). Vasopressors may be needed to maintain adequate blood pressure if fluid resuscitation is not sufficient.\n",
            "\n",
            "Close monitoring of vital signs and laboratory values is essential in managing sepsis. The patient's temperature, blood pressure, tachycardia, and tachypnea should be monitored regularly, as well as the levels of white blood cell count (WBC), hemoglobin, and serum lactate (5).\n",
            "\n",
            "In severe sepsis or septic shock, consideration should be given to activating the rapid response team, initiating mechanical ventilation, and administering vasopressors. In addition, early recognition of organ dysfunction and initiation of appropriate supportive care are critical in improving outcomes (6).\n",
            "\n",
            "In conclusion, the management of sepsis in a critical care unit requires a prompt and multidisciplinary approach that includes early recognition, administration of antibiotics and fluid resuscitation, close monitoring of vital signs and laboratory values, and consideration of supportive care interventions as needed. This protocol should be based on the Sepsis-3 definition and guided by standard medical guidelines such as those from the WHO, CDC, and NICE.\n",
            "\n",
            "References:\n",
            "\n",
            "1. Singer M, et al. Definitions for sepsis and organ dysfunction in the intensive care unit. Crit Care Med. 2016;44(1):17-27.\n",
            "2. Levy MM, et al. 2016 Surviving Sepsis Campaign guidelines: executive summary. Crit Care Med. 2016;44(1):17-33.\n",
            "3. Rhodes A, et al. 2017 ESCMID and ECMM joint clinical guidelines for the management of sepsis and organ dysfunction in the intensive care unit. Int J Antimicrob Agents. 2018;51(2):203-248.\n",
            "4. Vincent JL, et al. Consensus on early recognition and optimal management of sepsis in adults, children, and neonates: a joint statement by the American Academy of Pediatrics, the American College of Physicians, and the Society of Critical Care Medicine. Pediatr Crit Care Med. 2014;15(2):189-203.\n",
            "5. Kaukonen KM, et al. Mortality related to sepsis in critically ill patients in European intensive care units: results of the SOAP study. JAMA. 2014;312(13):1309-1316.\n"
          ]
        }
      ]
    },
    {
      "cell_type": "markdown",
      "source": [
        "**Parameter Combination**\n",
        " - temperature: 0.7, top_p: 0.95, top_k: 50, max_tokens: 1024 (**Fluent, accurate, flexible**)"
      ],
      "metadata": {
        "id": "EpL7iCrplOI-"
      }
    },
    {
      "cell_type": "code",
      "source": [
        "row = answers_df[(answers_df['question'] == 'What is the protocol for managing sepsis in a critical care unit?') & (answers_df['prompt_variant'] == 0) & (answers_df['params'] == param_combos[2])]\n",
        "print(row['answer'].values[0])"
      ],
      "metadata": {
        "colab": {
          "base_uri": "https://localhost:8080/"
        },
        "id": "xyqJO3aplhZz",
        "outputId": "0876c62f-0c23-43fa-8b6c-a94327419ac3"
      },
      "execution_count": null,
      "outputs": [
        {
          "output_type": "stream",
          "name": "stdout",
          "text": [
            "\n",
            "This requires specialist consultation. The management of sepsis in a critical care unit should be guided by established clinical practice guidelines such as those from the Surviving Sepsis Campaign (SSC) and the Infectious Diseases Society of America (IDSA). These guidelines provide evidence-based recommendations for early recognition, diagnosis, and treatment of sepsis.\n",
            "\n",
            "In addition to these guidelines, the following protocol should be followed in a critical care unit:\n",
            "\n",
            "1. Early recognition and prompt administration of antibiotics: The SSC recommends that antibiotics be administered within 1 hour of recognition of sepsis, and that broad-spectrum antibiotics be used as the initial treatment for severe sepsis and septic shock.\n",
            "2. Aggressive fluid resuscitation: Patients with sepsis should receive aggressive fluid resuscitation to restore intravascular volume and maintain mean arterial pressure (MAP) ≥ 65 mmHg.\n",
            "3. Vasopressor administration: Vasopressors should be used to maintain MAP ≥ 65 mmHg in patients with septic shock who are under fluid resuscitation.\n",
            "4. Temperature management: The body temperature of patients with sepsis should be closely monitored and maintained within a normal range (36.5°C - 37.5°C) to prevent hypothermia or hyperthermia.\n",
            "5. Hemodynamic monitoring: Patients with sepsis should be monitored for changes in hemodynamics, including MAP, heart rate, and cardiac index.\n",
            "6. Serial lactate measurement: Lactate levels should be measured serially to assess the effectiveness of treatment and guide further management.\n",
            "7. Early recognition and management of organ dysfunction: Patients with sepsis are at risk for developing organ dysfunction, such as acute kidney injury (AKI), acute respiratory distress syndrome (ARDS), and cardiogenic shock. Early recognition and management of these complications are critical to improving outcomes.\n",
            "8. Multidisciplinary team approach: The management of sepsis in a critical care unit should involve a multidisciplinary team, including intensivists, nurses, respiratory therapists, and other specialists as needed.\n",
            "\n",
            "In summary, the protocol for managing sepsis in a critical care unit should be guided by established clinical practice guidelines such as those from the SSC and IDSA, and should include early recognition and prompt administration of antibiotics, aggressive fluid resuscitation, vasopressor administration, temperature management, hemodynamic monitoring, serial lactate measurement, early recognition and management of organ dysfunction, and a multidisciplinary team approach.\n"
          ]
        }
      ]
    },
    {
      "cell_type": "markdown",
      "source": [
        "#### Structured prompt"
      ],
      "metadata": {
        "id": "rSnSOfsgj2Pg"
      }
    },
    {
      "cell_type": "markdown",
      "source": [
        "**Parameter Combination**\n",
        " - temperature: 0.2, top_p: 0.9, top_k: 40, max_tokens: 1024 **(Very factual, less diverse. Useful for guidelines)**"
      ],
      "metadata": {
        "id": "uyYo3E0Nl7w8"
      }
    },
    {
      "cell_type": "code",
      "source": [
        "row = answers_df[(answers_df['question'] == 'What is the protocol for managing sepsis in a critical care unit?') & (answers_df['prompt_variant'] == 1) & (answers_df['params'] == param_combos[0])]\n",
        "print(row['answer'].values[0])"
      ],
      "metadata": {
        "colab": {
          "base_uri": "https://localhost:8080/"
        },
        "id": "ommyKy9Ej5Jg",
        "outputId": "4ba58bcd-7291-4efb-c63f-af1075abdbd6"
      },
      "execution_count": null,
      "outputs": [
        {
          "output_type": "stream",
          "name": "stdout",
          "text": [
            "\n",
            "1. Symptoms/Presentation: Sepsis is a life-threatening organ dysfunction caused by the host's systemic inflammatory response to a pathogen, with signs of organ dysfunction and risk of death. The presentation may vary depending on the underlying infection, but common symptoms include fever, tachycardia, tachypnea, confusion, and hypotension.\n",
            "2. Diagnosis Steps: The diagnosis of sepsis is based on clinical criteria, including systemic inflammatory response syndrome (SIRS) criteria, and laboratory confirmation of an infection. SIRS criteria include body temperature >38°C or <36°C, heart rate >90 beats per minute, respiratory rate >20 breaths per minute, or white blood cell count >12,000 cells/mm3 or <4,000 cells/mm3. Laboratory confirmation of an infection may include blood cultures, urinalysis, or other tests to identify the causative pathogen.\n",
            "3. Treatment Protocol: The treatment of sepsis is based on early recognition and aggressive management of the underlying infection, fluid resuscitation, and supportive care. The Sepsis-3 definition recommends using a clinical algorithm to guide therapy, which includes administering antibiotics within the first hour of recognition of sepsis, and providing vasopressors and mechanical ventilation as needed. Additionally, the use of steroids in sepsis is controversial and should be individualized based on the patient's condition and response to treatment.\n",
            "4. Cautions / Follow-up: Sepsis is a medical emergency that requires prompt recognition and management. Early recognition and treatment can improve outcomes, but delays in diagnosis and treatment can lead to severe organ dysfunction and death. Close monitoring of vital signs, laboratory values, and clinical status is essential to ensure early detection of any changes in the patient's condition. Follow-up care should include ongoing assessment of organ function, management of complications, and addressing any long-term effects of sepsis.\n",
            "\n",
            "Note: This answer is based on the information provided in The Merck Manual (Nineteenth Edition) and is intended as a general guide only. It is not a substitute for specialist consultation or individualized patient care.\n"
          ]
        }
      ]
    },
    {
      "cell_type": "markdown",
      "source": [
        "**Parameter Combination**\n",
        " - temperature: 0.5, top_p: 0.8, top_k: 20, max_tokens: 1024 (**Balanced reasoning**)"
      ],
      "metadata": {
        "id": "H_anSH8Dl864"
      }
    },
    {
      "cell_type": "code",
      "source": [
        "row = answers_df[(answers_df['question'] == 'What is the protocol for managing sepsis in a critical care unit?') & (answers_df['prompt_variant'] == 1) & (answers_df['params'] == param_combos[1])]\n",
        "print(row['answer'].values[0])"
      ],
      "metadata": {
        "colab": {
          "base_uri": "https://localhost:8080/"
        },
        "id": "OMhDlcz3l_L5",
        "outputId": "5f791215-66b0-43a4-a002-a9b6b2d6a3c0"
      },
      "execution_count": null,
      "outputs": [
        {
          "output_type": "stream",
          "name": "stdout",
          "text": [
            "1. Symptoms/Presentation: Sepsis is characterized by systemic inflammation and organ dysfunction, which can lead to signs such as fever, tachycardia, tachypnea, confusion, and hypotension. The presence of sepsis is often indicated by a severe infection, such as pneumonia, urinary tract infection, or bloodstream infection.\n",
            "2. Diagnosis Steps: To diagnose sepsis, the following steps should be taken:\n",
            "* Assess the patient's vital signs, including temperature, blood pressure, tachycardia, and tachypnea.\n",
            "* Check for signs of organ dysfunction, such as altered mental status, respiratory failure, cardiovascular instability, and renal insufficiency.\n",
            "* Obtain blood cultures to identify the source of infection.\n",
            "* Measure serum lactate levels to assess tissue perfusion.\n",
            "* Perform a complete blood count (CBC) to evaluate for leukocytosis or leukopenia.\n",
            "3. Treatment Protocol: The treatment of sepsis should be guided by the Surviving Sepsis Campaign (SSC) guidelines, which recommend the following steps:\n",
            "* Administer broad-spectrum antibiotics as soon as possible, based on the suspected source of infection.\n",
            "* Provide early fluid resuscitation with crystalloids or colloids to maintain mean arterial pressure (MAP) ≥ 65 mmHg.\n",
            "* Consider vasopressors if MAP < 65 mmHg despite fluid resuscitation.\n",
            "* Manage hypotension with vasopressors and mechanical ventilation as needed.\n",
            "* Provide early source control of the infection, such as surgical drainage or debridement.\n",
            "4. Cautions / Follow-up: Patients with sepsis require close monitoring for signs of organ dysfunction and fluid overload. The following cautions should be considered:\n",
            "* Monitor for signs of fluid overload, such as pulmonary edema or ascites.\n",
            "* Avoid excessive fluid administration to prevent fluid overload.\n",
            "* Be cautious when administering vasopressors, as they can cause cardiovascular instability.\n",
            "* Follow up with serial assessments of organ function and fluid status to adjust treatment as needed.\n",
            "\n",
            "Note: This information is based on the Surviving Sepsis Campaign (SSC) guidelines and the Merck Manual (Nineteenth Edition). However, this requires specialist consultation for specific guidance tailored to each patient's needs.\n"
          ]
        }
      ]
    },
    {
      "cell_type": "markdown",
      "source": [
        "**Parameter Combination**\n",
        " - temperature: 0.7, top_p: 0.95, top_k: 50, max_tokens: 1024 (**Fluent, accurate, flexible**)"
      ],
      "metadata": {
        "id": "eop7evi_l_n6"
      }
    },
    {
      "cell_type": "code",
      "source": [
        "row = answers_df[(answers_df['question'] == 'What is the protocol for managing sepsis in a critical care unit?') & (answers_df['prompt_variant'] == 1) & (answers_df['params'] == param_combos[2])]\n",
        "print(row['answer'].values[0])"
      ],
      "metadata": {
        "colab": {
          "base_uri": "https://localhost:8080/"
        },
        "id": "jk-0Vl4tmFnZ",
        "outputId": "a05771ff-4ff7-4363-8f34-f3c2b36d71c4"
      },
      "execution_count": null,
      "outputs": [
        {
          "output_type": "stream",
          "name": "stdout",
          "text": [
            "\n",
            "1. Symptoms/Presentation: Sepsis is a systemic inflammatory response to an infection, characterized by fever, tachycardia, tachypnea, and signs of organ dysfunction (e.g., altered mentation, confusion, or renal failure).\n",
            "2. Diagnosis Steps: Confirm the presence of an infection and identify its source. Look for signs of organ dysfunction, such as abnormal lab values (e.g., WBC count, creatinine, blood urea nitrogen) and changes in vital signs (e.g., tachycardia, tachypnea).\n",
            "3. Treatment Protocol: Administer broad-spectrum antibiotics and fluid resuscitation promptly. Use vasopressors to maintain mean arterial pressure ≥65 mmHg if systolic blood pressure is <90 mmHg despite fluid resuscitation. Consider corticosteroids for severe sepsis or septic shock. Monitor for signs of organ dysfunction and adjust therapy accordingly.\n",
            "4. Cautions/Follow-up: Closely monitor the patient's condition, including vital signs, laboratory values, and signs of organ dysfunction. Consider escalating therapy if there is no improvement within 24-48 hours or if the patient develops shock. Consult a critical care specialist or pulmonologist for guidance on managing severe sepsis or septic shock.\n",
            "\n",
            "Note: This answer is based on the 2019 Surviving Sepsis Campaign guidelines, which are widely accepted as the standard of care for sepsis management. However, if there is any uncertainty or variation in local practice, consultation with a specialist is advisable.\n"
          ]
        }
      ]
    },
    {
      "cell_type": "markdown",
      "metadata": {
        "id": "iYpyw4HjOeff"
      },
      "source": [
        "### Query 2: What are the common symptoms for appendicitis, and can it be cured via medicine? If not, what surgical procedure should be followed to treat it?"
      ]
    },
    {
      "cell_type": "markdown",
      "source": [
        "#### Evidence based prompt"
      ],
      "metadata": {
        "id": "1Oh3mEs9mI8d"
      }
    },
    {
      "cell_type": "markdown",
      "source": [
        "**Parameter Combination**\n",
        " - temperature: 0.2, top_p: 0.9, top_k: 40, max_tokens: 1024 **(Very factual, less diverse. Useful for guidelines)**\n"
      ],
      "metadata": {
        "id": "Zk_z0PDUmKjN"
      }
    },
    {
      "cell_type": "code",
      "execution_count": null,
      "metadata": {
        "id": "GXl09pFfRPBr",
        "colab": {
          "base_uri": "https://localhost:8080/"
        },
        "outputId": "6f0985db-ef52-4b85-94bb-c6a30b1ac1df"
      },
      "outputs": [
        {
          "output_type": "stream",
          "name": "stdout",
          "text": [
            "\n",
            "Symptoms of Appendicitis:\n",
            "\n",
            "The most common symptoms of appendicitis include:\n",
            "\n",
            "1. Sudden and severe pain in the abdomen, usually starting near the belly button and then moving to the lower right side of the abdomen.\n",
            "2. Nausea and vomiting.\n",
            "3. Loss of appetite.\n",
            "4. Fever.\n",
            "5. Abdominal tenderness and guarding (muscle tension).\n",
            "6. Abdominal swelling.\n",
            "7. Diarrhea or constipation.\n",
            "\n",
            "Note: These symptoms can be similar to other conditions such as a ruptured ovarian cyst, diverticulitis, or a blockage in the intestine. Therefore, it is essential to seek medical attention immediately if you experience these symptoms.\n",
            "\n",
            "Treatment of Appendicitis:\n",
            "\n",
            "Appendicitis cannot be cured via medicine; surgical intervention is necessary to treat it. The standard surgical procedure for appendicitis is an appendectomy, which involves the removal of the inflamed appendix. There are two types of appendectomies:\n",
            "\n",
            "1. Open Appendectomy: This is the traditional method, where a single incision is made in the lower right abdomen to remove the inflamed appendix.\n",
            "2. Laparoscopic Appendectomy: This is a minimally invasive procedure, where several small incisions are made in the abdomen, and a laparoscope (a thin tube with a camera and light) is inserted to visualize the appendix. The inflamed appendix is then removed through one of the small incisions.\n",
            "\n",
            "Reasoning:\n",
            "The Merck Manual (Nineteenth Edition) states that \"appendicitis is a medical emergency that requires prompt surgical intervention.\" (p. 1058). Therefore, it is essential to seek immediate medical attention if you experience symptoms of appendicitis. The standard treatment for appendicitis is an appendectomy, which can be performed through open or laparoscopic surgery.\n",
            "\n",
            "Note: This requires specialist consultation. It is important to seek medical attention immediately if you experience symptoms of appendicitis, as delays in treatment can lead to complications such as the appendix rupturing and spreading infection throughout the abdominal cavity.\n"
          ]
        }
      ],
      "source": [
        "row = answers_df[(answers_df['question'] == 'What are the common symptoms for appendicitis, and can it be cured via medicine? If not, what surgical procedure should be followed to treat it?') & (answers_df['prompt_variant'] == 0) & (answers_df['params'] == param_combos[0])]\n",
        "print(row['answer'].values[0])\n"
      ]
    },
    {
      "cell_type": "markdown",
      "source": [
        "**Parameter Combination**\n",
        " - temperature: 0.5, top_p: 0.8, top_k: 20, max_tokens: 1024 (**Balanced reasoning**)"
      ],
      "metadata": {
        "id": "jIbB_u-hmNQO"
      }
    },
    {
      "cell_type": "code",
      "source": [
        "row = answers_df[(answers_df['question'] == 'What are the common symptoms for appendicitis, and can it be cured via medicine? If not, what surgical procedure should be followed to treat it?') & (answers_df['prompt_variant'] == 0) & (answers_df['params'] == param_combos[1])]\n",
        "print(row['answer'].values[0])"
      ],
      "metadata": {
        "colab": {
          "base_uri": "https://localhost:8080/"
        },
        "id": "7FBfMeWZmN9Q",
        "outputId": "025ce45a-b378-4190-82a5-1c30e1eeb210"
      },
      "execution_count": null,
      "outputs": [
        {
          "output_type": "stream",
          "name": "stdout",
          "text": [
            "\n",
            "According to The Merck Manual (Nineteenth Edition), the common symptoms of appendicitis include:\n",
            "\n",
            "* Sudden onset of severe pain in the lower right abdomen that begins around the navel and then moves to the lower right abdomen.\n",
            "* Nausea and vomiting\n",
            "* Loss of appetite\n",
            "* Fever\n",
            "* Abdominal tenderness and guarding (muscle tension)\n",
            "* Abdominal swelling\n",
            "\n",
            "It is important to note that not everyone with appendicitis will experience all of these symptoms, and some people may have different symptoms altogether.\n",
            "\n",
            "Regarding treatment, The Merck Manual states that appendicitis cannot be cured via medicine. Instead, surgical intervention is necessary to remove the inflamed appendix. The recommended surgical procedure for appendicitis is an appendectomy, which can be performed through a laparoscopic (minimally invasive) or open incision.\n",
            "\n",
            "In laparoscopic appendectomy, several small incisions are made in the abdomen, and a laparoscope (a thin tube with a camera and light) is inserted to visualize the appendix. The inflamed appendix is then removed through one of the small incisions.\n",
            "\n",
            "In open appendectomy, a larger incision is made in the lower right abdomen to access the appendix. This procedure is usually performed if the appendix has already ruptured or if there are other complications present.\n",
            "\n",
            "It is important to note that prompt medical attention is essential for effective treatment of appendicitis, as delaying treatment can lead to serious complications such as perforation of the appendix and potentially life-threatening infections.\n"
          ]
        }
      ]
    },
    {
      "cell_type": "markdown",
      "source": [
        "**Parameter Combination**\n",
        " - temperature: 0.7, top_p: 0.95, top_k: 50, max_tokens: 1024 (**Fluent, accurate, flexible**)"
      ],
      "metadata": {
        "id": "JNZR-RnpmONN"
      }
    },
    {
      "cell_type": "code",
      "source": [
        "row = answers_df[(answers_df['question'] == 'What are the common symptoms for appendicitis, and can it be cured via medicine? If not, what surgical procedure should be followed to treat it?') & (answers_df['prompt_variant'] == 0) & (answers_df['params'] == param_combos[2])]\n",
        "print(row['answer'].values[0])"
      ],
      "metadata": {
        "colab": {
          "base_uri": "https://localhost:8080/"
        },
        "id": "AonfqWwhmQv6",
        "outputId": "292c31dd-ae1b-48f8-ce50-86fa892bee77"
      },
      "execution_count": null,
      "outputs": [
        {
          "output_type": "stream",
          "name": "stdout",
          "text": [
            "\n",
            "Symptoms of appendicitis can vary from patient to patient. However, The Merck Manual (Nineteenth Edition) lists the most common symptoms as follows:\n",
            "\n",
            "* Sudden onset of severe pain in the lower right abdomen that begins near the navel and then moves to the lower right abdomen\n",
            "* Nausea and vomiting\n",
            "* Loss of appetite\n",
            "* Fever\n",
            "* Abdominal tenderness and guarding (muscle tension)\n",
            "* Abdominal swelling\n",
            "\n",
            "It is important to note that not everyone with appendicitis will experience all of these symptoms, and some people may have different symptoms altogether. However, if a patient presents with at least two of these symptoms, it is highly likely that they are experiencing appendicitis.\n",
            "\n",
            "Regarding treatment, The Merck Manual (Nineteenth Edition) states that appendicitis cannot be cured via medicine. Instead, surgical intervention is necessary to treat the condition. The standard surgical procedure for treating appendicitis is an appendectomy, which involves removing the inflamed appendix.\n",
            "\n",
            "There are two types of appendectomies: open and laparoscopic. Open appendectomies involve a larger incision in the abdomen to access the appendix, while laparoscopic appendectomies involve several small incisions and the use of a camera and specialized instruments to remove the appendix.\n",
            "\n",
            "The choice between open and laparoscopic appendectomy depends on the severity of the appendicitis and the patient's overall health. In general, laparoscopic appendectomies are preferred for patients with mild appendicitis and no other underlying medical conditions, while open appendectomies may be necessary for more severe cases or those with other medical issues.\n",
            "\n",
            "It is important to note that prompt treatment of appendicitis is essential to prevent complications such as perforation of the appendix, which can lead to infection and potentially life-threatening sepsis. Therefore, if a patient presents with symptoms suggestive of appendicitis, they should seek medical attention immediately.\n"
          ]
        }
      ]
    },
    {
      "cell_type": "markdown",
      "source": [
        "#### Structured prompt"
      ],
      "metadata": {
        "id": "PFohdO5imRmd"
      }
    },
    {
      "cell_type": "markdown",
      "source": [
        "**Parameter Combination**\n",
        " - temperature: 0.2, top_p: 0.9, top_k: 40, max_tokens: 1024 **(Very factual, less diverse. Useful for guidelines)**\n"
      ],
      "metadata": {
        "id": "BnK4W7PfmTsN"
      }
    },
    {
      "cell_type": "code",
      "source": [
        "row = answers_df[(answers_df['question'] == 'What are the common symptoms for appendicitis, and can it be cured via medicine? If not, what surgical procedure should be followed to treat it?') & (answers_df['prompt_variant'] == 1) & (answers_df['params'] == param_combos[0])]\n",
        "print(row['answer'].values[0])"
      ],
      "metadata": {
        "colab": {
          "base_uri": "https://localhost:8080/"
        },
        "id": "qE2vhlNtmVPm",
        "outputId": "9295894d-3215-4ec3-909b-7c835861313f"
      },
      "execution_count": null,
      "outputs": [
        {
          "output_type": "stream",
          "name": "stdout",
          "text": [
            "\n",
            "1. Symptoms/Presentation:  \n",
            "The most common symptoms of appendicitis include sudden onset of severe pain in the lower right abdomen, often with nausea, vomiting, fever, and loss of appetite. The pain may begin near the navel and then move to the lower right abdomen. Other symptoms may include:  \n",
            "* Abdominal tenderness and guarding (muscle tension)\n",
            "* Rigidity in the abdominal muscles\n",
            "* Loss of bowel sounds\n",
            "* Palpable mass in the right lower quadrant of the abdomen\n",
            "2. Diagnosis Steps:  \n",
            "The diagnosis of appendicitis is based on a combination of symptoms, physical examination findings, and imaging studies. The following steps are typically used to diagnose appendicitis:  \n",
            "* Medical history and physical examination to identify the presence of symptoms and rule out other possible causes of abdominal pain.\n",
            "* Laboratory tests, such as a complete blood count (CBC) and a urinalysis, to look for signs of infection and inflammation.\n",
            "* Imaging studies, such as an X-ray or CT scan, to confirm the diagnosis and identify any complications.\n",
            "3. Treatment Protocol:  \n",
            "If the diagnosis of appendicitis is confirmed, treatment typically involves surgical removal of the inflamed appendix. The surgical procedure most commonly used to treat appendicitis is a laparoscopic appendectomy, which involves making several small incisions in the abdomen and using a laparoscope (a thin, lighted tube with a camera) to visualize the appendix and remove it. In some cases, an open appendectomy may be necessary if the appendix has ruptured or if there are other complications present.\n",
            "4. Cautions / Follow-up:  \n",
            "After surgery, patients will typically require several days of rest and recovery in the hospital. They may experience some pain and discomfort, which can be managed with pain medication. Follow-up appointments with a surgeon or primary care physician are important to ensure that the patient is recovering well and to monitor for any potential complications.\n",
            "\n",
            "Note: This answer is based on information from The Merck Manual (Nineteenth Edition) and is intended as a general overview of the symptoms, diagnosis, and treatment of appendicitis. It is not a substitute for medical advice or treatment. If you suspect that you or someone else may have appendicitis, it is important to seek medical attention immediately.\n"
          ]
        }
      ]
    },
    {
      "cell_type": "markdown",
      "source": [
        "**Parameter Combination**\n",
        " - temperature: 0.5, top_p: 0.8, top_k: 20, max_tokens: 1024 (**Balanced reasoning**)\n"
      ],
      "metadata": {
        "id": "s9Rvr8z2mVg-"
      }
    },
    {
      "cell_type": "code",
      "source": [
        "row = answers_df[(answers_df['question'] == 'What are the common symptoms for appendicitis, and can it be cured via medicine? If not, what surgical procedure should be followed to treat it?') & (answers_df['prompt_variant'] == 1) & (answers_df['params'] == param_combos[1])]\n",
        "print(row['answer'].values[0])"
      ],
      "metadata": {
        "colab": {
          "base_uri": "https://localhost:8080/"
        },
        "id": "-BZH4RegmW2H",
        "outputId": "435e117a-140d-4747-a514-bb735244b151"
      },
      "execution_count": null,
      "outputs": [
        {
          "output_type": "stream",
          "name": "stdout",
          "text": [
            "\n",
            "1. Symptoms/Presentation:  \n",
            "* Severe pain in the lower right abdomen that begins suddenly and worsens over time\n",
            "* Nausea and vomiting\n",
            "* Loss of appetite\n",
            "* Fever\n",
            "* Abdominal tenderness and guarding (muscle tension)\n",
            "* Rigidity (stiffness) in the abdomen\n",
            "* Palpable (able to be felt) mass in the right lower quadrant of the abdomen\n",
            "2. Diagnosis Steps:  \n",
            "* Physical examination and medical history\n",
            "* Blood tests (such as a complete blood count and electrolyte panel) to rule out other conditions\n",
            "* Imaging studies (such as X-rays or CT scans) to confirm the diagnosis and assess the severity of the inflammation\n",
            "3. Treatment Protocol:  \n",
            "* Appendectomy (surgical removal of the appendix), which is the standard treatment for appendicitis\n",
            "\t+ Open appendectomy: A traditional surgical procedure in which a single incision is made in the lower right abdomen to remove the inflamed appendix\n",
            "\t+ Laparoscopic appendectomy: A minimally invasive surgical procedure in which several small incisions are made in the abdomen, and a laparoscope (a thin tube with a camera and light) is inserted to visualize the appendix and remove it\n",
            "\t+ Robotic appendectomy: A type of laparoscopic surgery that uses a robotic system to assist the surgeon in removing the appendix\n",
            "4. Cautions / Follow-up:  \n",
            "* Antibiotics may be given before surgery to reduce the risk of infection\n",
            "* Patients should be monitored for signs of complications, such as abscess or peritonitis (inflammation of the lining of the abdominal cavity)\n",
            "* Follow-up appointments with a healthcare provider are necessary to ensure that the patient is recovering properly and to address any complications that may arise.\n",
            "\n",
            "Note: This answer is based on information from The Merck Manual (Nineteenth Edition). If you do not find clear information in this source, it is recommended that you consult a specialist for further guidance.\n"
          ]
        }
      ]
    },
    {
      "cell_type": "markdown",
      "source": [
        "**Parameter Combination**\n",
        " - temperature: 0.7, top_p: 0.95, top_k: 50, max_tokens: 1024 (**Fluent, accurate, flexible**)\n"
      ],
      "metadata": {
        "id": "-rNVtw-SmXGe"
      }
    },
    {
      "cell_type": "code",
      "source": [
        "row = answers_df[(answers_df['question'] == 'What are the common symptoms for appendicitis, and can it be cured via medicine? If not, what surgical procedure should be followed to treat it?') & (answers_df['prompt_variant'] == 1) & (answers_df['params'] == param_combos[2])]\n",
        "print(row['answer'].values[0])"
      ],
      "metadata": {
        "colab": {
          "base_uri": "https://localhost:8080/"
        },
        "id": "o0oivVo4mZYP",
        "outputId": "52824219-e372-4d68-c6ff-4486470a68ab"
      },
      "execution_count": null,
      "outputs": [
        {
          "output_type": "stream",
          "name": "stdout",
          "text": [
            "\n",
            "1. Symptoms/Presentation: \n",
            "The most common symptoms of appendicitis include:  \n",
            "\t* Sudden onset of severe pain in the lower right abdomen  \n",
            "\t* Nausea and vomiting  \n",
            "\t* Loss of appetite  \n",
            "\t* Fever  \n",
            "\t* Abdominal tenderness and guarding (muscle tension)  \n",
            "\t* Palpable mass in the right lower quadrant  \n",
            "\n",
            "It's important to note that appendicitis can be difficult to diagnose, especially in its early stages. The symptoms may be subtle or nonspecific, and they may resemble other conditions such as a simple stomachache or urinary tract infection.  \n",
            "\n",
            "2. Diagnosis Steps: \n",
            "The diagnosis of appendicitis is based on a combination of physical examination findings, medical history, and imaging studies. The following steps are commonly used to diagnose appendicitis:  \n",
            "\t* Complete blood count (CBC) and blood culture to rule out infection  \n",
            "\t* Urinalysis to rule out urinary tract infection  \n",
            "\t* Imaging studies such as X-ray, ultrasound, or CT scan to confirm the presence of an inflamed appendix  \n",
            "\t* Laparoscopic appendectomy (a minimally invasive surgical procedure) may be performed if the diagnosis is uncertain.  \n",
            "\n",
            "3. Treatment Protocol: \n",
            "If the diagnosis of appendicitis is confirmed, treatment typically involves immediate surgical removal of the inflamed appendix. The surgical procedure most commonly used to treat appendicitis is an appendectomy, which can be performed through either an open incision or laparoscopic approach.  \n",
            "\n",
            "In some cases, antibiotics may be administered before surgery to help manage any underlying infection. However, the primary treatment for appendicitis is still surgical removal of the inflamed appendix.  \n",
            "\n",
            "4. Cautions / Follow-up: \n",
            "After an appendectomy, patients are typically monitored for signs of complications such as wound infections or abscesses. Follow-up appointments with a surgeon and/or primary care physician are essential to ensure that the patient is recovering well and to address any concerns or issues that may arise.  \n",
            "\n",
            "It's important to note that appendicitis can be a medical emergency, and prompt treatment is essential to prevent complications such as perforation of the appendix or development of an abscess. Therefore, if you suspect that you or someone else may have appendicitis, it is crucial to seek immediate medical attention.  \n",
            "\n",
            "This requires specialist consultation.\n"
          ]
        }
      ]
    },
    {
      "cell_type": "markdown",
      "metadata": {
        "id": "dRp92JQZOeff"
      },
      "source": [
        "### Query 3: What are the effective treatments or solutions for addressing sudden patchy hair loss, commonly seen as localized bald spots on the scalp, and what could be the possible causes behind it?"
      ]
    },
    {
      "cell_type": "markdown",
      "source": [
        "#### Evidence based prompt"
      ],
      "metadata": {
        "id": "4IoWlvUxmfy-"
      }
    },
    {
      "cell_type": "markdown",
      "source": [
        "**Parameter Combination**\n",
        " - temperature: 0.2, top_p: 0.9, top_k: 40, max_tokens: 1024 **(Very factual, less diverse. Useful for guidelines)**\n"
      ],
      "metadata": {
        "id": "YCms8nb_mjHv"
      }
    },
    {
      "cell_type": "code",
      "execution_count": null,
      "metadata": {
        "id": "JOgATEpMRPve",
        "colab": {
          "base_uri": "https://localhost:8080/"
        },
        "outputId": "5fdf3877-18c5-44d3-962b-d56792128082"
      },
      "outputs": [
        {
          "output_type": "stream",
          "name": "stdout",
          "text": [
            "\n",
            "The Merck Manual (Nineteenth Edition) does not provide a specific section on sudden patchy hair loss. However, based on standard medical guidelines from WHO, CDC, and NICE, here are some possible causes and effective treatments for localized bald spots on the scalp:\n",
            "\n",
            "Possible Causes:\n",
            "\n",
            "1. Alopecia Areata - an autoimmune condition that causes hair loss in patches.\n",
            "2. Telogen Effluvium - a stress-induced condition that causes excessive hair shedding, often resulting in localized bald spots.\n",
            "3. Folliculitis - an inflammation of the hair follicles, which can lead to hair loss in specific areas.\n",
            "4. Tinea Capitis (Ringworm) - a fungal infection that can cause patchy hair loss on the scalp.\n",
            "5. Traction Alopecia - hair loss due to constant pulling or tension on the hair shaft, often seen in individuals with tight hairstyles.\n",
            "\n",
            "Effective Treatments:\n",
            "\n",
            "1. Corticosteroid Injections - can help stimulate hair growth and reduce inflammation in cases of alopecia areata and folliculitis.\n",
            "2. Topical Minoxidil (Rogaine) - a solution applied directly to the affected area, which has been shown to promote hair growth and slow down hair loss.\n",
            "3. Oral Anti-inflammatory Medications - such as prednisone or ibuprofen, can help reduce inflammation and promote hair growth in cases of folliculitis and telogen effluvium.\n",
            "4. Antifungal Medications - such as griseofulvin or terbinafine, can treat fungal infections like tinea capitis and promote hair growth.\n",
            "5. Hair Prostheses - wigs, hairpieces, or toupees, can provide a cosmetic solution for individuals with significant hair loss.\n",
            "\n",
            "It is essential to consult a dermatologist for a proper diagnosis and treatment plan, as some of these conditions may require specialist care. This requires specialist consultation.\n"
          ]
        }
      ],
      "source": [
        "row = answers_df[(answers_df['question'] == 'What are the effective treatments or solutions for addressing sudden patchy hair loss, commonly seen as localized bald spots on the scalp, and what could be the possible causes behind it?') & (answers_df['prompt_variant'] == 0) & (answers_df['params'] == param_combos[0])]\n",
        "print(row['answer'].values[0])"
      ]
    },
    {
      "cell_type": "markdown",
      "source": [
        "**Parameter Combination**\n",
        " - temperature: 0.5, top_p: 0.8, top_k: 20, max_tokens: 1024 (**Balanced reasoning**)\n"
      ],
      "metadata": {
        "id": "vDcYTbmQmkl2"
      }
    },
    {
      "cell_type": "code",
      "source": [
        "row = answers_df[(answers_df['question'] == 'What are the effective treatments or solutions for addressing sudden patchy hair loss, commonly seen as localized bald spots on the scalp, and what could be the possible causes behind it?') & (answers_df['prompt_variant'] == 0) & (answers_df['params'] == param_combos[1])]\n",
        "print(row['answer'].values[0])"
      ],
      "metadata": {
        "colab": {
          "base_uri": "https://localhost:8080/"
        },
        "id": "5tSCVhUhml_2",
        "outputId": "51ee1be4-0614-4bb6-a494-dbdd929a2685"
      },
      "execution_count": null,
      "outputs": [
        {
          "output_type": "stream",
          "name": "stdout",
          "text": [
            "\n",
            "The Merck Manual (Nineteenth Edition) does not provide a specific section on sudden patchy hair loss. However, based on standard medical guidelines from WHO, CDC, and NICE, here are some possible causes and effective treatments for localized bald spots on the scalp:\n",
            "\n",
            "Possible Causes:\n",
            "\n",
            "1. Telogen effluvium: This is a common cause of sudden patchy hair loss, often triggered by physical or emotional stress. It results in an increase in telogen hair follicles, leading to excessive shedding of hair.\n",
            "2. Alopecia areata: This is an autoimmune condition that can cause sudden hair loss in patches or over the entire scalp. It occurs when the immune system mistakenly attacks healthy hair follicles, leading to hair loss.\n",
            "3. Folliculitis decalvans: This is a rare condition characterized by recurring bacterial infections of the hair follicles, leading to scarring alopecia and patchy hair loss.\n",
            "4. Tinea capitis (ringworm): This is a fungal infection that can cause patchy hair loss, especially in children. It occurs when the fungus infects the scalp and hair follicles, leading to inflammation and hair loss.\n",
            "5. Traction alopecia: This is a type of hair loss caused by constant pulling or tension on the hair shaft, often seen in people who wear tight hairstyles such as braids, ponytails, or cornrows.\n",
            "\n",
            "Effective Treatments:\n",
            "\n",
            "1. Medications: Minoxidil (Rogaine) and finasteride (Propecia) are two FDA-approved medications that can help treat hair loss caused by telogen effluvium, alopecia areata, and other conditions. Minoxidil can stimulate hair growth and slow down hair loss, while finasteride can slow down hair loss and promote hair growth.\n",
            "2. Corticosteroid injections: Injecting corticosteroids into the affected area can help reduce inflammation and promote hair growth in cases of alopecia areata and folliculitis decalvans.\n",
            "3. Antifungal medications: For tinea capitis, antifungal medications such as griseofulvin, ketoconazole, or terbinafine can be effective in treating the fungal infection and promoting hair growth.\n",
            "4. Wigs or hairpieces: In cases of extensive hair loss, wigs or hairpieces can provide a cosmetic solution to cover up bald spots.\n",
            "5. Hair transplantation: This is a surgical procedure that involves transplanting healthy hair follicles from the back and sides of the scalp to the affected areas. It can be an effective long-term solution for hair loss caused by genetic factors or other conditions.\n",
            "\n",
            "It's important to note that these treatments may not work for everyone, and the effectiveness of each treatment may vary depending on the underlying cause of the hair loss. A healthcare professional should be consulted for proper diagnosis and treatment. If you are experiencing sudden patchy hair loss, it is essential to seek medical advice as soon as possible to determine the cause and appropriate treatment.\n"
          ]
        }
      ]
    },
    {
      "cell_type": "markdown",
      "source": [
        "**Parameter Combination**\n",
        " - temperature: 0.7, top_p: 0.95, top_k: 50, max_tokens: 1024 (**Fluent, accurate, flexible**)\n"
      ],
      "metadata": {
        "id": "3auLyYiJmmMP"
      }
    },
    {
      "cell_type": "code",
      "source": [
        "row = answers_df[(answers_df['question'] == 'What are the effective treatments or solutions for addressing sudden patchy hair loss, commonly seen as localized bald spots on the scalp, and what could be the possible causes behind it?') & (answers_df['prompt_variant'] == 0) & (answers_df['params'] == param_combos[2])]\n",
        "print(row['answer'].values[0])"
      ],
      "metadata": {
        "colab": {
          "base_uri": "https://localhost:8080/"
        },
        "id": "NOQIbc2Tmnp2",
        "outputId": "05e7c00c-a37c-4ff2-a572-0a21255b7d59"
      },
      "execution_count": null,
      "outputs": [
        {
          "output_type": "stream",
          "name": "stdout",
          "text": [
            "\n",
            "Based on The Merck Manual (Nineteenth Edition), there are several effective treatments and solutions for addressing sudden patchy hair loss or localized bald spots on the scalp. Here are some of the possible causes and their corresponding treatments:\n",
            "\n",
            "1. Telogen effluvium: This is a common cause of sudden patchy hair loss, particularly in women. It occurs when there is an increase in the number of hair follicles that stop growing and enter the resting phase (telogen phase). Treatment includes addressing underlying stressors, reducing stress levels, and using minoxidil 2% solution or finasteride medication.\n",
            "2. Alopecia areata: This is an autoimmune condition that can cause sudden patchy hair loss. Treatment options include topical corticosteroids, intralesional corticosteroids, and immunomodulatory therapy with diphencyprone (DPCP).\n",
            "3. Folliculitis decalvans: This is a condition that causes scarring alopecia and hair loss in patches. Treatment includes antibiotics, topical corticosteroids, and hair transplantation.\n",
            "4. Tinea capitis: This is a fungal infection that can cause hair loss in children. Treatment includes antifungal medications and topical corticosteroids.\n",
            "5. Traction alopecia: This is a condition that causes hair loss due to constant pulling or tension on the hair follicles, often seen in people with tight hairstyles such as braids or ponytails. Treatment includes reducing the amount of traction on the hair and using topical corticosteroids.\n",
            "6. Androgenetic alopecia: This is a common cause of hair loss in both men and women, caused by the conversion of testosterone to dihydrotestosterone (DHT). Treatment includes minoxidil 2% solution, finasteride medication, and low-level laser therapy.\n",
            "\n",
            "It's important to note that these treatments may not work for everyone, and some cases of sudden patchy hair loss may be due to underlying systemic conditions such as thyroid disorders or autoimmune diseases. In such cases, treatment may involve addressing the underlying condition.\n",
            "\n",
            "In conclusion, sudden patchy hair loss can have various causes, and it is essential to consult a dermatologist for an accurate diagnosis and appropriate treatment. Based on The Merck Manual (Nineteenth Edition), the treatments mentioned above are effective in addressing some of the possible causes of sudden patchy hair loss. However, if the cause is due to an underlying systemic condition, further evaluation and treatment may be necessary.\n"
          ]
        }
      ]
    },
    {
      "cell_type": "markdown",
      "source": [
        "#### Structured prompt"
      ],
      "metadata": {
        "id": "Uo1pKPRRmoJP"
      }
    },
    {
      "cell_type": "markdown",
      "source": [
        "**Parameter Combination**\n",
        " - temperature: 0.2, top_p: 0.9, top_k: 40, max_tokens: 1024 **(Very factual, less diverse. Useful for guidelines)**"
      ],
      "metadata": {
        "id": "v5aYH72ompxm"
      }
    },
    {
      "cell_type": "code",
      "source": [
        "row = answers_df[(answers_df['question'] == 'What are the effective treatments or solutions for addressing sudden patchy hair loss, commonly seen as localized bald spots on the scalp, and what could be the possible causes behind it?') & (answers_df['prompt_variant'] == 1) & (answers_df['params'] == param_combos[0])]\n",
        "print(row['answer'].values[0])"
      ],
      "metadata": {
        "colab": {
          "base_uri": "https://localhost:8080/"
        },
        "id": "Ego34Vb4mrK_",
        "outputId": "1962cee1-f83b-499a-c3a3-7cbe5f913f85"
      },
      "execution_count": null,
      "outputs": [
        {
          "output_type": "stream",
          "name": "stdout",
          "text": [
            "\n",
            "1. Symptoms/Presentation: Sudden patchy hair loss, also known as alopecia areata, typically presents with well-defined, smooth, round or oval bald patches on the scalp. The affected areas may be devoid of any inflammation or scarring. Hair loss may be partial or total, and can occur suddenly or gradually over time.\n",
            "2. Diagnosis Steps: To diagnose sudden patchy hair loss, a thorough medical history and physical examination are essential. A dermatologist may perform a scalp biopsy to rule out other conditions such as psoriasis or eczema. Blood tests may be ordered to check for thyroid disorders, autoimmune diseases, or anemia.\n",
            "3. Treatment Protocol: The treatment approach for sudden patchy hair loss depends on the underlying cause and severity of the condition. In mild cases, watchful waiting with close monitoring may be recommended. Topical corticosteroids, minoxidil, and anthralin may be prescribed for localized application to promote hair growth and reduce inflammation. In severe cases, oral medications such as prednisone or cyclosporine may be necessary to suppress the immune system and promote hair regrowth.\n",
            "4. Cautions / Follow-up: Sudden patchy hair loss can be a symptom of an underlying autoimmune disease, so it is essential to monitor for any signs of systemic involvement. Patients with a history of allergies or autoimmune disorders should be closely monitored for any adverse reactions to medications. Follow-up appointments every 2-3 months are recommended to assess the effectiveness of treatment and monitor for any changes in the condition. If there is no improvement after 6-12 months, a change in treatment approach may be necessary.\n",
            "\n",
            "Note: This requires specialist consultation.\n"
          ]
        }
      ]
    },
    {
      "cell_type": "markdown",
      "source": [
        "**Parameter Combination**\n",
        " - temperature: 0.5, top_p: 0.8, top_k: 20, max_tokens: 1024 (**Balanced reasoning**)\n"
      ],
      "metadata": {
        "id": "FRa2g3KxmrqX"
      }
    },
    {
      "cell_type": "code",
      "source": [
        "row = answers_df[(answers_df['question'] == 'What are the effective treatments or solutions for addressing sudden patchy hair loss, commonly seen as localized bald spots on the scalp, and what could be the possible causes behind it?') & (answers_df['prompt_variant'] == 1) & (answers_df['params'] == param_combos[1])]\n",
        "print(row['answer'].values[0])"
      ],
      "metadata": {
        "colab": {
          "base_uri": "https://localhost:8080/"
        },
        "id": "tmhwjn5ymtKP",
        "outputId": "792ff40f-de7f-494a-9832-0d37eee58024"
      },
      "execution_count": null,
      "outputs": [
        {
          "output_type": "stream",
          "name": "stdout",
          "text": [
            "\n",
            "1. Symptoms/Presentation: Sudden patchy hair loss, also known as alopecia areata, typically presents as localized bald spots on the scalp, eyebrows, or beard. The hair loss is usually sudden and can range from small to large patches. The affected skin may be smooth and normal in appearance, with no scaling or redness.\n",
            "2. Diagnosis Steps: To diagnose alopecia areata, a healthcare provider will typically perform a physical examination and ask questions about the patient's medical history. They may also use a scalp biopsy to confirm the diagnosis. The healthcare provider may also rule out other conditions that can cause similar symptoms, such as tinea capitis (ringworm of the scalp) or lupus erythematosus.\n",
            "3. Treatment Protocol: The treatment for alopecia areata depends on the severity and location of the hair loss. For small patches, treatment may not be necessary, and the condition may resolve on its own. Topical corticosteroids, such as hydrocortisone cream or lotion, can be applied directly to the affected area to stimulate hair growth and reduce inflammation. In more severe cases, oral corticosteroids or immunomodulators may be prescribed to promote hair growth and suppress the immune system.\n",
            "4. Cautions / Follow-up: Patients with alopecia areata should avoid excessive stress and exposure to cold temperatures, as these can trigger or exacerbate the condition. Regular follow-up appointments with a healthcare provider are important to monitor the progress of treatment and adjust the dosage or switch medications if necessary. In some cases, hair transplantation may be recommended to restore hair growth in more severe cases.\n",
            "\n",
            "Note: This answer is based on information from The Merck Manual (Nineteenth Edition) and is intended for general informational purposes only. It should not be considered medical advice or a substitute for professional diagnosis and treatment. If you are experiencing sudden patchy hair loss, it is important to consult a healthcare provider for an accurate diagnosis and appropriate treatment.\n"
          ]
        }
      ]
    },
    {
      "cell_type": "markdown",
      "source": [
        "**Parameter Combination**\n",
        " - temperature: 0.7, top_p: 0.95, top_k: 50, max_tokens: 1024 (**Fluent, accurate, flexible**)\n"
      ],
      "metadata": {
        "id": "581bA0pHmtYP"
      }
    },
    {
      "cell_type": "code",
      "source": [
        "row = answers_df[(answers_df['question'] == 'What are the effective treatments or solutions for addressing sudden patchy hair loss, commonly seen as localized bald spots on the scalp, and what could be the possible causes behind it?') & (answers_df['prompt_variant'] == 1) & (answers_df['params'] == param_combos[2])]\n",
        "print(row['answer'].values[0])"
      ],
      "metadata": {
        "colab": {
          "base_uri": "https://localhost:8080/"
        },
        "id": "Lxl5PhcZmupv",
        "outputId": "d9205787-a2d2-4ede-86cb-a3b044cc7c2c"
      },
      "execution_count": null,
      "outputs": [
        {
          "output_type": "stream",
          "name": "stdout",
          "text": [
            "\n",
            "1. Symptoms/Presentation: Sudden patchy hair loss, also known as alopecia areata, typically presents with well-defined, round or oval patches of hair loss on the scalp. The hair loss may be localized to one area or may be more widespread. The affected skin may appear normal, with no scales, redness, or itching.\n",
            "2. Diagnosis Steps: To diagnose sudden patchy hair loss, a thorough medical history and physical examination are necessary. A skin scraping or biopsy may be performed to confirm the diagnosis of alopecia areata. Other conditions that cause similar symptoms, such as tinea capitis (ringworm), eczema, psoriasis, or lupus erythematosus, should be ruled out.\n",
            "3. Treatment Protocol: The treatment for sudden patchy hair loss depends on the severity and extent of the hair loss. In mild cases, no treatment may be necessary, and the condition may resolve spontaneously. Topical corticosteroids, such as hydrocortisone cream or lotion, may be prescribed to reduce inflammation and promote hair growth. Oral medications, such as prednisone, may also be used in more severe cases. In cases of extensive hair loss, anthralin or phototherapy with ultraviolet A (UVA) light may be effective.\n",
            "4. Cautions / Follow-up: Sudden patchy hair loss can be a symptom of an underlying autoimmune disorder, and patients should be monitored for signs of other autoimmune conditions, such as thyroiditis or vitiligo. Patients with a history of atopic dermatitis or other allergic conditions may be more likely to develop alopecia areata. Close follow-up with a dermatologist is necessary to monitor the progression of the condition and adjust treatment as needed.\n",
            "\n",
            "If you do not get clear information, respond with: \"This requires specialist consultation.\"\n"
          ]
        }
      ]
    },
    {
      "cell_type": "markdown",
      "metadata": {
        "id": "AA45zwyUOefg"
      },
      "source": [
        "### Query 4:  What treatments are recommended for a person who has sustained a physical injury to brain tissue, resulting in temporary or permanent impairment of brain function?"
      ]
    },
    {
      "cell_type": "markdown",
      "source": [
        "#### Evidence based prompt"
      ],
      "metadata": {
        "id": "Fnizw1e6m0AA"
      }
    },
    {
      "cell_type": "markdown",
      "source": [
        "**Parameter Combination**\n",
        " - temperature: 0.2, top_p: 0.9, top_k: 40, max_tokens: 1024 **(Very factual, less diverse. Useful for guidelines)**"
      ],
      "metadata": {
        "id": "RNBwlpsGm0x5"
      }
    },
    {
      "cell_type": "code",
      "execution_count": null,
      "metadata": {
        "id": "VA7G8FOnRQZY",
        "colab": {
          "base_uri": "https://localhost:8080/"
        },
        "outputId": "e0002f06-683e-43a0-bb1e-db0fa0bd9031"
      },
      "outputs": [
        {
          "output_type": "stream",
          "name": "stdout",
          "text": [
            "\n",
            "This requires specialist consultation. The treatment for a person with a physical injury to brain tissue depends on the severity and location of the injury, as well as the extent of any resulting impairment of brain function. The Merck Manual does not provide specific guidance on this topic, as it is outside the scope of primary care medicine. However, based on standard medical guidelines from the World Health Organization (WHO), the Centers for Disease Control and Prevention (CDC), and the National Institute for Health and Care Excellence (NICE), the following general principles may be applicable:\n",
            "\n",
            "1. Emergency care: If the injury is recent and severe, emergency medical care should be sought immediately. This may include surgical intervention to relieve pressure on the brain or repair damaged blood vessels.\n",
            "2. Rehabilitation: Depending on the severity of the injury, rehabilitation may be necessary to help regain lost function and improve quality of life. This may include physical therapy, occupational therapy, speech therapy, and cognitive therapy.\n",
            "3. Medications: Various medications may be prescribed to manage symptoms such as pain, seizures, or mood disturbances. These may include analgesics, anticonvulsants, and mood stabilizers.\n",
            "4. Lifestyle modifications: Depending on the nature of the injury, lifestyle modifications such as dietary changes, exercise, and stress management may be recommended to support recovery and overall health.\n",
            "\n",
            "It is important to note that each person's case is unique, and the most appropriate treatment plan will depend on a thorough evaluation by a qualified medical professional. Therefore, it is essential to seek specialist consultation as soon as possible after diagnosis.\n"
          ]
        }
      ],
      "source": [
        "row = answers_df[(answers_df['question'] == 'What treatments are recommended for a person who has sustained a physical injury to brain tissue, resulting in temporary or permanent impairment of brain function?') & (answers_df['prompt_variant'] == 0) & (answers_df['params'] == param_combos[0])]\n",
        "print(row['answer'].values[0])"
      ]
    },
    {
      "cell_type": "markdown",
      "source": [
        "**Parameter Combination**\n",
        " - temperature: 0.5, top_p: 0.8, top_k: 20, max_tokens: 1024 (**Balanced reasoning**)"
      ],
      "metadata": {
        "id": "DURSuz_zm-W_"
      }
    },
    {
      "cell_type": "code",
      "source": [
        "row = answers_df[(answers_df['question'] == 'What treatments are recommended for a person who has sustained a physical injury to brain tissue, resulting in temporary or permanent impairment of brain function?') & (answers_df['prompt_variant'] == 0) & (answers_df['params'] == param_combos[1])]\n",
        "print(row['answer'].values[0])"
      ],
      "metadata": {
        "colab": {
          "base_uri": "https://localhost:8080/"
        },
        "id": "ewGd6zMUni_g",
        "outputId": "9959191b-f5f4-476d-e8b3-135717ba9685"
      },
      "execution_count": null,
      "outputs": [
        {
          "output_type": "stream",
          "name": "stdout",
          "text": [
            "\n",
            "According to The Merck Manual (Nineteenth Edition), the treatment for a person who has sustained a physical injury to brain tissue and is experiencing temporary or permanent impairment of brain function will depend on the severity and location of the injury. \n",
            "The following treatments may be recommended:\n",
            "\n",
            "1. Immediate medical attention: The individual should receive immediate medical attention, including stabilization of vital signs and management of any life-threatening complications.  \n",
            "2. Neuroimaging studies: Neuroimaging studies such as CT or MRI scans may be ordered to evaluate the extent and location of the injury.  \n",
            "3. Supportive care: Supportive care, such as mechanical ventilation, fluids, and electrolyte replacement, may be necessary to maintain the individual's vital functions.  \n",
            "4. Medications: Medications such as analgesics, sedatives, and anticonvulsants may be prescribed to manage symptoms such as pain, agitation, and seizures.  \n",
            "5. Rehabilitation therapy: Rehabilitation therapy, including physical, occupational, and speech therapy, may be necessary to help the individual regain lost function and improve quality of life.  \n",
            "6. Surgery: In some cases, surgery may be necessary to relieve pressure on the brain or repair damaged blood vessels.  \n",
            "\n",
            "It is important to note that the specific treatment plan will depend on the individual's specific needs and medical history, and should only be determined by a qualified medical professional. This requires specialist consultation.\n"
          ]
        }
      ]
    },
    {
      "cell_type": "markdown",
      "source": [
        "**Parameter Combination**\n",
        " - temperature: 0.7, top_p: 0.95, top_k: 50, max_tokens: 1024 (**Fluent, accurate, flexible**)"
      ],
      "metadata": {
        "id": "9i0o49bRnitT"
      }
    },
    {
      "cell_type": "code",
      "source": [
        "row = answers_df[(answers_df['question'] == 'What treatments are recommended for a person who has sustained a physical injury to brain tissue, resulting in temporary or permanent impairment of brain function?') & (answers_df['prompt_variant'] == 0) & (answers_df['params'] == param_combos[2])]\n",
        "print(row['answer'].values[0])"
      ],
      "metadata": {
        "colab": {
          "base_uri": "https://localhost:8080/"
        },
        "id": "KbWbWIRVnnTR",
        "outputId": "9de4a120-a20d-48fe-f354-7f7f75b7343b"
      },
      "execution_count": null,
      "outputs": [
        {
          "output_type": "stream",
          "name": "stdout",
          "text": [
            "\n",
            "This requires specialist consultation.  \n",
            "\n",
            "Please provide additional information regarding the type and severity of the injury, as well as any other relevant medical history.\n"
          ]
        }
      ]
    },
    {
      "cell_type": "markdown",
      "source": [
        "#### Structured prompt"
      ],
      "metadata": {
        "id": "OQMta2rxnnxJ"
      }
    },
    {
      "cell_type": "markdown",
      "source": [
        "**Parameter Combination**\n",
        " - temperature: 0.2, top_p: 0.9, top_k: 40, max_tokens: 1024 **(Very factual, less diverse. Useful for guidelines)**\n"
      ],
      "metadata": {
        "id": "DQxg_K5gnnl6"
      }
    },
    {
      "cell_type": "code",
      "source": [
        "row = answers_df[(answers_df['question'] == 'What treatments are recommended for a person who has sustained a physical injury to brain tissue, resulting in temporary or permanent impairment of brain function?') & (answers_df['prompt_variant'] == 1) & (answers_df['params'] == param_combos[0])]\n",
        "print(row['answer'].values[0])"
      ],
      "metadata": {
        "colab": {
          "base_uri": "https://localhost:8080/"
        },
        "id": "P4bgIAqJnvLj",
        "outputId": "eacbc045-2784-46de-a1cb-be2bb8af3c3a"
      },
      "execution_count": null,
      "outputs": [
        {
          "output_type": "stream",
          "name": "stdout",
          "text": [
            "\n",
            "1. Symptoms/Presentation: The symptoms of a brain injury can vary depending on the location and severity of the injury. Common presenting symptoms may include headache, dizziness, confusion, memory loss, difficulty with speech and language, weakness or paralysis of specific limbs, and changes in behavior or mood.  \n",
            "2. Diagnosis Steps: The diagnosis of a brain injury is typically made through a combination of physical examination, imaging studies such as CT or MRI scans, and laboratory tests to rule out other conditions that may cause similar symptoms.  \n",
            "3. Treatment Protocol: The treatment of a brain injury depends on the severity and location of the injury, as well as the specific symptoms presented by the patient. In general, the goals of treatment are to stabilize the patient, manage any underlying causes of the injury, and promote healing and recovery. This may involve medications such as pain relievers, anti-seizure drugs, and steroids; surgical intervention to relieve pressure or repair damaged tissue; rehabilitation therapies such as physical, occupational, and speech therapy; and supportive care to address any cognitive, emotional, or behavioral changes.  \n",
            "4. Cautions / Follow-up: Patients with a brain injury should be closely monitored for signs of complications such as infection, seizures, or further damage. Regular follow-up appointments with a healthcare provider are essential to assess progress and adjust treatment as needed. In some cases, long-term rehabilitation may be necessary to help the patient regain lost function and improve quality of life.\n"
          ]
        }
      ]
    },
    {
      "cell_type": "markdown",
      "source": [
        "**Parameter Combination**\n",
        " - temperature: 0.5, top_p: 0.8, top_k: 20, max_tokens: 1024 (**Balanced reasoning**)\n"
      ],
      "metadata": {
        "id": "Nzic4bwQntwl"
      }
    },
    {
      "cell_type": "code",
      "source": [
        "row = answers_df[(answers_df['question'] == 'What treatments are recommended for a person who has sustained a physical injury to brain tissue, resulting in temporary or permanent impairment of brain function?') & (answers_df['prompt_variant'] == 1) & (answers_df['params'] == param_combos[1])]\n",
        "print(row['answer'].values[0])"
      ],
      "metadata": {
        "colab": {
          "base_uri": "https://localhost:8080/"
        },
        "id": "FqqIBTjznxOs",
        "outputId": "e640372d-8029-4940-d3de-199c0f8affb5"
      },
      "execution_count": null,
      "outputs": [
        {
          "output_type": "stream",
          "name": "stdout",
          "text": [
            "\n",
            "1. Symptoms/Presentation:  \n",
            "Depending on the location and severity of the injury, symptoms may include headache, dizziness, confusion, weakness or paralysis of specific limbs, difficulty with speech and language, memory loss, and changes in behavior or personality.  \n",
            "\n",
            "2. Diagnosis Steps:  \n",
            "The diagnosis is based on a combination of physical examination, imaging studies such as CT or MRI scans, and laboratory tests to rule out other conditions that may cause similar symptoms.  \n",
            "\n",
            "3. Treatment Protocol:  \n",
            "Treatment for brain injury depends on the severity and location of the injury, as well as the age and overall health of the patient. In general, treatment may include: \n",
            "a) Medications to manage symptoms such as pain, seizures, and inflammation. \n",
            "b) Rehabilitation therapy to improve cognitive, physical, and behavioral functions. \n",
            "c) Surgery to relieve pressure or repair damaged tissue. \n",
            "d) Supportive care to address specific complications such as fluid and electrolyte imbalances, infections, and sleep disturbances.  \n",
            "\n",
            "4. Cautions / Follow-up:  \n",
            "It is important for patients with brain injuries to receive ongoing medical care and monitoring to assess their progress and adjust their treatment plan as needed. Regular follow-up appointments with a neurologist or other specialists may be necessary to ensure the best possible outcome. Additionally, family members and caregivers should be educated on how to provide appropriate support and care for the patient.  \n",
            "\n",
            "Note: This response is based on general information provided in The Merck Manual (Nineteenth Edition) and may not reflect the most current or comprehensive information available on this topic. If you have a specific question about brain injury treatment, it is recommended that you consult with a qualified medical professional for personalized advice.\n"
          ]
        }
      ]
    },
    {
      "cell_type": "markdown",
      "source": [
        "**Parameter Combination**\n",
        " - temperature: 0.7, top_p: 0.95, top_k: 50, max_tokens: 1024 (**Fluent, accurate, flexible**)"
      ],
      "metadata": {
        "id": "Yk-vsKmPnxd1"
      }
    },
    {
      "cell_type": "code",
      "source": [
        "row = answers_df[(answers_df['question'] == 'What treatments are recommended for a person who has sustained a physical injury to brain tissue, resulting in temporary or permanent impairment of brain function?') & (answers_df['prompt_variant'] == 1) & (answers_df['params'] == param_combos[2])]\n",
        "print(row['answer'].values[0])"
      ],
      "metadata": {
        "colab": {
          "base_uri": "https://localhost:8080/"
        },
        "id": "ZAXXxYUfnzQh",
        "outputId": "37a4d023-bd61-47ce-8ab9-220014ba58c0"
      },
      "execution_count": null,
      "outputs": [
        {
          "output_type": "stream",
          "name": "stdout",
          "text": [
            "\n",
            "1. Symptoms/Presentation:  \n",
            "Depending on the severity and location of the injury, symptoms may include headache, confusion, disorientation, loss of consciousness, memory loss, difficulty with speech and language, weakness or paralysis of specific muscle groups, changes in behavior or personality, and seizures.  \n",
            "\n",
            "2. Diagnosis Steps:  \n",
            "Diagnosis is based on a combination of physical examination, medical history, laboratory tests (such as CT or MRI scans), and other diagnostic procedures as appropriate. The severity and location of the injury can be determined using these methods. \n",
            "\n",
            "3. Treatment Protocol:  \n",
            "Treatment for brain injuries depends on the severity and location of the injury, as well as the patient's overall health and medical history. Some common treatments include:  \n",
            "a) Medications to control symptoms such as headache, seizures, and muscle spasticity.  \n",
            "b) Rehabilitation therapy (such as physical, occupational, and speech therapy) to help regain lost function and improve cognitive and behavioral abilities.  \n",
            "c) Surgery may be necessary in some cases to relieve pressure on the brain or repair damaged tissue.  \n",
            "d) Supportive care such as nutritional support, hydration, and pain management. \n",
            "\n",
            "4. Cautions / Follow-up:  \n",
            "It is important for patients with brain injuries to be closely monitored by a healthcare team, as complications can arise at any time. Follow-up appointments with a neurologist or other specialists are usually necessary to assess the patient's progress and adjust treatment plans as needed. Additionally, it is crucial to inform the patient and their family of the potential long-term effects of the injury and provide support and resources for coping with these changes.\n"
          ]
        }
      ]
    },
    {
      "cell_type": "markdown",
      "metadata": {
        "id": "TYXxiSuBOefg"
      },
      "source": [
        "### Query 5: What are the necessary precautions and treatment steps for a person who has fractured their leg during a hiking trip, and what should be considered for their care and recovery?"
      ]
    },
    {
      "cell_type": "markdown",
      "source": [
        "#### Evidence based prompt"
      ],
      "metadata": {
        "id": "ZlvvUohOn4_6"
      }
    },
    {
      "cell_type": "markdown",
      "source": [
        "**Parameter Combination**\n",
        " - temperature: 0.2, top_p: 0.9, top_k: 40, max_tokens: 1024 **(Very factual, less diverse. Useful for guidelines)**\n"
      ],
      "metadata": {
        "id": "0EPEbPGHn616"
      }
    },
    {
      "cell_type": "code",
      "execution_count": null,
      "metadata": {
        "id": "mE2GMQk8RQ_p",
        "colab": {
          "base_uri": "https://localhost:8080/"
        },
        "outputId": "d75e476c-9779-4bf8-f0f6-c13475948e6e"
      },
      "outputs": [
        {
          "output_type": "stream",
          "name": "stdout",
          "text": [
            "\n",
            "Precautions:\n",
            "\n",
            "1. Immobilization: The affected limb must be immobilized using a splint or cast to prevent further damage and promote healing.\n",
            "2. Pain management: Administer pain medication as prescribed by a physician, taking into account the patient's age, weight, and medical history.\n",
            "3. Elevation: Elevate the affected limb above heart level to reduce swelling and improve blood flow.\n",
            "4. Rest: Encourage rest and avoid putting weight on the affected limb to prevent exacerbating the injury.\n",
            "5. Monitoring: Monitor the patient's vital signs, including pulse, breathing rate, and blood pressure, and seek medical attention if there are any changes or concerns.\n",
            "\n",
            "Treatment Steps:\n",
            "\n",
            "1. Stabilization: Stabilize the fracture using a splint or cast to prevent further movement and promote healing.\n",
            "2. Reduction: If the fracture is displaced, perform reduction to realign the bones and restore normal anatomy.\n",
            "3. Immobilization: Immobilize the affected limb for 4-6 weeks to allow the fracture to heal.\n",
            "4. Physical therapy: After the immobilization period, initiate physical therapy to improve range of motion, strength, and function.\n",
            "5. Follow-up: Schedule regular follow-up appointments with a physician to monitor the patient's progress and address any concerns or complications.\n",
            "\n",
            "Considerations for Care and Recovery:\n",
            "\n",
            "1. Wound care: Monitor the wound for signs of infection, such as redness, swelling, or discharge, and provide appropriate wound care.\n",
            "2. Nutrition: Encourage a balanced diet rich in calcium and vitamin D to support bone healing.\n",
            "3. Hydration: Ensure the patient stays hydrated by drinking plenty of water.\n",
            "4. Monitoring for complications: Monitor the patient for signs of complications, such as deep vein thrombosis, pulmonary embolism, or infection, and seek medical attention if there are any concerns.\n",
            "5. Follow-up appointments: Schedule regular follow-up appointments with a physician to monitor the patient's progress and address any concerns or complications.\n"
          ]
        }
      ],
      "source": [
        "row = answers_df[(answers_df['question'] == 'What are the necessary precautions and treatment steps for a person who has fractured their leg during a hiking trip, and what should be considered for their care and recovery?') & (answers_df['prompt_variant'] == 0) & (answers_df['params'] == param_combos[0])]\n",
        "print(row['answer'].values[0])"
      ]
    },
    {
      "cell_type": "markdown",
      "source": [
        "**Parameter Combination**\n",
        " - temperature: 0.5, top_p: 0.8, top_k: 20, max_tokens: 1024 (**Balanced reasoning**)"
      ],
      "metadata": {
        "id": "ZTSarevzn8fa"
      }
    },
    {
      "cell_type": "code",
      "source": [
        "row = answers_df[(answers_df['question'] == 'What are the necessary precautions and treatment steps for a person who has fractured their leg during a hiking trip, and what should be considered for their care and recovery?') & (answers_df['prompt_variant'] == 0) & (answers_df['params'] == param_combos[1])]\n",
        "print(row['answer'].values[0])"
      ],
      "metadata": {
        "colab": {
          "base_uri": "https://localhost:8080/"
        },
        "id": "ysKzDp8Vn9-H",
        "outputId": "22328b69-6141-448e-9d8d-a8f9d4b38e5a"
      },
      "execution_count": null,
      "outputs": [
        {
          "output_type": "stream",
          "name": "stdout",
          "text": [
            "\n",
            "For someone who has fractured their leg during a hiking trip, there are several necessary precautions and treatment steps that should be taken to ensure proper care and recovery.\n",
            "\n",
            "Firstly, it is crucial to immobilize the affected limb to prevent further damage and promote healing. This can be done using a splint or cast, depending on the severity of the fracture. The Merck Manual (Nineteenth Edition) recommends that the splint or cast should be applied in a position that maintains the normal anatomical alignment of the limb.\n",
            "\n",
            "Secondly, it is essential to manage pain effectively. The patient should be given appropriate analgesics, such as nonsteroidal anti-inflammatory drugs (NSAIDs) or opioids, as recommended by their healthcare provider. It is important to monitor the patient's pain levels and adjust the medication accordingly.\n",
            "\n",
            "Thirdly, it is crucial to ensure proper wound care. The wound should be cleaned and covered with a sterile dressing, and any signs of infection, such as redness, swelling, or discharge, should be monitored and addressed promptly.\n",
            "\n",
            "Fourthly, the patient should be monitored for any signs of complications, such as deep vein thrombosis (DVT) or pulmonary embolism (PE). The Merck Manual (Nineteenth Edition) recommends that the patient should be assessed for DVT using clinical examination and imaging studies, such as ultrasonography or venography.\n",
            "\n",
            "Finally, it is essential to consider the patient's overall health and any comorbidities they may have when developing a treatment plan. For example, patients with diabetes or heart disease may require additional medication or precautions during their recovery.\n",
            "\n",
            "In conclusion, proper care and recovery for a person who has fractured their leg during a hiking trip requires immobilization, pain management, wound care, monitoring for complications, and consideration of comorbidities. If you are unsure about any aspect of the treatment plan, it is essential to seek specialist consultation.\n"
          ]
        }
      ]
    },
    {
      "cell_type": "markdown",
      "source": [
        "**Parameter Combination**\n",
        " - temperature: 0.7, top_p: 0.95, top_k: 50, max_tokens: 1024 (**Fluent, accurate, flexible**)"
      ],
      "metadata": {
        "id": "2QNna_Itn_ly"
      }
    },
    {
      "cell_type": "code",
      "source": [
        "row = answers_df[(answers_df['question'] == 'What are the necessary precautions and treatment steps for a person who has fractured their leg during a hiking trip, and what should be considered for their care and recovery?') & (answers_df['prompt_variant'] == 0) & (answers_df['params'] == param_combos[2])]\n",
        "print(row['answer'].values[0])"
      ],
      "metadata": {
        "colab": {
          "base_uri": "https://localhost:8080/"
        },
        "id": "DlqJjEFVoAOa",
        "outputId": "df10a419-11b9-4ae2-ddf1-de2c11d550c3"
      },
      "execution_count": null,
      "outputs": [
        {
          "output_type": "stream",
          "name": "stdout",
          "text": [
            "\n",
            "Precautions:\n",
            "\n",
            "1. Stop all physical activity and rest the affected leg immediately.\n",
            "2. Apply cold compresses to reduce pain and swelling.\n",
            "3. Immobilize the injured leg using a splint or brace to prevent further injury.\n",
            "4. Monitor vital signs, such as pulse, breathing rate, and blood pressure.\n",
            "5. Keep the affected limb elevated to reduce swelling.\n",
            "6. Seek medical attention as soon as possible, especially if there are any signs of infection or neurological damage.\n",
            "\n",
            "Treatment Steps:\n",
            "\n",
            "1. X-rays should be taken to confirm the fracture and determine the severity of the injury.\n",
            "2. The affected limb should be immobilized for 6-8 weeks using a cast or brace.\n",
            "3. Pain management with nonsteroidal anti-inflammatory drugs (NSAIDs) or opioids may be necessary.\n",
            "4. Physical therapy may be required to restore strength and mobility after the cast or brace is removed.\n",
            "5. Monitoring for signs of infection, such as redness, swelling, or increased pain, should be done regularly.\n",
            "\n",
            "Considerations for Care and Recovery:\n",
            "\n",
            "1. Provide emotional support and reassurance to the patient.\n",
            "2. Encourage the patient to follow a healthy diet and exercise program to aid in their recovery.\n",
            "3. Monitor the patient's progress regularly and adjust the treatment plan as necessary.\n",
            "4. Educate the patient on proper wound care and infection prevention techniques.\n",
            "5. Consider referring the patient to a specialist, such as an orthopedic surgeon, if necessary.\n",
            "\n",
            "This requires specialist consultation: What are the long-term effects of a fractured leg on the patient's mobility and quality of life?\n"
          ]
        }
      ]
    },
    {
      "cell_type": "markdown",
      "source": [
        "#### Structured prompt"
      ],
      "metadata": {
        "id": "W2r7NzY4oAua"
      }
    },
    {
      "cell_type": "markdown",
      "source": [
        "**Parameter Combination**\n",
        " - temperature: 0.2, top_p: 0.9, top_k: 40, max_tokens: 1024 **(Very factual, less diverse. Useful for guidelines)**"
      ],
      "metadata": {
        "id": "CWuQC0QBoCRW"
      }
    },
    {
      "cell_type": "code",
      "source": [
        "row = answers_df[(answers_df['question'] == 'What are the necessary precautions and treatment steps for a person who has fractured their leg during a hiking trip, and what should be considered for their care and recovery?') & (answers_df['prompt_variant'] == 1) & (answers_df['params'] == param_combos[0])]\n",
        "print(row['answer'].values[0])"
      ],
      "metadata": {
        "colab": {
          "base_uri": "https://localhost:8080/"
        },
        "id": "MPWXTUOIoDlC",
        "outputId": "8b7f00df-ff77-4df5-8917-6ed9be8fdb17"
      },
      "execution_count": null,
      "outputs": [
        {
          "output_type": "stream",
          "name": "stdout",
          "text": [
            "\n",
            "1. Symptoms/Presentation: A person with a fractured leg may experience severe pain, swelling, bruising, and difficulty moving the affected limb. They may also have an open wound or deformity if the bone is displaced.\n",
            "2. Diagnosis Steps: The diagnosis of a fractured leg should be confirmed by X-ray imaging. Other injuries such as nerve or blood vessel damage should also be ruled out.\n",
            "3. Treatment Protocol: Immobilization of the affected limb with a splint, cast, or brace is essential to promote healing and prevent further injury. Pain management with medication is crucial to ensure the patient's comfort and mobility. In some cases, surgical intervention may be necessary to realign and stabilize the bone.\n",
            "4. Cautions / Follow-up: The patient should be monitored for signs of infection, such as redness, swelling, or increased pain. They should also be advised to avoid putting weight on the affected limb and to follow a rehabilitation program to regain strength and mobility. Regular follow-up appointments with a healthcare provider are necessary to assess progress and address any complications.\n",
            "\n",
            "Note: This answer is based on general information and not specific medical advice. A qualified healthcare professional should be consulted for individualized care and treatment.\n"
          ]
        }
      ]
    },
    {
      "cell_type": "markdown",
      "source": [
        "**Parameter Combination**\n",
        " - temperature: 0.5, top_p: 0.8, top_k: 20, max_tokens: 1024 (**Balanced reasoning**)"
      ],
      "metadata": {
        "id": "4mIMmhdfoDy6"
      }
    },
    {
      "cell_type": "code",
      "source": [
        "row = answers_df[(answers_df['question'] == 'What are the necessary precautions and treatment steps for a person who has fractured their leg during a hiking trip, and what should be considered for their care and recovery?') & (answers_df['prompt_variant'] == 1) & (answers_df['params'] == param_combos[1])]\n",
        "print(row['answer'].values[0])"
      ],
      "metadata": {
        "colab": {
          "base_uri": "https://localhost:8080/"
        },
        "id": "vBHYADa5oFOi",
        "outputId": "7080b3ac-abbe-434b-c858-32448d4991d8"
      },
      "execution_count": null,
      "outputs": [
        {
          "output_type": "stream",
          "name": "stdout",
          "text": [
            "\n",
            "1. Symptoms/Presentation: A person with a fractured leg may experience severe pain, swelling, bruising, and difficulty moving the affected limb. They may also have an open wound or deformity at the site of the fracture.\n",
            "2. Diagnosis Steps: The diagnosis of a fractured leg is typically made through a physical examination and imaging studies such as X-rays or CT scans.\n",
            "3. Treatment Protocol: Immediate treatment for a fractured leg includes immobilization of the affected limb using a splint or cast, application of ice to reduce swelling, and elevation of the affected limb above heart level. Pain management may involve administering analgesics such as acetaminophen or nonsteroidal anti-inflammatory drugs (NSAIDs). Surgical intervention may be necessary in some cases to realign and stabilize the bones.\n",
            "4. Cautions / Follow-up: It is important to monitor the patient for signs of infection, such as increased pain, swelling, or redness around the site of the fracture. Regular follow-up appointments with an orthopedic specialist are necessary to assess the healing process and adjust the treatment plan as needed. Patients should also be cautioned against resuming strenuous activities or weight-bearing exercises before the fracture has fully healed, as this can lead to further complications or prolonged recovery time.\n",
            "\n",
            "Note: This answer is based on general information and not specific to any particular individual case. It is important to seek medical attention immediately if you suspect a fracture or other serious injury.\n"
          ]
        }
      ]
    },
    {
      "cell_type": "markdown",
      "source": [
        "**Parameter Combination**\n",
        " - temperature: 0.7, top_p: 0.95, top_k: 50, max_tokens: 1024 (**Fluent, accurate, flexible**)"
      ],
      "metadata": {
        "id": "U9y5zO_DoFbd"
      }
    },
    {
      "cell_type": "code",
      "source": [
        "row = answers_df[(answers_df['question'] == 'What are the necessary precautions and treatment steps for a person who has fractured their leg during a hiking trip, and what should be considered for their care and recovery?') & (answers_df['prompt_variant'] == 1) & (answers_df['params'] == param_combos[2])]\n",
        "print(row['answer'].values[0])"
      ],
      "metadata": {
        "colab": {
          "base_uri": "https://localhost:8080/"
        },
        "id": "bPijgMD3oHMi",
        "outputId": "5f128c27-d91d-43d4-9516-b111b539a231"
      },
      "execution_count": null,
      "outputs": [
        {
          "output_type": "stream",
          "name": "stdout",
          "text": [
            "\n",
            "1. Symptoms/Presentation:  \n",
            "A person with a fractured leg may present with signs of pain, swelling, bruising, difficulty moving the affected limb, and deformity. They may also experience numbness or tingling sensations in the affected area.\n",
            "2. Diagnosis Steps:  \n",
            "To diagnose a fractured leg, the healthcare provider will typically perform a physical examination and take an X-ray to confirm the presence of a bone fracture. Other imaging tests such as CT or MRI scans may also be ordered to further evaluate the extent of the injury.\n",
            "3. Treatment Protocol:  \n",
            "Treatment for a fractured leg will depend on the severity and location of the injury, but may include the following steps:\n",
            "\t* Immobilization of the affected limb using a cast or brace to promote healing and prevent further damage.\n",
            "\t* Managing pain with medication such as nonsteroidal anti-inflammatory drugs (NSAIDs) or opioids.\n",
            "\t* Elevating the affected limb above heart level to reduce swelling.\n",
            "\t* Monitoring for signs of infection, such as redness, warmth, or pus.\n",
            "\t* Referral to an orthopedic specialist for further evaluation and treatment, if necessary.\n",
            "4. Cautions / Follow-up:  \n",
            "It is important for the person with a fractured leg to follow their healthcare provider's instructions carefully to ensure proper healing and avoid complications. This may include attending follow-up appointments to monitor progress, adjusting immobilization devices as needed, and avoiding strenuous activities until fully recovered. Additionally, if the person experiences any signs of infection or other concerns, they should seek medical attention immediately.  \n",
            "\n",
            "This requires specialist consultation.\n"
          ]
        }
      ]
    },
    {
      "cell_type": "markdown",
      "source": [
        "### Observations (Prompt Engineering + LLM Tuning)\n",
        "\n",
        "**Structure & Format**\n",
        "- Earlier: narrative & general  \n",
        "- Now: organized by parameter sets  \n",
        "- Each combo highlights different response aspects  \n",
        "\n",
        "**Parameter Combinations**\n",
        "1. **Conservative**: Highly factual, guideline-focused, rigid structure  \n",
        "2. **Balanced**: Academic tone, scientific citations, reference sections  \n",
        "3. **Flexible**: Natural flow, accurate but less rigid, better contextualization  \n",
        "\n",
        "**Notable Improvements**\n",
        "- **Citation Quality**: Explicit, numbered references, credible sources  \n",
        "- **Structural Consistency**: Standardized format, clear sections & hierarchy  \n",
        "- **Clinical Focus**: More evidence-based, timing clarity, prioritized interventions  \n",
        "\n",
        "**Areas of Distinction**  \n",
        "- **Sources**: Previous responses were general, while parameter-based responses explicitly cited references.  \n",
        "- **Structure**: Previous responses were more fluid, while parameter-based responses were highly organized.  \n",
        "- **Detail**: Previous responses had consistent detail, while parameter-based responses varied depending on the parameters.  \n",
        "- **Depth**: Previous responses maintained moderate technical depth, while parameter-based responses varied in depth with different parameter settings.  \n",
        "\n",
        "\n",
        "**Recommendation**\n",
        "- Parameter-based tuning + Prompt engineering enables **controlled, evidence-backed, and source-validated** responses.  \n",
        "- Especially valuable for **medical/clinical contexts** where accuracy and credibility are crucial."
      ],
      "metadata": {
        "id": "C8sY3EiUCA1v"
      }
    },
    {
      "cell_type": "markdown",
      "metadata": {
        "id": "t_O1PGdNO2M9"
      },
      "source": [
        "## Data Preparation for RAG"
      ]
    },
    {
      "cell_type": "markdown",
      "metadata": {
        "id": "uTpWESc53dL9"
      },
      "source": [
        "### Loading the Data"
      ]
    },
    {
      "cell_type": "code",
      "execution_count": null,
      "metadata": {
        "id": "ybj2cEnzRSXq"
      },
      "outputs": [],
      "source": [
        "pdf_file = \"/content/drive/MyDrive/medical_diagnosis_manual.pdf\"\n",
        "\n",
        "pdf_loader = PyPDFLoader(pdf_file)"
      ]
    },
    {
      "cell_type": "code",
      "source": [
        "import pickle\n",
        "\n",
        "cache_file = \"/content/drive/MyDrive/mercks_manual_pyloaderobj.pkl\"\n",
        "if os.path.exists(cache_file):\n",
        "    with open(cache_file, \"rb\") as f:\n",
        "        documents = pickle.load(f)\n",
        "else:\n",
        "  documents = pdf_loader.load()\n",
        "  with open(cache_file, \"wb\") as f:\n",
        "      pickle.dump(documents, f)"
      ],
      "metadata": {
        "id": "LGeXoHHqMjnh"
      },
      "execution_count": null,
      "outputs": []
    },
    {
      "cell_type": "markdown",
      "metadata": {
        "id": "ffj0ca3eZT4u"
      },
      "source": [
        "### Data Overview"
      ]
    },
    {
      "cell_type": "markdown",
      "metadata": {
        "id": "f9weTDzMxRRS"
      },
      "source": [
        "#### Checking the first 5 pages"
      ]
    },
    {
      "cell_type": "code",
      "execution_count": null,
      "metadata": {
        "id": "MSEiL--bRTZT",
        "colab": {
          "base_uri": "https://localhost:8080/"
        },
        "outputId": "5210eba2-5211-4dc8-c142-0f06c9d54392"
      },
      "outputs": [
        {
          "output_type": "stream",
          "name": "stdout",
          "text": [
            "\n",
            "\n",
            "\n",
            "---------- Page 1 ----------\n",
            "harshk2010@gmail.com\n",
            "7OSEGCMQD0\n",
            "This file is meant for personal use by harshk2010@gmail.com only.\n",
            "Sharing or publishing the contents in part or full is liable for legal action.\n",
            "\n",
            "\n",
            "\n",
            "\n",
            "---------- Page 2 ----------\n",
            "harshk2010@gmail.com\n",
            "7OSEGCMQD0\n",
            "This file is meant for personal use by harshk2010@gmail.com only.\n",
            "Sharing or publishing the contents in part or full is liable for legal action.\n",
            "\n",
            "\n",
            "\n",
            "\n",
            "---------- Page 3 ----------\n",
            "Table of Contents\n",
            "1\n",
            "Front  \n",
            "  ................................................................................................................................................................................................................\n",
            "1\n",
            "Cover  \n",
            "  .......................................................................................................................................................................................................\n",
            "2\n",
            "Front Matter  \n",
            "  ...........................................................................................................................................................................................\n",
            "53\n",
            "1 - Nutritional Disorders  \n",
            "  ...............................................................................................................................................................\n",
            "53\n",
            "Chapter 1. Nutrition: General Considerations  \n",
            "\n",
            "\n",
            "\n",
            "---------- Page 4 ----------\n",
            "491\n",
            "Chapter 44. Foot & Ankle Disorders  \n",
            "  .....................................................................................................................................\n",
            "502\n",
            "Chapter 45. Tumors of Bones & Joints  \n",
            "  ...............................................................................................................................\n",
            "510\n",
            "5 - Ear, Nose, Throat & Dental Disorders  \n",
            "  ..................................................................................................................\n",
            "510\n",
            "Chapter 46. Approach to the Patient With Ear Problems  \n",
            "  ...........................................................................................\n",
            "523\n",
            "Chapter 47. Hearing Loss  \n",
            "  .........................................................................................................................................................\n",
            "535\n",
            "Chapter 48. Inner Ear Disorders  \n",
            "  .....\n",
            "\n",
            "\n",
            "\n",
            "---------- Page 5 ----------\n",
            "921\n",
            "Chapter 94. Adrenal Disorders  \n",
            "  ................................................................................................................................................\n",
            "936\n",
            "Chapter 95. Polyglandular Deficiency Syndromes  \n",
            "  ........................................................................................................\n",
            "939\n",
            "Chapter 96. Porphyrias  \n",
            "  ..............................................................................................................................................................\n",
            "949\n",
            "Chapter 97. Fluid & Electrolyte Metabolism  \n",
            "  .....................................................................................................................\n",
            "987\n",
            "Chapter 98. Acid-Base Regulation & Disorders  \n",
            "  ..............................................................................................................\n",
            "1001\n",
            "Chapter 99. Diabetes Mellitus\n"
          ]
        }
      ],
      "source": [
        "# Inspect first 5 pages\n",
        "for i, doc in enumerate(documents[:5]):\n",
        "    print(f\"\\n\\n\\n---------- Page {i+1} ----------\")\n",
        "    print(doc.page_content[:900])  # print first 500 characters of page"
      ]
    },
    {
      "cell_type": "markdown",
      "metadata": {
        "id": "7-wNNalNxPKT"
      },
      "source": [
        "#### Checking the number of pages"
      ]
    },
    {
      "cell_type": "code",
      "execution_count": null,
      "metadata": {
        "id": "-NuC-6SNRT7K",
        "colab": {
          "base_uri": "https://localhost:8080/"
        },
        "outputId": "dbb9e00a-efc4-4859-f074-109eb9cd258f"
      },
      "outputs": [
        {
          "output_type": "stream",
          "name": "stdout",
          "text": [
            "Total pages loaded: 4114\n"
          ]
        }
      ],
      "source": [
        "print(f\"Total pages loaded: {len(documents)}\")"
      ]
    },
    {
      "cell_type": "markdown",
      "source": [
        "### Embedding"
      ],
      "metadata": {
        "id": "z9INAo03P3-q"
      }
    },
    {
      "cell_type": "code",
      "source": [
        "embedding_model = SentenceTransformerEmbeddings(model_name='thenlper/gte-large')"
      ],
      "metadata": {
        "colab": {
          "base_uri": "https://localhost:8080/",
          "height": 407,
          "referenced_widgets": [
            "6b4eab75c47a4da78320419736ab331c",
            "e50e561ecb414bf89e413cec21ab2369",
            "dc0651a18c1d43b1805b3ab7bfd707c5",
            "d7dccd04963c4658b1747c382a048518",
            "97c1bccb648b48329ff1e48182346e61",
            "aa2579a85d6944cc88547eab9c7bad8b",
            "19d3178663b74e56b6fbf3e77608c379",
            "2d2194188324462b883e5a9023d26dd8",
            "6ede7f74942f4beb9d1ec3b51718990d",
            "1c5bbb6c82cf4a1da453ca63f8ef3aef",
            "e310a3afd8ae40a791767af7d1e6602e",
            "3ebaf755a47846b889619a97c68f6f42",
            "0182590747b345b49c9a20b90d7ee326",
            "7ccf9b6d0b55421ab52841103a583889",
            "ae173235993940f293cc30430b6e9b78",
            "3ecaa3f6af714c148e578b3f8b48de84",
            "dfbb429d285646c08fd376bde8f0fe87",
            "f3177a2f953a4346870defbe9b33ef24",
            "d829337a73b047f99db94314c619d981",
            "af6bd2225ae542eab07aa33877f586f1",
            "dd1190825fca46fcb645dc7ce9d0dc39",
            "ce7eda02de0c41a983fbbc0fd74f81e0",
            "b75ba113337a4577a92e32cf4cc8cce7",
            "8a172de29e0b4bd3998c020d8d904f82",
            "a5a7cab85b864d1585771338f08bad98",
            "844149b7472045aa87ca3c0b5d3523f0",
            "ac5cac0e7e634ab3a6a8c48aa7ac20a4",
            "ce1a9cf937694197bb05270c60a81d57",
            "51ed0b83fad641a5ae456547f9ff2906",
            "2610ebc378994fbda25a6e1d6641ff65",
            "da455b6d302c41729ae5c3b47266fb17",
            "b7140495150345f0ba8596e57c549032",
            "9cf041d8960e4231a98077b51c6c79d6",
            "bdb9ff54a9ff4d91a1edec44ac0dc02b",
            "abfea56e79284401b01386f600b46e23",
            "d52335d91e6b4f5e974f090e82587a75",
            "0fb23b843da544fb907d0ccae3254170",
            "9f562959839c4b74a359b0fa41d273ba",
            "08bc94ac59e245c1a1569a7badf9dab7",
            "243418e756924d40bcc3c7b29223ebd7",
            "ebf86c62d7ed4c9cab02b6666248897f",
            "f414987d8a964d37b0f0286ad71a5815",
            "1da44277aac3484ea7058f1a6774f763",
            "37d89bc0a8764c58881fdcd794aaa13a",
            "949304f9f7234681a9c9bd816b551835",
            "e07b00defbc3460b9e25d0287c59de82",
            "6797668d6d7e40c5a54cb444abea5d97",
            "b2dde5c470e145b795e0b3adc1c4341f",
            "a6d9f2f513274a1da647522856ddde06",
            "305ebb38cfdc490db93fdeac33062e58",
            "ffb9ecd4a74c42e5bfa7f2a16b2cc761",
            "94a914bf3f9a40e4b40c44f41936c05d",
            "0dcea5004a344f389a490351bc70046c",
            "4640d01054a440db901ccaa7bd980af9",
            "cd1056ec69a241d69d5a489bba44c024",
            "612e4428a8534c41b6a8a716353baf9c",
            "318b7aedc1464db18e08c880d65d87a7",
            "e28c614c184a4568b0fd255b4bd3d681",
            "be4690fcdefd4a908d55e653aec687f9",
            "341b14c918d84cfebbf578b00a35e283",
            "d584941ed9ac427faa484012a1980037",
            "6db0a7829e44495da9fc32015ad82f43",
            "bc9db3af834f4c9295e17c7cc7fed87a",
            "f7279fcb3685466cb92dfbbf462207a8",
            "67507b39884044e3ad3cac354b933973",
            "d8c6f06e3a364a2db762d7981ac16f56",
            "c870159988ae4ecbb454b379596bbcef",
            "140492f266674ad1a5f52f92e817547f",
            "9fcbf02ae9374a26b893226107dd37c7",
            "d48368081cea4abd9f76aa52cb9860e9",
            "eeaf110025ae45b0b5b461689e9942f3",
            "e83ba85c084e4c7aa79bbeb4face1bc0",
            "e06883b1e11c42e3b96d4d82f31c625a",
            "4369f008c8a04ff78889dea9fb207168",
            "6f2d8dd8c44f4cce92c1fbaf9e3e4083",
            "21c380a888d5461bac6ef2129cf1ce05",
            "9e3b010f54274c2bb7bf75b5d00e62a1",
            "da61ad02a1b14b988bd4a6b791cc3e62",
            "cc59c2de26264df092627684956e09bc",
            "9738bd02d93142b984b82c52e65bfd53",
            "11d5dbafd0ea40f2997d634066953af9",
            "391308465fd14fe4991504b75cb23cf2",
            "33552ee12f8840de95e46ea53f616962",
            "781e2d946b5445c4b34ce1489ac37b91",
            "99c032d61a5844489d41914b776f5793",
            "a02238f381f0417dade7e4b06dd7635f",
            "cba9cae5d3144ea79746e392f78c0533",
            "bd03c946bf03444bb86731a9254fc689",
            "387ae12f447b4198824bfd4d9575a9fd",
            "9bd307b6db854a128f4a0caf840895a8",
            "bd26077d6141452db2028517a5b7cced",
            "43521de5bb424bc0a8d3aa4b55b80cf5",
            "271799b14afb46f28a6e33e1c53ce51e",
            "1e3bd0334f31484a88bd6ef991a4ccbc",
            "2636340c81544402b42f57e9f09a0fd2",
            "eb254483090c4b1c88baf30da9d16cd3",
            "db1e0fe98cca46c888b72335c485138e",
            "478b3f3de03a467ab0e81db27cd665c8",
            "f817e1afa7034000813e0c152196d706",
            "18ab2c33bce74bfdb4f4fb987502c025",
            "d39047c4ea84475c898621620e1aaff5",
            "3594fc6dea6841cab4ed0c648aaa5340",
            "848995cb473d44adbe287a04df865f89",
            "9dd5d18129304e7088f0aa6d4ddd2fd0",
            "c5301c06458444409e3ea7228fe71a43",
            "ab4675c3fff842c5a47407a73f4b8975",
            "0f22ea006dad43b8b2414a49551291f0",
            "f7797d6ab28142c1a1edb13df374c84b",
            "11f8ecc3f55d436e83e41dae2d1ee42a",
            "7adc6049d37f447d88f36e924a2788af",
            "a6eee97067024eb1b63204a4b28af08a",
            "c3f84468449e4be6b8e0456032642213",
            "936e78e4769a425d9ae53d5b3f71b8f9",
            "3f314d082df142f480467ba5fb08717f",
            "dfa4464c20524de4b9188daa555b8115",
            "3c71c32719294d7f84a906bc5adfc4aa",
            "f9c3296953ad4b14bbf5692e34320436",
            "067a74f5e175485985e71242bdeb5b4d",
            "26e6f33723a0489ea5560ce9924a6ebb",
            "6052b5937d7746968175d31668d3a09e",
            "97e1742a2c664b6ea67588b4d707ab32"
          ]
        },
        "id": "NJ25M4uuP8NO",
        "outputId": "97bc8455-64ea-4ebc-f690-1bd6093d3301"
      },
      "execution_count": null,
      "outputs": [
        {
          "output_type": "stream",
          "name": "stderr",
          "text": [
            "The cache for model files in Transformers v4.22.0 has been updated. Migrating your old cache. This is a one-time only operation. You can interrupt this and resume the migration later on by calling `transformers.utils.move_cache()`.\n"
          ]
        },
        {
          "output_type": "display_data",
          "data": {
            "text/plain": [
              "0it [00:00, ?it/s]"
            ],
            "application/vnd.jupyter.widget-view+json": {
              "version_major": 2,
              "version_minor": 0,
              "model_id": "6b4eab75c47a4da78320419736ab331c"
            }
          },
          "metadata": {}
        },
        {
          "output_type": "display_data",
          "data": {
            "text/plain": [
              "modules.json:   0%|          | 0.00/385 [00:00<?, ?B/s]"
            ],
            "application/vnd.jupyter.widget-view+json": {
              "version_major": 2,
              "version_minor": 0,
              "model_id": "3ebaf755a47846b889619a97c68f6f42"
            }
          },
          "metadata": {}
        },
        {
          "output_type": "display_data",
          "data": {
            "text/plain": [
              "README.md: 0.00B [00:00, ?B/s]"
            ],
            "application/vnd.jupyter.widget-view+json": {
              "version_major": 2,
              "version_minor": 0,
              "model_id": "b75ba113337a4577a92e32cf4cc8cce7"
            }
          },
          "metadata": {}
        },
        {
          "output_type": "display_data",
          "data": {
            "text/plain": [
              "sentence_bert_config.json:   0%|          | 0.00/57.0 [00:00<?, ?B/s]"
            ],
            "application/vnd.jupyter.widget-view+json": {
              "version_major": 2,
              "version_minor": 0,
              "model_id": "bdb9ff54a9ff4d91a1edec44ac0dc02b"
            }
          },
          "metadata": {}
        },
        {
          "output_type": "display_data",
          "data": {
            "text/plain": [
              "config.json:   0%|          | 0.00/619 [00:00<?, ?B/s]"
            ],
            "application/vnd.jupyter.widget-view+json": {
              "version_major": 2,
              "version_minor": 0,
              "model_id": "949304f9f7234681a9c9bd816b551835"
            }
          },
          "metadata": {}
        },
        {
          "output_type": "display_data",
          "data": {
            "text/plain": [
              "model.safetensors:   0%|          | 0.00/670M [00:00<?, ?B/s]"
            ],
            "application/vnd.jupyter.widget-view+json": {
              "version_major": 2,
              "version_minor": 0,
              "model_id": "612e4428a8534c41b6a8a716353baf9c"
            }
          },
          "metadata": {}
        },
        {
          "output_type": "display_data",
          "data": {
            "text/plain": [
              "tokenizer_config.json:   0%|          | 0.00/342 [00:00<?, ?B/s]"
            ],
            "application/vnd.jupyter.widget-view+json": {
              "version_major": 2,
              "version_minor": 0,
              "model_id": "c870159988ae4ecbb454b379596bbcef"
            }
          },
          "metadata": {}
        },
        {
          "output_type": "display_data",
          "data": {
            "text/plain": [
              "vocab.txt: 0.00B [00:00, ?B/s]"
            ],
            "application/vnd.jupyter.widget-view+json": {
              "version_major": 2,
              "version_minor": 0,
              "model_id": "da61ad02a1b14b988bd4a6b791cc3e62"
            }
          },
          "metadata": {}
        },
        {
          "output_type": "display_data",
          "data": {
            "text/plain": [
              "tokenizer.json: 0.00B [00:00, ?B/s]"
            ],
            "application/vnd.jupyter.widget-view+json": {
              "version_major": 2,
              "version_minor": 0,
              "model_id": "387ae12f447b4198824bfd4d9575a9fd"
            }
          },
          "metadata": {}
        },
        {
          "output_type": "display_data",
          "data": {
            "text/plain": [
              "special_tokens_map.json:   0%|          | 0.00/125 [00:00<?, ?B/s]"
            ],
            "application/vnd.jupyter.widget-view+json": {
              "version_major": 2,
              "version_minor": 0,
              "model_id": "18ab2c33bce74bfdb4f4fb987502c025"
            }
          },
          "metadata": {}
        },
        {
          "output_type": "display_data",
          "data": {
            "text/plain": [
              "config.json:   0%|          | 0.00/191 [00:00<?, ?B/s]"
            ],
            "application/vnd.jupyter.widget-view+json": {
              "version_major": 2,
              "version_minor": 0,
              "model_id": "a6eee97067024eb1b63204a4b28af08a"
            }
          },
          "metadata": {}
        }
      ]
    },
    {
      "cell_type": "markdown",
      "metadata": {
        "id": "LECMxTH-zB-R"
      },
      "source": [
        "### Data Chunking"
      ]
    },
    {
      "cell_type": "code",
      "execution_count": null,
      "metadata": {
        "id": "ir9Zi8rKRUmG"
      },
      "outputs": [],
      "source": [
        "# Recursive split to fit LLM context\n",
        "recursive_splitter = RecursiveCharacterTextSplitter.from_tiktoken_encoder(\n",
        "    encoding_name='cl100k_base',\n",
        "    chunk_size=512,        # Final LLM-friendly chunk size\n",
        "    chunk_overlap=75       # Maintain context across chunks\n",
        ")\n",
        "\n",
        "document_chunks = recursive_splitter.split_documents(documents)"
      ]
    },
    {
      "cell_type": "markdown",
      "metadata": {
        "id": "qiKCOv4X0d7B"
      },
      "source": [
        "### Vector Database"
      ]
    },
    {
      "cell_type": "code",
      "execution_count": null,
      "metadata": {
        "id": "vHHt1MQQRVzs",
        "colab": {
          "base_uri": "https://localhost:8080/"
        },
        "outputId": "21025fd0-9765-4a91-c1dd-08e751717c47"
      },
      "outputs": [
        {
          "output_type": "stream",
          "name": "stderr",
          "text": [
            "ERROR:chromadb.telemetry.product.posthog:Failed to send telemetry event ClientStartEvent: capture() takes 1 positional argument but 3 were given\n",
            "ERROR:chromadb.telemetry.product.posthog:Failed to send telemetry event ClientCreateCollectionEvent: capture() takes 1 positional argument but 3 were given\n"
          ]
        }
      ],
      "source": [
        "report = \"medical_assistant_qna\"\n",
        "persist_dir = \"/content/drive/MyDrive/chroma_db\"\n",
        "\n",
        "if not os.path.exists(persist_dir):\n",
        "    vectorstore = Chroma.from_documents(\n",
        "        document_chunks,\n",
        "        embedding_model,\n",
        "        collection_name=report,\n",
        "        persist_directory=persist_dir\n",
        "    )\n",
        "    vectorstore.persist()\n",
        "else:\n",
        "    vectorstore = Chroma(\n",
        "        collection_name=report,\n",
        "        embedding_function=embedding_model,\n",
        "        persist_directory=persist_dir\n",
        "    )\n"
      ]
    },
    {
      "cell_type": "markdown",
      "metadata": {
        "id": "uEa5sKc41T1z"
      },
      "source": [
        "### Retriever"
      ]
    },
    {
      "cell_type": "code",
      "execution_count": null,
      "metadata": {
        "id": "wBlQUGx3RWUD"
      },
      "outputs": [],
      "source": [
        "retriever = vectorstore.as_retriever(\n",
        "    search_type='similarity',\n",
        "    search_kwargs={'k': 6}\n",
        ")"
      ]
    },
    {
      "cell_type": "markdown",
      "metadata": {
        "id": "vw8qcwq66B0C",
        "nteract": {
          "transient": {
            "deleting": false
          }
        }
      },
      "source": [
        "### System and User Prompt Template"
      ]
    },
    {
      "cell_type": "code",
      "execution_count": null,
      "metadata": {
        "id": "GF_4399TRW5D"
      },
      "outputs": [],
      "source": [
        "qna_system_message = \"\"\"\n",
        "You are a highly knowledgeable medical assistant.\n",
        "Use only the information in ###Context to answer the question.\n",
        "Answer in clear, concise language suitable for medical professionals or students.\n",
        "- Do not make assumptions beyond the context.\n",
        "- If the answer cannot be determined from the context, respond \"I don't know\".\n",
        "- Include relevant treatment names, doses, or procedures only if present in the context.\n",
        "- For multi-part questions, answer each part clearly and separately.\n",
        "\"\"\""
      ]
    },
    {
      "cell_type": "code",
      "source": [
        "qna_user_message_template = \"\"\"\n",
        "Consider the following ###Context and ###Question\n",
        "###Context\n",
        "{context}\n",
        "\n",
        "###Question\n",
        "{question}\n",
        "\n",
        "Answer:\n",
        "\n",
        "\"\"\""
      ],
      "metadata": {
        "id": "QfbWf7yehTxE"
      },
      "execution_count": null,
      "outputs": []
    },
    {
      "cell_type": "markdown",
      "metadata": {
        "id": "TkIteX4m6mny"
      },
      "source": [
        "### Response Function"
      ]
    },
    {
      "cell_type": "code",
      "execution_count": null,
      "metadata": {
        "id": "5jFvGnOJRXZx"
      },
      "outputs": [],
      "source": [
        "def generate_rag_response(user_input,k=3,max_tokens=512,temperature=0,top_p=0.95,top_k=50):\n",
        "    global qna_system_message,qna_user_message_template\n",
        "    # Retrieve relevant document chunks\n",
        "    relevant_document_chunks = retriever.get_relevant_documents(query=user_input,k=k)\n",
        "    context_list = [d.page_content for d in relevant_document_chunks]\n",
        "\n",
        "    # Combine document chunks into a single context\n",
        "    context_for_query = \". \".join(context_list)\n",
        "\n",
        "    user_message = qna_user_message_template.replace('{context}', context_for_query)\n",
        "    user_message = user_message.replace('{question}', user_input)\n",
        "\n",
        "    prompt = qna_system_message + '\\n' + user_message\n",
        "\n",
        "    # Generate the response\n",
        "    try:\n",
        "        response = lcpp_llm(\n",
        "                  prompt=prompt,\n",
        "                  max_tokens=max_tokens,\n",
        "                  temperature=temperature,\n",
        "                  top_p=top_p,\n",
        "                  top_k=top_k\n",
        "                  )\n",
        "\n",
        "        # Extract and print the model's response\n",
        "        response = response['choices'][0]['text'].strip()\n",
        "    except Exception as e:\n",
        "        response = f'Sorry, I encountered the following error: \\n {e}'\n",
        "\n",
        "    return response"
      ]
    },
    {
      "cell_type": "markdown",
      "metadata": {
        "id": "ffP1SRYbPQHN"
      },
      "source": [
        "## Question Answering using RAG"
      ]
    },
    {
      "cell_type": "markdown",
      "metadata": {
        "id": "JjajBEj06B0E"
      },
      "source": [
        "### Query 1: What is the protocol for managing sepsis in a critical care unit?"
      ]
    },
    {
      "cell_type": "code",
      "execution_count": null,
      "metadata": {
        "id": "Nlo9sMpPRbTP",
        "colab": {
          "base_uri": "https://localhost:8080/"
        },
        "outputId": "16970129-48c9-4067-a62b-f62de6078c81"
      },
      "outputs": [
        {
          "output_type": "stream",
          "name": "stderr",
          "text": [
            "Llama.generate: prefix-match hit\n"
          ]
        },
        {
          "output_type": "stream",
          "name": "stdout",
          "text": [
            "The management of sepsis in a critical care unit should be guided by the Surviving Sepsis Campaign (SSC) guidelines. The SSC recommends the following protocol for managing sepsis:\n",
            "\n",
            "1. Early recognition and diagnosis of sepsis:\n",
            "\t* Use clinical criteria such as SIRS or QSEOR to identify patients with suspected infection.\n",
            "\t* Perform blood cultures and obtain other diagnostic tests (e.g., complete blood count, serum lactate) to confirm the diagnosis of sepsis.\n",
            "2. Early administration of antibiotics:\n",
            "\t* Use broad-spectrum antibiotics effective against common causes of sepsis, such as gram-negative bacteria and Staphylococcus aureus.\n",
            "\t* Administer antibiotics within the first hour of recognition of sepsis.\n",
            "3. Fluid resuscitation:\n",
            "\t* Use crystalloid fluids (e.g., 0.9% saline) to restore intravascular volume and improve perfusion.\n",
            "\t* Administer fluid resuscitation promptly, ideally within the first hour of recognition of sepsis.\n",
            "4. Monitoring and management of vital signs:\n",
            "\t* Monitor blood pressure, tissue perfusion (e.g., using central venous oxygen saturation or pulse oximetry), and other vital signs regularly.\n",
            "\t* Manage vital signs actively to maintain optimal perfusion and avoid hypotension or hypoxia.\n",
            "5. Management of respiratory and cardiovascular dysfunction:\n",
            "\t* Provide mechanical ventilation as needed to support respiratory function.\n",
            "\t* Use vasopressors (e.g., norepinephrine, dopamine) to maintain mean arterial pressure ≥ 65 mmHg and to avoid hypotension.\n",
            "6. Management of coagulopathy:\n",
            "\t* Monitor coagulation parameters (e.g., prothrombin time, partial thromboplastin time) regularly.\n",
            "\t* Use fresh frozen plasma or cryoprecipitate as needed to correct coagulopathy.\n",
            "7. Surgical intervention:\n",
            "\t* Consider surgical intervention (e.g.,\n"
          ]
        }
      ],
      "source": [
        "print(generate_rag_response(\"What is the protocol for managing sepsis in a critical care unit?\"))"
      ]
    },
    {
      "cell_type": "markdown",
      "metadata": {
        "id": "QDw8zXuq6B0F"
      },
      "source": [
        "### Query 2: What are the common symptoms for appendicitis, and can it be cured via medicine? If not, what surgical procedure should be followed to treat it?"
      ]
    },
    {
      "cell_type": "code",
      "execution_count": null,
      "metadata": {
        "id": "PVReF4G8RbzR",
        "colab": {
          "base_uri": "https://localhost:8080/"
        },
        "outputId": "2c57e3d0-a18b-415f-fe94-14001aec531a"
      },
      "outputs": [
        {
          "output_type": "stream",
          "name": "stderr",
          "text": [
            "Llama.generate: prefix-match hit\n"
          ]
        },
        {
          "output_type": "stream",
          "name": "stdout",
          "text": [
            "The common symptoms of appendicitis include severe pain in the abdomen, nausea, vomiting, fever, loss of appetite, and constipation. However, these symptoms are not always present or may be mild in some cases. Appendicitis is a medical emergency that requires prompt surgical intervention.\n",
            "\n",
            "Medications can help manage the symptoms but cannot cure appendicitis. Antibiotics may be given to prevent infection, and pain medication may be prescribed to alleviate discomfort. However, these medications do not address the underlying cause of the inflammation.\n",
            "\n",
            "The surgical procedure for treating appendicitis is an appendectomy, which involves removing the inflamed appendix. The two types of appendectomies are open and laparoscopic.\n",
            "\n",
            "Open Appendectomy: This is the traditional method, where a single incision is made in the lower right abdomen to remove the inflamed appendix.\n",
            "\n",
            "Laparoscopic Appendectomy: This is a minimally invasive procedure, where three small incisions are made in the abdomen, and a laparoscope (a thin tube with a camera) is inserted to visualize the appendix. The inflamed appendix is then removed through one of the small incisions.\n",
            "\n",
            "Both procedures have similar success rates and complication rates. However, laparoscopic appendectomy has a faster recovery time and may reduce the risk of wound infections.\n",
            "\n",
            "In summary, appendicitis requires prompt surgical intervention, and medications can only help manage symptoms. The choice of surgical procedure depends on the patient's condition and the surgeon's preference.\n"
          ]
        }
      ],
      "source": [
        "print(generate_rag_response(\"What are the common symptoms for appendicitis, and can it be cured via medicine? If not, what surgical procedure should be followed to treat it?\"))"
      ]
    },
    {
      "cell_type": "markdown",
      "metadata": {
        "id": "TggYyQPL6B0G"
      },
      "source": [
        "### Query 3: What are the effective treatments or solutions for addressing sudden patchy hair loss, commonly seen as localized bald spots on the scalp, and what could be the possible causes behind it?"
      ]
    },
    {
      "cell_type": "code",
      "execution_count": null,
      "metadata": {
        "id": "0aRbadGtRcX0",
        "colab": {
          "base_uri": "https://localhost:8080/"
        },
        "outputId": "21ed3452-cf63-4a32-e641-5fe9eec0d8bc"
      },
      "outputs": [
        {
          "output_type": "stream",
          "name": "stderr",
          "text": [
            "Llama.generate: prefix-match hit\n"
          ]
        },
        {
          "output_type": "stream",
          "name": "stdout",
          "text": [
            "Based on the provided context, sudden patchy hair loss, commonly seen as localized bald spots on the scalp, can be caused by various factors such as alopecia areata, lichen planopilaris, or scarring alopecia. The most effective treatments for addressing this condition depend on the underlying cause.\n",
            "\n",
            "For alopecia areata, topical corticosteroids, intralesional corticosteroid injections, or oral immunosuppressants may be prescribed to suppress the immune system and promote hair growth. In cases of lichen planopilaris, treatment with oral antimalarials, topical corticosteroids, or immunomodulators may be effective.\n",
            "\n",
            "For scarring alopecia, long-acting oral tetracycline in combination with a potent topical corticosteroid may be recommended. Additionally, addressing any underlying conditions such as atopy, psoriasis, or systemic lupus erythematosus can help resolve the hair loss.\n",
            "\n",
            "It is essential to consult a dermatologist for an accurate diagnosis and appropriate treatment plan. The dermatologist may perform a scalp biopsy to confirm the diagnosis and differentiate between scarring and nonscarring forms of alopecia. Treatment options may also involve behavior modification, medications such as clomipramine or selective serotonin reuptake inhibitors (SSRIs), or surgical procedures like hair transplantation.\n",
            "\n",
            "In conclusion, the most effective treatment for sudden patchy hair loss depends on the underlying cause, and a proper diagnosis is crucial to determine the appropriate course of treatment.\n"
          ]
        }
      ],
      "source": [
        "print(generate_rag_response(\"What are the effective treatments or solutions for addressing sudden patchy hair loss, commonly seen as localized bald spots on the scalp, and what could be the possible causes behind it?\"))"
      ]
    },
    {
      "cell_type": "markdown",
      "metadata": {
        "id": "1TgxdI-_6B0G"
      },
      "source": [
        "### Query 4:  What treatments are recommended for a person who has sustained a physical injury to brain tissue, resulting in temporary or permanent impairment of brain function?"
      ]
    },
    {
      "cell_type": "code",
      "execution_count": null,
      "metadata": {
        "id": "0vzRX1TcRc29",
        "colab": {
          "base_uri": "https://localhost:8080/"
        },
        "outputId": "d8a21e50-84f6-4abc-9883-d61035336b4f"
      },
      "outputs": [
        {
          "output_type": "stream",
          "name": "stderr",
          "text": [
            "Llama.generate: prefix-match hit\n"
          ]
        },
        {
          "output_type": "stream",
          "name": "stdout",
          "text": [
            "Based on the information provided in the context, the following treatments are recommended for a person who has sustained a physical injury to brain tissue, resulting in temporary or permanent impairment of brain function:\n",
            "\n",
            "1. Rehabilitation services should be planned early, including physical, occupational, and speech therapy, skill-building activities, and counseling to meet the patient's social and emotional needs.\n",
            "2. Surgery may be necessary in patients with more severe injury to place monitors to track and treat intracranial pressure, decompress the brain if intracranial hematomas are present, or remove intracranial hematomas.\n",
            "3. Cognitive and emotional support is crucial for patients with traumatic brain injury (TBI), including family education and early intervention by rehabilitation specialists to maximize functional recovery.\n",
            "4. Specific syndromes such as agnosia, amnesia, aphasia, and apraxia may require individualized treatment approaches, including neuropsychologic testing and brain imaging to identify the cause of the lesion.\n",
            "5. Drugs may be given to prevent seizures if head injury causes significant structural injury or a Glasgow Coma Scale (GCS) score of < 10. Long-term treatment with drugs is required for patients who experience posttraumatic seizures > 1 wk after head injury.\n",
            "6. The appropriate dose of any drug is the lowest dose that stops all seizures and has the fewest adverse effects, regardless of blood drug level.\n",
            "\n",
            "It is important to note that the specific treatment approach will depend on the severity and location of the injury, as well as the patient's age, overall health, and other individual factors.\n"
          ]
        }
      ],
      "source": [
        "print(generate_rag_response(\"What treatments are recommended for a person who has sustained a physical injury to brain tissue, resulting in temporary or permanent impairment of brain function?\"))"
      ]
    },
    {
      "cell_type": "markdown",
      "metadata": {
        "id": "FlHXYCkm6B0H"
      },
      "source": [
        "### Query 5: What are the necessary precautions and treatment steps for a person who has fractured their leg during a hiking trip, and what should be considered for their care and recovery?"
      ]
    },
    {
      "cell_type": "code",
      "execution_count": null,
      "metadata": {
        "id": "sarpUibcRdhq",
        "colab": {
          "base_uri": "https://localhost:8080/"
        },
        "outputId": "17f7f14b-837c-4573-d603-4333e1789b00"
      },
      "outputs": [
        {
          "output_type": "stream",
          "name": "stderr",
          "text": [
            "Llama.generate: prefix-match hit\n"
          ]
        },
        {
          "output_type": "stream",
          "name": "stdout",
          "text": [
            "Based on the provided context, here is the answer to the question:\n",
            "\n",
            "For a person who has fractured their leg during a hiking trip, necessary precautions and treatment steps include:\n",
            "\n",
            "1. Immobilization: The affected limb should be immobilized using a splint or cast to prevent further injury and promote healing.\n",
            "2. Pain management: Analgesics and NSAIDs should be prescribed to manage pain and reduce inflammation.\n",
            "3. Elevation: The affected limb should be elevated above the heart level to reduce swelling and promote blood flow.\n",
            "4. Cleanliness: The wound area should be kept clean and dry to prevent infection.\n",
            "5. Monitoring: Regular monitoring of the patient's condition, including pain levels, swelling, and wound healing, is crucial to ensure proper recovery.\n",
            "6. Follow-up care: Follow-up appointments with a healthcare professional should be scheduled to assess progress and address any complications or concerns.\n",
            "\n",
            "Considerations for care and recovery include:\n",
            "\n",
            "1. Rest: The patient should rest the affected limb as much as possible to promote healing and avoid exacerbating the injury.\n",
            "2. Physical therapy: After the initial healing phase, physical therapy may be necessary to help regain strength, flexibility, and range of motion in the affected limb.\n",
            "3. Follow-up appointments: Regular follow-up appointments with a healthcare professional are essential to monitor progress, address any concerns or complications, and adjust treatment plans as needed.\n",
            "4. Lifestyle modifications: Depending on the severity and nature of the injury, lifestyle modifications such as avoiding heavy lifting, bending, or strenuous activities may be necessary to ensure proper recovery and prevent further injury.\n",
            "5. Monitoring for complications: Patients should be monitored for signs of complications such as infection, nerve damage, or delayed healing, and addressed promptly if detected.\n"
          ]
        }
      ],
      "source": [
        "print(generate_rag_response(\"What are the necessary precautions and treatment steps for a person who has fractured their leg during a hiking trip, and what should be considered for their care and recovery?\"))"
      ]
    },
    {
      "cell_type": "markdown",
      "source": [
        "### Observations for RAG Based LLM System\n",
        "\n",
        "**Overall Structure**\n",
        "- Responses are concise and focused  \n",
        "- Direct medical information without heavy subdivisions  \n",
        "- Limited flexibility compared to parameter-based responses  \n",
        "\n",
        "**Key Characteristics**\n",
        "1. **Information Density**  \n",
        "   - High concentration of relevant content  \n",
        "   - Minimal repetition  \n",
        "   - Streamlined presentation  \n",
        "\n",
        "2. **Source Integration**  \n",
        "   - Fewer explicit citations compared to parameter-based responses  \n",
        "\n",
        "3. **Response Format**  \n",
        "   - Shorter, bullet-point style answers  \n",
        "   - Less hierarchical structuring  \n",
        "\n",
        "**Strengths**\n",
        "- **Clarity**: Direct answers, clear actionable steps, focused guidance  \n",
        "- **Practicality**: Immediate applicability, less jargon, quick reference style  \n",
        "- **Consistency**: Uniform structure, steady depth, reliable formatting  \n",
        "\n",
        "**Limitations**\n",
        "- **Depth**: Less detailed, fewer alternative approaches, minimal scientific context  \n",
        "- **Customization**: Fixed format, no parameter-driven variation, less adaptable to complexity  \n",
        "\n",
        "**Comparison to Earlier Results**\n",
        "- **Length**: RAG responses are shorter, earlier ones were more extensive  \n",
        "- **Structure**: RAG uses bullet points, earlier systems used hierarchical sections  \n",
        "- **Citations**: RAG has minimal sourcing, earlier responses emphasized explicit references  \n",
        "- **Detail & Depth**: RAG favors practicality and clarity, parameter-based responses provided more depth and variation  \n",
        "\n",
        "**Recommendation**\n",
        "- RAG is ideal for **quick medical reference**, offering clarity and efficiency.  \n",
        "- For complex cases, it should be **supplemented with parameter-based or structured responses** to add depth, context, and citations.  \n"
      ],
      "metadata": {
        "id": "g7tqhjp5DPMG"
      }
    },
    {
      "cell_type": "markdown",
      "metadata": {
        "id": "K7TYrqycEITB"
      },
      "source": [
        "### Fine-tuning"
      ]
    },
    {
      "cell_type": "markdown",
      "source": [
        "- From the earlier evaluation on all queries, first question seemed to have a truncated answer whereas all others seem complete.\n",
        "- **\"What is the protocol for managing sepsis in a critical care unit?\"** - this is good candidate for fine tuning evaluation."
      ],
      "metadata": {
        "id": "Tl_Ppf8-27yl"
      }
    },
    {
      "cell_type": "code",
      "execution_count": null,
      "metadata": {
        "id": "7UYBR-hcReSo",
        "colab": {
          "base_uri": "https://localhost:8080/"
        },
        "outputId": "ba327c32-1194-46dc-caeb-36f797607240"
      },
      "outputs": [
        {
          "output_type": "stream",
          "name": "stderr",
          "text": [
            "Llama.generate: prefix-match hit\n",
            "Llama.generate: prefix-match hit\n",
            "Llama.generate: prefix-match hit\n",
            "Llama.generate: prefix-match hit\n",
            "Llama.generate: prefix-match hit\n"
          ]
        }
      ],
      "source": [
        "questions = [\n",
        "    \"What is the protocol for managing sepsis in a critical care unit?\"\n",
        "    #\"What are the common symptoms for appendicitis, and can it be cured via medicine? If not, what surgical procedure should be followed to treat it?\",\n",
        "    #\"What are the effective treatments or solutions for addressing sudden patchy hair loss, commonly seen as localized bald spots on the scalp, and what could be the possible causes behind it?\",\n",
        "    #\"What treatments are recommended for a person who has sustained a physical injury to brain tissue, resulting in temporary or permanent impairment of brain function?\",\n",
        "    #\"What are the necessary precautions and treatment steps for a person who has fractured their leg during a hiking trip, and what should be considered for their care and recovery?\"\n",
        "]\n",
        "\n",
        "param_combos_rag = [\n",
        "    {\"temperature\": 0.2, \"top_p\": 0.9, \"top_k\": 40, \"max_tokens\": 1024, \"k\": 6}, # Combo 1: Very factual, low creativity. Good for strict protocols and guidelines.\n",
        "    {\"temperature\": 0.3, \"top_p\": 0.95, \"top_k\": 50, \"max_tokens\": 512, \"k\": 8}, # Combo 2: Slightly more flexible, can include reasoning. Useful for symptoms or multi-step procedures.\n",
        "    {\"temperature\": 0.5, \"top_p\": 0.85, \"top_k\": 30, \"max_tokens\": 512, \"k\": 10}, # Combo 3: Balanced factual recall and reasoning. Good for multi-part questions.\n",
        "    {\"temperature\": 0.7, \"top_p\": 0.95, \"top_k\": 60, \"max_tokens\": 1024, \"k\": 10}, # Combo 4: More fluent and flexible, generates longer answers with inferred reasoning.\n",
        "    {\"temperature\": 0.8, \"top_p\": 0.9, \"top_k\": 50, \"max_tokens\": 1024, \"k\": 12}, # Combo 5: Highly creative/exploratory within retrieved context. Good for comprehensive coverage.\n",
        "]\n",
        "\n",
        "results = []\n",
        "\n",
        "for qi, q in enumerate(questions):\n",
        "    for ci, params in enumerate(param_combos_rag):\n",
        "        answer = generate_rag_response(\n",
        "            user_input=q,\n",
        "            k=params[\"k\"],\n",
        "            max_tokens=params[\"max_tokens\"],\n",
        "            temperature=params[\"temperature\"],\n",
        "            top_p=params[\"top_p\"],\n",
        "            top_k=params[\"top_k\"]\n",
        "        )\n",
        "        results.append({\n",
        "            \"question\": q,\n",
        "            \"params\": params,\n",
        "            \"answer\": answer\n",
        "        })\n",
        "\n",
        "import pandas as pd\n",
        "answers = pd.DataFrame(results)\n",
        "pd.set_option('display.max_colwidth', None)"
      ]
    },
    {
      "cell_type": "code",
      "source": [
        "file_path = '/content/drive/MyDrive/ragtuning_results.pkl'\n",
        "answers.to_pickle(file_path)"
      ],
      "metadata": {
        "id": "18ZtL8dUA4nM"
      },
      "execution_count": null,
      "outputs": []
    },
    {
      "cell_type": "code",
      "source": [
        "answers.head(5)"
      ],
      "metadata": {
        "colab": {
          "base_uri": "https://localhost:8080/",
          "height": 796
        },
        "id": "_RQp44iFBEOU",
        "outputId": "6903ff42-a64b-425a-b334-bbcfe9d2c393"
      },
      "execution_count": null,
      "outputs": [
        {
          "output_type": "execute_result",
          "data": {
            "text/plain": [
              "                                                            question  \\\n",
              "0  What is the protocol for managing sepsis in a critical care unit?   \n",
              "1  What is the protocol for managing sepsis in a critical care unit?   \n",
              "2  What is the protocol for managing sepsis in a critical care unit?   \n",
              "3  What is the protocol for managing sepsis in a critical care unit?   \n",
              "4  What is the protocol for managing sepsis in a critical care unit?   \n",
              "\n",
              "                                                                          params  \\\n",
              "0    {'temperature': 0.2, 'top_p': 0.9, 'top_k': 40, 'max_tokens': 1024, 'k': 6}   \n",
              "1    {'temperature': 0.3, 'top_p': 0.95, 'top_k': 50, 'max_tokens': 512, 'k': 8}   \n",
              "2   {'temperature': 0.5, 'top_p': 0.85, 'top_k': 30, 'max_tokens': 512, 'k': 10}   \n",
              "3  {'temperature': 0.7, 'top_p': 0.95, 'top_k': 60, 'max_tokens': 1024, 'k': 10}   \n",
              "4   {'temperature': 0.8, 'top_p': 0.9, 'top_k': 50, 'max_tokens': 1024, 'k': 12}   \n",
              "\n",
              "                                                                                                                                                                                                                                                                                                                                                                                                                                                                                                                                                                                                                                                                                                                                                                                                                                                                                                                                                                                                                                                                                                                                                                                                                                                                                                                                                                                                                                                                                                                                                                                                                                                                                                                                                                                                                                                                                                                                                                                                                                                                          answer  \n",
              "0                                                                                                                              The protocol for managing sepsis in a critical care unit involves several key components, including:\\n\\n1. Early recognition and prompt treatment of sepsis, including administration of broad-spectrum antibiotics and fluid resuscitation to raise mean arterial pressure (MAP) to at least 65 mmHg.\\n2. Aggressive fluid resuscitation with 0.9% saline until central venous pressure (CVP) reaches 8 mmHg or pulmonary artery pressure (PAOP) reaches 12-15 mmHg, as well as the use of vasopressors such as dopamine or norepinephrine if necessary.\\n3. Monitoring of vital signs, including temperature, blood pressure, heart rate, and respiratory rate, as well as regular assessment of organ function and fluid balance.\\n4. Management of hypotension with vasopressors, and management of hypoxia with oxygen therapy and mechanical ventilation if necessary.\\n5. Protocols for the administration of antibiotics, including the use of broad-spectrum antibiotics and the addition of a third-generation cephalosporin or carbapenem if Pseudomonas aeruginosa is suspected.\\n6. Protocols for the management of sepsis-induced organ dysfunction, including the use of renal replacement therapy (RRT) and mechanical ventilation as needed.\\n7. Close monitoring of blood glucose levels and the administration of insulin if necessary to maintain euglycemia.\\n8. Protocols for the management of sepsis in special populations, such as neonates, children, and pregnant women.\\n9. Regular reassessment of patients and adjustment of therapy as needed based on clinical response and laboratory results.\\n10. Early recognition and management of complications such as acute respiratory distress syndrome (ARDS), acute kidney injury (AKI), and shock liver.\\n\\nIt is important to note that the specifics of the protocol may vary depending on the individual patient and the institution's policies and procedures.  \n",
              "1                                                                                                                                                                                                                                                                         The management of sepsis in a critical care unit should be guided by the Surviving Sepsis Campaign (SSC) guidelines. The key components of the SSC guidelines are:\\n\\n1. Early recognition and diagnosis of sepsis, including the use of clinical criteria such as SIRS or QSOFA.\\n2. Rapid administration of antibiotics within the first hour of recognition of sepsis.\\n3. Aggressive fluid resuscitation with crystalloids or vasopressors to achieve a mean arterial pressure (MAP) of 65 mmHg or higher.\\n4. Use of vasopressors to maintain MAP if fluid resuscitation is not sufficient.\\n5. Early recognition and management of organ dysfunction, including acute respiratory distress syndrome (ARDS), acute kidney injury (AKI), and cardiovascular instability.\\n6. Use of steroids in patients with sepsis-induced hypotension who have a clinical presentation suggestive of severe sepsis or septic shock.\\n7. Protocolized management of fever and hyperthermia, including the use of antipyretics and cooling measures as needed.\\n8. Close monitoring of blood glucose levels and management of hyperglycemia or hypoglycemia as needed.\\n9. Regular assessment of fluid balance and adjustment of fluid therapy accordingly.\\n10. Early recognition and management of complications such as pneumonia, urinary tract infections, and bloodstream infections.\\n\\nIt is important to note that the management of sepsis is highly individualized and may vary depending on the patient's specific needs and clinical presentation. The SSC guidelines should be used as a general framework for managing sepsis, but the care team should be prepared to adjust the management plan as needed based on the patient's response to treatment and any changes in their clinical status.  \n",
              "2  The protocol for managing sepsis in a critical care unit should be guided by the specific needs of each patient and may involve a combination of medications, fluids, and other interventions. However, some general principles can be applied to all patients with sepsis. These include:\\n\\n1. Early recognition and aggressive management of sepsis: Sepsis should be recognized early and treated promptly to prevent progression to severe sepsis or septic shock.\\n2. Use of broad-spectrum antibiotics: Broad-spectrum antibiotics should be used to cover the most common pathogens causing sepsis, such as gram-negative bacteria and methicillin-resistant Staphylococcus aureus (MRSA).\\n3. Fluid resuscitation: Patients with sepsis may require aggressive fluid resuscitation to maintain mean arterial pressure (MAP) of at least 65 mmHg and urine output of at least 0.5 mL/kg/h.\\n4. Vasopressor support: If fluid resuscitation is not sufficient to maintain MAP, vasopressor support may be needed to maintain mean arterial pressure above 65 mmHg.\\n5. Management of underlying infections: Patients with sepsis should receive appropriate antibiotic therapy and management of any underlying infections, such as pneumonia or urinary tract infections.\\n6. Monitoring for organ dysfunction: Patients with sepsis should be closely monitored for signs of organ dysfunction, such as acute kidney injury (AKI), acute respiratory distress syndrome (ARDS), and myocardial dysfunction.\\n7. Protocol-driven care: Care for patients with sepsis should be guided by a protocol that outlines specific management strategies for each stage of sepsis, including early recognition, fluid resuscitation, vasopressor support, and management of underlying infections.\\n8. Multidisciplinary team approach: Management of sepsis should involve a multidisciplinary team of healthcare professionals, including intensivists, infectious disease specialists, and critical care nurses.\\n9. Close monitoring of vital signs and laboratory values:  \n",
              "3                                                                                                                             The protocol for managing sepsis in a critical care unit includes:\\n\\n1. Early recognition of sepsis based on clinical signs and symptoms, such as fever, tachycardia, tachypnea, and confusion.\\n2. Performance of blood cultures and serial measurements of white blood cell count, serum lactate, and hemoglobin levels to confirm the diagnosis of sepsis and monitor progression of the disease.\\n3. Administration of broad-spectrum antibiotics, targeting the most likely pathogens based on the patient's medical history, physical examination, and laboratory results.\\n4. Aggressive fluid resuscitation with 0.9% saline, aiming to raise mean arterial pressure (MAP) to at least 65 mmHg and central venous oxygen saturation (ScvO2) to at least 70%.\\n5. Close monitoring of vital signs, including MAP, pulmonary artery pressure (PAP), and central venous pressure (CVP), as well as serial measurements of serum lactate and hemoglobin levels.\\n6. Use of vasopressors, such as dopamine or norepinephrine, to maintain mean arterial pressure if fluid resuscitation is not sufficient to achieve the desired blood pressure.\\n7. Early recognition and management of organ dysfunction, including acute respiratory distress syndrome (ARDS), acute kidney injury (AKI), and cardiac dysfunction.\\n8. Protocolized management of sepsis-induced hyperglycemia with insulin therapy aiming to maintain blood glucose levels between 110 and 140 mg/dL.\\n9. Surgical intervention for source control, such as drainage of abscesses or debridement of necrotic tissue, if clinically indicated.\\n10. Early mobilization of the patient to prevent complications, such as deep vein thrombosis and pneumonia, and to facilitate recovery.\\n\\nIt is important to note that the specific protocols for managing sepsis may vary depending on the severity of the disease and the resources available in the critical care unit.  \n",
              "4                                                                                                                                                                                                                                                                                                                                                                                                                                                                                                                                                                                                                 According to the information provided in the context, the following is the protocol for managing sepsis in a critical care unit:\\n\\n1. Broad-spectrum antibiotics (modified by culture results)\\n2. Drainage of abscesses and excision of necrotic tissue\\n3. Normalization of blood glucose levels\\n4. Replacement-dose corticosteroids\\n5. Frequent monitoring of systemic pressure, CVP, PAOP, pulse oximetry, ABGs, blood glucose, lactate, and electrolyte levels\\n6. Renal function assessment\\n7. Fluid resuscitation with 0.9% saline until CVP reaches 8 mm Hg (10 cm H2O) or PAOP reaches 12 to 15 mm Hg\\n8. Oliguria with hypotension is not a contraindication to vigorous fluid resuscitation\\n9. The quantity of fluid required may far exceed the normal blood volume and reach 10 L over 4 to 12 h\\n10. PAOP or echocardiography can identify limitations in left ventricular function and incipient pulmonary edema due to fluid overload\\n11. If a patient with septic shock remains hypotensive after CVP or PAOP has been raised to target levels, dopamine may be given to increase mean BP to at least 60 mm Hg\\n12. Tracheal intubation and mechanical ventilation may be needed subsequently for respiratory failure\\n\\nIt is important to note that this protocol is not a substitute for medical advice or treatment, and any specific treatment plan should be individualized based on the patient's condition and medical history.  "
            ],
            "text/html": [
              "\n",
              "  <div id=\"df-8e8332ee-5eec-4d04-bdc2-ac84b4bdd4c3\" class=\"colab-df-container\">\n",
              "    <div>\n",
              "<style scoped>\n",
              "    .dataframe tbody tr th:only-of-type {\n",
              "        vertical-align: middle;\n",
              "    }\n",
              "\n",
              "    .dataframe tbody tr th {\n",
              "        vertical-align: top;\n",
              "    }\n",
              "\n",
              "    .dataframe thead th {\n",
              "        text-align: right;\n",
              "    }\n",
              "</style>\n",
              "<table border=\"1\" class=\"dataframe\">\n",
              "  <thead>\n",
              "    <tr style=\"text-align: right;\">\n",
              "      <th></th>\n",
              "      <th>question</th>\n",
              "      <th>params</th>\n",
              "      <th>answer</th>\n",
              "    </tr>\n",
              "  </thead>\n",
              "  <tbody>\n",
              "    <tr>\n",
              "      <th>0</th>\n",
              "      <td>What is the protocol for managing sepsis in a critical care unit?</td>\n",
              "      <td>{'temperature': 0.2, 'top_p': 0.9, 'top_k': 40, 'max_tokens': 1024, 'k': 6}</td>\n",
              "      <td>The protocol for managing sepsis in a critical care unit involves several key components, including:\\n\\n1. Early recognition and prompt treatment of sepsis, including administration of broad-spectrum antibiotics and fluid resuscitation to raise mean arterial pressure (MAP) to at least 65 mmHg.\\n2. Aggressive fluid resuscitation with 0.9% saline until central venous pressure (CVP) reaches 8 mmHg or pulmonary artery pressure (PAOP) reaches 12-15 mmHg, as well as the use of vasopressors such as dopamine or norepinephrine if necessary.\\n3. Monitoring of vital signs, including temperature, blood pressure, heart rate, and respiratory rate, as well as regular assessment of organ function and fluid balance.\\n4. Management of hypotension with vasopressors, and management of hypoxia with oxygen therapy and mechanical ventilation if necessary.\\n5. Protocols for the administration of antibiotics, including the use of broad-spectrum antibiotics and the addition of a third-generation cephalosporin or carbapenem if Pseudomonas aeruginosa is suspected.\\n6. Protocols for the management of sepsis-induced organ dysfunction, including the use of renal replacement therapy (RRT) and mechanical ventilation as needed.\\n7. Close monitoring of blood glucose levels and the administration of insulin if necessary to maintain euglycemia.\\n8. Protocols for the management of sepsis in special populations, such as neonates, children, and pregnant women.\\n9. Regular reassessment of patients and adjustment of therapy as needed based on clinical response and laboratory results.\\n10. Early recognition and management of complications such as acute respiratory distress syndrome (ARDS), acute kidney injury (AKI), and shock liver.\\n\\nIt is important to note that the specifics of the protocol may vary depending on the individual patient and the institution's policies and procedures.</td>\n",
              "    </tr>\n",
              "    <tr>\n",
              "      <th>1</th>\n",
              "      <td>What is the protocol for managing sepsis in a critical care unit?</td>\n",
              "      <td>{'temperature': 0.3, 'top_p': 0.95, 'top_k': 50, 'max_tokens': 512, 'k': 8}</td>\n",
              "      <td>The management of sepsis in a critical care unit should be guided by the Surviving Sepsis Campaign (SSC) guidelines. The key components of the SSC guidelines are:\\n\\n1. Early recognition and diagnosis of sepsis, including the use of clinical criteria such as SIRS or QSOFA.\\n2. Rapid administration of antibiotics within the first hour of recognition of sepsis.\\n3. Aggressive fluid resuscitation with crystalloids or vasopressors to achieve a mean arterial pressure (MAP) of 65 mmHg or higher.\\n4. Use of vasopressors to maintain MAP if fluid resuscitation is not sufficient.\\n5. Early recognition and management of organ dysfunction, including acute respiratory distress syndrome (ARDS), acute kidney injury (AKI), and cardiovascular instability.\\n6. Use of steroids in patients with sepsis-induced hypotension who have a clinical presentation suggestive of severe sepsis or septic shock.\\n7. Protocolized management of fever and hyperthermia, including the use of antipyretics and cooling measures as needed.\\n8. Close monitoring of blood glucose levels and management of hyperglycemia or hypoglycemia as needed.\\n9. Regular assessment of fluid balance and adjustment of fluid therapy accordingly.\\n10. Early recognition and management of complications such as pneumonia, urinary tract infections, and bloodstream infections.\\n\\nIt is important to note that the management of sepsis is highly individualized and may vary depending on the patient's specific needs and clinical presentation. The SSC guidelines should be used as a general framework for managing sepsis, but the care team should be prepared to adjust the management plan as needed based on the patient's response to treatment and any changes in their clinical status.</td>\n",
              "    </tr>\n",
              "    <tr>\n",
              "      <th>2</th>\n",
              "      <td>What is the protocol for managing sepsis in a critical care unit?</td>\n",
              "      <td>{'temperature': 0.5, 'top_p': 0.85, 'top_k': 30, 'max_tokens': 512, 'k': 10}</td>\n",
              "      <td>The protocol for managing sepsis in a critical care unit should be guided by the specific needs of each patient and may involve a combination of medications, fluids, and other interventions. However, some general principles can be applied to all patients with sepsis. These include:\\n\\n1. Early recognition and aggressive management of sepsis: Sepsis should be recognized early and treated promptly to prevent progression to severe sepsis or septic shock.\\n2. Use of broad-spectrum antibiotics: Broad-spectrum antibiotics should be used to cover the most common pathogens causing sepsis, such as gram-negative bacteria and methicillin-resistant Staphylococcus aureus (MRSA).\\n3. Fluid resuscitation: Patients with sepsis may require aggressive fluid resuscitation to maintain mean arterial pressure (MAP) of at least 65 mmHg and urine output of at least 0.5 mL/kg/h.\\n4. Vasopressor support: If fluid resuscitation is not sufficient to maintain MAP, vasopressor support may be needed to maintain mean arterial pressure above 65 mmHg.\\n5. Management of underlying infections: Patients with sepsis should receive appropriate antibiotic therapy and management of any underlying infections, such as pneumonia or urinary tract infections.\\n6. Monitoring for organ dysfunction: Patients with sepsis should be closely monitored for signs of organ dysfunction, such as acute kidney injury (AKI), acute respiratory distress syndrome (ARDS), and myocardial dysfunction.\\n7. Protocol-driven care: Care for patients with sepsis should be guided by a protocol that outlines specific management strategies for each stage of sepsis, including early recognition, fluid resuscitation, vasopressor support, and management of underlying infections.\\n8. Multidisciplinary team approach: Management of sepsis should involve a multidisciplinary team of healthcare professionals, including intensivists, infectious disease specialists, and critical care nurses.\\n9. Close monitoring of vital signs and laboratory values:</td>\n",
              "    </tr>\n",
              "    <tr>\n",
              "      <th>3</th>\n",
              "      <td>What is the protocol for managing sepsis in a critical care unit?</td>\n",
              "      <td>{'temperature': 0.7, 'top_p': 0.95, 'top_k': 60, 'max_tokens': 1024, 'k': 10}</td>\n",
              "      <td>The protocol for managing sepsis in a critical care unit includes:\\n\\n1. Early recognition of sepsis based on clinical signs and symptoms, such as fever, tachycardia, tachypnea, and confusion.\\n2. Performance of blood cultures and serial measurements of white blood cell count, serum lactate, and hemoglobin levels to confirm the diagnosis of sepsis and monitor progression of the disease.\\n3. Administration of broad-spectrum antibiotics, targeting the most likely pathogens based on the patient's medical history, physical examination, and laboratory results.\\n4. Aggressive fluid resuscitation with 0.9% saline, aiming to raise mean arterial pressure (MAP) to at least 65 mmHg and central venous oxygen saturation (ScvO2) to at least 70%.\\n5. Close monitoring of vital signs, including MAP, pulmonary artery pressure (PAP), and central venous pressure (CVP), as well as serial measurements of serum lactate and hemoglobin levels.\\n6. Use of vasopressors, such as dopamine or norepinephrine, to maintain mean arterial pressure if fluid resuscitation is not sufficient to achieve the desired blood pressure.\\n7. Early recognition and management of organ dysfunction, including acute respiratory distress syndrome (ARDS), acute kidney injury (AKI), and cardiac dysfunction.\\n8. Protocolized management of sepsis-induced hyperglycemia with insulin therapy aiming to maintain blood glucose levels between 110 and 140 mg/dL.\\n9. Surgical intervention for source control, such as drainage of abscesses or debridement of necrotic tissue, if clinically indicated.\\n10. Early mobilization of the patient to prevent complications, such as deep vein thrombosis and pneumonia, and to facilitate recovery.\\n\\nIt is important to note that the specific protocols for managing sepsis may vary depending on the severity of the disease and the resources available in the critical care unit.</td>\n",
              "    </tr>\n",
              "    <tr>\n",
              "      <th>4</th>\n",
              "      <td>What is the protocol for managing sepsis in a critical care unit?</td>\n",
              "      <td>{'temperature': 0.8, 'top_p': 0.9, 'top_k': 50, 'max_tokens': 1024, 'k': 12}</td>\n",
              "      <td>According to the information provided in the context, the following is the protocol for managing sepsis in a critical care unit:\\n\\n1. Broad-spectrum antibiotics (modified by culture results)\\n2. Drainage of abscesses and excision of necrotic tissue\\n3. Normalization of blood glucose levels\\n4. Replacement-dose corticosteroids\\n5. Frequent monitoring of systemic pressure, CVP, PAOP, pulse oximetry, ABGs, blood glucose, lactate, and electrolyte levels\\n6. Renal function assessment\\n7. Fluid resuscitation with 0.9% saline until CVP reaches 8 mm Hg (10 cm H2O) or PAOP reaches 12 to 15 mm Hg\\n8. Oliguria with hypotension is not a contraindication to vigorous fluid resuscitation\\n9. The quantity of fluid required may far exceed the normal blood volume and reach 10 L over 4 to 12 h\\n10. PAOP or echocardiography can identify limitations in left ventricular function and incipient pulmonary edema due to fluid overload\\n11. If a patient with septic shock remains hypotensive after CVP or PAOP has been raised to target levels, dopamine may be given to increase mean BP to at least 60 mm Hg\\n12. Tracheal intubation and mechanical ventilation may be needed subsequently for respiratory failure\\n\\nIt is important to note that this protocol is not a substitute for medical advice or treatment, and any specific treatment plan should be individualized based on the patient's condition and medical history.</td>\n",
              "    </tr>\n",
              "  </tbody>\n",
              "</table>\n",
              "</div>\n",
              "    <div class=\"colab-df-buttons\">\n",
              "\n",
              "  <div class=\"colab-df-container\">\n",
              "    <button class=\"colab-df-convert\" onclick=\"convertToInteractive('df-8e8332ee-5eec-4d04-bdc2-ac84b4bdd4c3')\"\n",
              "            title=\"Convert this dataframe to an interactive table.\"\n",
              "            style=\"display:none;\">\n",
              "\n",
              "  <svg xmlns=\"http://www.w3.org/2000/svg\" height=\"24px\" viewBox=\"0 -960 960 960\">\n",
              "    <path d=\"M120-120v-720h720v720H120Zm60-500h600v-160H180v160Zm220 220h160v-160H400v160Zm0 220h160v-160H400v160ZM180-400h160v-160H180v160Zm440 0h160v-160H620v160ZM180-180h160v-160H180v160Zm440 0h160v-160H620v160Z\"/>\n",
              "  </svg>\n",
              "    </button>\n",
              "\n",
              "  <style>\n",
              "    .colab-df-container {\n",
              "      display:flex;\n",
              "      gap: 12px;\n",
              "    }\n",
              "\n",
              "    .colab-df-convert {\n",
              "      background-color: #E8F0FE;\n",
              "      border: none;\n",
              "      border-radius: 50%;\n",
              "      cursor: pointer;\n",
              "      display: none;\n",
              "      fill: #1967D2;\n",
              "      height: 32px;\n",
              "      padding: 0 0 0 0;\n",
              "      width: 32px;\n",
              "    }\n",
              "\n",
              "    .colab-df-convert:hover {\n",
              "      background-color: #E2EBFA;\n",
              "      box-shadow: 0px 1px 2px rgba(60, 64, 67, 0.3), 0px 1px 3px 1px rgba(60, 64, 67, 0.15);\n",
              "      fill: #174EA6;\n",
              "    }\n",
              "\n",
              "    .colab-df-buttons div {\n",
              "      margin-bottom: 4px;\n",
              "    }\n",
              "\n",
              "    [theme=dark] .colab-df-convert {\n",
              "      background-color: #3B4455;\n",
              "      fill: #D2E3FC;\n",
              "    }\n",
              "\n",
              "    [theme=dark] .colab-df-convert:hover {\n",
              "      background-color: #434B5C;\n",
              "      box-shadow: 0px 1px 3px 1px rgba(0, 0, 0, 0.15);\n",
              "      filter: drop-shadow(0px 1px 2px rgba(0, 0, 0, 0.3));\n",
              "      fill: #FFFFFF;\n",
              "    }\n",
              "  </style>\n",
              "\n",
              "    <script>\n",
              "      const buttonEl =\n",
              "        document.querySelector('#df-8e8332ee-5eec-4d04-bdc2-ac84b4bdd4c3 button.colab-df-convert');\n",
              "      buttonEl.style.display =\n",
              "        google.colab.kernel.accessAllowed ? 'block' : 'none';\n",
              "\n",
              "      async function convertToInteractive(key) {\n",
              "        const element = document.querySelector('#df-8e8332ee-5eec-4d04-bdc2-ac84b4bdd4c3');\n",
              "        const dataTable =\n",
              "          await google.colab.kernel.invokeFunction('convertToInteractive',\n",
              "                                                    [key], {});\n",
              "        if (!dataTable) return;\n",
              "\n",
              "        const docLinkHtml = 'Like what you see? Visit the ' +\n",
              "          '<a target=\"_blank\" href=https://colab.research.google.com/notebooks/data_table.ipynb>data table notebook</a>'\n",
              "          + ' to learn more about interactive tables.';\n",
              "        element.innerHTML = '';\n",
              "        dataTable['output_type'] = 'display_data';\n",
              "        await google.colab.output.renderOutput(dataTable, element);\n",
              "        const docLink = document.createElement('div');\n",
              "        docLink.innerHTML = docLinkHtml;\n",
              "        element.appendChild(docLink);\n",
              "      }\n",
              "    </script>\n",
              "  </div>\n",
              "\n",
              "\n",
              "    <div id=\"df-8a5ac302-4337-45cc-8f99-4a645d6f8c77\">\n",
              "      <button class=\"colab-df-quickchart\" onclick=\"quickchart('df-8a5ac302-4337-45cc-8f99-4a645d6f8c77')\"\n",
              "                title=\"Suggest charts\"\n",
              "                style=\"display:none;\">\n",
              "\n",
              "<svg xmlns=\"http://www.w3.org/2000/svg\" height=\"24px\"viewBox=\"0 0 24 24\"\n",
              "     width=\"24px\">\n",
              "    <g>\n",
              "        <path d=\"M19 3H5c-1.1 0-2 .9-2 2v14c0 1.1.9 2 2 2h14c1.1 0 2-.9 2-2V5c0-1.1-.9-2-2-2zM9 17H7v-7h2v7zm4 0h-2V7h2v10zm4 0h-2v-4h2v4z\"/>\n",
              "    </g>\n",
              "</svg>\n",
              "      </button>\n",
              "\n",
              "<style>\n",
              "  .colab-df-quickchart {\n",
              "      --bg-color: #E8F0FE;\n",
              "      --fill-color: #1967D2;\n",
              "      --hover-bg-color: #E2EBFA;\n",
              "      --hover-fill-color: #174EA6;\n",
              "      --disabled-fill-color: #AAA;\n",
              "      --disabled-bg-color: #DDD;\n",
              "  }\n",
              "\n",
              "  [theme=dark] .colab-df-quickchart {\n",
              "      --bg-color: #3B4455;\n",
              "      --fill-color: #D2E3FC;\n",
              "      --hover-bg-color: #434B5C;\n",
              "      --hover-fill-color: #FFFFFF;\n",
              "      --disabled-bg-color: #3B4455;\n",
              "      --disabled-fill-color: #666;\n",
              "  }\n",
              "\n",
              "  .colab-df-quickchart {\n",
              "    background-color: var(--bg-color);\n",
              "    border: none;\n",
              "    border-radius: 50%;\n",
              "    cursor: pointer;\n",
              "    display: none;\n",
              "    fill: var(--fill-color);\n",
              "    height: 32px;\n",
              "    padding: 0;\n",
              "    width: 32px;\n",
              "  }\n",
              "\n",
              "  .colab-df-quickchart:hover {\n",
              "    background-color: var(--hover-bg-color);\n",
              "    box-shadow: 0 1px 2px rgba(60, 64, 67, 0.3), 0 1px 3px 1px rgba(60, 64, 67, 0.15);\n",
              "    fill: var(--button-hover-fill-color);\n",
              "  }\n",
              "\n",
              "  .colab-df-quickchart-complete:disabled,\n",
              "  .colab-df-quickchart-complete:disabled:hover {\n",
              "    background-color: var(--disabled-bg-color);\n",
              "    fill: var(--disabled-fill-color);\n",
              "    box-shadow: none;\n",
              "  }\n",
              "\n",
              "  .colab-df-spinner {\n",
              "    border: 2px solid var(--fill-color);\n",
              "    border-color: transparent;\n",
              "    border-bottom-color: var(--fill-color);\n",
              "    animation:\n",
              "      spin 1s steps(1) infinite;\n",
              "  }\n",
              "\n",
              "  @keyframes spin {\n",
              "    0% {\n",
              "      border-color: transparent;\n",
              "      border-bottom-color: var(--fill-color);\n",
              "      border-left-color: var(--fill-color);\n",
              "    }\n",
              "    20% {\n",
              "      border-color: transparent;\n",
              "      border-left-color: var(--fill-color);\n",
              "      border-top-color: var(--fill-color);\n",
              "    }\n",
              "    30% {\n",
              "      border-color: transparent;\n",
              "      border-left-color: var(--fill-color);\n",
              "      border-top-color: var(--fill-color);\n",
              "      border-right-color: var(--fill-color);\n",
              "    }\n",
              "    40% {\n",
              "      border-color: transparent;\n",
              "      border-right-color: var(--fill-color);\n",
              "      border-top-color: var(--fill-color);\n",
              "    }\n",
              "    60% {\n",
              "      border-color: transparent;\n",
              "      border-right-color: var(--fill-color);\n",
              "    }\n",
              "    80% {\n",
              "      border-color: transparent;\n",
              "      border-right-color: var(--fill-color);\n",
              "      border-bottom-color: var(--fill-color);\n",
              "    }\n",
              "    90% {\n",
              "      border-color: transparent;\n",
              "      border-bottom-color: var(--fill-color);\n",
              "    }\n",
              "  }\n",
              "</style>\n",
              "\n",
              "      <script>\n",
              "        async function quickchart(key) {\n",
              "          const quickchartButtonEl =\n",
              "            document.querySelector('#' + key + ' button');\n",
              "          quickchartButtonEl.disabled = true;  // To prevent multiple clicks.\n",
              "          quickchartButtonEl.classList.add('colab-df-spinner');\n",
              "          try {\n",
              "            const charts = await google.colab.kernel.invokeFunction(\n",
              "                'suggestCharts', [key], {});\n",
              "          } catch (error) {\n",
              "            console.error('Error during call to suggestCharts:', error);\n",
              "          }\n",
              "          quickchartButtonEl.classList.remove('colab-df-spinner');\n",
              "          quickchartButtonEl.classList.add('colab-df-quickchart-complete');\n",
              "        }\n",
              "        (() => {\n",
              "          let quickchartButtonEl =\n",
              "            document.querySelector('#df-8a5ac302-4337-45cc-8f99-4a645d6f8c77 button');\n",
              "          quickchartButtonEl.style.display =\n",
              "            google.colab.kernel.accessAllowed ? 'block' : 'none';\n",
              "        })();\n",
              "      </script>\n",
              "    </div>\n",
              "\n",
              "    </div>\n",
              "  </div>\n"
            ],
            "application/vnd.google.colaboratory.intrinsic+json": {
              "type": "dataframe",
              "variable_name": "answers",
              "summary": "{\n  \"name\": \"answers\",\n  \"rows\": 5,\n  \"fields\": [\n    {\n      \"column\": \"question\",\n      \"properties\": {\n        \"dtype\": \"category\",\n        \"num_unique_values\": 1,\n        \"samples\": [\n          \"What is the protocol for managing sepsis in a critical care unit?\"\n        ],\n        \"semantic_type\": \"\",\n        \"description\": \"\"\n      }\n    },\n    {\n      \"column\": \"params\",\n      \"properties\": {\n        \"dtype\": \"object\",\n        \"semantic_type\": \"\",\n        \"description\": \"\"\n      }\n    },\n    {\n      \"column\": \"answer\",\n      \"properties\": {\n        \"dtype\": \"string\",\n        \"num_unique_values\": 5,\n        \"samples\": [\n          \"The management of sepsis in a critical care unit should be guided by the Surviving Sepsis Campaign (SSC) guidelines. The key components of the SSC guidelines are:\\n\\n1. Early recognition and diagnosis of sepsis, including the use of clinical criteria such as SIRS or QSOFA.\\n2. Rapid administration of antibiotics within the first hour of recognition of sepsis.\\n3. Aggressive fluid resuscitation with crystalloids or vasopressors to achieve a mean arterial pressure (MAP) of 65 mmHg or higher.\\n4. Use of vasopressors to maintain MAP if fluid resuscitation is not sufficient.\\n5. Early recognition and management of organ dysfunction, including acute respiratory distress syndrome (ARDS), acute kidney injury (AKI), and cardiovascular instability.\\n6. Use of steroids in patients with sepsis-induced hypotension who have a clinical presentation suggestive of severe sepsis or septic shock.\\n7. Protocolized management of fever and hyperthermia, including the use of antipyretics and cooling measures as needed.\\n8. Close monitoring of blood glucose levels and management of hyperglycemia or hypoglycemia as needed.\\n9. Regular assessment of fluid balance and adjustment of fluid therapy accordingly.\\n10. Early recognition and management of complications such as pneumonia, urinary tract infections, and bloodstream infections.\\n\\nIt is important to note that the management of sepsis is highly individualized and may vary depending on the patient's specific needs and clinical presentation. The SSC guidelines should be used as a general framework for managing sepsis, but the care team should be prepared to adjust the management plan as needed based on the patient's response to treatment and any changes in their clinical status.\"\n        ],\n        \"semantic_type\": \"\",\n        \"description\": \"\"\n      }\n    }\n  ]\n}"
            }
          },
          "metadata": {},
          "execution_count": 34
        }
      ]
    },
    {
      "cell_type": "markdown",
      "source": [
        "#### Query: What is the protocol for managing sepsis in a critical care unit?"
      ],
      "metadata": {
        "id": "_OF96zDb0M7L"
      }
    },
    {
      "cell_type": "markdown",
      "source": [
        "**Parameter Combination**\n",
        " - temperature: 0.2, top_p: 0.9, top_k: 40, max_tokens: 1024, k: 6 **(Very factual, low creativity. Good for strict protocols and guidelines.)**\n"
      ],
      "metadata": {
        "id": "6_mnc31N1Bl9"
      }
    },
    {
      "cell_type": "code",
      "source": [
        "print(answers.iloc[0]['answer'])"
      ],
      "metadata": {
        "colab": {
          "base_uri": "https://localhost:8080/"
        },
        "id": "BUXbsNvo1wUL",
        "outputId": "0c66e598-2426-42c5-9582-8277006aab46"
      },
      "execution_count": null,
      "outputs": [
        {
          "output_type": "stream",
          "name": "stdout",
          "text": [
            "The protocol for managing sepsis in a critical care unit involves several key components, including:\n",
            "\n",
            "1. Early recognition and prompt treatment of sepsis, including administration of broad-spectrum antibiotics and fluid resuscitation to raise mean arterial pressure (MAP) to at least 65 mmHg.\n",
            "2. Aggressive fluid resuscitation with 0.9% saline until central venous pressure (CVP) reaches 8 mmHg or pulmonary artery pressure (PAOP) reaches 12-15 mmHg, as well as the use of vasopressors such as dopamine or norepinephrine if necessary.\n",
            "3. Monitoring of vital signs, including temperature, blood pressure, heart rate, and respiratory rate, as well as regular assessment of organ function and fluid balance.\n",
            "4. Management of hypotension with vasopressors, and management of hypoxia with oxygen therapy and mechanical ventilation if necessary.\n",
            "5. Protocols for the administration of antibiotics, including the use of broad-spectrum antibiotics and the addition of a third-generation cephalosporin or carbapenem if Pseudomonas aeruginosa is suspected.\n",
            "6. Protocols for the management of sepsis-induced organ dysfunction, including the use of renal replacement therapy (RRT) and mechanical ventilation as needed.\n",
            "7. Close monitoring of blood glucose levels and the administration of insulin if necessary to maintain euglycemia.\n",
            "8. Protocols for the management of sepsis in special populations, such as neonates, children, and pregnant women.\n",
            "9. Regular reassessment of patients and adjustment of therapy as needed based on clinical response and laboratory results.\n",
            "10. Early recognition and management of complications such as acute respiratory distress syndrome (ARDS), acute kidney injury (AKI), and shock liver.\n",
            "\n",
            "It is important to note that the specifics of the protocol may vary depending on the individual patient and the institution's policies and procedures.\n"
          ]
        }
      ]
    },
    {
      "cell_type": "markdown",
      "source": [
        "**Parameter Combination**\n",
        " - temperature: 0.3, top_p: 0.95, top_k: 50, max_tokens: 512, k: 8 **(Slightly more flexible, can include reasoning. Useful for symptoms or multi-step procedures.)**\n"
      ],
      "metadata": {
        "id": "vHNDG3js1L68"
      }
    },
    {
      "cell_type": "code",
      "source": [
        "print(answers.iloc[1]['answer'])"
      ],
      "metadata": {
        "colab": {
          "base_uri": "https://localhost:8080/"
        },
        "id": "cwU4OZBm1wy0",
        "outputId": "44c4b3da-8371-4c55-806a-a23829f7ec16"
      },
      "execution_count": null,
      "outputs": [
        {
          "output_type": "stream",
          "name": "stdout",
          "text": [
            "The management of sepsis in a critical care unit should be guided by the Surviving Sepsis Campaign (SSC) guidelines. The key components of the SSC guidelines are:\n",
            "\n",
            "1. Early recognition and diagnosis of sepsis, including the use of clinical criteria such as SIRS or QSOFA.\n",
            "2. Rapid administration of antibiotics within the first hour of recognition of sepsis.\n",
            "3. Aggressive fluid resuscitation with crystalloids or vasopressors to achieve a mean arterial pressure (MAP) of 65 mmHg or higher.\n",
            "4. Use of vasopressors to maintain MAP if fluid resuscitation is not sufficient.\n",
            "5. Early recognition and management of organ dysfunction, including acute respiratory distress syndrome (ARDS), acute kidney injury (AKI), and cardiovascular instability.\n",
            "6. Use of steroids in patients with sepsis-induced hypotension who have a clinical presentation suggestive of severe sepsis or septic shock.\n",
            "7. Protocolized management of fever and hyperthermia, including the use of antipyretics and cooling measures as needed.\n",
            "8. Close monitoring of blood glucose levels and management of hyperglycemia or hypoglycemia as needed.\n",
            "9. Regular assessment of fluid balance and adjustment of fluid therapy accordingly.\n",
            "10. Early recognition and management of complications such as pneumonia, urinary tract infections, and bloodstream infections.\n",
            "\n",
            "It is important to note that the management of sepsis is highly individualized and may vary depending on the patient's specific needs and clinical presentation. The SSC guidelines should be used as a general framework for managing sepsis, but the care team should be prepared to adjust the management plan as needed based on the patient's response to treatment and any changes in their clinical status.\n"
          ]
        }
      ]
    },
    {
      "cell_type": "markdown",
      "source": [
        "**Parameter Combination**\n",
        " - temperature: 0.5, top_p: 0.85, top_k: 30, max_tokens: 512, k: 10 **(Balanced factual recall and reasoning. Good for multi-part questions.)**\n"
      ],
      "metadata": {
        "id": "70uxfcyF1Mrk"
      }
    },
    {
      "cell_type": "code",
      "source": [
        "print(answers.iloc[2]['answer'])"
      ],
      "metadata": {
        "colab": {
          "base_uri": "https://localhost:8080/"
        },
        "id": "f_KPliKY1xET",
        "outputId": "8806c8fe-ec40-4965-c9d4-0e2044c55fe7"
      },
      "execution_count": null,
      "outputs": [
        {
          "output_type": "stream",
          "name": "stdout",
          "text": [
            "The protocol for managing sepsis in a critical care unit should be guided by the specific needs of each patient and may involve a combination of medications, fluids, and other interventions. However, some general principles can be applied to all patients with sepsis. These include:\n",
            "\n",
            "1. Early recognition and aggressive management of sepsis: Sepsis should be recognized early and treated promptly to prevent progression to severe sepsis or septic shock.\n",
            "2. Use of broad-spectrum antibiotics: Broad-spectrum antibiotics should be used to cover the most common pathogens causing sepsis, such as gram-negative bacteria and methicillin-resistant Staphylococcus aureus (MRSA).\n",
            "3. Fluid resuscitation: Patients with sepsis may require aggressive fluid resuscitation to maintain mean arterial pressure (MAP) of at least 65 mmHg and urine output of at least 0.5 mL/kg/h.\n",
            "4. Vasopressor support: If fluid resuscitation is not sufficient to maintain MAP, vasopressor support may be needed to maintain mean arterial pressure above 65 mmHg.\n",
            "5. Management of underlying infections: Patients with sepsis should receive appropriate antibiotic therapy and management of any underlying infections, such as pneumonia or urinary tract infections.\n",
            "6. Monitoring for organ dysfunction: Patients with sepsis should be closely monitored for signs of organ dysfunction, such as acute kidney injury (AKI), acute respiratory distress syndrome (ARDS), and myocardial dysfunction.\n",
            "7. Protocol-driven care: Care for patients with sepsis should be guided by a protocol that outlines specific management strategies for each stage of sepsis, including early recognition, fluid resuscitation, vasopressor support, and management of underlying infections.\n",
            "8. Multidisciplinary team approach: Management of sepsis should involve a multidisciplinary team of healthcare professionals, including intensivists, infectious disease specialists, and critical care nurses.\n",
            "9. Close monitoring of vital signs and laboratory values:\n"
          ]
        }
      ]
    },
    {
      "cell_type": "markdown",
      "source": [
        "**Parameter Combination**\n",
        " - temperature: 0.7, top_p: 0.95, top_k: 60, max_tokens: 1024, k: 10 **(More fluent and flexible, generates longer answers with inferred reasoning.)**\n"
      ],
      "metadata": {
        "id": "vM1iyzjL1NHk"
      }
    },
    {
      "cell_type": "code",
      "source": [
        "print(answers.iloc[3]['answer'])"
      ],
      "metadata": {
        "colab": {
          "base_uri": "https://localhost:8080/"
        },
        "id": "4lVbY9d71xYM",
        "outputId": "fdf9ba2f-e511-43b0-fe78-0e1f77f9ca14"
      },
      "execution_count": null,
      "outputs": [
        {
          "output_type": "stream",
          "name": "stdout",
          "text": [
            "The protocol for managing sepsis in a critical care unit includes:\n",
            "\n",
            "1. Early recognition of sepsis based on clinical signs and symptoms, such as fever, tachycardia, tachypnea, and confusion.\n",
            "2. Performance of blood cultures and serial measurements of white blood cell count, serum lactate, and hemoglobin levels to confirm the diagnosis of sepsis and monitor progression of the disease.\n",
            "3. Administration of broad-spectrum antibiotics, targeting the most likely pathogens based on the patient's medical history, physical examination, and laboratory results.\n",
            "4. Aggressive fluid resuscitation with 0.9% saline, aiming to raise mean arterial pressure (MAP) to at least 65 mmHg and central venous oxygen saturation (ScvO2) to at least 70%.\n",
            "5. Close monitoring of vital signs, including MAP, pulmonary artery pressure (PAP), and central venous pressure (CVP), as well as serial measurements of serum lactate and hemoglobin levels.\n",
            "6. Use of vasopressors, such as dopamine or norepinephrine, to maintain mean arterial pressure if fluid resuscitation is not sufficient to achieve the desired blood pressure.\n",
            "7. Early recognition and management of organ dysfunction, including acute respiratory distress syndrome (ARDS), acute kidney injury (AKI), and cardiac dysfunction.\n",
            "8. Protocolized management of sepsis-induced hyperglycemia with insulin therapy aiming to maintain blood glucose levels between 110 and 140 mg/dL.\n",
            "9. Surgical intervention for source control, such as drainage of abscesses or debridement of necrotic tissue, if clinically indicated.\n",
            "10. Early mobilization of the patient to prevent complications, such as deep vein thrombosis and pneumonia, and to facilitate recovery.\n",
            "\n",
            "It is important to note that the specific protocols for managing sepsis may vary depending on the severity of the disease and the resources available in the critical care unit.\n"
          ]
        }
      ]
    },
    {
      "cell_type": "markdown",
      "source": [
        "**Parameter Combination**\n",
        " - temperature: 0.8, top_p: 0.9, top_k: 50, max_tokens: 1024, k: 12 **(Highly creative/exploratory within retrieved context. Good for comprehensive coverage.)**\n"
      ],
      "metadata": {
        "id": "ChjKN0Wx1NwT"
      }
    },
    {
      "cell_type": "code",
      "source": [
        "print(answers.iloc[4]['answer'])"
      ],
      "metadata": {
        "colab": {
          "base_uri": "https://localhost:8080/"
        },
        "id": "GOKWlvjT1x10",
        "outputId": "3416eaa6-1c41-485d-fec1-64e7be67b859"
      },
      "execution_count": null,
      "outputs": [
        {
          "output_type": "stream",
          "name": "stdout",
          "text": [
            "According to the information provided in the context, the following is the protocol for managing sepsis in a critical care unit:\n",
            "\n",
            "1. Broad-spectrum antibiotics (modified by culture results)\n",
            "2. Drainage of abscesses and excision of necrotic tissue\n",
            "3. Normalization of blood glucose levels\n",
            "4. Replacement-dose corticosteroids\n",
            "5. Frequent monitoring of systemic pressure, CVP, PAOP, pulse oximetry, ABGs, blood glucose, lactate, and electrolyte levels\n",
            "6. Renal function assessment\n",
            "7. Fluid resuscitation with 0.9% saline until CVP reaches 8 mm Hg (10 cm H2O) or PAOP reaches 12 to 15 mm Hg\n",
            "8. Oliguria with hypotension is not a contraindication to vigorous fluid resuscitation\n",
            "9. The quantity of fluid required may far exceed the normal blood volume and reach 10 L over 4 to 12 h\n",
            "10. PAOP or echocardiography can identify limitations in left ventricular function and incipient pulmonary edema due to fluid overload\n",
            "11. If a patient with septic shock remains hypotensive after CVP or PAOP has been raised to target levels, dopamine may be given to increase mean BP to at least 60 mm Hg\n",
            "12. Tracheal intubation and mechanical ventilation may be needed subsequently for respiratory failure\n",
            "\n",
            "It is important to note that this protocol is not a substitute for medical advice or treatment, and any specific treatment plan should be individualized based on the patient's condition and medical history.\n"
          ]
        }
      ]
    },
    {
      "cell_type": "markdown",
      "source": [
        "#### Observations"
      ],
      "metadata": {
        "id": "ThHFkrnn2ezF"
      }
    },
    {
      "cell_type": "markdown",
      "source": [
        "- First combination which was aimed at being Very factual, low creativity. Good for strict protocols and guidelines.\n",
        "\n",
        "- temperature: 0.2, top_p: 0.9, top_k: 40, max_tokens: 1024, k: 6\n",
        "\n",
        "- We will do the output evaluation using these parameters."
      ],
      "metadata": {
        "id": "WTQv62Ot2jU1"
      }
    },
    {
      "cell_type": "markdown",
      "metadata": {
        "id": "yyQrTipNfuBN"
      },
      "source": [
        "## Output Evaluation"
      ]
    },
    {
      "cell_type": "code",
      "execution_count": null,
      "metadata": {
        "id": "IHbfLAxAGdhW"
      },
      "outputs": [],
      "source": [
        "groundedness_rater_system_message = \"\"\"\n",
        "\n",
        "You will be presented a ###Question, ###Context used by the AI system and AI generated ###Answer.\n",
        "\n",
        "Your task is to judge the extent to which the ###Answer is derived from ###Context.\n",
        "\n",
        "Rate it 1 - if The ###Answer is not derived from the ###Context at all\n",
        "Rate it 2 - if The ###Answer is derived from the ###Context only to a limited extent\n",
        "Rate it 3 - if The ###Answer is derived from ###Context to a good extent\n",
        "Rate it 4 - if The ###Answer is derived from ###Context mostly\n",
        "Rate it 5 - if The ###Answer is is derived from ###Context completely\n",
        "\n",
        "Please note: Make sure you give a single overall rating in the range of 1 to 5 along with an overall explanation.\n",
        "\n",
        "\"\"\""
      ]
    },
    {
      "cell_type": "code",
      "execution_count": null,
      "metadata": {
        "id": "159OZZa0Rinv"
      },
      "outputs": [],
      "source": [
        "relevance_rater_system_message = \"\"\"\n",
        "\n",
        "You will be presented with a ###Question, the ###Context used by the AI system to generate a response, and the AI-generated ###Answer.\n",
        "\n",
        "Your task is to judge the extent to which the ###Answer is relevant to the ###Question, considering whether it directly addresses the key aspects of the ###Question based on the provided ###Context.\n",
        "\n",
        "Rate the relevance as follows:\n",
        "- Rate 1 – The ###Answer is not relevant to the ###Question at all.\n",
        "- Rate 2 – The ###Answer is only slightly relevant to the **###Question**, missing key aspects.\n",
        "- Rate 3 – The ###Answer is moderately relevant, addressing some parts of the **###Question** but leaving out important details.\n",
        "- Rate 4 – The ###Answer is mostly relevant, covering key aspects but with minor gaps.\n",
        "- Rate 5 – The ###Answer is fully relevant, directly answering all important aspects of the **###Question** with appropriate details from the **###Context**.\n",
        "\n",
        "Note: Provide a single overall rating in the range of 1 to 5, along with a brief explanation of why you assigned that score.\n",
        "\"\"\""
      ]
    },
    {
      "cell_type": "code",
      "execution_count": null,
      "metadata": {
        "id": "RLqiSn-iRwSl"
      },
      "outputs": [],
      "source": [
        "user_message_template = \"\"\"\n",
        "###Question\n",
        "{question}\n",
        "\n",
        "###Context\n",
        "{context}\n",
        "\n",
        "###Answer\n",
        "{answer}\n",
        "\"\"\""
      ]
    },
    {
      "cell_type": "code",
      "execution_count": null,
      "metadata": {
        "id": "XIbZybyuRi2p"
      },
      "outputs": [],
      "source": [
        "def generate_ground_relevance_response(user_input,k=3,max_tokens=512,temperature=0.2,top_p=0.90,top_k=40):\n",
        "    global qna_system_message,qna_user_message_template\n",
        "    # Retrieve relevant document chunks\n",
        "    relevant_document_chunks = retriever.get_relevant_documents(query=user_input,k=3)\n",
        "    context_list = [d.page_content for d in relevant_document_chunks]\n",
        "    context_for_query = \". \".join(context_list)\n",
        "\n",
        "    # Combine user_prompt and system_message to create the prompt\n",
        "    prompt = f\"\"\"[INST]{qna_system_message}\\n\n",
        "                {'user'}: {qna_user_message_template.format(context=context_for_query, question=user_input)}\n",
        "                [/INST]\"\"\"\n",
        "\n",
        "    response = lcpp_llm(\n",
        "            prompt=prompt,\n",
        "            max_tokens=max_tokens,\n",
        "            temperature=temperature,\n",
        "            top_p=top_p,\n",
        "            top_k=top_k,\n",
        "            stop=['INST'],\n",
        "            )\n",
        "\n",
        "    answer =  response[\"choices\"][0][\"text\"]\n",
        "\n",
        "    # Combine user_prompt and system_message to create the prompt\n",
        "    groundedness_prompt = f\"\"\"[INST]{groundedness_rater_system_message}\\n\n",
        "                {'user'}: {user_message_template.format(context=context_for_query, question=user_input, answer=answer)}\n",
        "                [/INST]\"\"\"\n",
        "\n",
        "    # Combine user_prompt and system_message to create the prompt\n",
        "    relevance_prompt = f\"\"\"[INST]{relevance_rater_system_message}\\n\n",
        "                {'user'}: {user_message_template.format(context=context_for_query, question=user_input, answer=answer)}\n",
        "                [/INST]\"\"\"\n",
        "\n",
        "    response_1 = lcpp_llm(\n",
        "            prompt=groundedness_prompt,\n",
        "            max_tokens=max_tokens,\n",
        "            temperature=temperature,\n",
        "            top_p=top_p,\n",
        "            top_k=top_k,\n",
        "            stop=['INST'],\n",
        "            )\n",
        "\n",
        "    response_2 = lcpp_llm(\n",
        "            prompt=relevance_prompt,\n",
        "            max_tokens=max_tokens,\n",
        "            temperature=temperature,\n",
        "            top_p=top_p,\n",
        "            top_k=top_k,\n",
        "            stop=['INST'],\n",
        "            )\n",
        "\n",
        "    return response_1['choices'][0]['text'],response_2['choices'][0]['text']"
      ]
    },
    {
      "cell_type": "code",
      "source": [
        "questions = [\n",
        "    \"What is the protocol for managing sepsis in a critical care unit?\",\n",
        "    \"What are the common symptoms for appendicitis, and can it be cured via medicine? If not, what surgical procedure should be followed to treat it?\",\n",
        "    \"What are the effective treatments or solutions for addressing sudden patchy hair loss, commonly seen as localized bald spots on the scalp, and what could be the possible causes behind it?\",\n",
        "    \"What treatments are recommended for a person who has sustained a physical injury to brain tissue, resulting in temporary or permanent impairment of brain function?\",\n",
        "    \"What are the necessary precautions and treatment steps for a person who has fractured their leg during a hiking trip, and what should be considered for their care and recovery?\"\n",
        "]\n",
        "for q in questions:\n",
        "  print(f\"Question: {q}\\n\")\n",
        "  groundedness_report, relevance_report = generate_ground_relevance_response(q)\n",
        "  print(groundedness_report, '\\n\\n', relevance_report)"
      ],
      "metadata": {
        "colab": {
          "base_uri": "https://localhost:8080/",
          "height": 1000
        },
        "id": "pGQDWMHBkNsh",
        "outputId": "0e9f3cd7-b633-4854-881f-4e21e61ac275"
      },
      "execution_count": null,
      "outputs": [
        {
          "output_type": "stream",
          "name": "stdout",
          "text": [
            "Question: What is the protocol for managing sepsis in a critical care unit?\n",
            "\n"
          ]
        },
        {
          "output_type": "stream",
          "name": "stderr",
          "text": [
            "Llama.generate: prefix-match hit\n",
            "Llama.generate: prefix-match hit\n",
            "Llama.generate: prefix-match hit\n"
          ]
        },
        {
          "output_type": "stream",
          "name": "stdout",
          "text": [
            "  Based on the provided context, I would rate the answer as follows:\n",
            "\n",
            "* Not derived from the context (1): The answer does not mention any specific details or information from the provided context.\n",
            "* Limited extent (2): The answer provides some general information about the management of sepsis, but it does not fully address the question or provide specific guidance based on the context.\n",
            "\n",
            "The answer could be improved by incorporating more specific details and information from the provided context, such as the use of broad-spectrum antibiotics, fluid resuscitation, and source control. Additionally, the answer could benefit from a more detailed explanation of how these interventions should be tailored to the individual patient's needs and clinical presentation. \n",
            "\n",
            "   Based on the provided context, I would rate the answer as follows:\n",
            "\n",
            "Rating: 4 (Moderately relevant)\n",
            "\n",
            "The answer provides a detailed list of the steps involved in managing sepsis in a critical care unit, including early recognition of sepsis, aggressive fluid resuscitation, broad-spectrum antibiotics, source control, glucose management, hemodynamic support, respiratory support, infection control, close monitoring, and early recognition of complications. However, the answer does not fully address all aspects of the question, such as the specific clinical presentation and needs of the patient, which are critical factors in developing a comprehensive treatment plan. Therefore, I would rate the answer as moderately relevant but not fully relevant to the question.\n",
            "Question: What are the common symptoms for appendicitis, and can it be cured via medicine? If not, what surgical procedure should be followed to treat it?\n",
            "\n"
          ]
        },
        {
          "output_type": "stream",
          "name": "stderr",
          "text": [
            "Llama.generate: prefix-match hit\n",
            "Llama.generate: prefix-match hit\n",
            "Llama.generate: prefix-match hit\n"
          ]
        },
        {
          "output_type": "stream",
          "name": "stdout",
          "text": [
            "  Based on the given text, I would rate the answer as follows:\n",
            "\n",
            "Question 1: What are the common symptoms for appendicitis?\n",
            "Rating: 5 (Completely accurate)\n",
            "\n",
            "Question 2: Can appendicitis be cured via medicine?\n",
            "Rating: 1 (Not at all accurate)\n",
            "\n",
            "Question 3: What surgical procedure should be followed to treat appendicitis?\n",
            "Rating: 5 (Completely accurate)\n",
            "\n",
            "Overall, the answer provides a comprehensive and accurate response to all three questions based on the provided context. \n",
            "\n",
            "   Rating: 4 (Fully Relevant)\n",
            "\n",
            "Your answer fully addresses all aspects of the question, providing clear and concise information about the common symptoms of appendicitis, the ineffectiveness of medication in treating the condition, and the recommended surgical procedure for treatment. Your explanation is well-organized and easy to follow, making use of key terms and concepts from the provided context. Overall, your answer demonstrates a strong understanding of the topic and effectively addresses the question.\n",
            "Question: What are the effective treatments or solutions for addressing sudden patchy hair loss, commonly seen as localized bald spots on the scalp, and what could be the possible causes behind it?\n",
            "\n"
          ]
        },
        {
          "output_type": "stream",
          "name": "stderr",
          "text": [
            "Llama.generate: prefix-match hit\n"
          ]
        },
        {
          "output_type": "error",
          "ename": "ValueError",
          "evalue": "Requested tokens (4120) exceed context window of 4096",
          "traceback": [
            "\u001b[0;31m---------------------------------------------------------------------------\u001b[0m",
            "\u001b[0;31mValueError\u001b[0m                                Traceback (most recent call last)",
            "\u001b[0;32m/tmp/ipython-input-66849285.py\u001b[0m in \u001b[0;36m<cell line: 0>\u001b[0;34m()\u001b[0m\n\u001b[1;32m      8\u001b[0m \u001b[0;32mfor\u001b[0m \u001b[0mq\u001b[0m \u001b[0;32min\u001b[0m \u001b[0mquestions\u001b[0m\u001b[0;34m:\u001b[0m\u001b[0;34m\u001b[0m\u001b[0;34m\u001b[0m\u001b[0m\n\u001b[1;32m      9\u001b[0m   \u001b[0mprint\u001b[0m\u001b[0;34m(\u001b[0m\u001b[0;34mf\"Question: {q}\\n\"\u001b[0m\u001b[0;34m)\u001b[0m\u001b[0;34m\u001b[0m\u001b[0;34m\u001b[0m\u001b[0m\n\u001b[0;32m---> 10\u001b[0;31m   \u001b[0mgroundedness_report\u001b[0m\u001b[0;34m,\u001b[0m \u001b[0mrelevance_report\u001b[0m \u001b[0;34m=\u001b[0m \u001b[0mgenerate_ground_relevance_response\u001b[0m\u001b[0;34m(\u001b[0m\u001b[0mq\u001b[0m\u001b[0;34m)\u001b[0m\u001b[0;34m\u001b[0m\u001b[0;34m\u001b[0m\u001b[0m\n\u001b[0m\u001b[1;32m     11\u001b[0m   \u001b[0mprint\u001b[0m\u001b[0;34m(\u001b[0m\u001b[0mgroundedness_report\u001b[0m\u001b[0;34m,\u001b[0m \u001b[0;34m'\\n\\n'\u001b[0m\u001b[0;34m,\u001b[0m \u001b[0mrelevance_report\u001b[0m\u001b[0;34m)\u001b[0m\u001b[0;34m\u001b[0m\u001b[0;34m\u001b[0m\u001b[0m\n",
            "\u001b[0;32m/tmp/ipython-input-2891185573.py\u001b[0m in \u001b[0;36mgenerate_ground_relevance_response\u001b[0;34m(user_input, k, max_tokens, temperature, top_p, top_k)\u001b[0m\n\u001b[1;32m     32\u001b[0m                 [/INST]\"\"\"\n\u001b[1;32m     33\u001b[0m \u001b[0;34m\u001b[0m\u001b[0m\n\u001b[0;32m---> 34\u001b[0;31m     response_1 = lcpp_llm(\n\u001b[0m\u001b[1;32m     35\u001b[0m             \u001b[0mprompt\u001b[0m\u001b[0;34m=\u001b[0m\u001b[0mgroundedness_prompt\u001b[0m\u001b[0;34m,\u001b[0m\u001b[0;34m\u001b[0m\u001b[0;34m\u001b[0m\u001b[0m\n\u001b[1;32m     36\u001b[0m             \u001b[0mmax_tokens\u001b[0m\u001b[0;34m=\u001b[0m\u001b[0mmax_tokens\u001b[0m\u001b[0;34m,\u001b[0m\u001b[0;34m\u001b[0m\u001b[0;34m\u001b[0m\u001b[0m\n",
            "\u001b[0;32m/usr/local/lib/python3.11/dist-packages/llama_cpp/llama.py\u001b[0m in \u001b[0;36m__call__\u001b[0;34m(self, prompt, suffix, max_tokens, temperature, top_p, min_p, typical_p, logprobs, echo, stop, frequency_penalty, presence_penalty, repeat_penalty, top_k, stream, seed, tfs_z, mirostat_mode, mirostat_tau, mirostat_eta, model, stopping_criteria, logits_processor, grammar, logit_bias)\u001b[0m\n\u001b[1;32m   2014\u001b[0m             \u001b[0mResponse\u001b[0m \u001b[0mobject\u001b[0m \u001b[0mcontaining\u001b[0m \u001b[0mthe\u001b[0m \u001b[0mgenerated\u001b[0m \u001b[0mtext\u001b[0m\u001b[0;34m.\u001b[0m\u001b[0;34m\u001b[0m\u001b[0;34m\u001b[0m\u001b[0m\n\u001b[1;32m   2015\u001b[0m         \"\"\"\n\u001b[0;32m-> 2016\u001b[0;31m         return self.create_completion(\n\u001b[0m\u001b[1;32m   2017\u001b[0m             \u001b[0mprompt\u001b[0m\u001b[0;34m=\u001b[0m\u001b[0mprompt\u001b[0m\u001b[0;34m,\u001b[0m\u001b[0;34m\u001b[0m\u001b[0;34m\u001b[0m\u001b[0m\n\u001b[1;32m   2018\u001b[0m             \u001b[0msuffix\u001b[0m\u001b[0;34m=\u001b[0m\u001b[0msuffix\u001b[0m\u001b[0;34m,\u001b[0m\u001b[0;34m\u001b[0m\u001b[0;34m\u001b[0m\u001b[0m\n",
            "\u001b[0;32m/usr/local/lib/python3.11/dist-packages/llama_cpp/llama.py\u001b[0m in \u001b[0;36mcreate_completion\u001b[0;34m(self, prompt, suffix, max_tokens, temperature, top_p, min_p, typical_p, logprobs, echo, stop, frequency_penalty, presence_penalty, repeat_penalty, top_k, stream, seed, tfs_z, mirostat_mode, mirostat_tau, mirostat_eta, model, stopping_criteria, logits_processor, grammar, logit_bias)\u001b[0m\n\u001b[1;32m   1947\u001b[0m             \u001b[0mchunks\u001b[0m\u001b[0;34m:\u001b[0m \u001b[0mIterator\u001b[0m\u001b[0;34m[\u001b[0m\u001b[0mCreateCompletionStreamResponse\u001b[0m\u001b[0;34m]\u001b[0m \u001b[0;34m=\u001b[0m \u001b[0mcompletion_or_chunks\u001b[0m\u001b[0;34m\u001b[0m\u001b[0;34m\u001b[0m\u001b[0m\n\u001b[1;32m   1948\u001b[0m             \u001b[0;32mreturn\u001b[0m \u001b[0mchunks\u001b[0m\u001b[0;34m\u001b[0m\u001b[0;34m\u001b[0m\u001b[0m\n\u001b[0;32m-> 1949\u001b[0;31m         \u001b[0mcompletion\u001b[0m\u001b[0;34m:\u001b[0m \u001b[0mCompletion\u001b[0m \u001b[0;34m=\u001b[0m \u001b[0mnext\u001b[0m\u001b[0;34m(\u001b[0m\u001b[0mcompletion_or_chunks\u001b[0m\u001b[0;34m)\u001b[0m  \u001b[0;31m# type: ignore\u001b[0m\u001b[0;34m\u001b[0m\u001b[0;34m\u001b[0m\u001b[0m\n\u001b[0m\u001b[1;32m   1950\u001b[0m         \u001b[0;32mreturn\u001b[0m \u001b[0mcompletion\u001b[0m\u001b[0;34m\u001b[0m\u001b[0;34m\u001b[0m\u001b[0m\n\u001b[1;32m   1951\u001b[0m \u001b[0;34m\u001b[0m\u001b[0m\n",
            "\u001b[0;32m/usr/local/lib/python3.11/dist-packages/llama_cpp/llama.py\u001b[0m in \u001b[0;36m_create_completion\u001b[0;34m(self, prompt, suffix, max_tokens, temperature, top_p, min_p, typical_p, logprobs, echo, stop, frequency_penalty, presence_penalty, repeat_penalty, top_k, stream, seed, tfs_z, mirostat_mode, mirostat_tau, mirostat_eta, model, stopping_criteria, logits_processor, grammar, logit_bias)\u001b[0m\n\u001b[1;32m   1426\u001b[0m \u001b[0;34m\u001b[0m\u001b[0m\n\u001b[1;32m   1427\u001b[0m         \u001b[0;32mif\u001b[0m \u001b[0mlen\u001b[0m\u001b[0;34m(\u001b[0m\u001b[0mprompt_tokens\u001b[0m\u001b[0;34m)\u001b[0m \u001b[0;34m>=\u001b[0m \u001b[0mself\u001b[0m\u001b[0;34m.\u001b[0m\u001b[0m_n_ctx\u001b[0m\u001b[0;34m:\u001b[0m\u001b[0;34m\u001b[0m\u001b[0;34m\u001b[0m\u001b[0m\n\u001b[0;32m-> 1428\u001b[0;31m             raise ValueError(\n\u001b[0m\u001b[1;32m   1429\u001b[0m                 \u001b[0;34mf\"Requested tokens ({len(prompt_tokens)}) exceed context window of {llama_cpp.llama_n_ctx(self.ctx)}\"\u001b[0m\u001b[0;34m\u001b[0m\u001b[0;34m\u001b[0m\u001b[0m\n\u001b[1;32m   1430\u001b[0m             )\n",
            "\u001b[0;31mValueError\u001b[0m: Requested tokens (4120) exceed context window of 4096"
          ]
        }
      ]
    },
    {
      "cell_type": "code",
      "source": [
        "questions = [\n",
        "    \"What are the effective treatments or solutions for addressing sudden patchy hair loss, commonly seen as localized bald spots on the scalp, and what could be the possible causes behind it?\",\n",
        "    \"What treatments are recommended for a person who has sustained a physical injury to brain tissue, resulting in temporary or permanent impairment of brain function?\",\n",
        "    \"What are the necessary precautions and treatment steps for a person who has fractured their leg during a hiking trip, and what should be considered for their care and recovery?\"\n",
        "]\n",
        "for q in questions:\n",
        "  print(f\"Question: {q}\\n\")\n",
        "  groundedness_report, relevance_report = generate_ground_relevance_response(q)\n",
        "  print(groundedness_report, '\\n\\n', relevance_report)"
      ],
      "metadata": {
        "colab": {
          "base_uri": "https://localhost:8080/"
        },
        "id": "O8lLH8HSDuzg",
        "outputId": "b4c947cb-d9ba-4da4-db2d-00d100537481"
      },
      "execution_count": null,
      "outputs": [
        {
          "output_type": "stream",
          "name": "stdout",
          "text": [
            "Question: What are the effective treatments or solutions for addressing sudden patchy hair loss, commonly seen as localized bald spots on the scalp, and what could be the possible causes behind it?\n",
            "\n"
          ]
        },
        {
          "output_type": "stream",
          "name": "stderr",
          "text": [
            "Llama.generate: prefix-match hit\n",
            "Llama.generate: prefix-match hit\n",
            "Llama.generate: prefix-match hit\n"
          ]
        },
        {
          "output_type": "stream",
          "name": "stdout",
          "text": [
            "  Based on the provided context, I would rate the answer as follows:\n",
            "\n",
            "The answer provides a comprehensive list of possible causes of sudden patchy hair loss, including both medical and non-medical conditions. The answer also mentions various treatment options for each condition, which is relevant to the question. However, the answer does not provide a specific rating or ranking of the effectiveness of each treatment option, which could have been helpful in providing a more detailed assessment.\n",
            "\n",
            "Over \n",
            "\n",
            "   Based on the provided context, I would rate the answer as\n",
            "Question: What treatments are recommended for a person who has sustained a physical injury to brain tissue, resulting in temporary or permanent impairment of brain function?\n",
            "\n"
          ]
        },
        {
          "output_type": "stream",
          "name": "stderr",
          "text": [
            "Llama.generate: prefix-match hit\n",
            "Llama.generate: prefix-match hit\n",
            "Llama.generate: prefix-match hit\n"
          ]
        },
        {
          "output_type": "stream",
          "name": "stdout",
          "text": [
            "  Based on the provided context, I would rate the answer as follows:\n",
            "\n",
            "1. Rehabilitation services: 5 (completely derived from the context)\n",
            "2. Surgery: 4 (mostly derived from the context)\n",
            "3. Early intervention by rehabilitation specialists: 5 (completely derived from the context)\n",
            "4. Specific rehabilitation therapy: 4 (mostly derived from the context)\n",
            "5. Cognitive therapy: 4 (mostly derived from the context)\n",
            "6. Immobilization of the affected area: 5 (completely derived from the context)\n",
            "7. Prevention of complications: 4 (mostly derived from the context)\n",
            "8. Prognosis for recovery: 4 (mostly derived from the context)\n",
            "9. Treatment by qualified speech therapists: 5 (completely derived from the context)\n",
            "10. Use of augmentative communication devices: 4 (mostly derived from the context)\n",
            "\n",
            "Overall, the answer is well-supported by the provided context and accurately reflects the recommended treatments for patients with physical injury to brain tissue resulting in temporary or permanent impairment of brain function. \n",
            "\n",
            "   Based on the provided context, I would rate the answer as follows:\n",
            "\n",
            "The answer is mostly relevant, covering key aspects but with minor gaps. The response provides a comprehensive overview of the recommended treatments for patients who have sustained a physical injury to brain tissue, including rehabilitation services, surgery, early intervention by rehabilitation specialists, specific rehabilitation therapy, and measures to prevent complications. However, there are some minor gaps in the answer, such as the lack of information on the specific rehabilitation therapy for certain types of injuries or the exact timing and duration of treatment. Overall, the answer is mostly relevant but could benefit from more detailed information to fully address the question. Rating: 4 out of 5.\n",
            "Question: What are the necessary precautions and treatment steps for a person who has fractured their leg during a hiking trip, and what should be considered for their care and recovery?\n",
            "\n"
          ]
        },
        {
          "output_type": "stream",
          "name": "stderr",
          "text": [
            "Llama.generate: prefix-match hit\n",
            "Llama.generate: prefix-match hit\n",
            "Llama.generate: prefix-match hit\n"
          ]
        },
        {
          "output_type": "stream",
          "name": "stdout",
          "text": [
            "  Based on the information provided in the context, I would rate the answer as 4 (is derived from the context mostly). The answer provides a comprehensive list of necessary precautions and treatment steps for a person who has fractured their leg during a hiking trip, including immobilization, pain management, elevation, cleanliness, monitoring, and follow-up care. Additionally, the answer considers factors such as rest, ice, compression, elevation, physical therapy, and follow-up appointments for the patient's care and recovery. While the answer is not a verbatim repetition of the context, it is clear that the information provided in the context was used to formulate the answer. Therefore, I would rate the answer as 4 (is derived from the context mostly). \n",
            "\n",
            "   Based on the information provided in the context, I would rate the answer as follows:\n",
            "\n",
            "Rating: 4 (Moderately relevant)\n",
            "\n",
            "The answer provides some relevant information about the necessary precautions and treatment steps for a person who has fractured their leg during a hiking trip. However, it does not fully address all aspects of the question, such as the importance of immobilization, pain management, and monitoring for signs of infection. Additionally, the answer could benefit from more specific information about the types of fractures that may require surgical intervention and the appropriate follow-up care to ensure proper healing. Overall, while the answer is moderately relevant, it does not fully address all aspects of the question.\n"
          ]
        }
      ]
    },
    {
      "cell_type": "markdown",
      "source": [
        "## Observation Summary: Groundedness and Relevance Ratings\n",
        "\n",
        "### 1. **Sepsis Management (Critical Care Unit)**\n",
        "- **Groundedness:** Limited : The answer did not fully leverage provided context (missing specifics like broad-spectrum antibiotics, fluid resuscitation, source control).  \n",
        "- **Relevance:** Moderate (Rating: 4) : Answer listed general steps but lacked patient-specific tailoring.  \n",
        "- **Observation:** Answers tended to be **generic** and not tightly tied to context. Improvement would come from explicitly grounding in the reference manual.\n",
        "\n",
        "\n",
        "### 2. **Appendicitis (Symptoms, Cure via Medicine, Surgical Procedure)**\n",
        "- **Groundedness:** Mixed : Strong on symptoms and surgical treatment (Rating: 5 each), but poor on medicine-related aspect (Rating: 1).  \n",
        "- **Relevance:** High (Rating: 4) : Answer fully addressed the multi-part question in structure and clarity.  \n",
        "- **Observation:** When multiple sub-questions are asked, the model provides **well-structured, organized responses**, though occasional inaccuracies appear on nuanced points (e.g., medical vs. surgical options).  \n",
        "\n",
        "\n",
        "### 3. **Sudden Patchy Hair Loss (Causes & Treatments)**\n",
        "- **Groundedness:** Reasonable : Covered both medical and non-medical causes and treatments.  \n",
        "- **Relevance:** Moderate : Comprehensive, but lacked prioritization or ranking of treatment effectiveness.  \n",
        "- **Observation:** Responses were **complete but shallow**, giving breadth over depth. More value could be added by distinguishing **first-line vs. secondary interventions**.  \n",
        "\n",
        "### 4. **Brain Injury (Treatment for Impairment of Function)**\n",
        "- **Groundedness:** Strong : Most recommended treatments were directly or mostly derived from the Merck Manual context.  \n",
        "  - Rehabilitation services: **5**  \n",
        "  - Surgery: **4**  \n",
        "  - Early intervention by rehabilitation specialists: **5**  \n",
        "  - Specific rehabilitation therapy: **4**  \n",
        "  - Cognitive therapy: **4**  \n",
        "  - Immobilization of the affected area: **5**  \n",
        "  - Prevention of complications: **4**  \n",
        "  - Prognosis for recovery: **4**  \n",
        "  - Speech therapy: **5**  \n",
        "  - Use of augmentative communication devices: **4**  \n",
        "- **Relevance:** High : The answer was well-aligned with the question and structured around appropriate categories of intervention.  \n",
        "- **Observation:** This example shows the model can generate **highly grounded and context-aligned responses** when information is available and used correctly.  \n",
        "\n",
        "## 5. **Leg Fracture During Hiking (Precautions and Treatment Steps)**\n",
        "- **Groundedness:** Moderate : The generated response drew from the context but missed some critical details.  \n",
        "  - Immobilization: **4**  \n",
        "  - Pain management: **4**  \n",
        "  - Elevation and compression: **4**  \n",
        "  - Cleanliness and infection prevention: **4**  \n",
        "  - Monitoring and follow-up care: **4**  \n",
        "  - Physical therapy and recovery considerations: **4**  \n",
        "- **Relevance:** Medium to High : The response covered important aspects (immobilization, RICE protocol, follow-up), but lacked specificity on fracture severity, surgical interventions, and infection risks.  \n",
        "- **Observation:** While the answer captured the **general management approach** for fractures, it did not fully address all aspects of the question. More precise details about **types of fractures, surgical needs, and long-term recovery** would improve both groundedness and relevance.  \n",
        "\n",
        "### Overall Insights\n",
        "- **Strengths:**\n",
        "  - Answers are usually **structured and relevant**.  \n",
        "  - Model handles **multi-part queries well**.  \n",
        "  - Coverage is broad across medical domains.  \n",
        "\n",
        "- **Weaknesses:**\n",
        "  - Groundedness suffers when context is not explicitly used.  \n",
        "  - Answers can be **generic**, lacking clinical nuance.  \n",
        "  - Token and parameter constraints visibly degrade output quality."
      ],
      "metadata": {
        "id": "v24Ya8LXLTT-"
      }
    },
    {
      "cell_type": "markdown",
      "metadata": {
        "id": "Y7QICRU-njdj"
      },
      "source": [
        "## Actionable Insights and Business Recommendations"
      ]
    },
    {
      "cell_type": "markdown",
      "source": [
        "**Observations & Insights**\n",
        "- The RAG-based assistant delivers **clear, concise, and practical** medical guidance drawn from the Merck Manual.  \n",
        "- Responses are **streamlined** with high information density, making them suitable for **quick reference use cases** (e.g., frontline healthcare workers, patients needing rapid guidance).  \n",
        "- Compared to parameter-based or structured responses, the RAG system **sacrifices depth, citations, and adaptability** in favor of **clarity and speed**.  \n",
        "- Consistency across responses is high, but the lack of customization may limit usefulness in **complex or nuanced medical cases**.  \n",
        "\n",
        "**Recommendations**\n",
        "1. **Dual-Mode Strategy**  \n",
        "   - Use RAG-based responses as the **default quick-reference layer**.  \n",
        "   - Provide an option to switch to **detailed, parameter-based explanations** when complexity or citation requirements are higher.  \n",
        "\n",
        "2. **Enhance Source Integration**  \n",
        "   - Incorporate **inline citations from the Merck Manual** to increase trust and scientific credibility.  \n",
        "\n",
        "3. **Contextual Adaptation**  \n",
        "   - Enable the system to adjust depth based on **user type** (e.g., clinician vs. patient) or **case complexity**.  \n",
        "\n",
        "4. **Business Value**  \n",
        "   - Position the RAG system as a **lightweight, efficient medical assistant** for fast guidance.  \n",
        "   - Differentiate by offering **scalable depth**: quick answers for most users, detailed protocols for professionals.  \n",
        "   - This layered approach can broaden adoption across **consumer health apps, clinical decision support tools, and training platforms**.  \n"
      ],
      "metadata": {
        "id": "SLcY4P9nFFBQ"
      }
    },
    {
      "cell_type": "markdown",
      "metadata": {
        "id": "ybRlzaIhWaM9"
      },
      "source": [
        "<font size=6 color='blue'>Power Ahead</font>\n",
        "___"
      ]
    }
  ],
  "metadata": {
    "accelerator": "GPU",
    "colab": {
      "collapsed_sections": [
        "CARPKFwm6Bz4",
        "lnwETBOE6Bz5",
        "TtZWqj0wFTS1",
        "5laPFTHrFjVf",
        "g5myZ5dOOefc",
        "9Jg3r_LWOeff",
        "iYpyw4HjOeff",
        "1Oh3mEs9mI8d",
        "PFohdO5imRmd",
        "dRp92JQZOeff",
        "4IoWlvUxmfy-",
        "Uo1pKPRRmoJP",
        "AA45zwyUOefg",
        "Fnizw1e6m0AA",
        "OQMta2rxnnxJ",
        "ZlvvUohOn4_6",
        "t_O1PGdNO2M9",
        "uTpWESc53dL9",
        "ffj0ca3eZT4u",
        "z9INAo03P3-q",
        "LECMxTH-zB-R",
        "qiKCOv4X0d7B",
        "uEa5sKc41T1z",
        "vw8qcwq66B0C",
        "TkIteX4m6mny",
        "ffP1SRYbPQHN",
        "K7TYrqycEITB",
        "_OF96zDb0M7L"
      ],
      "gpuType": "T4",
      "provenance": []
    },
    "kernel_info": {
      "name": "python310-sdkv2"
    },
    "kernelspec": {
      "display_name": "medical_assistant_env",
      "language": "python",
      "name": "medical_assistant_env"
    },
    "language_info": {
      "codemirror_mode": {
        "name": "ipython",
        "version": 3
      },
      "file_extension": ".py",
      "mimetype": "text/x-python",
      "name": "python",
      "nbconvert_exporter": "python",
      "pygments_lexer": "ipython3",
      "version": "3.9.6"
    },
    "microsoft": {
      "host": {
        "AzureML": {
          "notebookHasBeenCompleted": true
        }
      },
      "ms_spell_check": {
        "ms_spell_check_language": "en"
      }
    },
    "nteract": {
      "version": "nteract-front-end@1.0.0"
    },
    "widgets": {
      "application/vnd.jupyter.widget-state+json": {
        "321a472567074a65b3b3f0a982ea029b": {
          "model_module": "@jupyter-widgets/controls",
          "model_name": "HBoxModel",
          "model_module_version": "1.5.0",
          "state": {
            "_dom_classes": [],
            "_model_module": "@jupyter-widgets/controls",
            "_model_module_version": "1.5.0",
            "_model_name": "HBoxModel",
            "_view_count": null,
            "_view_module": "@jupyter-widgets/controls",
            "_view_module_version": "1.5.0",
            "_view_name": "HBoxView",
            "box_style": "",
            "children": [
              "IPY_MODEL_9dfaf840122b4222bffc1f79af9ac2da",
              "IPY_MODEL_9604aac33b434fa0929d0ace2a7d1e0a",
              "IPY_MODEL_95248888d7d947f5a8fa37349229681b"
            ],
            "layout": "IPY_MODEL_ad1a9c7bdd2b467dbc027283ce6b97ec"
          }
        },
        "9dfaf840122b4222bffc1f79af9ac2da": {
          "model_module": "@jupyter-widgets/controls",
          "model_name": "HTMLModel",
          "model_module_version": "1.5.0",
          "state": {
            "_dom_classes": [],
            "_model_module": "@jupyter-widgets/controls",
            "_model_module_version": "1.5.0",
            "_model_name": "HTMLModel",
            "_view_count": null,
            "_view_module": "@jupyter-widgets/controls",
            "_view_module_version": "1.5.0",
            "_view_name": "HTMLView",
            "description": "",
            "description_tooltip": null,
            "layout": "IPY_MODEL_9ea4ef7df79e4453914651bdf7bee1f2",
            "placeholder": "​",
            "style": "IPY_MODEL_dfe06440506c43348e862a25a0b30073",
            "value": "llama-2-13b-chat.Q5_K_M.gguf: 100%"
          }
        },
        "9604aac33b434fa0929d0ace2a7d1e0a": {
          "model_module": "@jupyter-widgets/controls",
          "model_name": "FloatProgressModel",
          "model_module_version": "1.5.0",
          "state": {
            "_dom_classes": [],
            "_model_module": "@jupyter-widgets/controls",
            "_model_module_version": "1.5.0",
            "_model_name": "FloatProgressModel",
            "_view_count": null,
            "_view_module": "@jupyter-widgets/controls",
            "_view_module_version": "1.5.0",
            "_view_name": "ProgressView",
            "bar_style": "success",
            "description": "",
            "description_tooltip": null,
            "layout": "IPY_MODEL_3ce73c4319bd49fa8230dbe6a44cc9ad",
            "max": 9229924224,
            "min": 0,
            "orientation": "horizontal",
            "style": "IPY_MODEL_0f354d89c2e249cb87e7488c246d7fa2",
            "value": 9229924224
          }
        },
        "95248888d7d947f5a8fa37349229681b": {
          "model_module": "@jupyter-widgets/controls",
          "model_name": "HTMLModel",
          "model_module_version": "1.5.0",
          "state": {
            "_dom_classes": [],
            "_model_module": "@jupyter-widgets/controls",
            "_model_module_version": "1.5.0",
            "_model_name": "HTMLModel",
            "_view_count": null,
            "_view_module": "@jupyter-widgets/controls",
            "_view_module_version": "1.5.0",
            "_view_name": "HTMLView",
            "description": "",
            "description_tooltip": null,
            "layout": "IPY_MODEL_2dc8023366ca40368043fafeee5e0581",
            "placeholder": "​",
            "style": "IPY_MODEL_df37cd37d2894806a6f49cd107db50b5",
            "value": " 9.23G/9.23G [00:47&lt;00:00, 244MB/s]"
          }
        },
        "ad1a9c7bdd2b467dbc027283ce6b97ec": {
          "model_module": "@jupyter-widgets/base",
          "model_name": "LayoutModel",
          "model_module_version": "1.2.0",
          "state": {
            "_model_module": "@jupyter-widgets/base",
            "_model_module_version": "1.2.0",
            "_model_name": "LayoutModel",
            "_view_count": null,
            "_view_module": "@jupyter-widgets/base",
            "_view_module_version": "1.2.0",
            "_view_name": "LayoutView",
            "align_content": null,
            "align_items": null,
            "align_self": null,
            "border": null,
            "bottom": null,
            "display": null,
            "flex": null,
            "flex_flow": null,
            "grid_area": null,
            "grid_auto_columns": null,
            "grid_auto_flow": null,
            "grid_auto_rows": null,
            "grid_column": null,
            "grid_gap": null,
            "grid_row": null,
            "grid_template_areas": null,
            "grid_template_columns": null,
            "grid_template_rows": null,
            "height": null,
            "justify_content": null,
            "justify_items": null,
            "left": null,
            "margin": null,
            "max_height": null,
            "max_width": null,
            "min_height": null,
            "min_width": null,
            "object_fit": null,
            "object_position": null,
            "order": null,
            "overflow": null,
            "overflow_x": null,
            "overflow_y": null,
            "padding": null,
            "right": null,
            "top": null,
            "visibility": null,
            "width": null
          }
        },
        "9ea4ef7df79e4453914651bdf7bee1f2": {
          "model_module": "@jupyter-widgets/base",
          "model_name": "LayoutModel",
          "model_module_version": "1.2.0",
          "state": {
            "_model_module": "@jupyter-widgets/base",
            "_model_module_version": "1.2.0",
            "_model_name": "LayoutModel",
            "_view_count": null,
            "_view_module": "@jupyter-widgets/base",
            "_view_module_version": "1.2.0",
            "_view_name": "LayoutView",
            "align_content": null,
            "align_items": null,
            "align_self": null,
            "border": null,
            "bottom": null,
            "display": null,
            "flex": null,
            "flex_flow": null,
            "grid_area": null,
            "grid_auto_columns": null,
            "grid_auto_flow": null,
            "grid_auto_rows": null,
            "grid_column": null,
            "grid_gap": null,
            "grid_row": null,
            "grid_template_areas": null,
            "grid_template_columns": null,
            "grid_template_rows": null,
            "height": null,
            "justify_content": null,
            "justify_items": null,
            "left": null,
            "margin": null,
            "max_height": null,
            "max_width": null,
            "min_height": null,
            "min_width": null,
            "object_fit": null,
            "object_position": null,
            "order": null,
            "overflow": null,
            "overflow_x": null,
            "overflow_y": null,
            "padding": null,
            "right": null,
            "top": null,
            "visibility": null,
            "width": null
          }
        },
        "dfe06440506c43348e862a25a0b30073": {
          "model_module": "@jupyter-widgets/controls",
          "model_name": "DescriptionStyleModel",
          "model_module_version": "1.5.0",
          "state": {
            "_model_module": "@jupyter-widgets/controls",
            "_model_module_version": "1.5.0",
            "_model_name": "DescriptionStyleModel",
            "_view_count": null,
            "_view_module": "@jupyter-widgets/base",
            "_view_module_version": "1.2.0",
            "_view_name": "StyleView",
            "description_width": ""
          }
        },
        "3ce73c4319bd49fa8230dbe6a44cc9ad": {
          "model_module": "@jupyter-widgets/base",
          "model_name": "LayoutModel",
          "model_module_version": "1.2.0",
          "state": {
            "_model_module": "@jupyter-widgets/base",
            "_model_module_version": "1.2.0",
            "_model_name": "LayoutModel",
            "_view_count": null,
            "_view_module": "@jupyter-widgets/base",
            "_view_module_version": "1.2.0",
            "_view_name": "LayoutView",
            "align_content": null,
            "align_items": null,
            "align_self": null,
            "border": null,
            "bottom": null,
            "display": null,
            "flex": null,
            "flex_flow": null,
            "grid_area": null,
            "grid_auto_columns": null,
            "grid_auto_flow": null,
            "grid_auto_rows": null,
            "grid_column": null,
            "grid_gap": null,
            "grid_row": null,
            "grid_template_areas": null,
            "grid_template_columns": null,
            "grid_template_rows": null,
            "height": null,
            "justify_content": null,
            "justify_items": null,
            "left": null,
            "margin": null,
            "max_height": null,
            "max_width": null,
            "min_height": null,
            "min_width": null,
            "object_fit": null,
            "object_position": null,
            "order": null,
            "overflow": null,
            "overflow_x": null,
            "overflow_y": null,
            "padding": null,
            "right": null,
            "top": null,
            "visibility": null,
            "width": null
          }
        },
        "0f354d89c2e249cb87e7488c246d7fa2": {
          "model_module": "@jupyter-widgets/controls",
          "model_name": "ProgressStyleModel",
          "model_module_version": "1.5.0",
          "state": {
            "_model_module": "@jupyter-widgets/controls",
            "_model_module_version": "1.5.0",
            "_model_name": "ProgressStyleModel",
            "_view_count": null,
            "_view_module": "@jupyter-widgets/base",
            "_view_module_version": "1.2.0",
            "_view_name": "StyleView",
            "bar_color": null,
            "description_width": ""
          }
        },
        "2dc8023366ca40368043fafeee5e0581": {
          "model_module": "@jupyter-widgets/base",
          "model_name": "LayoutModel",
          "model_module_version": "1.2.0",
          "state": {
            "_model_module": "@jupyter-widgets/base",
            "_model_module_version": "1.2.0",
            "_model_name": "LayoutModel",
            "_view_count": null,
            "_view_module": "@jupyter-widgets/base",
            "_view_module_version": "1.2.0",
            "_view_name": "LayoutView",
            "align_content": null,
            "align_items": null,
            "align_self": null,
            "border": null,
            "bottom": null,
            "display": null,
            "flex": null,
            "flex_flow": null,
            "grid_area": null,
            "grid_auto_columns": null,
            "grid_auto_flow": null,
            "grid_auto_rows": null,
            "grid_column": null,
            "grid_gap": null,
            "grid_row": null,
            "grid_template_areas": null,
            "grid_template_columns": null,
            "grid_template_rows": null,
            "height": null,
            "justify_content": null,
            "justify_items": null,
            "left": null,
            "margin": null,
            "max_height": null,
            "max_width": null,
            "min_height": null,
            "min_width": null,
            "object_fit": null,
            "object_position": null,
            "order": null,
            "overflow": null,
            "overflow_x": null,
            "overflow_y": null,
            "padding": null,
            "right": null,
            "top": null,
            "visibility": null,
            "width": null
          }
        },
        "df37cd37d2894806a6f49cd107db50b5": {
          "model_module": "@jupyter-widgets/controls",
          "model_name": "DescriptionStyleModel",
          "model_module_version": "1.5.0",
          "state": {
            "_model_module": "@jupyter-widgets/controls",
            "_model_module_version": "1.5.0",
            "_model_name": "DescriptionStyleModel",
            "_view_count": null,
            "_view_module": "@jupyter-widgets/base",
            "_view_module_version": "1.2.0",
            "_view_name": "StyleView",
            "description_width": ""
          }
        },
        "6b4eab75c47a4da78320419736ab331c": {
          "model_module": "@jupyter-widgets/controls",
          "model_name": "HBoxModel",
          "model_module_version": "1.5.0",
          "state": {
            "_dom_classes": [],
            "_model_module": "@jupyter-widgets/controls",
            "_model_module_version": "1.5.0",
            "_model_name": "HBoxModel",
            "_view_count": null,
            "_view_module": "@jupyter-widgets/controls",
            "_view_module_version": "1.5.0",
            "_view_name": "HBoxView",
            "box_style": "",
            "children": [
              "IPY_MODEL_e50e561ecb414bf89e413cec21ab2369",
              "IPY_MODEL_dc0651a18c1d43b1805b3ab7bfd707c5",
              "IPY_MODEL_d7dccd04963c4658b1747c382a048518"
            ],
            "layout": "IPY_MODEL_97c1bccb648b48329ff1e48182346e61"
          }
        },
        "e50e561ecb414bf89e413cec21ab2369": {
          "model_module": "@jupyter-widgets/controls",
          "model_name": "HTMLModel",
          "model_module_version": "1.5.0",
          "state": {
            "_dom_classes": [],
            "_model_module": "@jupyter-widgets/controls",
            "_model_module_version": "1.5.0",
            "_model_name": "HTMLModel",
            "_view_count": null,
            "_view_module": "@jupyter-widgets/controls",
            "_view_module_version": "1.5.0",
            "_view_name": "HTMLView",
            "description": "",
            "description_tooltip": null,
            "layout": "IPY_MODEL_aa2579a85d6944cc88547eab9c7bad8b",
            "placeholder": "​",
            "style": "IPY_MODEL_19d3178663b74e56b6fbf3e77608c379",
            "value": ""
          }
        },
        "dc0651a18c1d43b1805b3ab7bfd707c5": {
          "model_module": "@jupyter-widgets/controls",
          "model_name": "FloatProgressModel",
          "model_module_version": "1.5.0",
          "state": {
            "_dom_classes": [],
            "_model_module": "@jupyter-widgets/controls",
            "_model_module_version": "1.5.0",
            "_model_name": "FloatProgressModel",
            "_view_count": null,
            "_view_module": "@jupyter-widgets/controls",
            "_view_module_version": "1.5.0",
            "_view_name": "ProgressView",
            "bar_style": "success",
            "description": "",
            "description_tooltip": null,
            "layout": "IPY_MODEL_2d2194188324462b883e5a9023d26dd8",
            "max": 1,
            "min": 0,
            "orientation": "horizontal",
            "style": "IPY_MODEL_6ede7f74942f4beb9d1ec3b51718990d",
            "value": 0
          }
        },
        "d7dccd04963c4658b1747c382a048518": {
          "model_module": "@jupyter-widgets/controls",
          "model_name": "HTMLModel",
          "model_module_version": "1.5.0",
          "state": {
            "_dom_classes": [],
            "_model_module": "@jupyter-widgets/controls",
            "_model_module_version": "1.5.0",
            "_model_name": "HTMLModel",
            "_view_count": null,
            "_view_module": "@jupyter-widgets/controls",
            "_view_module_version": "1.5.0",
            "_view_name": "HTMLView",
            "description": "",
            "description_tooltip": null,
            "layout": "IPY_MODEL_1c5bbb6c82cf4a1da453ca63f8ef3aef",
            "placeholder": "​",
            "style": "IPY_MODEL_e310a3afd8ae40a791767af7d1e6602e",
            "value": " 0/0 [00:00&lt;?, ?it/s]"
          }
        },
        "97c1bccb648b48329ff1e48182346e61": {
          "model_module": "@jupyter-widgets/base",
          "model_name": "LayoutModel",
          "model_module_version": "1.2.0",
          "state": {
            "_model_module": "@jupyter-widgets/base",
            "_model_module_version": "1.2.0",
            "_model_name": "LayoutModel",
            "_view_count": null,
            "_view_module": "@jupyter-widgets/base",
            "_view_module_version": "1.2.0",
            "_view_name": "LayoutView",
            "align_content": null,
            "align_items": null,
            "align_self": null,
            "border": null,
            "bottom": null,
            "display": null,
            "flex": null,
            "flex_flow": null,
            "grid_area": null,
            "grid_auto_columns": null,
            "grid_auto_flow": null,
            "grid_auto_rows": null,
            "grid_column": null,
            "grid_gap": null,
            "grid_row": null,
            "grid_template_areas": null,
            "grid_template_columns": null,
            "grid_template_rows": null,
            "height": null,
            "justify_content": null,
            "justify_items": null,
            "left": null,
            "margin": null,
            "max_height": null,
            "max_width": null,
            "min_height": null,
            "min_width": null,
            "object_fit": null,
            "object_position": null,
            "order": null,
            "overflow": null,
            "overflow_x": null,
            "overflow_y": null,
            "padding": null,
            "right": null,
            "top": null,
            "visibility": null,
            "width": null
          }
        },
        "aa2579a85d6944cc88547eab9c7bad8b": {
          "model_module": "@jupyter-widgets/base",
          "model_name": "LayoutModel",
          "model_module_version": "1.2.0",
          "state": {
            "_model_module": "@jupyter-widgets/base",
            "_model_module_version": "1.2.0",
            "_model_name": "LayoutModel",
            "_view_count": null,
            "_view_module": "@jupyter-widgets/base",
            "_view_module_version": "1.2.0",
            "_view_name": "LayoutView",
            "align_content": null,
            "align_items": null,
            "align_self": null,
            "border": null,
            "bottom": null,
            "display": null,
            "flex": null,
            "flex_flow": null,
            "grid_area": null,
            "grid_auto_columns": null,
            "grid_auto_flow": null,
            "grid_auto_rows": null,
            "grid_column": null,
            "grid_gap": null,
            "grid_row": null,
            "grid_template_areas": null,
            "grid_template_columns": null,
            "grid_template_rows": null,
            "height": null,
            "justify_content": null,
            "justify_items": null,
            "left": null,
            "margin": null,
            "max_height": null,
            "max_width": null,
            "min_height": null,
            "min_width": null,
            "object_fit": null,
            "object_position": null,
            "order": null,
            "overflow": null,
            "overflow_x": null,
            "overflow_y": null,
            "padding": null,
            "right": null,
            "top": null,
            "visibility": null,
            "width": null
          }
        },
        "19d3178663b74e56b6fbf3e77608c379": {
          "model_module": "@jupyter-widgets/controls",
          "model_name": "DescriptionStyleModel",
          "model_module_version": "1.5.0",
          "state": {
            "_model_module": "@jupyter-widgets/controls",
            "_model_module_version": "1.5.0",
            "_model_name": "DescriptionStyleModel",
            "_view_count": null,
            "_view_module": "@jupyter-widgets/base",
            "_view_module_version": "1.2.0",
            "_view_name": "StyleView",
            "description_width": ""
          }
        },
        "2d2194188324462b883e5a9023d26dd8": {
          "model_module": "@jupyter-widgets/base",
          "model_name": "LayoutModel",
          "model_module_version": "1.2.0",
          "state": {
            "_model_module": "@jupyter-widgets/base",
            "_model_module_version": "1.2.0",
            "_model_name": "LayoutModel",
            "_view_count": null,
            "_view_module": "@jupyter-widgets/base",
            "_view_module_version": "1.2.0",
            "_view_name": "LayoutView",
            "align_content": null,
            "align_items": null,
            "align_self": null,
            "border": null,
            "bottom": null,
            "display": null,
            "flex": null,
            "flex_flow": null,
            "grid_area": null,
            "grid_auto_columns": null,
            "grid_auto_flow": null,
            "grid_auto_rows": null,
            "grid_column": null,
            "grid_gap": null,
            "grid_row": null,
            "grid_template_areas": null,
            "grid_template_columns": null,
            "grid_template_rows": null,
            "height": null,
            "justify_content": null,
            "justify_items": null,
            "left": null,
            "margin": null,
            "max_height": null,
            "max_width": null,
            "min_height": null,
            "min_width": null,
            "object_fit": null,
            "object_position": null,
            "order": null,
            "overflow": null,
            "overflow_x": null,
            "overflow_y": null,
            "padding": null,
            "right": null,
            "top": null,
            "visibility": null,
            "width": "20px"
          }
        },
        "6ede7f74942f4beb9d1ec3b51718990d": {
          "model_module": "@jupyter-widgets/controls",
          "model_name": "ProgressStyleModel",
          "model_module_version": "1.5.0",
          "state": {
            "_model_module": "@jupyter-widgets/controls",
            "_model_module_version": "1.5.0",
            "_model_name": "ProgressStyleModel",
            "_view_count": null,
            "_view_module": "@jupyter-widgets/base",
            "_view_module_version": "1.2.0",
            "_view_name": "StyleView",
            "bar_color": null,
            "description_width": ""
          }
        },
        "1c5bbb6c82cf4a1da453ca63f8ef3aef": {
          "model_module": "@jupyter-widgets/base",
          "model_name": "LayoutModel",
          "model_module_version": "1.2.0",
          "state": {
            "_model_module": "@jupyter-widgets/base",
            "_model_module_version": "1.2.0",
            "_model_name": "LayoutModel",
            "_view_count": null,
            "_view_module": "@jupyter-widgets/base",
            "_view_module_version": "1.2.0",
            "_view_name": "LayoutView",
            "align_content": null,
            "align_items": null,
            "align_self": null,
            "border": null,
            "bottom": null,
            "display": null,
            "flex": null,
            "flex_flow": null,
            "grid_area": null,
            "grid_auto_columns": null,
            "grid_auto_flow": null,
            "grid_auto_rows": null,
            "grid_column": null,
            "grid_gap": null,
            "grid_row": null,
            "grid_template_areas": null,
            "grid_template_columns": null,
            "grid_template_rows": null,
            "height": null,
            "justify_content": null,
            "justify_items": null,
            "left": null,
            "margin": null,
            "max_height": null,
            "max_width": null,
            "min_height": null,
            "min_width": null,
            "object_fit": null,
            "object_position": null,
            "order": null,
            "overflow": null,
            "overflow_x": null,
            "overflow_y": null,
            "padding": null,
            "right": null,
            "top": null,
            "visibility": null,
            "width": null
          }
        },
        "e310a3afd8ae40a791767af7d1e6602e": {
          "model_module": "@jupyter-widgets/controls",
          "model_name": "DescriptionStyleModel",
          "model_module_version": "1.5.0",
          "state": {
            "_model_module": "@jupyter-widgets/controls",
            "_model_module_version": "1.5.0",
            "_model_name": "DescriptionStyleModel",
            "_view_count": null,
            "_view_module": "@jupyter-widgets/base",
            "_view_module_version": "1.2.0",
            "_view_name": "StyleView",
            "description_width": ""
          }
        },
        "3ebaf755a47846b889619a97c68f6f42": {
          "model_module": "@jupyter-widgets/controls",
          "model_name": "HBoxModel",
          "model_module_version": "1.5.0",
          "state": {
            "_dom_classes": [],
            "_model_module": "@jupyter-widgets/controls",
            "_model_module_version": "1.5.0",
            "_model_name": "HBoxModel",
            "_view_count": null,
            "_view_module": "@jupyter-widgets/controls",
            "_view_module_version": "1.5.0",
            "_view_name": "HBoxView",
            "box_style": "",
            "children": [
              "IPY_MODEL_0182590747b345b49c9a20b90d7ee326",
              "IPY_MODEL_7ccf9b6d0b55421ab52841103a583889",
              "IPY_MODEL_ae173235993940f293cc30430b6e9b78"
            ],
            "layout": "IPY_MODEL_3ecaa3f6af714c148e578b3f8b48de84"
          }
        },
        "0182590747b345b49c9a20b90d7ee326": {
          "model_module": "@jupyter-widgets/controls",
          "model_name": "HTMLModel",
          "model_module_version": "1.5.0",
          "state": {
            "_dom_classes": [],
            "_model_module": "@jupyter-widgets/controls",
            "_model_module_version": "1.5.0",
            "_model_name": "HTMLModel",
            "_view_count": null,
            "_view_module": "@jupyter-widgets/controls",
            "_view_module_version": "1.5.0",
            "_view_name": "HTMLView",
            "description": "",
            "description_tooltip": null,
            "layout": "IPY_MODEL_dfbb429d285646c08fd376bde8f0fe87",
            "placeholder": "​",
            "style": "IPY_MODEL_f3177a2f953a4346870defbe9b33ef24",
            "value": "modules.json: 100%"
          }
        },
        "7ccf9b6d0b55421ab52841103a583889": {
          "model_module": "@jupyter-widgets/controls",
          "model_name": "FloatProgressModel",
          "model_module_version": "1.5.0",
          "state": {
            "_dom_classes": [],
            "_model_module": "@jupyter-widgets/controls",
            "_model_module_version": "1.5.0",
            "_model_name": "FloatProgressModel",
            "_view_count": null,
            "_view_module": "@jupyter-widgets/controls",
            "_view_module_version": "1.5.0",
            "_view_name": "ProgressView",
            "bar_style": "success",
            "description": "",
            "description_tooltip": null,
            "layout": "IPY_MODEL_d829337a73b047f99db94314c619d981",
            "max": 385,
            "min": 0,
            "orientation": "horizontal",
            "style": "IPY_MODEL_af6bd2225ae542eab07aa33877f586f1",
            "value": 385
          }
        },
        "ae173235993940f293cc30430b6e9b78": {
          "model_module": "@jupyter-widgets/controls",
          "model_name": "HTMLModel",
          "model_module_version": "1.5.0",
          "state": {
            "_dom_classes": [],
            "_model_module": "@jupyter-widgets/controls",
            "_model_module_version": "1.5.0",
            "_model_name": "HTMLModel",
            "_view_count": null,
            "_view_module": "@jupyter-widgets/controls",
            "_view_module_version": "1.5.0",
            "_view_name": "HTMLView",
            "description": "",
            "description_tooltip": null,
            "layout": "IPY_MODEL_dd1190825fca46fcb645dc7ce9d0dc39",
            "placeholder": "​",
            "style": "IPY_MODEL_ce7eda02de0c41a983fbbc0fd74f81e0",
            "value": " 385/385 [00:00&lt;00:00, 41.2kB/s]"
          }
        },
        "3ecaa3f6af714c148e578b3f8b48de84": {
          "model_module": "@jupyter-widgets/base",
          "model_name": "LayoutModel",
          "model_module_version": "1.2.0",
          "state": {
            "_model_module": "@jupyter-widgets/base",
            "_model_module_version": "1.2.0",
            "_model_name": "LayoutModel",
            "_view_count": null,
            "_view_module": "@jupyter-widgets/base",
            "_view_module_version": "1.2.0",
            "_view_name": "LayoutView",
            "align_content": null,
            "align_items": null,
            "align_self": null,
            "border": null,
            "bottom": null,
            "display": null,
            "flex": null,
            "flex_flow": null,
            "grid_area": null,
            "grid_auto_columns": null,
            "grid_auto_flow": null,
            "grid_auto_rows": null,
            "grid_column": null,
            "grid_gap": null,
            "grid_row": null,
            "grid_template_areas": null,
            "grid_template_columns": null,
            "grid_template_rows": null,
            "height": null,
            "justify_content": null,
            "justify_items": null,
            "left": null,
            "margin": null,
            "max_height": null,
            "max_width": null,
            "min_height": null,
            "min_width": null,
            "object_fit": null,
            "object_position": null,
            "order": null,
            "overflow": null,
            "overflow_x": null,
            "overflow_y": null,
            "padding": null,
            "right": null,
            "top": null,
            "visibility": null,
            "width": null
          }
        },
        "dfbb429d285646c08fd376bde8f0fe87": {
          "model_module": "@jupyter-widgets/base",
          "model_name": "LayoutModel",
          "model_module_version": "1.2.0",
          "state": {
            "_model_module": "@jupyter-widgets/base",
            "_model_module_version": "1.2.0",
            "_model_name": "LayoutModel",
            "_view_count": null,
            "_view_module": "@jupyter-widgets/base",
            "_view_module_version": "1.2.0",
            "_view_name": "LayoutView",
            "align_content": null,
            "align_items": null,
            "align_self": null,
            "border": null,
            "bottom": null,
            "display": null,
            "flex": null,
            "flex_flow": null,
            "grid_area": null,
            "grid_auto_columns": null,
            "grid_auto_flow": null,
            "grid_auto_rows": null,
            "grid_column": null,
            "grid_gap": null,
            "grid_row": null,
            "grid_template_areas": null,
            "grid_template_columns": null,
            "grid_template_rows": null,
            "height": null,
            "justify_content": null,
            "justify_items": null,
            "left": null,
            "margin": null,
            "max_height": null,
            "max_width": null,
            "min_height": null,
            "min_width": null,
            "object_fit": null,
            "object_position": null,
            "order": null,
            "overflow": null,
            "overflow_x": null,
            "overflow_y": null,
            "padding": null,
            "right": null,
            "top": null,
            "visibility": null,
            "width": null
          }
        },
        "f3177a2f953a4346870defbe9b33ef24": {
          "model_module": "@jupyter-widgets/controls",
          "model_name": "DescriptionStyleModel",
          "model_module_version": "1.5.0",
          "state": {
            "_model_module": "@jupyter-widgets/controls",
            "_model_module_version": "1.5.0",
            "_model_name": "DescriptionStyleModel",
            "_view_count": null,
            "_view_module": "@jupyter-widgets/base",
            "_view_module_version": "1.2.0",
            "_view_name": "StyleView",
            "description_width": ""
          }
        },
        "d829337a73b047f99db94314c619d981": {
          "model_module": "@jupyter-widgets/base",
          "model_name": "LayoutModel",
          "model_module_version": "1.2.0",
          "state": {
            "_model_module": "@jupyter-widgets/base",
            "_model_module_version": "1.2.0",
            "_model_name": "LayoutModel",
            "_view_count": null,
            "_view_module": "@jupyter-widgets/base",
            "_view_module_version": "1.2.0",
            "_view_name": "LayoutView",
            "align_content": null,
            "align_items": null,
            "align_self": null,
            "border": null,
            "bottom": null,
            "display": null,
            "flex": null,
            "flex_flow": null,
            "grid_area": null,
            "grid_auto_columns": null,
            "grid_auto_flow": null,
            "grid_auto_rows": null,
            "grid_column": null,
            "grid_gap": null,
            "grid_row": null,
            "grid_template_areas": null,
            "grid_template_columns": null,
            "grid_template_rows": null,
            "height": null,
            "justify_content": null,
            "justify_items": null,
            "left": null,
            "margin": null,
            "max_height": null,
            "max_width": null,
            "min_height": null,
            "min_width": null,
            "object_fit": null,
            "object_position": null,
            "order": null,
            "overflow": null,
            "overflow_x": null,
            "overflow_y": null,
            "padding": null,
            "right": null,
            "top": null,
            "visibility": null,
            "width": null
          }
        },
        "af6bd2225ae542eab07aa33877f586f1": {
          "model_module": "@jupyter-widgets/controls",
          "model_name": "ProgressStyleModel",
          "model_module_version": "1.5.0",
          "state": {
            "_model_module": "@jupyter-widgets/controls",
            "_model_module_version": "1.5.0",
            "_model_name": "ProgressStyleModel",
            "_view_count": null,
            "_view_module": "@jupyter-widgets/base",
            "_view_module_version": "1.2.0",
            "_view_name": "StyleView",
            "bar_color": null,
            "description_width": ""
          }
        },
        "dd1190825fca46fcb645dc7ce9d0dc39": {
          "model_module": "@jupyter-widgets/base",
          "model_name": "LayoutModel",
          "model_module_version": "1.2.0",
          "state": {
            "_model_module": "@jupyter-widgets/base",
            "_model_module_version": "1.2.0",
            "_model_name": "LayoutModel",
            "_view_count": null,
            "_view_module": "@jupyter-widgets/base",
            "_view_module_version": "1.2.0",
            "_view_name": "LayoutView",
            "align_content": null,
            "align_items": null,
            "align_self": null,
            "border": null,
            "bottom": null,
            "display": null,
            "flex": null,
            "flex_flow": null,
            "grid_area": null,
            "grid_auto_columns": null,
            "grid_auto_flow": null,
            "grid_auto_rows": null,
            "grid_column": null,
            "grid_gap": null,
            "grid_row": null,
            "grid_template_areas": null,
            "grid_template_columns": null,
            "grid_template_rows": null,
            "height": null,
            "justify_content": null,
            "justify_items": null,
            "left": null,
            "margin": null,
            "max_height": null,
            "max_width": null,
            "min_height": null,
            "min_width": null,
            "object_fit": null,
            "object_position": null,
            "order": null,
            "overflow": null,
            "overflow_x": null,
            "overflow_y": null,
            "padding": null,
            "right": null,
            "top": null,
            "visibility": null,
            "width": null
          }
        },
        "ce7eda02de0c41a983fbbc0fd74f81e0": {
          "model_module": "@jupyter-widgets/controls",
          "model_name": "DescriptionStyleModel",
          "model_module_version": "1.5.0",
          "state": {
            "_model_module": "@jupyter-widgets/controls",
            "_model_module_version": "1.5.0",
            "_model_name": "DescriptionStyleModel",
            "_view_count": null,
            "_view_module": "@jupyter-widgets/base",
            "_view_module_version": "1.2.0",
            "_view_name": "StyleView",
            "description_width": ""
          }
        },
        "b75ba113337a4577a92e32cf4cc8cce7": {
          "model_module": "@jupyter-widgets/controls",
          "model_name": "HBoxModel",
          "model_module_version": "1.5.0",
          "state": {
            "_dom_classes": [],
            "_model_module": "@jupyter-widgets/controls",
            "_model_module_version": "1.5.0",
            "_model_name": "HBoxModel",
            "_view_count": null,
            "_view_module": "@jupyter-widgets/controls",
            "_view_module_version": "1.5.0",
            "_view_name": "HBoxView",
            "box_style": "",
            "children": [
              "IPY_MODEL_8a172de29e0b4bd3998c020d8d904f82",
              "IPY_MODEL_a5a7cab85b864d1585771338f08bad98",
              "IPY_MODEL_844149b7472045aa87ca3c0b5d3523f0"
            ],
            "layout": "IPY_MODEL_ac5cac0e7e634ab3a6a8c48aa7ac20a4"
          }
        },
        "8a172de29e0b4bd3998c020d8d904f82": {
          "model_module": "@jupyter-widgets/controls",
          "model_name": "HTMLModel",
          "model_module_version": "1.5.0",
          "state": {
            "_dom_classes": [],
            "_model_module": "@jupyter-widgets/controls",
            "_model_module_version": "1.5.0",
            "_model_name": "HTMLModel",
            "_view_count": null,
            "_view_module": "@jupyter-widgets/controls",
            "_view_module_version": "1.5.0",
            "_view_name": "HTMLView",
            "description": "",
            "description_tooltip": null,
            "layout": "IPY_MODEL_ce1a9cf937694197bb05270c60a81d57",
            "placeholder": "​",
            "style": "IPY_MODEL_51ed0b83fad641a5ae456547f9ff2906",
            "value": "README.md: "
          }
        },
        "a5a7cab85b864d1585771338f08bad98": {
          "model_module": "@jupyter-widgets/controls",
          "model_name": "FloatProgressModel",
          "model_module_version": "1.5.0",
          "state": {
            "_dom_classes": [],
            "_model_module": "@jupyter-widgets/controls",
            "_model_module_version": "1.5.0",
            "_model_name": "FloatProgressModel",
            "_view_count": null,
            "_view_module": "@jupyter-widgets/controls",
            "_view_module_version": "1.5.0",
            "_view_name": "ProgressView",
            "bar_style": "success",
            "description": "",
            "description_tooltip": null,
            "layout": "IPY_MODEL_2610ebc378994fbda25a6e1d6641ff65",
            "max": 1,
            "min": 0,
            "orientation": "horizontal",
            "style": "IPY_MODEL_da455b6d302c41729ae5c3b47266fb17",
            "value": 1
          }
        },
        "844149b7472045aa87ca3c0b5d3523f0": {
          "model_module": "@jupyter-widgets/controls",
          "model_name": "HTMLModel",
          "model_module_version": "1.5.0",
          "state": {
            "_dom_classes": [],
            "_model_module": "@jupyter-widgets/controls",
            "_model_module_version": "1.5.0",
            "_model_name": "HTMLModel",
            "_view_count": null,
            "_view_module": "@jupyter-widgets/controls",
            "_view_module_version": "1.5.0",
            "_view_name": "HTMLView",
            "description": "",
            "description_tooltip": null,
            "layout": "IPY_MODEL_b7140495150345f0ba8596e57c549032",
            "placeholder": "​",
            "style": "IPY_MODEL_9cf041d8960e4231a98077b51c6c79d6",
            "value": " 67.9k/? [00:00&lt;00:00, 6.37MB/s]"
          }
        },
        "ac5cac0e7e634ab3a6a8c48aa7ac20a4": {
          "model_module": "@jupyter-widgets/base",
          "model_name": "LayoutModel",
          "model_module_version": "1.2.0",
          "state": {
            "_model_module": "@jupyter-widgets/base",
            "_model_module_version": "1.2.0",
            "_model_name": "LayoutModel",
            "_view_count": null,
            "_view_module": "@jupyter-widgets/base",
            "_view_module_version": "1.2.0",
            "_view_name": "LayoutView",
            "align_content": null,
            "align_items": null,
            "align_self": null,
            "border": null,
            "bottom": null,
            "display": null,
            "flex": null,
            "flex_flow": null,
            "grid_area": null,
            "grid_auto_columns": null,
            "grid_auto_flow": null,
            "grid_auto_rows": null,
            "grid_column": null,
            "grid_gap": null,
            "grid_row": null,
            "grid_template_areas": null,
            "grid_template_columns": null,
            "grid_template_rows": null,
            "height": null,
            "justify_content": null,
            "justify_items": null,
            "left": null,
            "margin": null,
            "max_height": null,
            "max_width": null,
            "min_height": null,
            "min_width": null,
            "object_fit": null,
            "object_position": null,
            "order": null,
            "overflow": null,
            "overflow_x": null,
            "overflow_y": null,
            "padding": null,
            "right": null,
            "top": null,
            "visibility": null,
            "width": null
          }
        },
        "ce1a9cf937694197bb05270c60a81d57": {
          "model_module": "@jupyter-widgets/base",
          "model_name": "LayoutModel",
          "model_module_version": "1.2.0",
          "state": {
            "_model_module": "@jupyter-widgets/base",
            "_model_module_version": "1.2.0",
            "_model_name": "LayoutModel",
            "_view_count": null,
            "_view_module": "@jupyter-widgets/base",
            "_view_module_version": "1.2.0",
            "_view_name": "LayoutView",
            "align_content": null,
            "align_items": null,
            "align_self": null,
            "border": null,
            "bottom": null,
            "display": null,
            "flex": null,
            "flex_flow": null,
            "grid_area": null,
            "grid_auto_columns": null,
            "grid_auto_flow": null,
            "grid_auto_rows": null,
            "grid_column": null,
            "grid_gap": null,
            "grid_row": null,
            "grid_template_areas": null,
            "grid_template_columns": null,
            "grid_template_rows": null,
            "height": null,
            "justify_content": null,
            "justify_items": null,
            "left": null,
            "margin": null,
            "max_height": null,
            "max_width": null,
            "min_height": null,
            "min_width": null,
            "object_fit": null,
            "object_position": null,
            "order": null,
            "overflow": null,
            "overflow_x": null,
            "overflow_y": null,
            "padding": null,
            "right": null,
            "top": null,
            "visibility": null,
            "width": null
          }
        },
        "51ed0b83fad641a5ae456547f9ff2906": {
          "model_module": "@jupyter-widgets/controls",
          "model_name": "DescriptionStyleModel",
          "model_module_version": "1.5.0",
          "state": {
            "_model_module": "@jupyter-widgets/controls",
            "_model_module_version": "1.5.0",
            "_model_name": "DescriptionStyleModel",
            "_view_count": null,
            "_view_module": "@jupyter-widgets/base",
            "_view_module_version": "1.2.0",
            "_view_name": "StyleView",
            "description_width": ""
          }
        },
        "2610ebc378994fbda25a6e1d6641ff65": {
          "model_module": "@jupyter-widgets/base",
          "model_name": "LayoutModel",
          "model_module_version": "1.2.0",
          "state": {
            "_model_module": "@jupyter-widgets/base",
            "_model_module_version": "1.2.0",
            "_model_name": "LayoutModel",
            "_view_count": null,
            "_view_module": "@jupyter-widgets/base",
            "_view_module_version": "1.2.0",
            "_view_name": "LayoutView",
            "align_content": null,
            "align_items": null,
            "align_self": null,
            "border": null,
            "bottom": null,
            "display": null,
            "flex": null,
            "flex_flow": null,
            "grid_area": null,
            "grid_auto_columns": null,
            "grid_auto_flow": null,
            "grid_auto_rows": null,
            "grid_column": null,
            "grid_gap": null,
            "grid_row": null,
            "grid_template_areas": null,
            "grid_template_columns": null,
            "grid_template_rows": null,
            "height": null,
            "justify_content": null,
            "justify_items": null,
            "left": null,
            "margin": null,
            "max_height": null,
            "max_width": null,
            "min_height": null,
            "min_width": null,
            "object_fit": null,
            "object_position": null,
            "order": null,
            "overflow": null,
            "overflow_x": null,
            "overflow_y": null,
            "padding": null,
            "right": null,
            "top": null,
            "visibility": null,
            "width": "20px"
          }
        },
        "da455b6d302c41729ae5c3b47266fb17": {
          "model_module": "@jupyter-widgets/controls",
          "model_name": "ProgressStyleModel",
          "model_module_version": "1.5.0",
          "state": {
            "_model_module": "@jupyter-widgets/controls",
            "_model_module_version": "1.5.0",
            "_model_name": "ProgressStyleModel",
            "_view_count": null,
            "_view_module": "@jupyter-widgets/base",
            "_view_module_version": "1.2.0",
            "_view_name": "StyleView",
            "bar_color": null,
            "description_width": ""
          }
        },
        "b7140495150345f0ba8596e57c549032": {
          "model_module": "@jupyter-widgets/base",
          "model_name": "LayoutModel",
          "model_module_version": "1.2.0",
          "state": {
            "_model_module": "@jupyter-widgets/base",
            "_model_module_version": "1.2.0",
            "_model_name": "LayoutModel",
            "_view_count": null,
            "_view_module": "@jupyter-widgets/base",
            "_view_module_version": "1.2.0",
            "_view_name": "LayoutView",
            "align_content": null,
            "align_items": null,
            "align_self": null,
            "border": null,
            "bottom": null,
            "display": null,
            "flex": null,
            "flex_flow": null,
            "grid_area": null,
            "grid_auto_columns": null,
            "grid_auto_flow": null,
            "grid_auto_rows": null,
            "grid_column": null,
            "grid_gap": null,
            "grid_row": null,
            "grid_template_areas": null,
            "grid_template_columns": null,
            "grid_template_rows": null,
            "height": null,
            "justify_content": null,
            "justify_items": null,
            "left": null,
            "margin": null,
            "max_height": null,
            "max_width": null,
            "min_height": null,
            "min_width": null,
            "object_fit": null,
            "object_position": null,
            "order": null,
            "overflow": null,
            "overflow_x": null,
            "overflow_y": null,
            "padding": null,
            "right": null,
            "top": null,
            "visibility": null,
            "width": null
          }
        },
        "9cf041d8960e4231a98077b51c6c79d6": {
          "model_module": "@jupyter-widgets/controls",
          "model_name": "DescriptionStyleModel",
          "model_module_version": "1.5.0",
          "state": {
            "_model_module": "@jupyter-widgets/controls",
            "_model_module_version": "1.5.0",
            "_model_name": "DescriptionStyleModel",
            "_view_count": null,
            "_view_module": "@jupyter-widgets/base",
            "_view_module_version": "1.2.0",
            "_view_name": "StyleView",
            "description_width": ""
          }
        },
        "bdb9ff54a9ff4d91a1edec44ac0dc02b": {
          "model_module": "@jupyter-widgets/controls",
          "model_name": "HBoxModel",
          "model_module_version": "1.5.0",
          "state": {
            "_dom_classes": [],
            "_model_module": "@jupyter-widgets/controls",
            "_model_module_version": "1.5.0",
            "_model_name": "HBoxModel",
            "_view_count": null,
            "_view_module": "@jupyter-widgets/controls",
            "_view_module_version": "1.5.0",
            "_view_name": "HBoxView",
            "box_style": "",
            "children": [
              "IPY_MODEL_abfea56e79284401b01386f600b46e23",
              "IPY_MODEL_d52335d91e6b4f5e974f090e82587a75",
              "IPY_MODEL_0fb23b843da544fb907d0ccae3254170"
            ],
            "layout": "IPY_MODEL_9f562959839c4b74a359b0fa41d273ba"
          }
        },
        "abfea56e79284401b01386f600b46e23": {
          "model_module": "@jupyter-widgets/controls",
          "model_name": "HTMLModel",
          "model_module_version": "1.5.0",
          "state": {
            "_dom_classes": [],
            "_model_module": "@jupyter-widgets/controls",
            "_model_module_version": "1.5.0",
            "_model_name": "HTMLModel",
            "_view_count": null,
            "_view_module": "@jupyter-widgets/controls",
            "_view_module_version": "1.5.0",
            "_view_name": "HTMLView",
            "description": "",
            "description_tooltip": null,
            "layout": "IPY_MODEL_08bc94ac59e245c1a1569a7badf9dab7",
            "placeholder": "​",
            "style": "IPY_MODEL_243418e756924d40bcc3c7b29223ebd7",
            "value": "sentence_bert_config.json: 100%"
          }
        },
        "d52335d91e6b4f5e974f090e82587a75": {
          "model_module": "@jupyter-widgets/controls",
          "model_name": "FloatProgressModel",
          "model_module_version": "1.5.0",
          "state": {
            "_dom_classes": [],
            "_model_module": "@jupyter-widgets/controls",
            "_model_module_version": "1.5.0",
            "_model_name": "FloatProgressModel",
            "_view_count": null,
            "_view_module": "@jupyter-widgets/controls",
            "_view_module_version": "1.5.0",
            "_view_name": "ProgressView",
            "bar_style": "success",
            "description": "",
            "description_tooltip": null,
            "layout": "IPY_MODEL_ebf86c62d7ed4c9cab02b6666248897f",
            "max": 57,
            "min": 0,
            "orientation": "horizontal",
            "style": "IPY_MODEL_f414987d8a964d37b0f0286ad71a5815",
            "value": 57
          }
        },
        "0fb23b843da544fb907d0ccae3254170": {
          "model_module": "@jupyter-widgets/controls",
          "model_name": "HTMLModel",
          "model_module_version": "1.5.0",
          "state": {
            "_dom_classes": [],
            "_model_module": "@jupyter-widgets/controls",
            "_model_module_version": "1.5.0",
            "_model_name": "HTMLModel",
            "_view_count": null,
            "_view_module": "@jupyter-widgets/controls",
            "_view_module_version": "1.5.0",
            "_view_name": "HTMLView",
            "description": "",
            "description_tooltip": null,
            "layout": "IPY_MODEL_1da44277aac3484ea7058f1a6774f763",
            "placeholder": "​",
            "style": "IPY_MODEL_37d89bc0a8764c58881fdcd794aaa13a",
            "value": " 57.0/57.0 [00:00&lt;00:00, 4.25kB/s]"
          }
        },
        "9f562959839c4b74a359b0fa41d273ba": {
          "model_module": "@jupyter-widgets/base",
          "model_name": "LayoutModel",
          "model_module_version": "1.2.0",
          "state": {
            "_model_module": "@jupyter-widgets/base",
            "_model_module_version": "1.2.0",
            "_model_name": "LayoutModel",
            "_view_count": null,
            "_view_module": "@jupyter-widgets/base",
            "_view_module_version": "1.2.0",
            "_view_name": "LayoutView",
            "align_content": null,
            "align_items": null,
            "align_self": null,
            "border": null,
            "bottom": null,
            "display": null,
            "flex": null,
            "flex_flow": null,
            "grid_area": null,
            "grid_auto_columns": null,
            "grid_auto_flow": null,
            "grid_auto_rows": null,
            "grid_column": null,
            "grid_gap": null,
            "grid_row": null,
            "grid_template_areas": null,
            "grid_template_columns": null,
            "grid_template_rows": null,
            "height": null,
            "justify_content": null,
            "justify_items": null,
            "left": null,
            "margin": null,
            "max_height": null,
            "max_width": null,
            "min_height": null,
            "min_width": null,
            "object_fit": null,
            "object_position": null,
            "order": null,
            "overflow": null,
            "overflow_x": null,
            "overflow_y": null,
            "padding": null,
            "right": null,
            "top": null,
            "visibility": null,
            "width": null
          }
        },
        "08bc94ac59e245c1a1569a7badf9dab7": {
          "model_module": "@jupyter-widgets/base",
          "model_name": "LayoutModel",
          "model_module_version": "1.2.0",
          "state": {
            "_model_module": "@jupyter-widgets/base",
            "_model_module_version": "1.2.0",
            "_model_name": "LayoutModel",
            "_view_count": null,
            "_view_module": "@jupyter-widgets/base",
            "_view_module_version": "1.2.0",
            "_view_name": "LayoutView",
            "align_content": null,
            "align_items": null,
            "align_self": null,
            "border": null,
            "bottom": null,
            "display": null,
            "flex": null,
            "flex_flow": null,
            "grid_area": null,
            "grid_auto_columns": null,
            "grid_auto_flow": null,
            "grid_auto_rows": null,
            "grid_column": null,
            "grid_gap": null,
            "grid_row": null,
            "grid_template_areas": null,
            "grid_template_columns": null,
            "grid_template_rows": null,
            "height": null,
            "justify_content": null,
            "justify_items": null,
            "left": null,
            "margin": null,
            "max_height": null,
            "max_width": null,
            "min_height": null,
            "min_width": null,
            "object_fit": null,
            "object_position": null,
            "order": null,
            "overflow": null,
            "overflow_x": null,
            "overflow_y": null,
            "padding": null,
            "right": null,
            "top": null,
            "visibility": null,
            "width": null
          }
        },
        "243418e756924d40bcc3c7b29223ebd7": {
          "model_module": "@jupyter-widgets/controls",
          "model_name": "DescriptionStyleModel",
          "model_module_version": "1.5.0",
          "state": {
            "_model_module": "@jupyter-widgets/controls",
            "_model_module_version": "1.5.0",
            "_model_name": "DescriptionStyleModel",
            "_view_count": null,
            "_view_module": "@jupyter-widgets/base",
            "_view_module_version": "1.2.0",
            "_view_name": "StyleView",
            "description_width": ""
          }
        },
        "ebf86c62d7ed4c9cab02b6666248897f": {
          "model_module": "@jupyter-widgets/base",
          "model_name": "LayoutModel",
          "model_module_version": "1.2.0",
          "state": {
            "_model_module": "@jupyter-widgets/base",
            "_model_module_version": "1.2.0",
            "_model_name": "LayoutModel",
            "_view_count": null,
            "_view_module": "@jupyter-widgets/base",
            "_view_module_version": "1.2.0",
            "_view_name": "LayoutView",
            "align_content": null,
            "align_items": null,
            "align_self": null,
            "border": null,
            "bottom": null,
            "display": null,
            "flex": null,
            "flex_flow": null,
            "grid_area": null,
            "grid_auto_columns": null,
            "grid_auto_flow": null,
            "grid_auto_rows": null,
            "grid_column": null,
            "grid_gap": null,
            "grid_row": null,
            "grid_template_areas": null,
            "grid_template_columns": null,
            "grid_template_rows": null,
            "height": null,
            "justify_content": null,
            "justify_items": null,
            "left": null,
            "margin": null,
            "max_height": null,
            "max_width": null,
            "min_height": null,
            "min_width": null,
            "object_fit": null,
            "object_position": null,
            "order": null,
            "overflow": null,
            "overflow_x": null,
            "overflow_y": null,
            "padding": null,
            "right": null,
            "top": null,
            "visibility": null,
            "width": null
          }
        },
        "f414987d8a964d37b0f0286ad71a5815": {
          "model_module": "@jupyter-widgets/controls",
          "model_name": "ProgressStyleModel",
          "model_module_version": "1.5.0",
          "state": {
            "_model_module": "@jupyter-widgets/controls",
            "_model_module_version": "1.5.0",
            "_model_name": "ProgressStyleModel",
            "_view_count": null,
            "_view_module": "@jupyter-widgets/base",
            "_view_module_version": "1.2.0",
            "_view_name": "StyleView",
            "bar_color": null,
            "description_width": ""
          }
        },
        "1da44277aac3484ea7058f1a6774f763": {
          "model_module": "@jupyter-widgets/base",
          "model_name": "LayoutModel",
          "model_module_version": "1.2.0",
          "state": {
            "_model_module": "@jupyter-widgets/base",
            "_model_module_version": "1.2.0",
            "_model_name": "LayoutModel",
            "_view_count": null,
            "_view_module": "@jupyter-widgets/base",
            "_view_module_version": "1.2.0",
            "_view_name": "LayoutView",
            "align_content": null,
            "align_items": null,
            "align_self": null,
            "border": null,
            "bottom": null,
            "display": null,
            "flex": null,
            "flex_flow": null,
            "grid_area": null,
            "grid_auto_columns": null,
            "grid_auto_flow": null,
            "grid_auto_rows": null,
            "grid_column": null,
            "grid_gap": null,
            "grid_row": null,
            "grid_template_areas": null,
            "grid_template_columns": null,
            "grid_template_rows": null,
            "height": null,
            "justify_content": null,
            "justify_items": null,
            "left": null,
            "margin": null,
            "max_height": null,
            "max_width": null,
            "min_height": null,
            "min_width": null,
            "object_fit": null,
            "object_position": null,
            "order": null,
            "overflow": null,
            "overflow_x": null,
            "overflow_y": null,
            "padding": null,
            "right": null,
            "top": null,
            "visibility": null,
            "width": null
          }
        },
        "37d89bc0a8764c58881fdcd794aaa13a": {
          "model_module": "@jupyter-widgets/controls",
          "model_name": "DescriptionStyleModel",
          "model_module_version": "1.5.0",
          "state": {
            "_model_module": "@jupyter-widgets/controls",
            "_model_module_version": "1.5.0",
            "_model_name": "DescriptionStyleModel",
            "_view_count": null,
            "_view_module": "@jupyter-widgets/base",
            "_view_module_version": "1.2.0",
            "_view_name": "StyleView",
            "description_width": ""
          }
        },
        "949304f9f7234681a9c9bd816b551835": {
          "model_module": "@jupyter-widgets/controls",
          "model_name": "HBoxModel",
          "model_module_version": "1.5.0",
          "state": {
            "_dom_classes": [],
            "_model_module": "@jupyter-widgets/controls",
            "_model_module_version": "1.5.0",
            "_model_name": "HBoxModel",
            "_view_count": null,
            "_view_module": "@jupyter-widgets/controls",
            "_view_module_version": "1.5.0",
            "_view_name": "HBoxView",
            "box_style": "",
            "children": [
              "IPY_MODEL_e07b00defbc3460b9e25d0287c59de82",
              "IPY_MODEL_6797668d6d7e40c5a54cb444abea5d97",
              "IPY_MODEL_b2dde5c470e145b795e0b3adc1c4341f"
            ],
            "layout": "IPY_MODEL_a6d9f2f513274a1da647522856ddde06"
          }
        },
        "e07b00defbc3460b9e25d0287c59de82": {
          "model_module": "@jupyter-widgets/controls",
          "model_name": "HTMLModel",
          "model_module_version": "1.5.0",
          "state": {
            "_dom_classes": [],
            "_model_module": "@jupyter-widgets/controls",
            "_model_module_version": "1.5.0",
            "_model_name": "HTMLModel",
            "_view_count": null,
            "_view_module": "@jupyter-widgets/controls",
            "_view_module_version": "1.5.0",
            "_view_name": "HTMLView",
            "description": "",
            "description_tooltip": null,
            "layout": "IPY_MODEL_305ebb38cfdc490db93fdeac33062e58",
            "placeholder": "​",
            "style": "IPY_MODEL_ffb9ecd4a74c42e5bfa7f2a16b2cc761",
            "value": "config.json: 100%"
          }
        },
        "6797668d6d7e40c5a54cb444abea5d97": {
          "model_module": "@jupyter-widgets/controls",
          "model_name": "FloatProgressModel",
          "model_module_version": "1.5.0",
          "state": {
            "_dom_classes": [],
            "_model_module": "@jupyter-widgets/controls",
            "_model_module_version": "1.5.0",
            "_model_name": "FloatProgressModel",
            "_view_count": null,
            "_view_module": "@jupyter-widgets/controls",
            "_view_module_version": "1.5.0",
            "_view_name": "ProgressView",
            "bar_style": "success",
            "description": "",
            "description_tooltip": null,
            "layout": "IPY_MODEL_94a914bf3f9a40e4b40c44f41936c05d",
            "max": 619,
            "min": 0,
            "orientation": "horizontal",
            "style": "IPY_MODEL_0dcea5004a344f389a490351bc70046c",
            "value": 619
          }
        },
        "b2dde5c470e145b795e0b3adc1c4341f": {
          "model_module": "@jupyter-widgets/controls",
          "model_name": "HTMLModel",
          "model_module_version": "1.5.0",
          "state": {
            "_dom_classes": [],
            "_model_module": "@jupyter-widgets/controls",
            "_model_module_version": "1.5.0",
            "_model_name": "HTMLModel",
            "_view_count": null,
            "_view_module": "@jupyter-widgets/controls",
            "_view_module_version": "1.5.0",
            "_view_name": "HTMLView",
            "description": "",
            "description_tooltip": null,
            "layout": "IPY_MODEL_4640d01054a440db901ccaa7bd980af9",
            "placeholder": "​",
            "style": "IPY_MODEL_cd1056ec69a241d69d5a489bba44c024",
            "value": " 619/619 [00:00&lt;00:00, 58.3kB/s]"
          }
        },
        "a6d9f2f513274a1da647522856ddde06": {
          "model_module": "@jupyter-widgets/base",
          "model_name": "LayoutModel",
          "model_module_version": "1.2.0",
          "state": {
            "_model_module": "@jupyter-widgets/base",
            "_model_module_version": "1.2.0",
            "_model_name": "LayoutModel",
            "_view_count": null,
            "_view_module": "@jupyter-widgets/base",
            "_view_module_version": "1.2.0",
            "_view_name": "LayoutView",
            "align_content": null,
            "align_items": null,
            "align_self": null,
            "border": null,
            "bottom": null,
            "display": null,
            "flex": null,
            "flex_flow": null,
            "grid_area": null,
            "grid_auto_columns": null,
            "grid_auto_flow": null,
            "grid_auto_rows": null,
            "grid_column": null,
            "grid_gap": null,
            "grid_row": null,
            "grid_template_areas": null,
            "grid_template_columns": null,
            "grid_template_rows": null,
            "height": null,
            "justify_content": null,
            "justify_items": null,
            "left": null,
            "margin": null,
            "max_height": null,
            "max_width": null,
            "min_height": null,
            "min_width": null,
            "object_fit": null,
            "object_position": null,
            "order": null,
            "overflow": null,
            "overflow_x": null,
            "overflow_y": null,
            "padding": null,
            "right": null,
            "top": null,
            "visibility": null,
            "width": null
          }
        },
        "305ebb38cfdc490db93fdeac33062e58": {
          "model_module": "@jupyter-widgets/base",
          "model_name": "LayoutModel",
          "model_module_version": "1.2.0",
          "state": {
            "_model_module": "@jupyter-widgets/base",
            "_model_module_version": "1.2.0",
            "_model_name": "LayoutModel",
            "_view_count": null,
            "_view_module": "@jupyter-widgets/base",
            "_view_module_version": "1.2.0",
            "_view_name": "LayoutView",
            "align_content": null,
            "align_items": null,
            "align_self": null,
            "border": null,
            "bottom": null,
            "display": null,
            "flex": null,
            "flex_flow": null,
            "grid_area": null,
            "grid_auto_columns": null,
            "grid_auto_flow": null,
            "grid_auto_rows": null,
            "grid_column": null,
            "grid_gap": null,
            "grid_row": null,
            "grid_template_areas": null,
            "grid_template_columns": null,
            "grid_template_rows": null,
            "height": null,
            "justify_content": null,
            "justify_items": null,
            "left": null,
            "margin": null,
            "max_height": null,
            "max_width": null,
            "min_height": null,
            "min_width": null,
            "object_fit": null,
            "object_position": null,
            "order": null,
            "overflow": null,
            "overflow_x": null,
            "overflow_y": null,
            "padding": null,
            "right": null,
            "top": null,
            "visibility": null,
            "width": null
          }
        },
        "ffb9ecd4a74c42e5bfa7f2a16b2cc761": {
          "model_module": "@jupyter-widgets/controls",
          "model_name": "DescriptionStyleModel",
          "model_module_version": "1.5.0",
          "state": {
            "_model_module": "@jupyter-widgets/controls",
            "_model_module_version": "1.5.0",
            "_model_name": "DescriptionStyleModel",
            "_view_count": null,
            "_view_module": "@jupyter-widgets/base",
            "_view_module_version": "1.2.0",
            "_view_name": "StyleView",
            "description_width": ""
          }
        },
        "94a914bf3f9a40e4b40c44f41936c05d": {
          "model_module": "@jupyter-widgets/base",
          "model_name": "LayoutModel",
          "model_module_version": "1.2.0",
          "state": {
            "_model_module": "@jupyter-widgets/base",
            "_model_module_version": "1.2.0",
            "_model_name": "LayoutModel",
            "_view_count": null,
            "_view_module": "@jupyter-widgets/base",
            "_view_module_version": "1.2.0",
            "_view_name": "LayoutView",
            "align_content": null,
            "align_items": null,
            "align_self": null,
            "border": null,
            "bottom": null,
            "display": null,
            "flex": null,
            "flex_flow": null,
            "grid_area": null,
            "grid_auto_columns": null,
            "grid_auto_flow": null,
            "grid_auto_rows": null,
            "grid_column": null,
            "grid_gap": null,
            "grid_row": null,
            "grid_template_areas": null,
            "grid_template_columns": null,
            "grid_template_rows": null,
            "height": null,
            "justify_content": null,
            "justify_items": null,
            "left": null,
            "margin": null,
            "max_height": null,
            "max_width": null,
            "min_height": null,
            "min_width": null,
            "object_fit": null,
            "object_position": null,
            "order": null,
            "overflow": null,
            "overflow_x": null,
            "overflow_y": null,
            "padding": null,
            "right": null,
            "top": null,
            "visibility": null,
            "width": null
          }
        },
        "0dcea5004a344f389a490351bc70046c": {
          "model_module": "@jupyter-widgets/controls",
          "model_name": "ProgressStyleModel",
          "model_module_version": "1.5.0",
          "state": {
            "_model_module": "@jupyter-widgets/controls",
            "_model_module_version": "1.5.0",
            "_model_name": "ProgressStyleModel",
            "_view_count": null,
            "_view_module": "@jupyter-widgets/base",
            "_view_module_version": "1.2.0",
            "_view_name": "StyleView",
            "bar_color": null,
            "description_width": ""
          }
        },
        "4640d01054a440db901ccaa7bd980af9": {
          "model_module": "@jupyter-widgets/base",
          "model_name": "LayoutModel",
          "model_module_version": "1.2.0",
          "state": {
            "_model_module": "@jupyter-widgets/base",
            "_model_module_version": "1.2.0",
            "_model_name": "LayoutModel",
            "_view_count": null,
            "_view_module": "@jupyter-widgets/base",
            "_view_module_version": "1.2.0",
            "_view_name": "LayoutView",
            "align_content": null,
            "align_items": null,
            "align_self": null,
            "border": null,
            "bottom": null,
            "display": null,
            "flex": null,
            "flex_flow": null,
            "grid_area": null,
            "grid_auto_columns": null,
            "grid_auto_flow": null,
            "grid_auto_rows": null,
            "grid_column": null,
            "grid_gap": null,
            "grid_row": null,
            "grid_template_areas": null,
            "grid_template_columns": null,
            "grid_template_rows": null,
            "height": null,
            "justify_content": null,
            "justify_items": null,
            "left": null,
            "margin": null,
            "max_height": null,
            "max_width": null,
            "min_height": null,
            "min_width": null,
            "object_fit": null,
            "object_position": null,
            "order": null,
            "overflow": null,
            "overflow_x": null,
            "overflow_y": null,
            "padding": null,
            "right": null,
            "top": null,
            "visibility": null,
            "width": null
          }
        },
        "cd1056ec69a241d69d5a489bba44c024": {
          "model_module": "@jupyter-widgets/controls",
          "model_name": "DescriptionStyleModel",
          "model_module_version": "1.5.0",
          "state": {
            "_model_module": "@jupyter-widgets/controls",
            "_model_module_version": "1.5.0",
            "_model_name": "DescriptionStyleModel",
            "_view_count": null,
            "_view_module": "@jupyter-widgets/base",
            "_view_module_version": "1.2.0",
            "_view_name": "StyleView",
            "description_width": ""
          }
        },
        "612e4428a8534c41b6a8a716353baf9c": {
          "model_module": "@jupyter-widgets/controls",
          "model_name": "HBoxModel",
          "model_module_version": "1.5.0",
          "state": {
            "_dom_classes": [],
            "_model_module": "@jupyter-widgets/controls",
            "_model_module_version": "1.5.0",
            "_model_name": "HBoxModel",
            "_view_count": null,
            "_view_module": "@jupyter-widgets/controls",
            "_view_module_version": "1.5.0",
            "_view_name": "HBoxView",
            "box_style": "",
            "children": [
              "IPY_MODEL_318b7aedc1464db18e08c880d65d87a7",
              "IPY_MODEL_e28c614c184a4568b0fd255b4bd3d681",
              "IPY_MODEL_be4690fcdefd4a908d55e653aec687f9"
            ],
            "layout": "IPY_MODEL_341b14c918d84cfebbf578b00a35e283"
          }
        },
        "318b7aedc1464db18e08c880d65d87a7": {
          "model_module": "@jupyter-widgets/controls",
          "model_name": "HTMLModel",
          "model_module_version": "1.5.0",
          "state": {
            "_dom_classes": [],
            "_model_module": "@jupyter-widgets/controls",
            "_model_module_version": "1.5.0",
            "_model_name": "HTMLModel",
            "_view_count": null,
            "_view_module": "@jupyter-widgets/controls",
            "_view_module_version": "1.5.0",
            "_view_name": "HTMLView",
            "description": "",
            "description_tooltip": null,
            "layout": "IPY_MODEL_d584941ed9ac427faa484012a1980037",
            "placeholder": "​",
            "style": "IPY_MODEL_6db0a7829e44495da9fc32015ad82f43",
            "value": "model.safetensors: 100%"
          }
        },
        "e28c614c184a4568b0fd255b4bd3d681": {
          "model_module": "@jupyter-widgets/controls",
          "model_name": "FloatProgressModel",
          "model_module_version": "1.5.0",
          "state": {
            "_dom_classes": [],
            "_model_module": "@jupyter-widgets/controls",
            "_model_module_version": "1.5.0",
            "_model_name": "FloatProgressModel",
            "_view_count": null,
            "_view_module": "@jupyter-widgets/controls",
            "_view_module_version": "1.5.0",
            "_view_name": "ProgressView",
            "bar_style": "success",
            "description": "",
            "description_tooltip": null,
            "layout": "IPY_MODEL_bc9db3af834f4c9295e17c7cc7fed87a",
            "max": 670332568,
            "min": 0,
            "orientation": "horizontal",
            "style": "IPY_MODEL_f7279fcb3685466cb92dfbbf462207a8",
            "value": 670332568
          }
        },
        "be4690fcdefd4a908d55e653aec687f9": {
          "model_module": "@jupyter-widgets/controls",
          "model_name": "HTMLModel",
          "model_module_version": "1.5.0",
          "state": {
            "_dom_classes": [],
            "_model_module": "@jupyter-widgets/controls",
            "_model_module_version": "1.5.0",
            "_model_name": "HTMLModel",
            "_view_count": null,
            "_view_module": "@jupyter-widgets/controls",
            "_view_module_version": "1.5.0",
            "_view_name": "HTMLView",
            "description": "",
            "description_tooltip": null,
            "layout": "IPY_MODEL_67507b39884044e3ad3cac354b933973",
            "placeholder": "​",
            "style": "IPY_MODEL_d8c6f06e3a364a2db762d7981ac16f56",
            "value": " 670M/670M [00:03&lt;00:00, 69.4MB/s]"
          }
        },
        "341b14c918d84cfebbf578b00a35e283": {
          "model_module": "@jupyter-widgets/base",
          "model_name": "LayoutModel",
          "model_module_version": "1.2.0",
          "state": {
            "_model_module": "@jupyter-widgets/base",
            "_model_module_version": "1.2.0",
            "_model_name": "LayoutModel",
            "_view_count": null,
            "_view_module": "@jupyter-widgets/base",
            "_view_module_version": "1.2.0",
            "_view_name": "LayoutView",
            "align_content": null,
            "align_items": null,
            "align_self": null,
            "border": null,
            "bottom": null,
            "display": null,
            "flex": null,
            "flex_flow": null,
            "grid_area": null,
            "grid_auto_columns": null,
            "grid_auto_flow": null,
            "grid_auto_rows": null,
            "grid_column": null,
            "grid_gap": null,
            "grid_row": null,
            "grid_template_areas": null,
            "grid_template_columns": null,
            "grid_template_rows": null,
            "height": null,
            "justify_content": null,
            "justify_items": null,
            "left": null,
            "margin": null,
            "max_height": null,
            "max_width": null,
            "min_height": null,
            "min_width": null,
            "object_fit": null,
            "object_position": null,
            "order": null,
            "overflow": null,
            "overflow_x": null,
            "overflow_y": null,
            "padding": null,
            "right": null,
            "top": null,
            "visibility": null,
            "width": null
          }
        },
        "d584941ed9ac427faa484012a1980037": {
          "model_module": "@jupyter-widgets/base",
          "model_name": "LayoutModel",
          "model_module_version": "1.2.0",
          "state": {
            "_model_module": "@jupyter-widgets/base",
            "_model_module_version": "1.2.0",
            "_model_name": "LayoutModel",
            "_view_count": null,
            "_view_module": "@jupyter-widgets/base",
            "_view_module_version": "1.2.0",
            "_view_name": "LayoutView",
            "align_content": null,
            "align_items": null,
            "align_self": null,
            "border": null,
            "bottom": null,
            "display": null,
            "flex": null,
            "flex_flow": null,
            "grid_area": null,
            "grid_auto_columns": null,
            "grid_auto_flow": null,
            "grid_auto_rows": null,
            "grid_column": null,
            "grid_gap": null,
            "grid_row": null,
            "grid_template_areas": null,
            "grid_template_columns": null,
            "grid_template_rows": null,
            "height": null,
            "justify_content": null,
            "justify_items": null,
            "left": null,
            "margin": null,
            "max_height": null,
            "max_width": null,
            "min_height": null,
            "min_width": null,
            "object_fit": null,
            "object_position": null,
            "order": null,
            "overflow": null,
            "overflow_x": null,
            "overflow_y": null,
            "padding": null,
            "right": null,
            "top": null,
            "visibility": null,
            "width": null
          }
        },
        "6db0a7829e44495da9fc32015ad82f43": {
          "model_module": "@jupyter-widgets/controls",
          "model_name": "DescriptionStyleModel",
          "model_module_version": "1.5.0",
          "state": {
            "_model_module": "@jupyter-widgets/controls",
            "_model_module_version": "1.5.0",
            "_model_name": "DescriptionStyleModel",
            "_view_count": null,
            "_view_module": "@jupyter-widgets/base",
            "_view_module_version": "1.2.0",
            "_view_name": "StyleView",
            "description_width": ""
          }
        },
        "bc9db3af834f4c9295e17c7cc7fed87a": {
          "model_module": "@jupyter-widgets/base",
          "model_name": "LayoutModel",
          "model_module_version": "1.2.0",
          "state": {
            "_model_module": "@jupyter-widgets/base",
            "_model_module_version": "1.2.0",
            "_model_name": "LayoutModel",
            "_view_count": null,
            "_view_module": "@jupyter-widgets/base",
            "_view_module_version": "1.2.0",
            "_view_name": "LayoutView",
            "align_content": null,
            "align_items": null,
            "align_self": null,
            "border": null,
            "bottom": null,
            "display": null,
            "flex": null,
            "flex_flow": null,
            "grid_area": null,
            "grid_auto_columns": null,
            "grid_auto_flow": null,
            "grid_auto_rows": null,
            "grid_column": null,
            "grid_gap": null,
            "grid_row": null,
            "grid_template_areas": null,
            "grid_template_columns": null,
            "grid_template_rows": null,
            "height": null,
            "justify_content": null,
            "justify_items": null,
            "left": null,
            "margin": null,
            "max_height": null,
            "max_width": null,
            "min_height": null,
            "min_width": null,
            "object_fit": null,
            "object_position": null,
            "order": null,
            "overflow": null,
            "overflow_x": null,
            "overflow_y": null,
            "padding": null,
            "right": null,
            "top": null,
            "visibility": null,
            "width": null
          }
        },
        "f7279fcb3685466cb92dfbbf462207a8": {
          "model_module": "@jupyter-widgets/controls",
          "model_name": "ProgressStyleModel",
          "model_module_version": "1.5.0",
          "state": {
            "_model_module": "@jupyter-widgets/controls",
            "_model_module_version": "1.5.0",
            "_model_name": "ProgressStyleModel",
            "_view_count": null,
            "_view_module": "@jupyter-widgets/base",
            "_view_module_version": "1.2.0",
            "_view_name": "StyleView",
            "bar_color": null,
            "description_width": ""
          }
        },
        "67507b39884044e3ad3cac354b933973": {
          "model_module": "@jupyter-widgets/base",
          "model_name": "LayoutModel",
          "model_module_version": "1.2.0",
          "state": {
            "_model_module": "@jupyter-widgets/base",
            "_model_module_version": "1.2.0",
            "_model_name": "LayoutModel",
            "_view_count": null,
            "_view_module": "@jupyter-widgets/base",
            "_view_module_version": "1.2.0",
            "_view_name": "LayoutView",
            "align_content": null,
            "align_items": null,
            "align_self": null,
            "border": null,
            "bottom": null,
            "display": null,
            "flex": null,
            "flex_flow": null,
            "grid_area": null,
            "grid_auto_columns": null,
            "grid_auto_flow": null,
            "grid_auto_rows": null,
            "grid_column": null,
            "grid_gap": null,
            "grid_row": null,
            "grid_template_areas": null,
            "grid_template_columns": null,
            "grid_template_rows": null,
            "height": null,
            "justify_content": null,
            "justify_items": null,
            "left": null,
            "margin": null,
            "max_height": null,
            "max_width": null,
            "min_height": null,
            "min_width": null,
            "object_fit": null,
            "object_position": null,
            "order": null,
            "overflow": null,
            "overflow_x": null,
            "overflow_y": null,
            "padding": null,
            "right": null,
            "top": null,
            "visibility": null,
            "width": null
          }
        },
        "d8c6f06e3a364a2db762d7981ac16f56": {
          "model_module": "@jupyter-widgets/controls",
          "model_name": "DescriptionStyleModel",
          "model_module_version": "1.5.0",
          "state": {
            "_model_module": "@jupyter-widgets/controls",
            "_model_module_version": "1.5.0",
            "_model_name": "DescriptionStyleModel",
            "_view_count": null,
            "_view_module": "@jupyter-widgets/base",
            "_view_module_version": "1.2.0",
            "_view_name": "StyleView",
            "description_width": ""
          }
        },
        "c870159988ae4ecbb454b379596bbcef": {
          "model_module": "@jupyter-widgets/controls",
          "model_name": "HBoxModel",
          "model_module_version": "1.5.0",
          "state": {
            "_dom_classes": [],
            "_model_module": "@jupyter-widgets/controls",
            "_model_module_version": "1.5.0",
            "_model_name": "HBoxModel",
            "_view_count": null,
            "_view_module": "@jupyter-widgets/controls",
            "_view_module_version": "1.5.0",
            "_view_name": "HBoxView",
            "box_style": "",
            "children": [
              "IPY_MODEL_140492f266674ad1a5f52f92e817547f",
              "IPY_MODEL_9fcbf02ae9374a26b893226107dd37c7",
              "IPY_MODEL_d48368081cea4abd9f76aa52cb9860e9"
            ],
            "layout": "IPY_MODEL_eeaf110025ae45b0b5b461689e9942f3"
          }
        },
        "140492f266674ad1a5f52f92e817547f": {
          "model_module": "@jupyter-widgets/controls",
          "model_name": "HTMLModel",
          "model_module_version": "1.5.0",
          "state": {
            "_dom_classes": [],
            "_model_module": "@jupyter-widgets/controls",
            "_model_module_version": "1.5.0",
            "_model_name": "HTMLModel",
            "_view_count": null,
            "_view_module": "@jupyter-widgets/controls",
            "_view_module_version": "1.5.0",
            "_view_name": "HTMLView",
            "description": "",
            "description_tooltip": null,
            "layout": "IPY_MODEL_e83ba85c084e4c7aa79bbeb4face1bc0",
            "placeholder": "​",
            "style": "IPY_MODEL_e06883b1e11c42e3b96d4d82f31c625a",
            "value": "tokenizer_config.json: 100%"
          }
        },
        "9fcbf02ae9374a26b893226107dd37c7": {
          "model_module": "@jupyter-widgets/controls",
          "model_name": "FloatProgressModel",
          "model_module_version": "1.5.0",
          "state": {
            "_dom_classes": [],
            "_model_module": "@jupyter-widgets/controls",
            "_model_module_version": "1.5.0",
            "_model_name": "FloatProgressModel",
            "_view_count": null,
            "_view_module": "@jupyter-widgets/controls",
            "_view_module_version": "1.5.0",
            "_view_name": "ProgressView",
            "bar_style": "success",
            "description": "",
            "description_tooltip": null,
            "layout": "IPY_MODEL_4369f008c8a04ff78889dea9fb207168",
            "max": 342,
            "min": 0,
            "orientation": "horizontal",
            "style": "IPY_MODEL_6f2d8dd8c44f4cce92c1fbaf9e3e4083",
            "value": 342
          }
        },
        "d48368081cea4abd9f76aa52cb9860e9": {
          "model_module": "@jupyter-widgets/controls",
          "model_name": "HTMLModel",
          "model_module_version": "1.5.0",
          "state": {
            "_dom_classes": [],
            "_model_module": "@jupyter-widgets/controls",
            "_model_module_version": "1.5.0",
            "_model_name": "HTMLModel",
            "_view_count": null,
            "_view_module": "@jupyter-widgets/controls",
            "_view_module_version": "1.5.0",
            "_view_name": "HTMLView",
            "description": "",
            "description_tooltip": null,
            "layout": "IPY_MODEL_21c380a888d5461bac6ef2129cf1ce05",
            "placeholder": "​",
            "style": "IPY_MODEL_9e3b010f54274c2bb7bf75b5d00e62a1",
            "value": " 342/342 [00:00&lt;00:00, 18.2kB/s]"
          }
        },
        "eeaf110025ae45b0b5b461689e9942f3": {
          "model_module": "@jupyter-widgets/base",
          "model_name": "LayoutModel",
          "model_module_version": "1.2.0",
          "state": {
            "_model_module": "@jupyter-widgets/base",
            "_model_module_version": "1.2.0",
            "_model_name": "LayoutModel",
            "_view_count": null,
            "_view_module": "@jupyter-widgets/base",
            "_view_module_version": "1.2.0",
            "_view_name": "LayoutView",
            "align_content": null,
            "align_items": null,
            "align_self": null,
            "border": null,
            "bottom": null,
            "display": null,
            "flex": null,
            "flex_flow": null,
            "grid_area": null,
            "grid_auto_columns": null,
            "grid_auto_flow": null,
            "grid_auto_rows": null,
            "grid_column": null,
            "grid_gap": null,
            "grid_row": null,
            "grid_template_areas": null,
            "grid_template_columns": null,
            "grid_template_rows": null,
            "height": null,
            "justify_content": null,
            "justify_items": null,
            "left": null,
            "margin": null,
            "max_height": null,
            "max_width": null,
            "min_height": null,
            "min_width": null,
            "object_fit": null,
            "object_position": null,
            "order": null,
            "overflow": null,
            "overflow_x": null,
            "overflow_y": null,
            "padding": null,
            "right": null,
            "top": null,
            "visibility": null,
            "width": null
          }
        },
        "e83ba85c084e4c7aa79bbeb4face1bc0": {
          "model_module": "@jupyter-widgets/base",
          "model_name": "LayoutModel",
          "model_module_version": "1.2.0",
          "state": {
            "_model_module": "@jupyter-widgets/base",
            "_model_module_version": "1.2.0",
            "_model_name": "LayoutModel",
            "_view_count": null,
            "_view_module": "@jupyter-widgets/base",
            "_view_module_version": "1.2.0",
            "_view_name": "LayoutView",
            "align_content": null,
            "align_items": null,
            "align_self": null,
            "border": null,
            "bottom": null,
            "display": null,
            "flex": null,
            "flex_flow": null,
            "grid_area": null,
            "grid_auto_columns": null,
            "grid_auto_flow": null,
            "grid_auto_rows": null,
            "grid_column": null,
            "grid_gap": null,
            "grid_row": null,
            "grid_template_areas": null,
            "grid_template_columns": null,
            "grid_template_rows": null,
            "height": null,
            "justify_content": null,
            "justify_items": null,
            "left": null,
            "margin": null,
            "max_height": null,
            "max_width": null,
            "min_height": null,
            "min_width": null,
            "object_fit": null,
            "object_position": null,
            "order": null,
            "overflow": null,
            "overflow_x": null,
            "overflow_y": null,
            "padding": null,
            "right": null,
            "top": null,
            "visibility": null,
            "width": null
          }
        },
        "e06883b1e11c42e3b96d4d82f31c625a": {
          "model_module": "@jupyter-widgets/controls",
          "model_name": "DescriptionStyleModel",
          "model_module_version": "1.5.0",
          "state": {
            "_model_module": "@jupyter-widgets/controls",
            "_model_module_version": "1.5.0",
            "_model_name": "DescriptionStyleModel",
            "_view_count": null,
            "_view_module": "@jupyter-widgets/base",
            "_view_module_version": "1.2.0",
            "_view_name": "StyleView",
            "description_width": ""
          }
        },
        "4369f008c8a04ff78889dea9fb207168": {
          "model_module": "@jupyter-widgets/base",
          "model_name": "LayoutModel",
          "model_module_version": "1.2.0",
          "state": {
            "_model_module": "@jupyter-widgets/base",
            "_model_module_version": "1.2.0",
            "_model_name": "LayoutModel",
            "_view_count": null,
            "_view_module": "@jupyter-widgets/base",
            "_view_module_version": "1.2.0",
            "_view_name": "LayoutView",
            "align_content": null,
            "align_items": null,
            "align_self": null,
            "border": null,
            "bottom": null,
            "display": null,
            "flex": null,
            "flex_flow": null,
            "grid_area": null,
            "grid_auto_columns": null,
            "grid_auto_flow": null,
            "grid_auto_rows": null,
            "grid_column": null,
            "grid_gap": null,
            "grid_row": null,
            "grid_template_areas": null,
            "grid_template_columns": null,
            "grid_template_rows": null,
            "height": null,
            "justify_content": null,
            "justify_items": null,
            "left": null,
            "margin": null,
            "max_height": null,
            "max_width": null,
            "min_height": null,
            "min_width": null,
            "object_fit": null,
            "object_position": null,
            "order": null,
            "overflow": null,
            "overflow_x": null,
            "overflow_y": null,
            "padding": null,
            "right": null,
            "top": null,
            "visibility": null,
            "width": null
          }
        },
        "6f2d8dd8c44f4cce92c1fbaf9e3e4083": {
          "model_module": "@jupyter-widgets/controls",
          "model_name": "ProgressStyleModel",
          "model_module_version": "1.5.0",
          "state": {
            "_model_module": "@jupyter-widgets/controls",
            "_model_module_version": "1.5.0",
            "_model_name": "ProgressStyleModel",
            "_view_count": null,
            "_view_module": "@jupyter-widgets/base",
            "_view_module_version": "1.2.0",
            "_view_name": "StyleView",
            "bar_color": null,
            "description_width": ""
          }
        },
        "21c380a888d5461bac6ef2129cf1ce05": {
          "model_module": "@jupyter-widgets/base",
          "model_name": "LayoutModel",
          "model_module_version": "1.2.0",
          "state": {
            "_model_module": "@jupyter-widgets/base",
            "_model_module_version": "1.2.0",
            "_model_name": "LayoutModel",
            "_view_count": null,
            "_view_module": "@jupyter-widgets/base",
            "_view_module_version": "1.2.0",
            "_view_name": "LayoutView",
            "align_content": null,
            "align_items": null,
            "align_self": null,
            "border": null,
            "bottom": null,
            "display": null,
            "flex": null,
            "flex_flow": null,
            "grid_area": null,
            "grid_auto_columns": null,
            "grid_auto_flow": null,
            "grid_auto_rows": null,
            "grid_column": null,
            "grid_gap": null,
            "grid_row": null,
            "grid_template_areas": null,
            "grid_template_columns": null,
            "grid_template_rows": null,
            "height": null,
            "justify_content": null,
            "justify_items": null,
            "left": null,
            "margin": null,
            "max_height": null,
            "max_width": null,
            "min_height": null,
            "min_width": null,
            "object_fit": null,
            "object_position": null,
            "order": null,
            "overflow": null,
            "overflow_x": null,
            "overflow_y": null,
            "padding": null,
            "right": null,
            "top": null,
            "visibility": null,
            "width": null
          }
        },
        "9e3b010f54274c2bb7bf75b5d00e62a1": {
          "model_module": "@jupyter-widgets/controls",
          "model_name": "DescriptionStyleModel",
          "model_module_version": "1.5.0",
          "state": {
            "_model_module": "@jupyter-widgets/controls",
            "_model_module_version": "1.5.0",
            "_model_name": "DescriptionStyleModel",
            "_view_count": null,
            "_view_module": "@jupyter-widgets/base",
            "_view_module_version": "1.2.0",
            "_view_name": "StyleView",
            "description_width": ""
          }
        },
        "da61ad02a1b14b988bd4a6b791cc3e62": {
          "model_module": "@jupyter-widgets/controls",
          "model_name": "HBoxModel",
          "model_module_version": "1.5.0",
          "state": {
            "_dom_classes": [],
            "_model_module": "@jupyter-widgets/controls",
            "_model_module_version": "1.5.0",
            "_model_name": "HBoxModel",
            "_view_count": null,
            "_view_module": "@jupyter-widgets/controls",
            "_view_module_version": "1.5.0",
            "_view_name": "HBoxView",
            "box_style": "",
            "children": [
              "IPY_MODEL_cc59c2de26264df092627684956e09bc",
              "IPY_MODEL_9738bd02d93142b984b82c52e65bfd53",
              "IPY_MODEL_11d5dbafd0ea40f2997d634066953af9"
            ],
            "layout": "IPY_MODEL_391308465fd14fe4991504b75cb23cf2"
          }
        },
        "cc59c2de26264df092627684956e09bc": {
          "model_module": "@jupyter-widgets/controls",
          "model_name": "HTMLModel",
          "model_module_version": "1.5.0",
          "state": {
            "_dom_classes": [],
            "_model_module": "@jupyter-widgets/controls",
            "_model_module_version": "1.5.0",
            "_model_name": "HTMLModel",
            "_view_count": null,
            "_view_module": "@jupyter-widgets/controls",
            "_view_module_version": "1.5.0",
            "_view_name": "HTMLView",
            "description": "",
            "description_tooltip": null,
            "layout": "IPY_MODEL_33552ee12f8840de95e46ea53f616962",
            "placeholder": "​",
            "style": "IPY_MODEL_781e2d946b5445c4b34ce1489ac37b91",
            "value": "vocab.txt: "
          }
        },
        "9738bd02d93142b984b82c52e65bfd53": {
          "model_module": "@jupyter-widgets/controls",
          "model_name": "FloatProgressModel",
          "model_module_version": "1.5.0",
          "state": {
            "_dom_classes": [],
            "_model_module": "@jupyter-widgets/controls",
            "_model_module_version": "1.5.0",
            "_model_name": "FloatProgressModel",
            "_view_count": null,
            "_view_module": "@jupyter-widgets/controls",
            "_view_module_version": "1.5.0",
            "_view_name": "ProgressView",
            "bar_style": "success",
            "description": "",
            "description_tooltip": null,
            "layout": "IPY_MODEL_99c032d61a5844489d41914b776f5793",
            "max": 1,
            "min": 0,
            "orientation": "horizontal",
            "style": "IPY_MODEL_a02238f381f0417dade7e4b06dd7635f",
            "value": 1
          }
        },
        "11d5dbafd0ea40f2997d634066953af9": {
          "model_module": "@jupyter-widgets/controls",
          "model_name": "HTMLModel",
          "model_module_version": "1.5.0",
          "state": {
            "_dom_classes": [],
            "_model_module": "@jupyter-widgets/controls",
            "_model_module_version": "1.5.0",
            "_model_name": "HTMLModel",
            "_view_count": null,
            "_view_module": "@jupyter-widgets/controls",
            "_view_module_version": "1.5.0",
            "_view_name": "HTMLView",
            "description": "",
            "description_tooltip": null,
            "layout": "IPY_MODEL_cba9cae5d3144ea79746e392f78c0533",
            "placeholder": "​",
            "style": "IPY_MODEL_bd03c946bf03444bb86731a9254fc689",
            "value": " 232k/? [00:00&lt;00:00, 8.89MB/s]"
          }
        },
        "391308465fd14fe4991504b75cb23cf2": {
          "model_module": "@jupyter-widgets/base",
          "model_name": "LayoutModel",
          "model_module_version": "1.2.0",
          "state": {
            "_model_module": "@jupyter-widgets/base",
            "_model_module_version": "1.2.0",
            "_model_name": "LayoutModel",
            "_view_count": null,
            "_view_module": "@jupyter-widgets/base",
            "_view_module_version": "1.2.0",
            "_view_name": "LayoutView",
            "align_content": null,
            "align_items": null,
            "align_self": null,
            "border": null,
            "bottom": null,
            "display": null,
            "flex": null,
            "flex_flow": null,
            "grid_area": null,
            "grid_auto_columns": null,
            "grid_auto_flow": null,
            "grid_auto_rows": null,
            "grid_column": null,
            "grid_gap": null,
            "grid_row": null,
            "grid_template_areas": null,
            "grid_template_columns": null,
            "grid_template_rows": null,
            "height": null,
            "justify_content": null,
            "justify_items": null,
            "left": null,
            "margin": null,
            "max_height": null,
            "max_width": null,
            "min_height": null,
            "min_width": null,
            "object_fit": null,
            "object_position": null,
            "order": null,
            "overflow": null,
            "overflow_x": null,
            "overflow_y": null,
            "padding": null,
            "right": null,
            "top": null,
            "visibility": null,
            "width": null
          }
        },
        "33552ee12f8840de95e46ea53f616962": {
          "model_module": "@jupyter-widgets/base",
          "model_name": "LayoutModel",
          "model_module_version": "1.2.0",
          "state": {
            "_model_module": "@jupyter-widgets/base",
            "_model_module_version": "1.2.0",
            "_model_name": "LayoutModel",
            "_view_count": null,
            "_view_module": "@jupyter-widgets/base",
            "_view_module_version": "1.2.0",
            "_view_name": "LayoutView",
            "align_content": null,
            "align_items": null,
            "align_self": null,
            "border": null,
            "bottom": null,
            "display": null,
            "flex": null,
            "flex_flow": null,
            "grid_area": null,
            "grid_auto_columns": null,
            "grid_auto_flow": null,
            "grid_auto_rows": null,
            "grid_column": null,
            "grid_gap": null,
            "grid_row": null,
            "grid_template_areas": null,
            "grid_template_columns": null,
            "grid_template_rows": null,
            "height": null,
            "justify_content": null,
            "justify_items": null,
            "left": null,
            "margin": null,
            "max_height": null,
            "max_width": null,
            "min_height": null,
            "min_width": null,
            "object_fit": null,
            "object_position": null,
            "order": null,
            "overflow": null,
            "overflow_x": null,
            "overflow_y": null,
            "padding": null,
            "right": null,
            "top": null,
            "visibility": null,
            "width": null
          }
        },
        "781e2d946b5445c4b34ce1489ac37b91": {
          "model_module": "@jupyter-widgets/controls",
          "model_name": "DescriptionStyleModel",
          "model_module_version": "1.5.0",
          "state": {
            "_model_module": "@jupyter-widgets/controls",
            "_model_module_version": "1.5.0",
            "_model_name": "DescriptionStyleModel",
            "_view_count": null,
            "_view_module": "@jupyter-widgets/base",
            "_view_module_version": "1.2.0",
            "_view_name": "StyleView",
            "description_width": ""
          }
        },
        "99c032d61a5844489d41914b776f5793": {
          "model_module": "@jupyter-widgets/base",
          "model_name": "LayoutModel",
          "model_module_version": "1.2.0",
          "state": {
            "_model_module": "@jupyter-widgets/base",
            "_model_module_version": "1.2.0",
            "_model_name": "LayoutModel",
            "_view_count": null,
            "_view_module": "@jupyter-widgets/base",
            "_view_module_version": "1.2.0",
            "_view_name": "LayoutView",
            "align_content": null,
            "align_items": null,
            "align_self": null,
            "border": null,
            "bottom": null,
            "display": null,
            "flex": null,
            "flex_flow": null,
            "grid_area": null,
            "grid_auto_columns": null,
            "grid_auto_flow": null,
            "grid_auto_rows": null,
            "grid_column": null,
            "grid_gap": null,
            "grid_row": null,
            "grid_template_areas": null,
            "grid_template_columns": null,
            "grid_template_rows": null,
            "height": null,
            "justify_content": null,
            "justify_items": null,
            "left": null,
            "margin": null,
            "max_height": null,
            "max_width": null,
            "min_height": null,
            "min_width": null,
            "object_fit": null,
            "object_position": null,
            "order": null,
            "overflow": null,
            "overflow_x": null,
            "overflow_y": null,
            "padding": null,
            "right": null,
            "top": null,
            "visibility": null,
            "width": "20px"
          }
        },
        "a02238f381f0417dade7e4b06dd7635f": {
          "model_module": "@jupyter-widgets/controls",
          "model_name": "ProgressStyleModel",
          "model_module_version": "1.5.0",
          "state": {
            "_model_module": "@jupyter-widgets/controls",
            "_model_module_version": "1.5.0",
            "_model_name": "ProgressStyleModel",
            "_view_count": null,
            "_view_module": "@jupyter-widgets/base",
            "_view_module_version": "1.2.0",
            "_view_name": "StyleView",
            "bar_color": null,
            "description_width": ""
          }
        },
        "cba9cae5d3144ea79746e392f78c0533": {
          "model_module": "@jupyter-widgets/base",
          "model_name": "LayoutModel",
          "model_module_version": "1.2.0",
          "state": {
            "_model_module": "@jupyter-widgets/base",
            "_model_module_version": "1.2.0",
            "_model_name": "LayoutModel",
            "_view_count": null,
            "_view_module": "@jupyter-widgets/base",
            "_view_module_version": "1.2.0",
            "_view_name": "LayoutView",
            "align_content": null,
            "align_items": null,
            "align_self": null,
            "border": null,
            "bottom": null,
            "display": null,
            "flex": null,
            "flex_flow": null,
            "grid_area": null,
            "grid_auto_columns": null,
            "grid_auto_flow": null,
            "grid_auto_rows": null,
            "grid_column": null,
            "grid_gap": null,
            "grid_row": null,
            "grid_template_areas": null,
            "grid_template_columns": null,
            "grid_template_rows": null,
            "height": null,
            "justify_content": null,
            "justify_items": null,
            "left": null,
            "margin": null,
            "max_height": null,
            "max_width": null,
            "min_height": null,
            "min_width": null,
            "object_fit": null,
            "object_position": null,
            "order": null,
            "overflow": null,
            "overflow_x": null,
            "overflow_y": null,
            "padding": null,
            "right": null,
            "top": null,
            "visibility": null,
            "width": null
          }
        },
        "bd03c946bf03444bb86731a9254fc689": {
          "model_module": "@jupyter-widgets/controls",
          "model_name": "DescriptionStyleModel",
          "model_module_version": "1.5.0",
          "state": {
            "_model_module": "@jupyter-widgets/controls",
            "_model_module_version": "1.5.0",
            "_model_name": "DescriptionStyleModel",
            "_view_count": null,
            "_view_module": "@jupyter-widgets/base",
            "_view_module_version": "1.2.0",
            "_view_name": "StyleView",
            "description_width": ""
          }
        },
        "387ae12f447b4198824bfd4d9575a9fd": {
          "model_module": "@jupyter-widgets/controls",
          "model_name": "HBoxModel",
          "model_module_version": "1.5.0",
          "state": {
            "_dom_classes": [],
            "_model_module": "@jupyter-widgets/controls",
            "_model_module_version": "1.5.0",
            "_model_name": "HBoxModel",
            "_view_count": null,
            "_view_module": "@jupyter-widgets/controls",
            "_view_module_version": "1.5.0",
            "_view_name": "HBoxView",
            "box_style": "",
            "children": [
              "IPY_MODEL_9bd307b6db854a128f4a0caf840895a8",
              "IPY_MODEL_bd26077d6141452db2028517a5b7cced",
              "IPY_MODEL_43521de5bb424bc0a8d3aa4b55b80cf5"
            ],
            "layout": "IPY_MODEL_271799b14afb46f28a6e33e1c53ce51e"
          }
        },
        "9bd307b6db854a128f4a0caf840895a8": {
          "model_module": "@jupyter-widgets/controls",
          "model_name": "HTMLModel",
          "model_module_version": "1.5.0",
          "state": {
            "_dom_classes": [],
            "_model_module": "@jupyter-widgets/controls",
            "_model_module_version": "1.5.0",
            "_model_name": "HTMLModel",
            "_view_count": null,
            "_view_module": "@jupyter-widgets/controls",
            "_view_module_version": "1.5.0",
            "_view_name": "HTMLView",
            "description": "",
            "description_tooltip": null,
            "layout": "IPY_MODEL_1e3bd0334f31484a88bd6ef991a4ccbc",
            "placeholder": "​",
            "style": "IPY_MODEL_2636340c81544402b42f57e9f09a0fd2",
            "value": "tokenizer.json: "
          }
        },
        "bd26077d6141452db2028517a5b7cced": {
          "model_module": "@jupyter-widgets/controls",
          "model_name": "FloatProgressModel",
          "model_module_version": "1.5.0",
          "state": {
            "_dom_classes": [],
            "_model_module": "@jupyter-widgets/controls",
            "_model_module_version": "1.5.0",
            "_model_name": "FloatProgressModel",
            "_view_count": null,
            "_view_module": "@jupyter-widgets/controls",
            "_view_module_version": "1.5.0",
            "_view_name": "ProgressView",
            "bar_style": "success",
            "description": "",
            "description_tooltip": null,
            "layout": "IPY_MODEL_eb254483090c4b1c88baf30da9d16cd3",
            "max": 1,
            "min": 0,
            "orientation": "horizontal",
            "style": "IPY_MODEL_db1e0fe98cca46c888b72335c485138e",
            "value": 1
          }
        },
        "43521de5bb424bc0a8d3aa4b55b80cf5": {
          "model_module": "@jupyter-widgets/controls",
          "model_name": "HTMLModel",
          "model_module_version": "1.5.0",
          "state": {
            "_dom_classes": [],
            "_model_module": "@jupyter-widgets/controls",
            "_model_module_version": "1.5.0",
            "_model_name": "HTMLModel",
            "_view_count": null,
            "_view_module": "@jupyter-widgets/controls",
            "_view_module_version": "1.5.0",
            "_view_name": "HTMLView",
            "description": "",
            "description_tooltip": null,
            "layout": "IPY_MODEL_478b3f3de03a467ab0e81db27cd665c8",
            "placeholder": "​",
            "style": "IPY_MODEL_f817e1afa7034000813e0c152196d706",
            "value": " 712k/? [00:00&lt;00:00, 3.89MB/s]"
          }
        },
        "271799b14afb46f28a6e33e1c53ce51e": {
          "model_module": "@jupyter-widgets/base",
          "model_name": "LayoutModel",
          "model_module_version": "1.2.0",
          "state": {
            "_model_module": "@jupyter-widgets/base",
            "_model_module_version": "1.2.0",
            "_model_name": "LayoutModel",
            "_view_count": null,
            "_view_module": "@jupyter-widgets/base",
            "_view_module_version": "1.2.0",
            "_view_name": "LayoutView",
            "align_content": null,
            "align_items": null,
            "align_self": null,
            "border": null,
            "bottom": null,
            "display": null,
            "flex": null,
            "flex_flow": null,
            "grid_area": null,
            "grid_auto_columns": null,
            "grid_auto_flow": null,
            "grid_auto_rows": null,
            "grid_column": null,
            "grid_gap": null,
            "grid_row": null,
            "grid_template_areas": null,
            "grid_template_columns": null,
            "grid_template_rows": null,
            "height": null,
            "justify_content": null,
            "justify_items": null,
            "left": null,
            "margin": null,
            "max_height": null,
            "max_width": null,
            "min_height": null,
            "min_width": null,
            "object_fit": null,
            "object_position": null,
            "order": null,
            "overflow": null,
            "overflow_x": null,
            "overflow_y": null,
            "padding": null,
            "right": null,
            "top": null,
            "visibility": null,
            "width": null
          }
        },
        "1e3bd0334f31484a88bd6ef991a4ccbc": {
          "model_module": "@jupyter-widgets/base",
          "model_name": "LayoutModel",
          "model_module_version": "1.2.0",
          "state": {
            "_model_module": "@jupyter-widgets/base",
            "_model_module_version": "1.2.0",
            "_model_name": "LayoutModel",
            "_view_count": null,
            "_view_module": "@jupyter-widgets/base",
            "_view_module_version": "1.2.0",
            "_view_name": "LayoutView",
            "align_content": null,
            "align_items": null,
            "align_self": null,
            "border": null,
            "bottom": null,
            "display": null,
            "flex": null,
            "flex_flow": null,
            "grid_area": null,
            "grid_auto_columns": null,
            "grid_auto_flow": null,
            "grid_auto_rows": null,
            "grid_column": null,
            "grid_gap": null,
            "grid_row": null,
            "grid_template_areas": null,
            "grid_template_columns": null,
            "grid_template_rows": null,
            "height": null,
            "justify_content": null,
            "justify_items": null,
            "left": null,
            "margin": null,
            "max_height": null,
            "max_width": null,
            "min_height": null,
            "min_width": null,
            "object_fit": null,
            "object_position": null,
            "order": null,
            "overflow": null,
            "overflow_x": null,
            "overflow_y": null,
            "padding": null,
            "right": null,
            "top": null,
            "visibility": null,
            "width": null
          }
        },
        "2636340c81544402b42f57e9f09a0fd2": {
          "model_module": "@jupyter-widgets/controls",
          "model_name": "DescriptionStyleModel",
          "model_module_version": "1.5.0",
          "state": {
            "_model_module": "@jupyter-widgets/controls",
            "_model_module_version": "1.5.0",
            "_model_name": "DescriptionStyleModel",
            "_view_count": null,
            "_view_module": "@jupyter-widgets/base",
            "_view_module_version": "1.2.0",
            "_view_name": "StyleView",
            "description_width": ""
          }
        },
        "eb254483090c4b1c88baf30da9d16cd3": {
          "model_module": "@jupyter-widgets/base",
          "model_name": "LayoutModel",
          "model_module_version": "1.2.0",
          "state": {
            "_model_module": "@jupyter-widgets/base",
            "_model_module_version": "1.2.0",
            "_model_name": "LayoutModel",
            "_view_count": null,
            "_view_module": "@jupyter-widgets/base",
            "_view_module_version": "1.2.0",
            "_view_name": "LayoutView",
            "align_content": null,
            "align_items": null,
            "align_self": null,
            "border": null,
            "bottom": null,
            "display": null,
            "flex": null,
            "flex_flow": null,
            "grid_area": null,
            "grid_auto_columns": null,
            "grid_auto_flow": null,
            "grid_auto_rows": null,
            "grid_column": null,
            "grid_gap": null,
            "grid_row": null,
            "grid_template_areas": null,
            "grid_template_columns": null,
            "grid_template_rows": null,
            "height": null,
            "justify_content": null,
            "justify_items": null,
            "left": null,
            "margin": null,
            "max_height": null,
            "max_width": null,
            "min_height": null,
            "min_width": null,
            "object_fit": null,
            "object_position": null,
            "order": null,
            "overflow": null,
            "overflow_x": null,
            "overflow_y": null,
            "padding": null,
            "right": null,
            "top": null,
            "visibility": null,
            "width": "20px"
          }
        },
        "db1e0fe98cca46c888b72335c485138e": {
          "model_module": "@jupyter-widgets/controls",
          "model_name": "ProgressStyleModel",
          "model_module_version": "1.5.0",
          "state": {
            "_model_module": "@jupyter-widgets/controls",
            "_model_module_version": "1.5.0",
            "_model_name": "ProgressStyleModel",
            "_view_count": null,
            "_view_module": "@jupyter-widgets/base",
            "_view_module_version": "1.2.0",
            "_view_name": "StyleView",
            "bar_color": null,
            "description_width": ""
          }
        },
        "478b3f3de03a467ab0e81db27cd665c8": {
          "model_module": "@jupyter-widgets/base",
          "model_name": "LayoutModel",
          "model_module_version": "1.2.0",
          "state": {
            "_model_module": "@jupyter-widgets/base",
            "_model_module_version": "1.2.0",
            "_model_name": "LayoutModel",
            "_view_count": null,
            "_view_module": "@jupyter-widgets/base",
            "_view_module_version": "1.2.0",
            "_view_name": "LayoutView",
            "align_content": null,
            "align_items": null,
            "align_self": null,
            "border": null,
            "bottom": null,
            "display": null,
            "flex": null,
            "flex_flow": null,
            "grid_area": null,
            "grid_auto_columns": null,
            "grid_auto_flow": null,
            "grid_auto_rows": null,
            "grid_column": null,
            "grid_gap": null,
            "grid_row": null,
            "grid_template_areas": null,
            "grid_template_columns": null,
            "grid_template_rows": null,
            "height": null,
            "justify_content": null,
            "justify_items": null,
            "left": null,
            "margin": null,
            "max_height": null,
            "max_width": null,
            "min_height": null,
            "min_width": null,
            "object_fit": null,
            "object_position": null,
            "order": null,
            "overflow": null,
            "overflow_x": null,
            "overflow_y": null,
            "padding": null,
            "right": null,
            "top": null,
            "visibility": null,
            "width": null
          }
        },
        "f817e1afa7034000813e0c152196d706": {
          "model_module": "@jupyter-widgets/controls",
          "model_name": "DescriptionStyleModel",
          "model_module_version": "1.5.0",
          "state": {
            "_model_module": "@jupyter-widgets/controls",
            "_model_module_version": "1.5.0",
            "_model_name": "DescriptionStyleModel",
            "_view_count": null,
            "_view_module": "@jupyter-widgets/base",
            "_view_module_version": "1.2.0",
            "_view_name": "StyleView",
            "description_width": ""
          }
        },
        "18ab2c33bce74bfdb4f4fb987502c025": {
          "model_module": "@jupyter-widgets/controls",
          "model_name": "HBoxModel",
          "model_module_version": "1.5.0",
          "state": {
            "_dom_classes": [],
            "_model_module": "@jupyter-widgets/controls",
            "_model_module_version": "1.5.0",
            "_model_name": "HBoxModel",
            "_view_count": null,
            "_view_module": "@jupyter-widgets/controls",
            "_view_module_version": "1.5.0",
            "_view_name": "HBoxView",
            "box_style": "",
            "children": [
              "IPY_MODEL_d39047c4ea84475c898621620e1aaff5",
              "IPY_MODEL_3594fc6dea6841cab4ed0c648aaa5340",
              "IPY_MODEL_848995cb473d44adbe287a04df865f89"
            ],
            "layout": "IPY_MODEL_9dd5d18129304e7088f0aa6d4ddd2fd0"
          }
        },
        "d39047c4ea84475c898621620e1aaff5": {
          "model_module": "@jupyter-widgets/controls",
          "model_name": "HTMLModel",
          "model_module_version": "1.5.0",
          "state": {
            "_dom_classes": [],
            "_model_module": "@jupyter-widgets/controls",
            "_model_module_version": "1.5.0",
            "_model_name": "HTMLModel",
            "_view_count": null,
            "_view_module": "@jupyter-widgets/controls",
            "_view_module_version": "1.5.0",
            "_view_name": "HTMLView",
            "description": "",
            "description_tooltip": null,
            "layout": "IPY_MODEL_c5301c06458444409e3ea7228fe71a43",
            "placeholder": "​",
            "style": "IPY_MODEL_ab4675c3fff842c5a47407a73f4b8975",
            "value": "special_tokens_map.json: 100%"
          }
        },
        "3594fc6dea6841cab4ed0c648aaa5340": {
          "model_module": "@jupyter-widgets/controls",
          "model_name": "FloatProgressModel",
          "model_module_version": "1.5.0",
          "state": {
            "_dom_classes": [],
            "_model_module": "@jupyter-widgets/controls",
            "_model_module_version": "1.5.0",
            "_model_name": "FloatProgressModel",
            "_view_count": null,
            "_view_module": "@jupyter-widgets/controls",
            "_view_module_version": "1.5.0",
            "_view_name": "ProgressView",
            "bar_style": "success",
            "description": "",
            "description_tooltip": null,
            "layout": "IPY_MODEL_0f22ea006dad43b8b2414a49551291f0",
            "max": 125,
            "min": 0,
            "orientation": "horizontal",
            "style": "IPY_MODEL_f7797d6ab28142c1a1edb13df374c84b",
            "value": 125
          }
        },
        "848995cb473d44adbe287a04df865f89": {
          "model_module": "@jupyter-widgets/controls",
          "model_name": "HTMLModel",
          "model_module_version": "1.5.0",
          "state": {
            "_dom_classes": [],
            "_model_module": "@jupyter-widgets/controls",
            "_model_module_version": "1.5.0",
            "_model_name": "HTMLModel",
            "_view_count": null,
            "_view_module": "@jupyter-widgets/controls",
            "_view_module_version": "1.5.0",
            "_view_name": "HTMLView",
            "description": "",
            "description_tooltip": null,
            "layout": "IPY_MODEL_11f8ecc3f55d436e83e41dae2d1ee42a",
            "placeholder": "​",
            "style": "IPY_MODEL_7adc6049d37f447d88f36e924a2788af",
            "value": " 125/125 [00:00&lt;00:00, 5.82kB/s]"
          }
        },
        "9dd5d18129304e7088f0aa6d4ddd2fd0": {
          "model_module": "@jupyter-widgets/base",
          "model_name": "LayoutModel",
          "model_module_version": "1.2.0",
          "state": {
            "_model_module": "@jupyter-widgets/base",
            "_model_module_version": "1.2.0",
            "_model_name": "LayoutModel",
            "_view_count": null,
            "_view_module": "@jupyter-widgets/base",
            "_view_module_version": "1.2.0",
            "_view_name": "LayoutView",
            "align_content": null,
            "align_items": null,
            "align_self": null,
            "border": null,
            "bottom": null,
            "display": null,
            "flex": null,
            "flex_flow": null,
            "grid_area": null,
            "grid_auto_columns": null,
            "grid_auto_flow": null,
            "grid_auto_rows": null,
            "grid_column": null,
            "grid_gap": null,
            "grid_row": null,
            "grid_template_areas": null,
            "grid_template_columns": null,
            "grid_template_rows": null,
            "height": null,
            "justify_content": null,
            "justify_items": null,
            "left": null,
            "margin": null,
            "max_height": null,
            "max_width": null,
            "min_height": null,
            "min_width": null,
            "object_fit": null,
            "object_position": null,
            "order": null,
            "overflow": null,
            "overflow_x": null,
            "overflow_y": null,
            "padding": null,
            "right": null,
            "top": null,
            "visibility": null,
            "width": null
          }
        },
        "c5301c06458444409e3ea7228fe71a43": {
          "model_module": "@jupyter-widgets/base",
          "model_name": "LayoutModel",
          "model_module_version": "1.2.0",
          "state": {
            "_model_module": "@jupyter-widgets/base",
            "_model_module_version": "1.2.0",
            "_model_name": "LayoutModel",
            "_view_count": null,
            "_view_module": "@jupyter-widgets/base",
            "_view_module_version": "1.2.0",
            "_view_name": "LayoutView",
            "align_content": null,
            "align_items": null,
            "align_self": null,
            "border": null,
            "bottom": null,
            "display": null,
            "flex": null,
            "flex_flow": null,
            "grid_area": null,
            "grid_auto_columns": null,
            "grid_auto_flow": null,
            "grid_auto_rows": null,
            "grid_column": null,
            "grid_gap": null,
            "grid_row": null,
            "grid_template_areas": null,
            "grid_template_columns": null,
            "grid_template_rows": null,
            "height": null,
            "justify_content": null,
            "justify_items": null,
            "left": null,
            "margin": null,
            "max_height": null,
            "max_width": null,
            "min_height": null,
            "min_width": null,
            "object_fit": null,
            "object_position": null,
            "order": null,
            "overflow": null,
            "overflow_x": null,
            "overflow_y": null,
            "padding": null,
            "right": null,
            "top": null,
            "visibility": null,
            "width": null
          }
        },
        "ab4675c3fff842c5a47407a73f4b8975": {
          "model_module": "@jupyter-widgets/controls",
          "model_name": "DescriptionStyleModel",
          "model_module_version": "1.5.0",
          "state": {
            "_model_module": "@jupyter-widgets/controls",
            "_model_module_version": "1.5.0",
            "_model_name": "DescriptionStyleModel",
            "_view_count": null,
            "_view_module": "@jupyter-widgets/base",
            "_view_module_version": "1.2.0",
            "_view_name": "StyleView",
            "description_width": ""
          }
        },
        "0f22ea006dad43b8b2414a49551291f0": {
          "model_module": "@jupyter-widgets/base",
          "model_name": "LayoutModel",
          "model_module_version": "1.2.0",
          "state": {
            "_model_module": "@jupyter-widgets/base",
            "_model_module_version": "1.2.0",
            "_model_name": "LayoutModel",
            "_view_count": null,
            "_view_module": "@jupyter-widgets/base",
            "_view_module_version": "1.2.0",
            "_view_name": "LayoutView",
            "align_content": null,
            "align_items": null,
            "align_self": null,
            "border": null,
            "bottom": null,
            "display": null,
            "flex": null,
            "flex_flow": null,
            "grid_area": null,
            "grid_auto_columns": null,
            "grid_auto_flow": null,
            "grid_auto_rows": null,
            "grid_column": null,
            "grid_gap": null,
            "grid_row": null,
            "grid_template_areas": null,
            "grid_template_columns": null,
            "grid_template_rows": null,
            "height": null,
            "justify_content": null,
            "justify_items": null,
            "left": null,
            "margin": null,
            "max_height": null,
            "max_width": null,
            "min_height": null,
            "min_width": null,
            "object_fit": null,
            "object_position": null,
            "order": null,
            "overflow": null,
            "overflow_x": null,
            "overflow_y": null,
            "padding": null,
            "right": null,
            "top": null,
            "visibility": null,
            "width": null
          }
        },
        "f7797d6ab28142c1a1edb13df374c84b": {
          "model_module": "@jupyter-widgets/controls",
          "model_name": "ProgressStyleModel",
          "model_module_version": "1.5.0",
          "state": {
            "_model_module": "@jupyter-widgets/controls",
            "_model_module_version": "1.5.0",
            "_model_name": "ProgressStyleModel",
            "_view_count": null,
            "_view_module": "@jupyter-widgets/base",
            "_view_module_version": "1.2.0",
            "_view_name": "StyleView",
            "bar_color": null,
            "description_width": ""
          }
        },
        "11f8ecc3f55d436e83e41dae2d1ee42a": {
          "model_module": "@jupyter-widgets/base",
          "model_name": "LayoutModel",
          "model_module_version": "1.2.0",
          "state": {
            "_model_module": "@jupyter-widgets/base",
            "_model_module_version": "1.2.0",
            "_model_name": "LayoutModel",
            "_view_count": null,
            "_view_module": "@jupyter-widgets/base",
            "_view_module_version": "1.2.0",
            "_view_name": "LayoutView",
            "align_content": null,
            "align_items": null,
            "align_self": null,
            "border": null,
            "bottom": null,
            "display": null,
            "flex": null,
            "flex_flow": null,
            "grid_area": null,
            "grid_auto_columns": null,
            "grid_auto_flow": null,
            "grid_auto_rows": null,
            "grid_column": null,
            "grid_gap": null,
            "grid_row": null,
            "grid_template_areas": null,
            "grid_template_columns": null,
            "grid_template_rows": null,
            "height": null,
            "justify_content": null,
            "justify_items": null,
            "left": null,
            "margin": null,
            "max_height": null,
            "max_width": null,
            "min_height": null,
            "min_width": null,
            "object_fit": null,
            "object_position": null,
            "order": null,
            "overflow": null,
            "overflow_x": null,
            "overflow_y": null,
            "padding": null,
            "right": null,
            "top": null,
            "visibility": null,
            "width": null
          }
        },
        "7adc6049d37f447d88f36e924a2788af": {
          "model_module": "@jupyter-widgets/controls",
          "model_name": "DescriptionStyleModel",
          "model_module_version": "1.5.0",
          "state": {
            "_model_module": "@jupyter-widgets/controls",
            "_model_module_version": "1.5.0",
            "_model_name": "DescriptionStyleModel",
            "_view_count": null,
            "_view_module": "@jupyter-widgets/base",
            "_view_module_version": "1.2.0",
            "_view_name": "StyleView",
            "description_width": ""
          }
        },
        "a6eee97067024eb1b63204a4b28af08a": {
          "model_module": "@jupyter-widgets/controls",
          "model_name": "HBoxModel",
          "model_module_version": "1.5.0",
          "state": {
            "_dom_classes": [],
            "_model_module": "@jupyter-widgets/controls",
            "_model_module_version": "1.5.0",
            "_model_name": "HBoxModel",
            "_view_count": null,
            "_view_module": "@jupyter-widgets/controls",
            "_view_module_version": "1.5.0",
            "_view_name": "HBoxView",
            "box_style": "",
            "children": [
              "IPY_MODEL_c3f84468449e4be6b8e0456032642213",
              "IPY_MODEL_936e78e4769a425d9ae53d5b3f71b8f9",
              "IPY_MODEL_3f314d082df142f480467ba5fb08717f"
            ],
            "layout": "IPY_MODEL_dfa4464c20524de4b9188daa555b8115"
          }
        },
        "c3f84468449e4be6b8e0456032642213": {
          "model_module": "@jupyter-widgets/controls",
          "model_name": "HTMLModel",
          "model_module_version": "1.5.0",
          "state": {
            "_dom_classes": [],
            "_model_module": "@jupyter-widgets/controls",
            "_model_module_version": "1.5.0",
            "_model_name": "HTMLModel",
            "_view_count": null,
            "_view_module": "@jupyter-widgets/controls",
            "_view_module_version": "1.5.0",
            "_view_name": "HTMLView",
            "description": "",
            "description_tooltip": null,
            "layout": "IPY_MODEL_3c71c32719294d7f84a906bc5adfc4aa",
            "placeholder": "​",
            "style": "IPY_MODEL_f9c3296953ad4b14bbf5692e34320436",
            "value": "config.json: 100%"
          }
        },
        "936e78e4769a425d9ae53d5b3f71b8f9": {
          "model_module": "@jupyter-widgets/controls",
          "model_name": "FloatProgressModel",
          "model_module_version": "1.5.0",
          "state": {
            "_dom_classes": [],
            "_model_module": "@jupyter-widgets/controls",
            "_model_module_version": "1.5.0",
            "_model_name": "FloatProgressModel",
            "_view_count": null,
            "_view_module": "@jupyter-widgets/controls",
            "_view_module_version": "1.5.0",
            "_view_name": "ProgressView",
            "bar_style": "success",
            "description": "",
            "description_tooltip": null,
            "layout": "IPY_MODEL_067a74f5e175485985e71242bdeb5b4d",
            "max": 191,
            "min": 0,
            "orientation": "horizontal",
            "style": "IPY_MODEL_26e6f33723a0489ea5560ce9924a6ebb",
            "value": 191
          }
        },
        "3f314d082df142f480467ba5fb08717f": {
          "model_module": "@jupyter-widgets/controls",
          "model_name": "HTMLModel",
          "model_module_version": "1.5.0",
          "state": {
            "_dom_classes": [],
            "_model_module": "@jupyter-widgets/controls",
            "_model_module_version": "1.5.0",
            "_model_name": "HTMLModel",
            "_view_count": null,
            "_view_module": "@jupyter-widgets/controls",
            "_view_module_version": "1.5.0",
            "_view_name": "HTMLView",
            "description": "",
            "description_tooltip": null,
            "layout": "IPY_MODEL_6052b5937d7746968175d31668d3a09e",
            "placeholder": "​",
            "style": "IPY_MODEL_97e1742a2c664b6ea67588b4d707ab32",
            "value": " 191/191 [00:00&lt;00:00, 8.97kB/s]"
          }
        },
        "dfa4464c20524de4b9188daa555b8115": {
          "model_module": "@jupyter-widgets/base",
          "model_name": "LayoutModel",
          "model_module_version": "1.2.0",
          "state": {
            "_model_module": "@jupyter-widgets/base",
            "_model_module_version": "1.2.0",
            "_model_name": "LayoutModel",
            "_view_count": null,
            "_view_module": "@jupyter-widgets/base",
            "_view_module_version": "1.2.0",
            "_view_name": "LayoutView",
            "align_content": null,
            "align_items": null,
            "align_self": null,
            "border": null,
            "bottom": null,
            "display": null,
            "flex": null,
            "flex_flow": null,
            "grid_area": null,
            "grid_auto_columns": null,
            "grid_auto_flow": null,
            "grid_auto_rows": null,
            "grid_column": null,
            "grid_gap": null,
            "grid_row": null,
            "grid_template_areas": null,
            "grid_template_columns": null,
            "grid_template_rows": null,
            "height": null,
            "justify_content": null,
            "justify_items": null,
            "left": null,
            "margin": null,
            "max_height": null,
            "max_width": null,
            "min_height": null,
            "min_width": null,
            "object_fit": null,
            "object_position": null,
            "order": null,
            "overflow": null,
            "overflow_x": null,
            "overflow_y": null,
            "padding": null,
            "right": null,
            "top": null,
            "visibility": null,
            "width": null
          }
        },
        "3c71c32719294d7f84a906bc5adfc4aa": {
          "model_module": "@jupyter-widgets/base",
          "model_name": "LayoutModel",
          "model_module_version": "1.2.0",
          "state": {
            "_model_module": "@jupyter-widgets/base",
            "_model_module_version": "1.2.0",
            "_model_name": "LayoutModel",
            "_view_count": null,
            "_view_module": "@jupyter-widgets/base",
            "_view_module_version": "1.2.0",
            "_view_name": "LayoutView",
            "align_content": null,
            "align_items": null,
            "align_self": null,
            "border": null,
            "bottom": null,
            "display": null,
            "flex": null,
            "flex_flow": null,
            "grid_area": null,
            "grid_auto_columns": null,
            "grid_auto_flow": null,
            "grid_auto_rows": null,
            "grid_column": null,
            "grid_gap": null,
            "grid_row": null,
            "grid_template_areas": null,
            "grid_template_columns": null,
            "grid_template_rows": null,
            "height": null,
            "justify_content": null,
            "justify_items": null,
            "left": null,
            "margin": null,
            "max_height": null,
            "max_width": null,
            "min_height": null,
            "min_width": null,
            "object_fit": null,
            "object_position": null,
            "order": null,
            "overflow": null,
            "overflow_x": null,
            "overflow_y": null,
            "padding": null,
            "right": null,
            "top": null,
            "visibility": null,
            "width": null
          }
        },
        "f9c3296953ad4b14bbf5692e34320436": {
          "model_module": "@jupyter-widgets/controls",
          "model_name": "DescriptionStyleModel",
          "model_module_version": "1.5.0",
          "state": {
            "_model_module": "@jupyter-widgets/controls",
            "_model_module_version": "1.5.0",
            "_model_name": "DescriptionStyleModel",
            "_view_count": null,
            "_view_module": "@jupyter-widgets/base",
            "_view_module_version": "1.2.0",
            "_view_name": "StyleView",
            "description_width": ""
          }
        },
        "067a74f5e175485985e71242bdeb5b4d": {
          "model_module": "@jupyter-widgets/base",
          "model_name": "LayoutModel",
          "model_module_version": "1.2.0",
          "state": {
            "_model_module": "@jupyter-widgets/base",
            "_model_module_version": "1.2.0",
            "_model_name": "LayoutModel",
            "_view_count": null,
            "_view_module": "@jupyter-widgets/base",
            "_view_module_version": "1.2.0",
            "_view_name": "LayoutView",
            "align_content": null,
            "align_items": null,
            "align_self": null,
            "border": null,
            "bottom": null,
            "display": null,
            "flex": null,
            "flex_flow": null,
            "grid_area": null,
            "grid_auto_columns": null,
            "grid_auto_flow": null,
            "grid_auto_rows": null,
            "grid_column": null,
            "grid_gap": null,
            "grid_row": null,
            "grid_template_areas": null,
            "grid_template_columns": null,
            "grid_template_rows": null,
            "height": null,
            "justify_content": null,
            "justify_items": null,
            "left": null,
            "margin": null,
            "max_height": null,
            "max_width": null,
            "min_height": null,
            "min_width": null,
            "object_fit": null,
            "object_position": null,
            "order": null,
            "overflow": null,
            "overflow_x": null,
            "overflow_y": null,
            "padding": null,
            "right": null,
            "top": null,
            "visibility": null,
            "width": null
          }
        },
        "26e6f33723a0489ea5560ce9924a6ebb": {
          "model_module": "@jupyter-widgets/controls",
          "model_name": "ProgressStyleModel",
          "model_module_version": "1.5.0",
          "state": {
            "_model_module": "@jupyter-widgets/controls",
            "_model_module_version": "1.5.0",
            "_model_name": "ProgressStyleModel",
            "_view_count": null,
            "_view_module": "@jupyter-widgets/base",
            "_view_module_version": "1.2.0",
            "_view_name": "StyleView",
            "bar_color": null,
            "description_width": ""
          }
        },
        "6052b5937d7746968175d31668d3a09e": {
          "model_module": "@jupyter-widgets/base",
          "model_name": "LayoutModel",
          "model_module_version": "1.2.0",
          "state": {
            "_model_module": "@jupyter-widgets/base",
            "_model_module_version": "1.2.0",
            "_model_name": "LayoutModel",
            "_view_count": null,
            "_view_module": "@jupyter-widgets/base",
            "_view_module_version": "1.2.0",
            "_view_name": "LayoutView",
            "align_content": null,
            "align_items": null,
            "align_self": null,
            "border": null,
            "bottom": null,
            "display": null,
            "flex": null,
            "flex_flow": null,
            "grid_area": null,
            "grid_auto_columns": null,
            "grid_auto_flow": null,
            "grid_auto_rows": null,
            "grid_column": null,
            "grid_gap": null,
            "grid_row": null,
            "grid_template_areas": null,
            "grid_template_columns": null,
            "grid_template_rows": null,
            "height": null,
            "justify_content": null,
            "justify_items": null,
            "left": null,
            "margin": null,
            "max_height": null,
            "max_width": null,
            "min_height": null,
            "min_width": null,
            "object_fit": null,
            "object_position": null,
            "order": null,
            "overflow": null,
            "overflow_x": null,
            "overflow_y": null,
            "padding": null,
            "right": null,
            "top": null,
            "visibility": null,
            "width": null
          }
        },
        "97e1742a2c664b6ea67588b4d707ab32": {
          "model_module": "@jupyter-widgets/controls",
          "model_name": "DescriptionStyleModel",
          "model_module_version": "1.5.0",
          "state": {
            "_model_module": "@jupyter-widgets/controls",
            "_model_module_version": "1.5.0",
            "_model_name": "DescriptionStyleModel",
            "_view_count": null,
            "_view_module": "@jupyter-widgets/base",
            "_view_module_version": "1.2.0",
            "_view_name": "StyleView",
            "description_width": ""
          }
        }
      }
    }
  },
  "nbformat": 4,
  "nbformat_minor": 0
}